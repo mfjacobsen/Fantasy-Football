{
 "cells": [
  {
   "cell_type": "code",
   "execution_count": 12,
   "metadata": {},
   "outputs": [],
   "source": [
    "import sleepy\n",
    "import pandas as pd\n",
    "import numpy as np\n",
    "import math\n",
    "import random\n",
    "import itertools\n",
    "import plotly.express as px\n",
    "from tqdm import tqdm\n",
    "import time\n",
    "import multiprocessing as mp\n",
    "from threading import Thread\n",
    "from multiprocessing_functions import simulate_schedules, get_ranking\n",
    "import queue"
   ]
  },
  {
   "cell_type": "code",
   "execution_count": 2,
   "metadata": {},
   "outputs": [],
   "source": [
    "USERNAME = 'TheRealFergus'\n",
    "YEAR = 2023"
   ]
  },
  {
   "cell_type": "code",
   "execution_count": 3,
   "metadata": {},
   "outputs": [],
   "source": [
    "# Gets league and owner data\n",
    "user_id = sleepy.get_user_data(USERNAME)[\"user_id\"]\n",
    "league_id = sleepy.get_league_ids(user_id, YEAR)[0]\n",
    "league_raw = sleepy.get_leage(league_id)\n",
    "owners_raw = sleepy.get_owners(league_id)\n",
    "owners = owners_raw[[\"username\", \"owner_id\", \"roster_id\"]]"
   ]
  },
  {
   "cell_type": "code",
   "execution_count": 4,
   "metadata": {},
   "outputs": [],
   "source": [
    "# Stores the number of teams in the league\n",
    "num_teams = owners.shape[0]\n",
    "\n",
    "# Stores the number of the first week of the league playoffs\n",
    "playoff_week1 = league_raw[\"settings\"][\"playoff_week_start\"]\n",
    "\n",
    "# Maps a unique matchup id corresponding to each combination of two roster ids\n",
    "matchup_to_roster_id = {matchup[0] + 1: matchup[1] for matchup in \n",
    "                        enumerate(itertools.combinations(range(1,13), 2))}\n",
    "\n",
    "roster_to_matchup_id = {val: key for (key, val) in matchup_to_roster_id.items()}"
   ]
  },
  {
   "cell_type": "code",
   "execution_count": 5,
   "metadata": {},
   "outputs": [
    {
     "data": {
      "text/html": [
       "<div>\n",
       "<style scoped>\n",
       "    .dataframe tbody tr th:only-of-type {\n",
       "        vertical-align: middle;\n",
       "    }\n",
       "\n",
       "    .dataframe tbody tr th {\n",
       "        vertical-align: top;\n",
       "    }\n",
       "\n",
       "    .dataframe thead th {\n",
       "        text-align: right;\n",
       "    }\n",
       "</style>\n",
       "<table border=\"1\" class=\"dataframe\">\n",
       "  <thead>\n",
       "    <tr style=\"text-align: right;\">\n",
       "      <th></th>\n",
       "      <th>week</th>\n",
       "      <th>roster_id</th>\n",
       "      <th>matchup_id</th>\n",
       "      <th>team_points</th>\n",
       "      <th>username</th>\n",
       "      <th>owner_id</th>\n",
       "    </tr>\n",
       "  </thead>\n",
       "  <tbody>\n",
       "    <tr>\n",
       "      <th>0</th>\n",
       "      <td>1</td>\n",
       "      <td>1</td>\n",
       "      <td>10</td>\n",
       "      <td>95.92</td>\n",
       "      <td>alecwilson</td>\n",
       "      <td>781258862778015744</td>\n",
       "    </tr>\n",
       "    <tr>\n",
       "      <th>1</th>\n",
       "      <td>1</td>\n",
       "      <td>2</td>\n",
       "      <td>15</td>\n",
       "      <td>102.31</td>\n",
       "      <td>namebrant</td>\n",
       "      <td>737201118836346880</td>\n",
       "    </tr>\n",
       "    <tr>\n",
       "      <th>2</th>\n",
       "      <td>1</td>\n",
       "      <td>3</td>\n",
       "      <td>27</td>\n",
       "      <td>87.10</td>\n",
       "      <td>therealfergus</td>\n",
       "      <td>871830995287085056</td>\n",
       "    </tr>\n",
       "    <tr>\n",
       "      <th>3</th>\n",
       "      <td>1</td>\n",
       "      <td>4</td>\n",
       "      <td>36</td>\n",
       "      <td>80.88</td>\n",
       "      <td>empireyikesback</td>\n",
       "      <td>340376049508429824</td>\n",
       "    </tr>\n",
       "    <tr>\n",
       "      <th>4</th>\n",
       "      <td>1</td>\n",
       "      <td>5</td>\n",
       "      <td>40</td>\n",
       "      <td>75.52</td>\n",
       "      <td>pacc</td>\n",
       "      <td>791907251894984704</td>\n",
       "    </tr>\n",
       "    <tr>\n",
       "      <th>5</th>\n",
       "      <td>1</td>\n",
       "      <td>6</td>\n",
       "      <td>15</td>\n",
       "      <td>104.94</td>\n",
       "      <td>tonygordzilla22</td>\n",
       "      <td>790423754491678720</td>\n",
       "    </tr>\n",
       "    <tr>\n",
       "      <th>6</th>\n",
       "      <td>1</td>\n",
       "      <td>7</td>\n",
       "      <td>40</td>\n",
       "      <td>116.85</td>\n",
       "      <td>mackjyers21</td>\n",
       "      <td>463115290251620352</td>\n",
       "    </tr>\n",
       "    <tr>\n",
       "      <th>7</th>\n",
       "      <td>1</td>\n",
       "      <td>8</td>\n",
       "      <td>60</td>\n",
       "      <td>105.44</td>\n",
       "      <td>burgertownthicnred</td>\n",
       "      <td>865421962913157120</td>\n",
       "    </tr>\n",
       "    <tr>\n",
       "      <th>8</th>\n",
       "      <td>1</td>\n",
       "      <td>9</td>\n",
       "      <td>27</td>\n",
       "      <td>138.10</td>\n",
       "      <td>thezirconisdragon</td>\n",
       "      <td>865438032692649984</td>\n",
       "    </tr>\n",
       "    <tr>\n",
       "      <th>9</th>\n",
       "      <td>1</td>\n",
       "      <td>10</td>\n",
       "      <td>36</td>\n",
       "      <td>87.78</td>\n",
       "      <td>black8yellownation</td>\n",
       "      <td>865844843182694400</td>\n",
       "    </tr>\n",
       "    <tr>\n",
       "      <th>10</th>\n",
       "      <td>1</td>\n",
       "      <td>11</td>\n",
       "      <td>10</td>\n",
       "      <td>190.51</td>\n",
       "      <td>herbietime</td>\n",
       "      <td>866177748505329664</td>\n",
       "    </tr>\n",
       "    <tr>\n",
       "      <th>11</th>\n",
       "      <td>1</td>\n",
       "      <td>12</td>\n",
       "      <td>60</td>\n",
       "      <td>104.80</td>\n",
       "      <td>shakylegs</td>\n",
       "      <td>869018101340098560</td>\n",
       "    </tr>\n",
       "  </tbody>\n",
       "</table>\n",
       "</div>"
      ],
      "text/plain": [
       "    week  roster_id  matchup_id  team_points            username  \\\n",
       "0      1          1          10        95.92          alecwilson   \n",
       "1      1          2          15       102.31           namebrant   \n",
       "2      1          3          27        87.10       therealfergus   \n",
       "3      1          4          36        80.88     empireyikesback   \n",
       "4      1          5          40        75.52                pacc   \n",
       "5      1          6          15       104.94     tonygordzilla22   \n",
       "6      1          7          40       116.85         mackjyers21   \n",
       "7      1          8          60       105.44  burgertownthicnred   \n",
       "8      1          9          27       138.10   thezirconisdragon   \n",
       "9      1         10          36        87.78  black8yellownation   \n",
       "10     1         11          10       190.51          herbietime   \n",
       "11     1         12          60       104.80           shakylegs   \n",
       "\n",
       "              owner_id  \n",
       "0   781258862778015744  \n",
       "1   737201118836346880  \n",
       "2   871830995287085056  \n",
       "3   340376049508429824  \n",
       "4   791907251894984704  \n",
       "5   790423754491678720  \n",
       "6   463115290251620352  \n",
       "7   865421962913157120  \n",
       "8   865438032692649984  \n",
       "9   865844843182694400  \n",
       "10  866177748505329664  \n",
       "11  869018101340098560  "
      ]
     },
     "execution_count": 5,
     "metadata": {},
     "output_type": "execute_result"
    }
   ],
   "source": [
    "# Gets regular season matchup data\n",
    "matchups = (sleepy.get_matchups(league_id, season=True)\n",
    "            .query(f\"starter == True & week < {playoff_week1}\")\n",
    "            .groupby([\"week\", \"roster_id\", \"matchup_id\"])\n",
    "            [[\"team_points\"]]\n",
    "            .first()\n",
    "            .reset_index())\n",
    "\n",
    "# Merges matchups with owners to include usersernames\n",
    "matchups = (\n",
    "    matchups.merge(owners.reset_index(),\n",
    "                    left_on=\"roster_id\",\n",
    "                      right_on = \"roster_id\")\n",
    "            .assign(matchup_id = matchups[\"matchup_id\"].astype(int))\n",
    "            .drop(columns=\"index\"))\n",
    "\n",
    "# Reassigns the matchup id\n",
    "matchups[\"matchup_id\"] = (\n",
    "    matchups\n",
    "    .groupby([\"week\", \"matchup_id\"])\n",
    "    [\"roster_id\"]\n",
    "    .transform(lambda x: roster_to_matchup_id[tuple(x.unique())])\n",
    "    )\n",
    "\n",
    "# The first week's games\n",
    "matchups.head(12)"
   ]
  },
  {
   "cell_type": "code",
   "execution_count": 6,
   "metadata": {},
   "outputs": [],
   "source": [
    "# Formats the actual season schedule\n",
    "season_schedule = tuple(\n",
    "    tuple(week) for week in matchups.groupby(\"week\")[\"matchup_id\"].agg(set)\n",
    ")\n",
    "\n",
    "# Gets the total season points for each owner\n",
    "owners_points = matchups.groupby(\"username\")[[\"team_points\"]].sum()"
   ]
  },
  {
   "cell_type": "code",
   "execution_count": 7,
   "metadata": {},
   "outputs": [
    {
     "name": "stderr",
     "output_type": "stream",
     "text": [
      "100%|██████████| 90858768/90858768 [00:41<00:00, 2182846.39it/s]\n"
     ]
    }
   ],
   "source": [
    "# Gets all possible weekly schedules, each tuple contains six matchp id's \n",
    "# corresponding to a single game. There are 10395 possible weekly schedules\n",
    "all_weeks = []\n",
    "for week in tqdm(itertools.combinations(matchup_to_roster_id.values(), 6), \n",
    "                 total = math.comb(66, 6)):\n",
    "    s = set()\n",
    "    for match in week:\n",
    "        s.update(match)\n",
    "    if len(s) == 12:\n",
    "        all_weeks.append(tuple(roster_to_matchup_id[match] for match in week))\n",
    "all_weeks = tuple(all_weeks)"
   ]
  },
  {
   "cell_type": "code",
   "execution_count": 8,
   "metadata": {},
   "outputs": [
    {
     "name": "stderr",
     "output_type": "stream",
     "text": [
      "100%|██████████| 10395/10395 [00:24<00:00, 425.85it/s]\n"
     ]
    }
   ],
   "source": [
    "# Maps each week schedule in all possible weeks to a set of weeks. Given that the\n",
    "# key week appears in a season schedule, none of the weeks in the value set can \n",
    "# also appear\n",
    "similar_weeks = {}\n",
    "for key_week in tqdm(all_weeks, total = len(all_weeks)):\n",
    "    similar_weeks[key_week] = (\n",
    "        set([week for week in all_weeks if len(set(week + key_week)) != 12])\n",
    "        )"
   ]
  },
  {
   "cell_type": "code",
   "execution_count": 13,
   "metadata": {},
   "outputs": [
    {
     "name": "stderr",
     "output_type": "stream",
     "text": [
      "  0%|          | 0/500 [01:27<?, ?it/s]\n",
      "100%|██████████| 500/500 [00:21<00:00, 23.10it/s]\n"
     ]
    }
   ],
   "source": [
    "manager = mp.Manager()\n",
    "total_records = manager.dict()\n",
    "ranking_counts = manager.dict()\n",
    "progress_queue = mp.Queue()\n",
    "\n",
    "for username in owners[\"username\"]:\n",
    "    total_records[username] = manager.list(np.zeros(12, dtype=int))\n",
    "\n",
    "if __name__ == \"__main__\":\n",
    "\n",
    "    num_sims_per_process = 100  # Number of simulations per process\n",
    "    num_processes = 5  # Number of processes (cores) to use\n",
    "    total_sims = num_sims_per_process * num_processes\n",
    "    pbar = tqdm(total=total_sims)\n",
    "\n",
    "    def update_progress_bar(progress_queue, total_sims):\n",
    "        completed_sims = 0\n",
    "        while completed_sims < total_sims:\n",
    "            try:\n",
    "                progress_queue.get_nowait()\n",
    "                completed_sims += 1\n",
    "                pbar.update(1)\n",
    "            except queue.Empty:\n",
    "                time.sleep(1)\n",
    "        pbar.close()\n",
    "\n",
    "    progress_thread = Thread(target = update_progress_bar,\n",
    "                              args=(progress_queue, total_sims))\n",
    "    progress_thread.start()\n",
    "\n",
    "    processes = []\n",
    "\n",
    "    for p in range(num_processes):\n",
    "\n",
    "        while len(processes) >= mp.cpu_count():\n",
    "            time.sleep(1)\n",
    "            processes = [p for p in processes if p.is_alive()]\n",
    "\n",
    "        process = mp.Process(\n",
    "            target = simulate_schedules,\n",
    "            args = (all_weeks, similar_weeks, owners, matchup_to_roster_id, matchups, owners_points, total_records, ranking_counts, num_sims_per_process, progress_queue)\n",
    "        )\n",
    "        process.start()\n",
    "        processes.append(process)\n",
    "\n",
    "    for process in processes:\n",
    "        process.join()\n",
    "\n",
    "tot_rec = {username: pd.Series(list(lst), index = range(1,13)) \n",
    "           for username, lst in dict(total_records).items()}\n",
    "\n",
    "records_df = (pd.DataFrame(tot_rec)\n",
    "              .transpose()\n",
    "              .sort_values(by = list(range(1,13)), ascending = False))\n",
    "\n",
    "playoffs_df = (pd.DataFrame(dict(ranking_counts), index = [\"Count\"])\n",
    "               .transpose()\n",
    "               .reset_index()\n",
    "               .query(\"Count > 0\")\n",
    "               .rename(columns={'level_0': 1, 'level_1': 2, 'level_2': 3,\n",
    "                                'level_3': 4, 'level_4': 5, 'level_5': 6,\n",
    "                                'level_6': 7, 'level_7': 8, 'level_8': 9,\n",
    "                                'level_9': 10, 'level_10': 11, 'level_11': 12})\n",
    "               .sort_values(by = 'Count', ascending = False))\n",
    "\n",
    "records_df.to_csv(f'{YEAR}_{total_sims}_simulated_records.csv',\n",
    "                   index_label = 'username')\n",
    "\n",
    "playoffs_df.to_csv(f'{YEAR}_{total_sims}_simulated_playoffs.csv',\n",
    "                    index = False)"
   ]
  },
  {
   "cell_type": "code",
   "execution_count": 23,
   "metadata": {},
   "outputs": [],
   "source": [
    "tot_rec = {username: pd.Series(list(lst), index = range(1,13)) \n",
    "           for username, lst in dict(total_records).items()}\n",
    "\n",
    "records_df = (pd.DataFrame(tot_rec)\n",
    "              .transpose()\n",
    "              .sort_values(by = list(range(1,13)), ascending = False))\n",
    "\n",
    "playoffs_df = (pd.DataFrame(dict(ranking_counts), index = [\"Count\"])\n",
    "               .transpose()\n",
    "               .reset_index()\n",
    "               .query(\"Count > 0\")\n",
    "               .rename(columns={'level_0': 1, 'level_1': 2, 'level_2': 3,\n",
    "                                'level_3': 4, 'level_4': 5, 'level_5': 6,\n",
    "                                'level_6': 7, 'level_7': 8, 'level_8': 9,\n",
    "                                'level_9': 10, 'level_10': 11, 'level_11': 12})\n",
    "               .sort_values(by = 'Count', ascending = False))\n",
    "\n",
    "records_df.to_csv(f'{YEAR}_{total_sims}_simulated_records.csv',\n",
    "                   index_label = 'username')\n",
    "\n",
    "playoffs_df.to_csv(f'{YEAR}_{total_sims}_simulated_playoffs.csv',\n",
    "                    index = False)"
   ]
  },
  {
   "cell_type": "code",
   "execution_count": 14,
   "metadata": {},
   "outputs": [],
   "source": [
    "# Reads previously stored simulated records\n",
    "records_df = pd.read_csv(f'{YEAR}_{total_sims}_simulated_records.csv', \n",
    "                         index_col=\"username\")\n",
    "playoffs_df = pd.read_csv(f'{YEAR}_{total_sims}_simulated_playoffs.csv', \n",
    "                          index_col = False)\n",
    "\n",
    "records_df_prop = records_df / (total_sims / 100)\n",
    "records_df_count = records_df"
   ]
  },
  {
   "cell_type": "code",
   "execution_count": 16,
   "metadata": {},
   "outputs": [
    {
     "data": {
      "text/html": [
       "<div>\n",
       "<style scoped>\n",
       "    .dataframe tbody tr th:only-of-type {\n",
       "        vertical-align: middle;\n",
       "    }\n",
       "\n",
       "    .dataframe tbody tr th {\n",
       "        vertical-align: top;\n",
       "    }\n",
       "\n",
       "    .dataframe thead th {\n",
       "        text-align: right;\n",
       "    }\n",
       "</style>\n",
       "<table border=\"1\" class=\"dataframe\">\n",
       "  <thead>\n",
       "    <tr style=\"text-align: right;\">\n",
       "      <th></th>\n",
       "      <th>rank</th>\n",
       "    </tr>\n",
       "  </thead>\n",
       "  <tbody>\n",
       "    <tr>\n",
       "      <th>pacc</th>\n",
       "      <td>1</td>\n",
       "    </tr>\n",
       "    <tr>\n",
       "      <th>thezirconisdragon</th>\n",
       "      <td>2</td>\n",
       "    </tr>\n",
       "    <tr>\n",
       "      <th>herbietime</th>\n",
       "      <td>3</td>\n",
       "    </tr>\n",
       "    <tr>\n",
       "      <th>alecwilson</th>\n",
       "      <td>4</td>\n",
       "    </tr>\n",
       "    <tr>\n",
       "      <th>empireyikesback</th>\n",
       "      <td>5</td>\n",
       "    </tr>\n",
       "    <tr>\n",
       "      <th>burgertownthicnred</th>\n",
       "      <td>6</td>\n",
       "    </tr>\n",
       "    <tr>\n",
       "      <th>therealfergus</th>\n",
       "      <td>7</td>\n",
       "    </tr>\n",
       "    <tr>\n",
       "      <th>mackjyers21</th>\n",
       "      <td>8</td>\n",
       "    </tr>\n",
       "    <tr>\n",
       "      <th>shakylegs</th>\n",
       "      <td>9</td>\n",
       "    </tr>\n",
       "    <tr>\n",
       "      <th>tonygordzilla22</th>\n",
       "      <td>10</td>\n",
       "    </tr>\n",
       "    <tr>\n",
       "      <th>black8yellownation</th>\n",
       "      <td>11</td>\n",
       "    </tr>\n",
       "    <tr>\n",
       "      <th>namebrant</th>\n",
       "      <td>12</td>\n",
       "    </tr>\n",
       "  </tbody>\n",
       "</table>\n",
       "</div>"
      ],
      "text/plain": [
       "                    rank\n",
       "pacc                   1\n",
       "thezirconisdragon      2\n",
       "herbietime             3\n",
       "alecwilson             4\n",
       "empireyikesback        5\n",
       "burgertownthicnred     6\n",
       "therealfergus          7\n",
       "mackjyers21            8\n",
       "shakylegs              9\n",
       "tonygordzilla22       10\n",
       "black8yellownation    11\n",
       "namebrant             12"
      ]
     },
     "execution_count": 16,
     "metadata": {},
     "output_type": "execute_result"
    }
   ],
   "source": [
    "# Stores the true season ranks\n",
    "season_ranks = get_ranking(season_schedule, owners, matchup_to_roster_id, matchups, owners_points)\n",
    "pd.DataFrame(season_ranks)"
   ]
  },
  {
   "cell_type": "code",
   "execution_count": 17,
   "metadata": {},
   "outputs": [
    {
     "data": {
      "text/html": [
       "<style type=\"text/css\">\n",
       "#T_8e1e0_row0_col2, #T_8e1e0_row1_col1, #T_8e1e0_row2_col0, #T_8e1e0_row3_col3, #T_8e1e0_row4_col4, #T_8e1e0_row5_col6, #T_8e1e0_row6_col7, #T_8e1e0_row7_col5, #T_8e1e0_row8_col8, #T_8e1e0_row9_col11, #T_8e1e0_row10_col9, #T_8e1e0_row11_col10 {\n",
       "  color: red;\n",
       "}\n",
       "</style>\n",
       "<table id=\"T_8e1e0\">\n",
       "  <thead>\n",
       "    <tr>\n",
       "      <th class=\"blank level0\" >&nbsp;</th>\n",
       "      <th id=\"T_8e1e0_level0_col0\" class=\"col_heading level0 col0\" >1</th>\n",
       "      <th id=\"T_8e1e0_level0_col1\" class=\"col_heading level0 col1\" >2</th>\n",
       "      <th id=\"T_8e1e0_level0_col2\" class=\"col_heading level0 col2\" >3</th>\n",
       "      <th id=\"T_8e1e0_level0_col3\" class=\"col_heading level0 col3\" >4</th>\n",
       "      <th id=\"T_8e1e0_level0_col4\" class=\"col_heading level0 col4\" >5</th>\n",
       "      <th id=\"T_8e1e0_level0_col5\" class=\"col_heading level0 col5\" >6</th>\n",
       "      <th id=\"T_8e1e0_level0_col6\" class=\"col_heading level0 col6\" >7</th>\n",
       "      <th id=\"T_8e1e0_level0_col7\" class=\"col_heading level0 col7\" >8</th>\n",
       "      <th id=\"T_8e1e0_level0_col8\" class=\"col_heading level0 col8\" >9</th>\n",
       "      <th id=\"T_8e1e0_level0_col9\" class=\"col_heading level0 col9\" >10</th>\n",
       "      <th id=\"T_8e1e0_level0_col10\" class=\"col_heading level0 col10\" >11</th>\n",
       "      <th id=\"T_8e1e0_level0_col11\" class=\"col_heading level0 col11\" >12</th>\n",
       "    </tr>\n",
       "    <tr>\n",
       "      <th class=\"index_name level0\" >username</th>\n",
       "      <th class=\"blank col0\" >&nbsp;</th>\n",
       "      <th class=\"blank col1\" >&nbsp;</th>\n",
       "      <th class=\"blank col2\" >&nbsp;</th>\n",
       "      <th class=\"blank col3\" >&nbsp;</th>\n",
       "      <th class=\"blank col4\" >&nbsp;</th>\n",
       "      <th class=\"blank col5\" >&nbsp;</th>\n",
       "      <th class=\"blank col6\" >&nbsp;</th>\n",
       "      <th class=\"blank col7\" >&nbsp;</th>\n",
       "      <th class=\"blank col8\" >&nbsp;</th>\n",
       "      <th class=\"blank col9\" >&nbsp;</th>\n",
       "      <th class=\"blank col10\" >&nbsp;</th>\n",
       "      <th class=\"blank col11\" >&nbsp;</th>\n",
       "    </tr>\n",
       "  </thead>\n",
       "  <tbody>\n",
       "    <tr>\n",
       "      <th id=\"T_8e1e0_level0_row0\" class=\"row_heading level0 row0\" >herbietime</th>\n",
       "      <td id=\"T_8e1e0_row0_col0\" class=\"data row0 col0\" >51.6</td>\n",
       "      <td id=\"T_8e1e0_row0_col1\" class=\"data row0 col1\" >24.6</td>\n",
       "      <td id=\"T_8e1e0_row0_col2\" class=\"data row0 col2\" >14.2</td>\n",
       "      <td id=\"T_8e1e0_row0_col3\" class=\"data row0 col3\" >7.0</td>\n",
       "      <td id=\"T_8e1e0_row0_col4\" class=\"data row0 col4\" >2.2</td>\n",
       "      <td id=\"T_8e1e0_row0_col5\" class=\"data row0 col5\" >0.2</td>\n",
       "      <td id=\"T_8e1e0_row0_col6\" class=\"data row0 col6\" >0.2</td>\n",
       "      <td id=\"T_8e1e0_row0_col7\" class=\"data row0 col7\" >0.0</td>\n",
       "      <td id=\"T_8e1e0_row0_col8\" class=\"data row0 col8\" >0.0</td>\n",
       "      <td id=\"T_8e1e0_row0_col9\" class=\"data row0 col9\" >0.0</td>\n",
       "      <td id=\"T_8e1e0_row0_col10\" class=\"data row0 col10\" >0.0</td>\n",
       "      <td id=\"T_8e1e0_row0_col11\" class=\"data row0 col11\" >0.0</td>\n",
       "    </tr>\n",
       "    <tr>\n",
       "      <th id=\"T_8e1e0_level0_row1\" class=\"row_heading level0 row1\" >thezirconisdragon</th>\n",
       "      <td id=\"T_8e1e0_row1_col0\" class=\"data row1 col0\" >18.4</td>\n",
       "      <td id=\"T_8e1e0_row1_col1\" class=\"data row1 col1\" >21.8</td>\n",
       "      <td id=\"T_8e1e0_row1_col2\" class=\"data row1 col2\" >22.4</td>\n",
       "      <td id=\"T_8e1e0_row1_col3\" class=\"data row1 col3\" >19.6</td>\n",
       "      <td id=\"T_8e1e0_row1_col4\" class=\"data row1 col4\" >10.6</td>\n",
       "      <td id=\"T_8e1e0_row1_col5\" class=\"data row1 col5\" >3.6</td>\n",
       "      <td id=\"T_8e1e0_row1_col6\" class=\"data row1 col6\" >1.8</td>\n",
       "      <td id=\"T_8e1e0_row1_col7\" class=\"data row1 col7\" >0.8</td>\n",
       "      <td id=\"T_8e1e0_row1_col8\" class=\"data row1 col8\" >0.4</td>\n",
       "      <td id=\"T_8e1e0_row1_col9\" class=\"data row1 col9\" >0.6</td>\n",
       "      <td id=\"T_8e1e0_row1_col10\" class=\"data row1 col10\" >0.0</td>\n",
       "      <td id=\"T_8e1e0_row1_col11\" class=\"data row1 col11\" >0.0</td>\n",
       "    </tr>\n",
       "    <tr>\n",
       "      <th id=\"T_8e1e0_level0_row2\" class=\"row_heading level0 row2\" >pacc</th>\n",
       "      <td id=\"T_8e1e0_row2_col0\" class=\"data row2 col0\" >14.6</td>\n",
       "      <td id=\"T_8e1e0_row2_col1\" class=\"data row2 col1\" >20.4</td>\n",
       "      <td id=\"T_8e1e0_row2_col2\" class=\"data row2 col2\" >27.8</td>\n",
       "      <td id=\"T_8e1e0_row2_col3\" class=\"data row2 col3\" >21.4</td>\n",
       "      <td id=\"T_8e1e0_row2_col4\" class=\"data row2 col4\" >7.6</td>\n",
       "      <td id=\"T_8e1e0_row2_col5\" class=\"data row2 col5\" >5.0</td>\n",
       "      <td id=\"T_8e1e0_row2_col6\" class=\"data row2 col6\" >2.6</td>\n",
       "      <td id=\"T_8e1e0_row2_col7\" class=\"data row2 col7\" >0.2</td>\n",
       "      <td id=\"T_8e1e0_row2_col8\" class=\"data row2 col8\" >0.4</td>\n",
       "      <td id=\"T_8e1e0_row2_col9\" class=\"data row2 col9\" >0.0</td>\n",
       "      <td id=\"T_8e1e0_row2_col10\" class=\"data row2 col10\" >0.0</td>\n",
       "      <td id=\"T_8e1e0_row2_col11\" class=\"data row2 col11\" >0.0</td>\n",
       "    </tr>\n",
       "    <tr>\n",
       "      <th id=\"T_8e1e0_level0_row3\" class=\"row_heading level0 row3\" >alecwilson</th>\n",
       "      <td id=\"T_8e1e0_row3_col0\" class=\"data row3 col0\" >13.0</td>\n",
       "      <td id=\"T_8e1e0_row3_col1\" class=\"data row3 col1\" >26.4</td>\n",
       "      <td id=\"T_8e1e0_row3_col2\" class=\"data row3 col2\" >21.8</td>\n",
       "      <td id=\"T_8e1e0_row3_col3\" class=\"data row3 col3\" >19.2</td>\n",
       "      <td id=\"T_8e1e0_row3_col4\" class=\"data row3 col4\" >10.2</td>\n",
       "      <td id=\"T_8e1e0_row3_col5\" class=\"data row3 col5\" >6.2</td>\n",
       "      <td id=\"T_8e1e0_row3_col6\" class=\"data row3 col6\" >2.0</td>\n",
       "      <td id=\"T_8e1e0_row3_col7\" class=\"data row3 col7\" >1.0</td>\n",
       "      <td id=\"T_8e1e0_row3_col8\" class=\"data row3 col8\" >0.2</td>\n",
       "      <td id=\"T_8e1e0_row3_col9\" class=\"data row3 col9\" >0.0</td>\n",
       "      <td id=\"T_8e1e0_row3_col10\" class=\"data row3 col10\" >0.0</td>\n",
       "      <td id=\"T_8e1e0_row3_col11\" class=\"data row3 col11\" >0.0</td>\n",
       "    </tr>\n",
       "    <tr>\n",
       "      <th id=\"T_8e1e0_level0_row4\" class=\"row_heading level0 row4\" >empireyikesback</th>\n",
       "      <td id=\"T_8e1e0_row4_col0\" class=\"data row4 col0\" >1.0</td>\n",
       "      <td id=\"T_8e1e0_row4_col1\" class=\"data row4 col1\" >3.4</td>\n",
       "      <td id=\"T_8e1e0_row4_col2\" class=\"data row4 col2\" >5.8</td>\n",
       "      <td id=\"T_8e1e0_row4_col3\" class=\"data row4 col3\" >13.6</td>\n",
       "      <td id=\"T_8e1e0_row4_col4\" class=\"data row4 col4\" >24.0</td>\n",
       "      <td id=\"T_8e1e0_row4_col5\" class=\"data row4 col5\" >23.4</td>\n",
       "      <td id=\"T_8e1e0_row4_col6\" class=\"data row4 col6\" >14.6</td>\n",
       "      <td id=\"T_8e1e0_row4_col7\" class=\"data row4 col7\" >7.2</td>\n",
       "      <td id=\"T_8e1e0_row4_col8\" class=\"data row4 col8\" >5.0</td>\n",
       "      <td id=\"T_8e1e0_row4_col9\" class=\"data row4 col9\" >1.4</td>\n",
       "      <td id=\"T_8e1e0_row4_col10\" class=\"data row4 col10\" >0.2</td>\n",
       "      <td id=\"T_8e1e0_row4_col11\" class=\"data row4 col11\" >0.4</td>\n",
       "    </tr>\n",
       "    <tr>\n",
       "      <th id=\"T_8e1e0_level0_row5\" class=\"row_heading level0 row5\" >therealfergus</th>\n",
       "      <td id=\"T_8e1e0_row5_col0\" class=\"data row5 col0\" >1.0</td>\n",
       "      <td id=\"T_8e1e0_row5_col1\" class=\"data row5 col1\" >1.8</td>\n",
       "      <td id=\"T_8e1e0_row5_col2\" class=\"data row5 col2\" >5.4</td>\n",
       "      <td id=\"T_8e1e0_row5_col3\" class=\"data row5 col3\" >11.2</td>\n",
       "      <td id=\"T_8e1e0_row5_col4\" class=\"data row5 col4\" >23.0</td>\n",
       "      <td id=\"T_8e1e0_row5_col5\" class=\"data row5 col5\" >21.2</td>\n",
       "      <td id=\"T_8e1e0_row5_col6\" class=\"data row5 col6\" >15.8</td>\n",
       "      <td id=\"T_8e1e0_row5_col7\" class=\"data row5 col7\" >11.6</td>\n",
       "      <td id=\"T_8e1e0_row5_col8\" class=\"data row5 col8\" >5.0</td>\n",
       "      <td id=\"T_8e1e0_row5_col9\" class=\"data row5 col9\" >2.2</td>\n",
       "      <td id=\"T_8e1e0_row5_col10\" class=\"data row5 col10\" >1.4</td>\n",
       "      <td id=\"T_8e1e0_row5_col11\" class=\"data row5 col11\" >0.4</td>\n",
       "    </tr>\n",
       "    <tr>\n",
       "      <th id=\"T_8e1e0_level0_row6\" class=\"row_heading level0 row6\" >mackjyers21</th>\n",
       "      <td id=\"T_8e1e0_row6_col0\" class=\"data row6 col0\" >0.2</td>\n",
       "      <td id=\"T_8e1e0_row6_col1\" class=\"data row6 col1\" >1.2</td>\n",
       "      <td id=\"T_8e1e0_row6_col2\" class=\"data row6 col2\" >1.4</td>\n",
       "      <td id=\"T_8e1e0_row6_col3\" class=\"data row6 col3\" >5.0</td>\n",
       "      <td id=\"T_8e1e0_row6_col4\" class=\"data row6 col4\" >10.2</td>\n",
       "      <td id=\"T_8e1e0_row6_col5\" class=\"data row6 col5\" >16.0</td>\n",
       "      <td id=\"T_8e1e0_row6_col6\" class=\"data row6 col6\" >17.6</td>\n",
       "      <td id=\"T_8e1e0_row6_col7\" class=\"data row6 col7\" >25.4</td>\n",
       "      <td id=\"T_8e1e0_row6_col8\" class=\"data row6 col8\" >12.6</td>\n",
       "      <td id=\"T_8e1e0_row6_col9\" class=\"data row6 col9\" >6.2</td>\n",
       "      <td id=\"T_8e1e0_row6_col10\" class=\"data row6 col10\" >4.2</td>\n",
       "      <td id=\"T_8e1e0_row6_col11\" class=\"data row6 col11\" >0.0</td>\n",
       "    </tr>\n",
       "    <tr>\n",
       "      <th id=\"T_8e1e0_level0_row7\" class=\"row_heading level0 row7\" >burgertownthicnred</th>\n",
       "      <td id=\"T_8e1e0_row7_col0\" class=\"data row7 col0\" >0.2</td>\n",
       "      <td id=\"T_8e1e0_row7_col1\" class=\"data row7 col1\" >0.4</td>\n",
       "      <td id=\"T_8e1e0_row7_col2\" class=\"data row7 col2\" >0.6</td>\n",
       "      <td id=\"T_8e1e0_row7_col3\" class=\"data row7 col3\" >1.6</td>\n",
       "      <td id=\"T_8e1e0_row7_col4\" class=\"data row7 col4\" >8.2</td>\n",
       "      <td id=\"T_8e1e0_row7_col5\" class=\"data row7 col5\" >16.6</td>\n",
       "      <td id=\"T_8e1e0_row7_col6\" class=\"data row7 col6\" >24.0</td>\n",
       "      <td id=\"T_8e1e0_row7_col7\" class=\"data row7 col7\" >20.6</td>\n",
       "      <td id=\"T_8e1e0_row7_col8\" class=\"data row7 col8\" >15.2</td>\n",
       "      <td id=\"T_8e1e0_row7_col9\" class=\"data row7 col9\" >9.4</td>\n",
       "      <td id=\"T_8e1e0_row7_col10\" class=\"data row7 col10\" >2.6</td>\n",
       "      <td id=\"T_8e1e0_row7_col11\" class=\"data row7 col11\" >0.6</td>\n",
       "    </tr>\n",
       "    <tr>\n",
       "      <th id=\"T_8e1e0_level0_row8\" class=\"row_heading level0 row8\" >shakylegs</th>\n",
       "      <td id=\"T_8e1e0_row8_col0\" class=\"data row8 col0\" >0.0</td>\n",
       "      <td id=\"T_8e1e0_row8_col1\" class=\"data row8 col1\" >0.0</td>\n",
       "      <td id=\"T_8e1e0_row8_col2\" class=\"data row8 col2\" >0.6</td>\n",
       "      <td id=\"T_8e1e0_row8_col3\" class=\"data row8 col3\" >0.4</td>\n",
       "      <td id=\"T_8e1e0_row8_col4\" class=\"data row8 col4\" >1.6</td>\n",
       "      <td id=\"T_8e1e0_row8_col5\" class=\"data row8 col5\" >3.2</td>\n",
       "      <td id=\"T_8e1e0_row8_col6\" class=\"data row8 col6\" >10.8</td>\n",
       "      <td id=\"T_8e1e0_row8_col7\" class=\"data row8 col7\" >14.4</td>\n",
       "      <td id=\"T_8e1e0_row8_col8\" class=\"data row8 col8\" >24.2</td>\n",
       "      <td id=\"T_8e1e0_row8_col9\" class=\"data row8 col9\" >23.0</td>\n",
       "      <td id=\"T_8e1e0_row8_col10\" class=\"data row8 col10\" >16.2</td>\n",
       "      <td id=\"T_8e1e0_row8_col11\" class=\"data row8 col11\" >5.6</td>\n",
       "    </tr>\n",
       "    <tr>\n",
       "      <th id=\"T_8e1e0_level0_row9\" class=\"row_heading level0 row9\" >namebrant</th>\n",
       "      <td id=\"T_8e1e0_row9_col0\" class=\"data row9 col0\" >0.0</td>\n",
       "      <td id=\"T_8e1e0_row9_col1\" class=\"data row9 col1\" >0.0</td>\n",
       "      <td id=\"T_8e1e0_row9_col2\" class=\"data row9 col2\" >0.0</td>\n",
       "      <td id=\"T_8e1e0_row9_col3\" class=\"data row9 col3\" >0.8</td>\n",
       "      <td id=\"T_8e1e0_row9_col4\" class=\"data row9 col4\" >2.0</td>\n",
       "      <td id=\"T_8e1e0_row9_col5\" class=\"data row9 col5\" >2.8</td>\n",
       "      <td id=\"T_8e1e0_row9_col6\" class=\"data row9 col6\" >6.2</td>\n",
       "      <td id=\"T_8e1e0_row9_col7\" class=\"data row9 col7\" >10.6</td>\n",
       "      <td id=\"T_8e1e0_row9_col8\" class=\"data row9 col8\" >20.4</td>\n",
       "      <td id=\"T_8e1e0_row9_col9\" class=\"data row9 col9\" >26.8</td>\n",
       "      <td id=\"T_8e1e0_row9_col10\" class=\"data row9 col10\" >23.6</td>\n",
       "      <td id=\"T_8e1e0_row9_col11\" class=\"data row9 col11\" >6.8</td>\n",
       "    </tr>\n",
       "    <tr>\n",
       "      <th id=\"T_8e1e0_level0_row10\" class=\"row_heading level0 row10\" >tonygordzilla22</th>\n",
       "      <td id=\"T_8e1e0_row10_col0\" class=\"data row10 col0\" >0.0</td>\n",
       "      <td id=\"T_8e1e0_row10_col1\" class=\"data row10 col1\" >0.0</td>\n",
       "      <td id=\"T_8e1e0_row10_col2\" class=\"data row10 col2\" >0.0</td>\n",
       "      <td id=\"T_8e1e0_row10_col3\" class=\"data row10 col3\" >0.2</td>\n",
       "      <td id=\"T_8e1e0_row10_col4\" class=\"data row10 col4\" >0.4</td>\n",
       "      <td id=\"T_8e1e0_row10_col5\" class=\"data row10 col5\" >1.6</td>\n",
       "      <td id=\"T_8e1e0_row10_col6\" class=\"data row10 col6\" >4.4</td>\n",
       "      <td id=\"T_8e1e0_row10_col7\" class=\"data row10 col7\" >7.6</td>\n",
       "      <td id=\"T_8e1e0_row10_col8\" class=\"data row10 col8\" >13.6</td>\n",
       "      <td id=\"T_8e1e0_row10_col9\" class=\"data row10 col9\" >24.6</td>\n",
       "      <td id=\"T_8e1e0_row10_col10\" class=\"data row10 col10\" >35.4</td>\n",
       "      <td id=\"T_8e1e0_row10_col11\" class=\"data row10 col11\" >12.2</td>\n",
       "    </tr>\n",
       "    <tr>\n",
       "      <th id=\"T_8e1e0_level0_row11\" class=\"row_heading level0 row11\" >black8yellownation</th>\n",
       "      <td id=\"T_8e1e0_row11_col0\" class=\"data row11 col0\" >0.0</td>\n",
       "      <td id=\"T_8e1e0_row11_col1\" class=\"data row11 col1\" >0.0</td>\n",
       "      <td id=\"T_8e1e0_row11_col2\" class=\"data row11 col2\" >0.0</td>\n",
       "      <td id=\"T_8e1e0_row11_col3\" class=\"data row11 col3\" >0.0</td>\n",
       "      <td id=\"T_8e1e0_row11_col4\" class=\"data row11 col4\" >0.0</td>\n",
       "      <td id=\"T_8e1e0_row11_col5\" class=\"data row11 col5\" >0.2</td>\n",
       "      <td id=\"T_8e1e0_row11_col6\" class=\"data row11 col6\" >0.0</td>\n",
       "      <td id=\"T_8e1e0_row11_col7\" class=\"data row11 col7\" >0.6</td>\n",
       "      <td id=\"T_8e1e0_row11_col8\" class=\"data row11 col8\" >3.0</td>\n",
       "      <td id=\"T_8e1e0_row11_col9\" class=\"data row11 col9\" >5.8</td>\n",
       "      <td id=\"T_8e1e0_row11_col10\" class=\"data row11 col10\" >16.4</td>\n",
       "      <td id=\"T_8e1e0_row11_col11\" class=\"data row11 col11\" >74.0</td>\n",
       "    </tr>\n",
       "  </tbody>\n",
       "</table>\n"
      ],
      "text/plain": [
       "<pandas.io.formats.style.Styler at 0x14f4f9850>"
      ]
     },
     "execution_count": 17,
     "metadata": {},
     "output_type": "execute_result"
    }
   ],
   "source": [
    "# Highlights each user's actual ranking from the season in the simulated dataframe\n",
    "def highlight_cells(row):\n",
    "    col_to_highlight = season_ranks[row.name]\n",
    "    return ['color: red' if int(col) == int(col_to_highlight) \n",
    "                            else '' for col in row.index]\n",
    "\n",
    "highlighted_df = records_df_prop.astype(str).style.apply(highlight_cells,\n",
    "                                                          axis = 1)\n",
    "highlighted_df"
   ]
  },
  {
   "cell_type": "code",
   "execution_count": 19,
   "metadata": {},
   "outputs": [
    {
     "data": {
      "text/html": [
       "<div>\n",
       "<style scoped>\n",
       "    .dataframe tbody tr th:only-of-type {\n",
       "        vertical-align: middle;\n",
       "    }\n",
       "\n",
       "    .dataframe tbody tr th {\n",
       "        vertical-align: top;\n",
       "    }\n",
       "\n",
       "    .dataframe thead th {\n",
       "        text-align: right;\n",
       "    }\n",
       "</style>\n",
       "<table border=\"1\" class=\"dataframe\">\n",
       "  <thead>\n",
       "    <tr style=\"text-align: right;\">\n",
       "      <th></th>\n",
       "      <th>username</th>\n",
       "      <th>Better</th>\n",
       "      <th>Equal</th>\n",
       "      <th>Worse</th>\n",
       "      <th>Playoff</th>\n",
       "    </tr>\n",
       "    <tr>\n",
       "      <th>rank</th>\n",
       "      <th></th>\n",
       "      <th></th>\n",
       "      <th></th>\n",
       "      <th></th>\n",
       "      <th></th>\n",
       "    </tr>\n",
       "  </thead>\n",
       "  <tbody>\n",
       "    <tr>\n",
       "      <th>1</th>\n",
       "      <td>pacc</td>\n",
       "      <td>0.0</td>\n",
       "      <td>14.6</td>\n",
       "      <td>85.4</td>\n",
       "      <td>96.8</td>\n",
       "    </tr>\n",
       "    <tr>\n",
       "      <th>2</th>\n",
       "      <td>thezirconisdragon</td>\n",
       "      <td>18.4</td>\n",
       "      <td>21.8</td>\n",
       "      <td>59.8</td>\n",
       "      <td>96.4</td>\n",
       "    </tr>\n",
       "    <tr>\n",
       "      <th>3</th>\n",
       "      <td>herbietime</td>\n",
       "      <td>76.2</td>\n",
       "      <td>14.2</td>\n",
       "      <td>9.6</td>\n",
       "      <td>99.8</td>\n",
       "    </tr>\n",
       "    <tr>\n",
       "      <th>4</th>\n",
       "      <td>alecwilson</td>\n",
       "      <td>61.2</td>\n",
       "      <td>19.2</td>\n",
       "      <td>19.6</td>\n",
       "      <td>96.8</td>\n",
       "    </tr>\n",
       "    <tr>\n",
       "      <th>5</th>\n",
       "      <td>empireyikesback</td>\n",
       "      <td>23.8</td>\n",
       "      <td>24.0</td>\n",
       "      <td>52.2</td>\n",
       "      <td>71.2</td>\n",
       "    </tr>\n",
       "    <tr>\n",
       "      <th>6</th>\n",
       "      <td>burgertownthicnred</td>\n",
       "      <td>11.0</td>\n",
       "      <td>16.6</td>\n",
       "      <td>72.4</td>\n",
       "      <td>27.6</td>\n",
       "    </tr>\n",
       "    <tr>\n",
       "      <th>7</th>\n",
       "      <td>therealfergus</td>\n",
       "      <td>63.6</td>\n",
       "      <td>15.8</td>\n",
       "      <td>20.6</td>\n",
       "      <td>63.6</td>\n",
       "    </tr>\n",
       "    <tr>\n",
       "      <th>8</th>\n",
       "      <td>mackjyers21</td>\n",
       "      <td>51.6</td>\n",
       "      <td>25.4</td>\n",
       "      <td>23.0</td>\n",
       "      <td>34.0</td>\n",
       "    </tr>\n",
       "    <tr>\n",
       "      <th>9</th>\n",
       "      <td>shakylegs</td>\n",
       "      <td>31.0</td>\n",
       "      <td>24.2</td>\n",
       "      <td>44.8</td>\n",
       "      <td>5.8</td>\n",
       "    </tr>\n",
       "    <tr>\n",
       "      <th>10</th>\n",
       "      <td>tonygordzilla22</td>\n",
       "      <td>27.8</td>\n",
       "      <td>24.6</td>\n",
       "      <td>47.6</td>\n",
       "      <td>2.2</td>\n",
       "    </tr>\n",
       "    <tr>\n",
       "      <th>11</th>\n",
       "      <td>black8yellownation</td>\n",
       "      <td>9.6</td>\n",
       "      <td>16.4</td>\n",
       "      <td>74.0</td>\n",
       "      <td>0.2</td>\n",
       "    </tr>\n",
       "    <tr>\n",
       "      <th>12</th>\n",
       "      <td>namebrant</td>\n",
       "      <td>93.2</td>\n",
       "      <td>6.8</td>\n",
       "      <td>0.0</td>\n",
       "      <td>5.6</td>\n",
       "    </tr>\n",
       "  </tbody>\n",
       "</table>\n",
       "</div>"
      ],
      "text/plain": [
       "                username  Better  Equal  Worse  Playoff\n",
       "rank                                                   \n",
       "1                   pacc     0.0   14.6   85.4     96.8\n",
       "2      thezirconisdragon    18.4   21.8   59.8     96.4\n",
       "3             herbietime    76.2   14.2    9.6     99.8\n",
       "4             alecwilson    61.2   19.2   19.6     96.8\n",
       "5        empireyikesback    23.8   24.0   52.2     71.2\n",
       "6     burgertownthicnred    11.0   16.6   72.4     27.6\n",
       "7          therealfergus    63.6   15.8   20.6     63.6\n",
       "8            mackjyers21    51.6   25.4   23.0     34.0\n",
       "9              shakylegs    31.0   24.2   44.8      5.8\n",
       "10       tonygordzilla22    27.8   24.6   47.6      2.2\n",
       "11    black8yellownation     9.6   16.4   74.0      0.2\n",
       "12             namebrant    93.2    6.8    0.0      5.6"
      ]
     },
     "execution_count": 19,
     "metadata": {},
     "output_type": "execute_result"
    }
   ],
   "source": [
    "def get_prob(username, rank, type = \"equal\"):\n",
    "    \"\"\"Gets the probability of a user ranking equal to, worse, or better than \n",
    "    they actually did. Probabilites are taken from the simulated rankings.\n",
    "\n",
    "    Args:\n",
    "        username (str): the username to get the probability ranking\n",
    "        rank (int): the rank to determinge\n",
    "        type (str, optional): Can be \"equal\", \"worse\", or \"better\". For each \n",
    "        option. Defaults to \"equal\".\n",
    "\n",
    "    Returns:\n",
    "        str: The function returns the probability of the given user ranking \n",
    "        equal/better/or worse than the passed rank. Probabilities are taken from\n",
    "        the simulated records dataframe.\n",
    "    \"\"\"\n",
    "    user_ix = records_df_prop.index.get_loc(username)\n",
    "    if type == \"equal\":\n",
    "        return records_df_prop.iloc[user_ix, rank-1]\n",
    "    elif type == \"worse\":\n",
    "        return records_df_prop.iloc[user_ix, rank:].sum()\n",
    "    elif type == \"better\":\n",
    "        return records_df_prop.iloc[user_ix, :rank-1].sum()\n",
    "    elif type == \"playoff\":\n",
    "        return records_df_prop.iloc[user_ix, :6].sum()\n",
    "\n",
    "# Gets the probability dictionaries of worse/equal/better for each user\n",
    "probs_worse = {username: get_prob(username, rank, type = \"worse\") for (username, rank) in season_ranks.items()}\n",
    "probs_better = {username: get_prob(username, rank, type = \"better\") for (username, rank) in season_ranks.items()}\n",
    "probs_equal = {username: get_prob(username, rank, type = \"equal\") for (username, rank) in season_ranks.items()}\n",
    "probs_playoff = {username: get_prob(username, rank, type = \"playoff\") for (username, rank) in season_ranks.items()}\n",
    "\n",
    "# Stores the probabilites of each user's ranking for the season\n",
    "season_probs = (pd.DataFrame(season_ranks)\n",
    "                .assign(Better = pd.Series(probs_better))\n",
    "                .assign(Equal = pd.Series(probs_equal))\n",
    "                .assign(Worse = pd.Series(probs_worse))\n",
    "                .assign(Playoff = pd.Series(probs_playoff))\n",
    "                .reset_index(names=\"username\")\n",
    "                .set_index(\"rank\")\n",
    "                .round(2))\n",
    "season_probs"
   ]
  },
  {
   "cell_type": "code",
   "execution_count": 20,
   "metadata": {},
   "outputs": [
    {
     "data": {
      "application/vnd.plotly.v1+json": {
       "config": {
        "plotlyServerURL": "https://plot.ly"
       },
       "data": [
        {
         "alignmentgroup": "True",
         "hovertemplate": " =Better<br>username=%{x}<br>Chance %=%{y}<extra></extra>",
         "legendgroup": "Better",
         "marker": {
          "color": "#2CA02C",
          "pattern": {
           "shape": ""
          }
         },
         "name": "Better",
         "offsetgroup": "Better",
         "orientation": "v",
         "showlegend": true,
         "textposition": "auto",
         "type": "bar",
         "x": [
          "pacc",
          "thezirconisdragon",
          "herbietime",
          "alecwilson",
          "empireyikesback",
          "burgertownthicnred",
          "therealfergus",
          "mackjyers21",
          "shakylegs",
          "tonygordzilla22",
          "black8yellownation",
          "namebrant"
         ],
         "xaxis": "x",
         "y": [
          0,
          18.4,
          76.2,
          61.2,
          23.8,
          11,
          63.6,
          51.6,
          31,
          27.8,
          9.6,
          93.2
         ],
         "yaxis": "y"
        },
        {
         "alignmentgroup": "True",
         "hovertemplate": " =Equal<br>username=%{x}<br>Chance %=%{y}<extra></extra>",
         "legendgroup": "Equal",
         "marker": {
          "color": "#FF7F0E",
          "pattern": {
           "shape": ""
          }
         },
         "name": "Equal",
         "offsetgroup": "Equal",
         "orientation": "v",
         "showlegend": true,
         "textposition": "auto",
         "type": "bar",
         "x": [
          "pacc",
          "thezirconisdragon",
          "herbietime",
          "alecwilson",
          "empireyikesback",
          "burgertownthicnred",
          "therealfergus",
          "mackjyers21",
          "shakylegs",
          "tonygordzilla22",
          "black8yellownation",
          "namebrant"
         ],
         "xaxis": "x",
         "y": [
          14.6,
          21.8,
          14.2,
          19.2,
          24,
          16.6,
          15.8,
          25.4,
          24.2,
          24.6,
          16.4,
          6.8
         ],
         "yaxis": "y"
        },
        {
         "alignmentgroup": "True",
         "hovertemplate": " =Worse<br>username=%{x}<br>Chance %=%{y}<extra></extra>",
         "legendgroup": "Worse",
         "marker": {
          "color": "#1F77B4",
          "pattern": {
           "shape": ""
          }
         },
         "name": "Worse",
         "offsetgroup": "Worse",
         "orientation": "v",
         "showlegend": true,
         "textposition": "auto",
         "type": "bar",
         "x": [
          "pacc",
          "thezirconisdragon",
          "herbietime",
          "alecwilson",
          "empireyikesback",
          "burgertownthicnred",
          "therealfergus",
          "mackjyers21",
          "shakylegs",
          "tonygordzilla22",
          "black8yellownation",
          "namebrant"
         ],
         "xaxis": "x",
         "y": [
          85.4,
          59.8,
          9.6,
          19.6,
          52.2,
          72.4,
          20.6,
          23,
          44.8,
          47.6,
          74,
          0
         ],
         "yaxis": "y"
        }
       ],
       "layout": {
        "bargap": 0.5,
        "barmode": "relative",
        "font": {
         "size": 14
        },
        "height": 600,
        "legend": {
         "font": {
          "size": 20
         },
         "title": {},
         "tracegroupgap": 0
        },
        "margin": {
         "b": 75,
         "l": 100,
         "r": 50,
         "t": 70
        },
        "template": {
         "data": {
          "bar": [
           {
            "error_x": {
             "color": "#2a3f5f"
            },
            "error_y": {
             "color": "#2a3f5f"
            },
            "marker": {
             "line": {
              "color": "#E5ECF6",
              "width": 0.5
             },
             "pattern": {
              "fillmode": "overlay",
              "size": 10,
              "solidity": 0.2
             }
            },
            "type": "bar"
           }
          ],
          "barpolar": [
           {
            "marker": {
             "line": {
              "color": "#E5ECF6",
              "width": 0.5
             },
             "pattern": {
              "fillmode": "overlay",
              "size": 10,
              "solidity": 0.2
             }
            },
            "type": "barpolar"
           }
          ],
          "carpet": [
           {
            "aaxis": {
             "endlinecolor": "#2a3f5f",
             "gridcolor": "white",
             "linecolor": "white",
             "minorgridcolor": "white",
             "startlinecolor": "#2a3f5f"
            },
            "baxis": {
             "endlinecolor": "#2a3f5f",
             "gridcolor": "white",
             "linecolor": "white",
             "minorgridcolor": "white",
             "startlinecolor": "#2a3f5f"
            },
            "type": "carpet"
           }
          ],
          "choropleth": [
           {
            "colorbar": {
             "outlinewidth": 0,
             "ticks": ""
            },
            "type": "choropleth"
           }
          ],
          "contour": [
           {
            "colorbar": {
             "outlinewidth": 0,
             "ticks": ""
            },
            "colorscale": [
             [
              0,
              "#0d0887"
             ],
             [
              0.1111111111111111,
              "#46039f"
             ],
             [
              0.2222222222222222,
              "#7201a8"
             ],
             [
              0.3333333333333333,
              "#9c179e"
             ],
             [
              0.4444444444444444,
              "#bd3786"
             ],
             [
              0.5555555555555556,
              "#d8576b"
             ],
             [
              0.6666666666666666,
              "#ed7953"
             ],
             [
              0.7777777777777778,
              "#fb9f3a"
             ],
             [
              0.8888888888888888,
              "#fdca26"
             ],
             [
              1,
              "#f0f921"
             ]
            ],
            "type": "contour"
           }
          ],
          "contourcarpet": [
           {
            "colorbar": {
             "outlinewidth": 0,
             "ticks": ""
            },
            "type": "contourcarpet"
           }
          ],
          "heatmap": [
           {
            "colorbar": {
             "outlinewidth": 0,
             "ticks": ""
            },
            "colorscale": [
             [
              0,
              "#0d0887"
             ],
             [
              0.1111111111111111,
              "#46039f"
             ],
             [
              0.2222222222222222,
              "#7201a8"
             ],
             [
              0.3333333333333333,
              "#9c179e"
             ],
             [
              0.4444444444444444,
              "#bd3786"
             ],
             [
              0.5555555555555556,
              "#d8576b"
             ],
             [
              0.6666666666666666,
              "#ed7953"
             ],
             [
              0.7777777777777778,
              "#fb9f3a"
             ],
             [
              0.8888888888888888,
              "#fdca26"
             ],
             [
              1,
              "#f0f921"
             ]
            ],
            "type": "heatmap"
           }
          ],
          "heatmapgl": [
           {
            "colorbar": {
             "outlinewidth": 0,
             "ticks": ""
            },
            "colorscale": [
             [
              0,
              "#0d0887"
             ],
             [
              0.1111111111111111,
              "#46039f"
             ],
             [
              0.2222222222222222,
              "#7201a8"
             ],
             [
              0.3333333333333333,
              "#9c179e"
             ],
             [
              0.4444444444444444,
              "#bd3786"
             ],
             [
              0.5555555555555556,
              "#d8576b"
             ],
             [
              0.6666666666666666,
              "#ed7953"
             ],
             [
              0.7777777777777778,
              "#fb9f3a"
             ],
             [
              0.8888888888888888,
              "#fdca26"
             ],
             [
              1,
              "#f0f921"
             ]
            ],
            "type": "heatmapgl"
           }
          ],
          "histogram": [
           {
            "marker": {
             "pattern": {
              "fillmode": "overlay",
              "size": 10,
              "solidity": 0.2
             }
            },
            "type": "histogram"
           }
          ],
          "histogram2d": [
           {
            "colorbar": {
             "outlinewidth": 0,
             "ticks": ""
            },
            "colorscale": [
             [
              0,
              "#0d0887"
             ],
             [
              0.1111111111111111,
              "#46039f"
             ],
             [
              0.2222222222222222,
              "#7201a8"
             ],
             [
              0.3333333333333333,
              "#9c179e"
             ],
             [
              0.4444444444444444,
              "#bd3786"
             ],
             [
              0.5555555555555556,
              "#d8576b"
             ],
             [
              0.6666666666666666,
              "#ed7953"
             ],
             [
              0.7777777777777778,
              "#fb9f3a"
             ],
             [
              0.8888888888888888,
              "#fdca26"
             ],
             [
              1,
              "#f0f921"
             ]
            ],
            "type": "histogram2d"
           }
          ],
          "histogram2dcontour": [
           {
            "colorbar": {
             "outlinewidth": 0,
             "ticks": ""
            },
            "colorscale": [
             [
              0,
              "#0d0887"
             ],
             [
              0.1111111111111111,
              "#46039f"
             ],
             [
              0.2222222222222222,
              "#7201a8"
             ],
             [
              0.3333333333333333,
              "#9c179e"
             ],
             [
              0.4444444444444444,
              "#bd3786"
             ],
             [
              0.5555555555555556,
              "#d8576b"
             ],
             [
              0.6666666666666666,
              "#ed7953"
             ],
             [
              0.7777777777777778,
              "#fb9f3a"
             ],
             [
              0.8888888888888888,
              "#fdca26"
             ],
             [
              1,
              "#f0f921"
             ]
            ],
            "type": "histogram2dcontour"
           }
          ],
          "mesh3d": [
           {
            "colorbar": {
             "outlinewidth": 0,
             "ticks": ""
            },
            "type": "mesh3d"
           }
          ],
          "parcoords": [
           {
            "line": {
             "colorbar": {
              "outlinewidth": 0,
              "ticks": ""
             }
            },
            "type": "parcoords"
           }
          ],
          "pie": [
           {
            "automargin": true,
            "type": "pie"
           }
          ],
          "scatter": [
           {
            "fillpattern": {
             "fillmode": "overlay",
             "size": 10,
             "solidity": 0.2
            },
            "type": "scatter"
           }
          ],
          "scatter3d": [
           {
            "line": {
             "colorbar": {
              "outlinewidth": 0,
              "ticks": ""
             }
            },
            "marker": {
             "colorbar": {
              "outlinewidth": 0,
              "ticks": ""
             }
            },
            "type": "scatter3d"
           }
          ],
          "scattercarpet": [
           {
            "marker": {
             "colorbar": {
              "outlinewidth": 0,
              "ticks": ""
             }
            },
            "type": "scattercarpet"
           }
          ],
          "scattergeo": [
           {
            "marker": {
             "colorbar": {
              "outlinewidth": 0,
              "ticks": ""
             }
            },
            "type": "scattergeo"
           }
          ],
          "scattergl": [
           {
            "marker": {
             "colorbar": {
              "outlinewidth": 0,
              "ticks": ""
             }
            },
            "type": "scattergl"
           }
          ],
          "scattermapbox": [
           {
            "marker": {
             "colorbar": {
              "outlinewidth": 0,
              "ticks": ""
             }
            },
            "type": "scattermapbox"
           }
          ],
          "scatterpolar": [
           {
            "marker": {
             "colorbar": {
              "outlinewidth": 0,
              "ticks": ""
             }
            },
            "type": "scatterpolar"
           }
          ],
          "scatterpolargl": [
           {
            "marker": {
             "colorbar": {
              "outlinewidth": 0,
              "ticks": ""
             }
            },
            "type": "scatterpolargl"
           }
          ],
          "scatterternary": [
           {
            "marker": {
             "colorbar": {
              "outlinewidth": 0,
              "ticks": ""
             }
            },
            "type": "scatterternary"
           }
          ],
          "surface": [
           {
            "colorbar": {
             "outlinewidth": 0,
             "ticks": ""
            },
            "colorscale": [
             [
              0,
              "#0d0887"
             ],
             [
              0.1111111111111111,
              "#46039f"
             ],
             [
              0.2222222222222222,
              "#7201a8"
             ],
             [
              0.3333333333333333,
              "#9c179e"
             ],
             [
              0.4444444444444444,
              "#bd3786"
             ],
             [
              0.5555555555555556,
              "#d8576b"
             ],
             [
              0.6666666666666666,
              "#ed7953"
             ],
             [
              0.7777777777777778,
              "#fb9f3a"
             ],
             [
              0.8888888888888888,
              "#fdca26"
             ],
             [
              1,
              "#f0f921"
             ]
            ],
            "type": "surface"
           }
          ],
          "table": [
           {
            "cells": {
             "fill": {
              "color": "#EBF0F8"
             },
             "line": {
              "color": "white"
             }
            },
            "header": {
             "fill": {
              "color": "#C8D4E3"
             },
             "line": {
              "color": "white"
             }
            },
            "type": "table"
           }
          ]
         },
         "layout": {
          "annotationdefaults": {
           "arrowcolor": "#2a3f5f",
           "arrowhead": 0,
           "arrowwidth": 1
          },
          "autotypenumbers": "strict",
          "coloraxis": {
           "colorbar": {
            "outlinewidth": 0,
            "ticks": ""
           }
          },
          "colorscale": {
           "diverging": [
            [
             0,
             "#8e0152"
            ],
            [
             0.1,
             "#c51b7d"
            ],
            [
             0.2,
             "#de77ae"
            ],
            [
             0.3,
             "#f1b6da"
            ],
            [
             0.4,
             "#fde0ef"
            ],
            [
             0.5,
             "#f7f7f7"
            ],
            [
             0.6,
             "#e6f5d0"
            ],
            [
             0.7,
             "#b8e186"
            ],
            [
             0.8,
             "#7fbc41"
            ],
            [
             0.9,
             "#4d9221"
            ],
            [
             1,
             "#276419"
            ]
           ],
           "sequential": [
            [
             0,
             "#0d0887"
            ],
            [
             0.1111111111111111,
             "#46039f"
            ],
            [
             0.2222222222222222,
             "#7201a8"
            ],
            [
             0.3333333333333333,
             "#9c179e"
            ],
            [
             0.4444444444444444,
             "#bd3786"
            ],
            [
             0.5555555555555556,
             "#d8576b"
            ],
            [
             0.6666666666666666,
             "#ed7953"
            ],
            [
             0.7777777777777778,
             "#fb9f3a"
            ],
            [
             0.8888888888888888,
             "#fdca26"
            ],
            [
             1,
             "#f0f921"
            ]
           ],
           "sequentialminus": [
            [
             0,
             "#0d0887"
            ],
            [
             0.1111111111111111,
             "#46039f"
            ],
            [
             0.2222222222222222,
             "#7201a8"
            ],
            [
             0.3333333333333333,
             "#9c179e"
            ],
            [
             0.4444444444444444,
             "#bd3786"
            ],
            [
             0.5555555555555556,
             "#d8576b"
            ],
            [
             0.6666666666666666,
             "#ed7953"
            ],
            [
             0.7777777777777778,
             "#fb9f3a"
            ],
            [
             0.8888888888888888,
             "#fdca26"
            ],
            [
             1,
             "#f0f921"
            ]
           ]
          },
          "colorway": [
           "#636efa",
           "#EF553B",
           "#00cc96",
           "#ab63fa",
           "#FFA15A",
           "#19d3f3",
           "#FF6692",
           "#B6E880",
           "#FF97FF",
           "#FECB52"
          ],
          "font": {
           "color": "#2a3f5f"
          },
          "geo": {
           "bgcolor": "white",
           "lakecolor": "white",
           "landcolor": "#E5ECF6",
           "showlakes": true,
           "showland": true,
           "subunitcolor": "white"
          },
          "hoverlabel": {
           "align": "left"
          },
          "hovermode": "closest",
          "mapbox": {
           "style": "light"
          },
          "paper_bgcolor": "white",
          "plot_bgcolor": "#E5ECF6",
          "polar": {
           "angularaxis": {
            "gridcolor": "white",
            "linecolor": "white",
            "ticks": ""
           },
           "bgcolor": "#E5ECF6",
           "radialaxis": {
            "gridcolor": "white",
            "linecolor": "white",
            "ticks": ""
           }
          },
          "scene": {
           "xaxis": {
            "backgroundcolor": "#E5ECF6",
            "gridcolor": "white",
            "gridwidth": 2,
            "linecolor": "white",
            "showbackground": true,
            "ticks": "",
            "zerolinecolor": "white"
           },
           "yaxis": {
            "backgroundcolor": "#E5ECF6",
            "gridcolor": "white",
            "gridwidth": 2,
            "linecolor": "white",
            "showbackground": true,
            "ticks": "",
            "zerolinecolor": "white"
           },
           "zaxis": {
            "backgroundcolor": "#E5ECF6",
            "gridcolor": "white",
            "gridwidth": 2,
            "linecolor": "white",
            "showbackground": true,
            "ticks": "",
            "zerolinecolor": "white"
           }
          },
          "shapedefaults": {
           "line": {
            "color": "#2a3f5f"
           }
          },
          "ternary": {
           "aaxis": {
            "gridcolor": "white",
            "linecolor": "white",
            "ticks": ""
           },
           "baxis": {
            "gridcolor": "white",
            "linecolor": "white",
            "ticks": ""
           },
           "bgcolor": "#E5ECF6",
           "caxis": {
            "gridcolor": "white",
            "linecolor": "white",
            "ticks": ""
           }
          },
          "title": {
           "x": 0.05
          },
          "xaxis": {
           "automargin": true,
           "gridcolor": "white",
           "linecolor": "white",
           "ticks": "",
           "title": {
            "standoff": 15
           },
           "zerolinecolor": "white",
           "zerolinewidth": 2
          },
          "yaxis": {
           "automargin": true,
           "gridcolor": "white",
           "linecolor": "white",
           "ticks": "",
           "title": {
            "standoff": 15
           },
           "zerolinecolor": "white",
           "zerolinewidth": 2
          }
         }
        },
        "title": {
         "text": "Chance of Ranking: Worse Than / Equal To / Better Than Actual Ranking for 2023 Season",
         "x": 0.5
        },
        "width": 1200,
        "xaxis": {
         "anchor": "y",
         "domain": [
          0,
          1
         ],
         "title": {}
        },
        "yaxis": {
         "anchor": "x",
         "domain": [
          0,
          1
         ],
         "title": {
          "text": "Chance %"
         }
        }
       }
      }
     },
     "metadata": {},
     "output_type": "display_data"
    }
   ],
   "source": [
    "# Plots the season probabilities as a stacked bar chart\n",
    "season_probs_melt = pd.melt(season_probs, id_vars=['username', \"Playoff\"], var_name=' ', value_name='Chance %')\n",
    "fig = px.bar(\n",
    "        season_probs_melt, \n",
    "        x='username', \n",
    "        y='Chance %', \n",
    "        color = ' ', \n",
    "        title = f'Chance of Ranking: Worse Than / Equal To / Better Than Actual Ranking for {YEAR} Season',\n",
    "        color_discrete_sequence = px.colors.qualitative.D3[:3][::-1],\n",
    "        )\n",
    "\n",
    "fig.update_layout(width=1200,\n",
    "                  height=600,\n",
    "                  xaxis_title = None,\n",
    "                  title_x = 0.5,\n",
    "                  font=dict(size=14),\n",
    "                  margin=dict(t=70, b=75, l=100, r=50),\n",
    "                  bargap=0.5,\n",
    "                  legend = dict(title = None,\n",
    "                                font = dict(size=20))\n",
    "                 )"
   ]
  },
  {
   "cell_type": "code",
   "execution_count": null,
   "metadata": {},
   "outputs": [],
   "source": [
    "playoffs_df = (pd.DataFrame(playoff_seeds, index = [\"Count\"])\n",
    "               .transpose()\n",
    "               .reset_index()\n",
    "               .rename(columns={'level_0': 1, 'level_1': 2, 'level_2': 3,\n",
    "                                'level_3': 4, 'level_4': 5, 'level_5': 6}))\n",
    "\n",
    "playoffs_df = playoffs_df[playoffs_df[\"Count\"] > 0]"
   ]
  },
  {
   "cell_type": "code",
   "execution_count": null,
   "metadata": {},
   "outputs": [],
   "source": [
    "playoffs_df_prob = pd.DataFrame(playoffs_df)\n",
    "\n",
    "def better_equal(username, rank):\n",
    "    return get_prob(username, rank, type = \"better\") + get_prob(username, rank, type = \"equal\")\n",
    "\n",
    "for i in range(1,7):\n",
    "    playoffs_df_prob[i] = playoffs_df[i].apply(lambda x: better_equal(x,i))"
   ]
  },
  {
   "cell_type": "code",
   "execution_count": null,
   "metadata": {},
   "outputs": [],
   "source": [
    "idx_unlikely = playoffs_df_prob.iloc[:,:6].sum(axis = 1).idxmin()"
   ]
  },
  {
   "cell_type": "code",
   "execution_count": null,
   "metadata": {},
   "outputs": [],
   "source": [
    "unlikely_playoff_seed = (pd.concat([playoffs_df.loc[451170,:6].rename(\"Username\"),\n",
    "                                    playoffs_df_prob.loc[451170,:6].rename(\"Prob >=\")],\n",
    "                                      axis = 1)\n",
    "                            .rename(columns={f'{idx_unlikely}':'as'}))\n",
    "unlikely_playoff_seed"
   ]
  },
  {
   "cell_type": "code",
   "execution_count": null,
   "metadata": {},
   "outputs": [],
   "source": [
    "playoffs_df[playoffs_df[1] == 'tonygordzilla22']"
   ]
  }
 ],
 "metadata": {
  "kernelspec": {
   "display_name": "sleeper",
   "language": "python",
   "name": "python3"
  },
  "language_info": {
   "codemirror_mode": {
    "name": "ipython",
    "version": 3
   },
   "file_extension": ".py",
   "mimetype": "text/x-python",
   "name": "python",
   "nbconvert_exporter": "python",
   "pygments_lexer": "ipython3",
   "version": "3.11.9"
  }
 },
 "nbformat": 4,
 "nbformat_minor": 2
}
