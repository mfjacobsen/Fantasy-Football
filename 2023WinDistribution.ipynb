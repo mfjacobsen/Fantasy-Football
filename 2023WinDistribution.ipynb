{
 "cells": [
  {
   "cell_type": "code",
   "execution_count": 72,
   "metadata": {},
   "outputs": [],
   "source": [
    "import sleepy\n",
    "import pandas as pd\n",
    "import numpy as np\n",
    "import math\n",
    "import itertools\n",
    "import plotly.express as px\n",
    "from tqdm import tqdm\n",
    "import time\n",
    "import random\n",
    "import multiprocessing as mp\n",
    "from threading import Thread\n",
    "from multiprocessing_functions import simulate_schedules, get_ranking"
   ]
  },
  {
   "cell_type": "code",
   "execution_count": 2,
   "metadata": {},
   "outputs": [],
   "source": [
    "USERNAME = 'TheRealFergus'\n",
    "YEAR = 2023"
   ]
  },
  {
   "cell_type": "code",
   "execution_count": 3,
   "metadata": {},
   "outputs": [],
   "source": [
    "# Gets league and owner data\n",
    "user_id = sleepy.get_user_data(USERNAME)[\"user_id\"]\n",
    "league_id = sleepy.get_league_ids(user_id, YEAR)[0]\n",
    "league_raw = sleepy.get_leage(league_id)\n",
    "owners_raw = sleepy.get_owners(league_id)\n",
    "owners = owners_raw[[\"username\", \"owner_id\", \"roster_id\"]]"
   ]
  },
  {
   "cell_type": "code",
   "execution_count": 4,
   "metadata": {},
   "outputs": [],
   "source": [
    "# Stores the number of teams in the league\n",
    "num_teams = owners.shape[0]\n",
    "\n",
    "# Stores the number of the first week of the league playoffs\n",
    "playoff_week1 = league_raw[\"settings\"][\"playoff_week_start\"]\n",
    "\n",
    "# Maps a unique matchup id corresponding to each combination of two roster ids\n",
    "matchup_to_roster_id = {matchup[0] + 1: matchup[1] for matchup in \n",
    "                        enumerate(itertools.combinations(range(1,13), 2))}\n",
    "\n",
    "roster_to_matchup_id = {val: key for (key, val) in matchup_to_roster_id.items()}"
   ]
  },
  {
   "cell_type": "code",
   "execution_count": 5,
   "metadata": {},
   "outputs": [
    {
     "data": {
      "text/plain": [
       "week  matchup_id\n",
       "1     1             2\n",
       "      2             2\n",
       "      3             2\n",
       "      4             2\n",
       "      5             2\n",
       "                   ..\n",
       "14    2             2\n",
       "      3             2\n",
       "      4             2\n",
       "      5             2\n",
       "      6             2\n",
       "Name: roster_id, Length: 84, dtype: int64"
      ]
     },
     "execution_count": 5,
     "metadata": {},
     "output_type": "execute_result"
    }
   ],
   "source": [
    "# Gets regular season matchup data\n",
    "matchups = (sleepy.get_matchups(league_id, season=True)\n",
    "            .query(f\"starter == True & week < {playoff_week1}\")\n",
    "            .groupby([\"week\", \"roster_id\", \"matchup_id\"])\n",
    "            [[\"team_points\"]]\n",
    "            .first()\n",
    "            .reset_index())\n",
    "\n",
    "# Merges matchups with owners to include usersernames\n",
    "matchups = (\n",
    "    matchups.merge(owners.reset_index(),\n",
    "                    left_on=\"roster_id\",\n",
    "                      right_on = \"roster_id\")\n",
    "            .assign(matchup_id = matchups[\"matchup_id\"].astype(int))\n",
    "            .drop(columns=\"index\"))\n",
    "\n",
    "matchups.groupby([\"week\", \"matchup_id\"])[\"roster_id\"].count()"
   ]
  },
  {
   "cell_type": "code",
   "execution_count": 6,
   "metadata": {},
   "outputs": [
    {
     "data": {
      "text/html": [
       "<div>\n",
       "<style scoped>\n",
       "    .dataframe tbody tr th:only-of-type {\n",
       "        vertical-align: middle;\n",
       "    }\n",
       "\n",
       "    .dataframe tbody tr th {\n",
       "        vertical-align: top;\n",
       "    }\n",
       "\n",
       "    .dataframe thead th {\n",
       "        text-align: right;\n",
       "    }\n",
       "</style>\n",
       "<table border=\"1\" class=\"dataframe\">\n",
       "  <thead>\n",
       "    <tr style=\"text-align: right;\">\n",
       "      <th></th>\n",
       "      <th>week</th>\n",
       "      <th>roster_id</th>\n",
       "      <th>matchup_id</th>\n",
       "      <th>team_points</th>\n",
       "      <th>username</th>\n",
       "      <th>owner_id</th>\n",
       "    </tr>\n",
       "  </thead>\n",
       "  <tbody>\n",
       "    <tr>\n",
       "      <th>0</th>\n",
       "      <td>1</td>\n",
       "      <td>1</td>\n",
       "      <td>10</td>\n",
       "      <td>95.92</td>\n",
       "      <td>alecwilson</td>\n",
       "      <td>781258862778015744</td>\n",
       "    </tr>\n",
       "    <tr>\n",
       "      <th>1</th>\n",
       "      <td>1</td>\n",
       "      <td>2</td>\n",
       "      <td>15</td>\n",
       "      <td>102.31</td>\n",
       "      <td>namebrant</td>\n",
       "      <td>737201118836346880</td>\n",
       "    </tr>\n",
       "    <tr>\n",
       "      <th>2</th>\n",
       "      <td>1</td>\n",
       "      <td>3</td>\n",
       "      <td>27</td>\n",
       "      <td>87.10</td>\n",
       "      <td>therealfergus</td>\n",
       "      <td>871830995287085056</td>\n",
       "    </tr>\n",
       "    <tr>\n",
       "      <th>3</th>\n",
       "      <td>1</td>\n",
       "      <td>4</td>\n",
       "      <td>36</td>\n",
       "      <td>80.88</td>\n",
       "      <td>empireyikesback</td>\n",
       "      <td>340376049508429824</td>\n",
       "    </tr>\n",
       "    <tr>\n",
       "      <th>4</th>\n",
       "      <td>1</td>\n",
       "      <td>5</td>\n",
       "      <td>40</td>\n",
       "      <td>75.52</td>\n",
       "      <td>pacc</td>\n",
       "      <td>791907251894984704</td>\n",
       "    </tr>\n",
       "    <tr>\n",
       "      <th>5</th>\n",
       "      <td>1</td>\n",
       "      <td>6</td>\n",
       "      <td>15</td>\n",
       "      <td>104.94</td>\n",
       "      <td>tonygordzilla22</td>\n",
       "      <td>790423754491678720</td>\n",
       "    </tr>\n",
       "    <tr>\n",
       "      <th>6</th>\n",
       "      <td>1</td>\n",
       "      <td>7</td>\n",
       "      <td>40</td>\n",
       "      <td>116.85</td>\n",
       "      <td>mackjyers21</td>\n",
       "      <td>463115290251620352</td>\n",
       "    </tr>\n",
       "    <tr>\n",
       "      <th>7</th>\n",
       "      <td>1</td>\n",
       "      <td>8</td>\n",
       "      <td>60</td>\n",
       "      <td>105.44</td>\n",
       "      <td>burgertownthicnred</td>\n",
       "      <td>865421962913157120</td>\n",
       "    </tr>\n",
       "    <tr>\n",
       "      <th>8</th>\n",
       "      <td>1</td>\n",
       "      <td>9</td>\n",
       "      <td>27</td>\n",
       "      <td>138.10</td>\n",
       "      <td>thezirconisdragon</td>\n",
       "      <td>865438032692649984</td>\n",
       "    </tr>\n",
       "    <tr>\n",
       "      <th>9</th>\n",
       "      <td>1</td>\n",
       "      <td>10</td>\n",
       "      <td>36</td>\n",
       "      <td>87.78</td>\n",
       "      <td>black8yellownation</td>\n",
       "      <td>865844843182694400</td>\n",
       "    </tr>\n",
       "    <tr>\n",
       "      <th>10</th>\n",
       "      <td>1</td>\n",
       "      <td>11</td>\n",
       "      <td>10</td>\n",
       "      <td>190.51</td>\n",
       "      <td>herbietime</td>\n",
       "      <td>866177748505329664</td>\n",
       "    </tr>\n",
       "    <tr>\n",
       "      <th>11</th>\n",
       "      <td>1</td>\n",
       "      <td>12</td>\n",
       "      <td>60</td>\n",
       "      <td>104.80</td>\n",
       "      <td>shakylegs</td>\n",
       "      <td>869018101340098560</td>\n",
       "    </tr>\n",
       "  </tbody>\n",
       "</table>\n",
       "</div>"
      ],
      "text/plain": [
       "    week  roster_id  matchup_id  team_points            username  \\\n",
       "0      1          1          10        95.92          alecwilson   \n",
       "1      1          2          15       102.31           namebrant   \n",
       "2      1          3          27        87.10       therealfergus   \n",
       "3      1          4          36        80.88     empireyikesback   \n",
       "4      1          5          40        75.52                pacc   \n",
       "5      1          6          15       104.94     tonygordzilla22   \n",
       "6      1          7          40       116.85         mackjyers21   \n",
       "7      1          8          60       105.44  burgertownthicnred   \n",
       "8      1          9          27       138.10   thezirconisdragon   \n",
       "9      1         10          36        87.78  black8yellownation   \n",
       "10     1         11          10       190.51          herbietime   \n",
       "11     1         12          60       104.80           shakylegs   \n",
       "\n",
       "              owner_id  \n",
       "0   781258862778015744  \n",
       "1   737201118836346880  \n",
       "2   871830995287085056  \n",
       "3   340376049508429824  \n",
       "4   791907251894984704  \n",
       "5   790423754491678720  \n",
       "6   463115290251620352  \n",
       "7   865421962913157120  \n",
       "8   865438032692649984  \n",
       "9   865844843182694400  \n",
       "10  866177748505329664  \n",
       "11  869018101340098560  "
      ]
     },
     "execution_count": 6,
     "metadata": {},
     "output_type": "execute_result"
    }
   ],
   "source": [
    "# Gets regular season matchup data\n",
    "matchups = (sleepy.get_matchups(league_id, season=True)\n",
    "            .query(f\"starter == True & week < {playoff_week1}\")\n",
    "            .groupby([\"week\", \"roster_id\", \"matchup_id\"])\n",
    "            [[\"team_points\"]]\n",
    "            .first()\n",
    "            .reset_index())\n",
    "\n",
    "# Merges matchups with owners to include usersernames\n",
    "matchups = (\n",
    "    matchups.merge(owners.reset_index(),\n",
    "                    left_on=\"roster_id\",\n",
    "                      right_on = \"roster_id\")\n",
    "            .assign(matchup_id = matchups[\"matchup_id\"].astype(int))\n",
    "            .drop(columns=\"index\"))\n",
    "\n",
    "# Reassigns the matchup id\n",
    "matchups[\"matchup_id\"] = (\n",
    "    matchups\n",
    "    .groupby([\"week\", \"matchup_id\"])\n",
    "    [\"roster_id\"]\n",
    "    .transform(lambda x: roster_to_matchup_id[tuple(x.unique())])\n",
    "    )\n",
    "\n",
    "# The first week's games\n",
    "matchups.head(12)"
   ]
  },
  {
   "cell_type": "code",
   "execution_count": 7,
   "metadata": {},
   "outputs": [],
   "source": [
    "# Formats the actual season schedule\n",
    "season_schedule = tuple(\n",
    "    tuple(week) for week in matchups.groupby(\"week\")[\"matchup_id\"].agg(set)\n",
    ")\n",
    "\n",
    "# Gets the total season points for each owner\n",
    "owners_points = matchups.groupby(\"username\")[[\"team_points\"]].sum()"
   ]
  },
  {
   "cell_type": "code",
   "execution_count": 8,
   "metadata": {},
   "outputs": [
    {
     "name": "stderr",
     "output_type": "stream",
     "text": [
      "100%|██████████| 90858768/90858768 [00:45<00:00, 1996476.84it/s]\n"
     ]
    }
   ],
   "source": [
    "# Gets all possible weekly schedules, each tuple contains six matchp id's \n",
    "# corresponding to a single game. There are 10395 possible weekly schedules\n",
    "all_weeks = []\n",
    "for week in tqdm(itertools.combinations(matchup_to_roster_id.values(), 6), \n",
    "                 total = math.comb(66, 6)):\n",
    "    s = set()\n",
    "    for match in week:\n",
    "        s.update(match)\n",
    "    if len(s) == 12:\n",
    "        all_weeks.append(tuple(roster_to_matchup_id[match] for match in week))\n",
    "all_weeks = tuple(all_weeks)"
   ]
  },
  {
   "cell_type": "code",
   "execution_count": 9,
   "metadata": {},
   "outputs": [
    {
     "name": "stderr",
     "output_type": "stream",
     "text": [
      "100%|██████████| 10395/10395 [00:24<00:00, 431.72it/s]\n"
     ]
    }
   ],
   "source": [
    "# Maps each week schedule in all possible weeks to a set of weeks. Given that the\n",
    "# key week appears in a season schedule, none of the weeks in the value set can \n",
    "# also appear\n",
    "similar_weeks = {}\n",
    "for key_week in tqdm(all_weeks, total = len(all_weeks)):\n",
    "    similar_weeks[key_week] = (\n",
    "        set([week for week in all_weeks if len(set(week + key_week)) != 12])\n",
    "        )"
   ]
  },
  {
   "cell_type": "code",
   "execution_count": 15,
   "metadata": {},
   "outputs": [],
   "source": [
    "manager = mp.Manager()\n",
    "total_records = manager.dict()\n",
    "ranking_counts = manager.dict()\n",
    "progress_queue = mp.Queue()\n",
    "\n",
    "for username in owners[\"username\"]:\n",
    "    total_records[username] = manager.list(np.zeros(12, dtype=int))\n",
    "\n",
    "if __name__ == \"__main__\":\n",
    "\n",
    "    num_sims_per_process = 10000  # Number of simulations per process\n",
    "    num_processes = 1000  # Number of processes (cores) to use\n",
    "    total_sims = num_sims_per_process * num_processes\n",
    "\n",
    "    processes = []\n",
    "\n",
    "    for p in range(num_processes):\n",
    "\n",
    "        while len(processes) >= mp.cpu_count():\n",
    "            time.sleep(1)\n",
    "            processes = [p for p in processes if p.is_alive()]\n",
    "\n",
    "        process = mp.Process(\n",
    "            target = simulate_schedules,\n",
    "            args = (all_weeks, similar_weeks, owners, matchup_to_roster_id, matchups, owners_points, total_records, ranking_counts, num_sims_per_process)\n",
    "        )\n",
    "        process.start()\n",
    "        processes.append(process)\n",
    "\n",
    "    for process in processes:\n",
    "        process.join()\n",
    "\n",
    "tot_rec = {username: pd.Series(list(lst), index = range(1,13)) \n",
    "           for username, lst in dict(total_records).items()}\n",
    "\n",
    "records_df = (pd.DataFrame(tot_rec)\n",
    "              .transpose()\n",
    "              .sort_values(by = list(range(1,13)), ascending = False))\n",
    "\n",
    "playoffs_df = (pd.DataFrame(dict(ranking_counts), index = [\"Count\"])\n",
    "               .transpose()\n",
    "               .reset_index()\n",
    "               .query(\"Count > 0\")\n",
    "               .rename(columns={'level_0': 1, 'level_1': 2, 'level_2': 3,\n",
    "                                'level_3': 4, 'level_4': 5, 'level_5': 6,\n",
    "                                'level_6': 7, 'level_7': 8, 'level_8': 9,\n",
    "                                'level_9': 10, 'level_10': 11, 'level_11': 12})\n",
    "               .sort_values(by = 'Count', ascending = False))\n",
    "\n",
    "records_df.to_csv(f'{YEAR}_{total_sims}_simulated_records.csv',\n",
    "                   index_label = 'username')\n",
    "\n",
    "playoffs_df.to_csv(f'{YEAR}_{total_sims}_simulated_playoffs.csv',\n",
    "                    index = False)"
   ]
  },
  {
   "cell_type": "code",
   "execution_count": null,
   "metadata": {},
   "outputs": [],
   "source": [
    "playoffs_df"
   ]
  },
  {
   "cell_type": "code",
   "execution_count": 16,
   "metadata": {},
   "outputs": [],
   "source": [
    "# Reads previously stored simulated records\n",
    "records_df = pd.read_csv(f'{YEAR}_{total_sims}_simulated_records.csv', \n",
    "                         index_col=\"username\")\n",
    "playoffs_df = pd.read_csv(f'{YEAR}_{total_sims}_simulated_playoffs.csv', \n",
    "                          index_col = False)\n",
    "\n",
    "records_df_prop = records_df / (total_sims / 100)\n",
    "records_df_count = records_df"
   ]
  },
  {
   "cell_type": "code",
   "execution_count": 17,
   "metadata": {},
   "outputs": [
    {
     "data": {
      "text/html": [
       "<div>\n",
       "<style scoped>\n",
       "    .dataframe tbody tr th:only-of-type {\n",
       "        vertical-align: middle;\n",
       "    }\n",
       "\n",
       "    .dataframe tbody tr th {\n",
       "        vertical-align: top;\n",
       "    }\n",
       "\n",
       "    .dataframe thead th {\n",
       "        text-align: right;\n",
       "    }\n",
       "</style>\n",
       "<table border=\"1\" class=\"dataframe\">\n",
       "  <thead>\n",
       "    <tr style=\"text-align: right;\">\n",
       "      <th></th>\n",
       "      <th>rank</th>\n",
       "    </tr>\n",
       "  </thead>\n",
       "  <tbody>\n",
       "    <tr>\n",
       "      <th>pacc</th>\n",
       "      <td>1</td>\n",
       "    </tr>\n",
       "    <tr>\n",
       "      <th>thezirconisdragon</th>\n",
       "      <td>2</td>\n",
       "    </tr>\n",
       "    <tr>\n",
       "      <th>herbietime</th>\n",
       "      <td>3</td>\n",
       "    </tr>\n",
       "    <tr>\n",
       "      <th>alecwilson</th>\n",
       "      <td>4</td>\n",
       "    </tr>\n",
       "    <tr>\n",
       "      <th>empireyikesback</th>\n",
       "      <td>5</td>\n",
       "    </tr>\n",
       "    <tr>\n",
       "      <th>burgertownthicnred</th>\n",
       "      <td>6</td>\n",
       "    </tr>\n",
       "    <tr>\n",
       "      <th>therealfergus</th>\n",
       "      <td>7</td>\n",
       "    </tr>\n",
       "    <tr>\n",
       "      <th>mackjyers21</th>\n",
       "      <td>8</td>\n",
       "    </tr>\n",
       "    <tr>\n",
       "      <th>shakylegs</th>\n",
       "      <td>9</td>\n",
       "    </tr>\n",
       "    <tr>\n",
       "      <th>tonygordzilla22</th>\n",
       "      <td>10</td>\n",
       "    </tr>\n",
       "    <tr>\n",
       "      <th>black8yellownation</th>\n",
       "      <td>11</td>\n",
       "    </tr>\n",
       "    <tr>\n",
       "      <th>namebrant</th>\n",
       "      <td>12</td>\n",
       "    </tr>\n",
       "  </tbody>\n",
       "</table>\n",
       "</div>"
      ],
      "text/plain": [
       "                    rank\n",
       "pacc                   1\n",
       "thezirconisdragon      2\n",
       "herbietime             3\n",
       "alecwilson             4\n",
       "empireyikesback        5\n",
       "burgertownthicnred     6\n",
       "therealfergus          7\n",
       "mackjyers21            8\n",
       "shakylegs              9\n",
       "tonygordzilla22       10\n",
       "black8yellownation    11\n",
       "namebrant             12"
      ]
     },
     "execution_count": 17,
     "metadata": {},
     "output_type": "execute_result"
    }
   ],
   "source": [
    "# Stores the true season ranks\n",
    "season_ranks = get_ranking(season_schedule, owners, matchup_to_roster_id, matchups, owners_points)\n",
    "pd.DataFrame(season_ranks)"
   ]
  },
  {
   "cell_type": "code",
   "execution_count": 300,
   "metadata": {},
   "outputs": [
    {
     "data": {
      "text/html": [
       "<div>\n",
       "<style scoped>\n",
       "    .dataframe tbody tr th:only-of-type {\n",
       "        vertical-align: middle;\n",
       "    }\n",
       "\n",
       "    .dataframe tbody tr th {\n",
       "        vertical-align: top;\n",
       "    }\n",
       "\n",
       "    .dataframe thead th {\n",
       "        text-align: right;\n",
       "    }\n",
       "</style>\n",
       "<table border=\"1\" class=\"dataframe\">\n",
       "  <thead>\n",
       "    <tr style=\"text-align: right;\">\n",
       "      <th></th>\n",
       "      <th>1</th>\n",
       "      <th>2</th>\n",
       "      <th>3</th>\n",
       "      <th>4</th>\n",
       "      <th>5</th>\n",
       "      <th>6</th>\n",
       "      <th>7</th>\n",
       "      <th>8</th>\n",
       "      <th>9</th>\n",
       "      <th>10</th>\n",
       "      <th>11</th>\n",
       "      <th>12</th>\n",
       "    </tr>\n",
       "    <tr>\n",
       "      <th>username</th>\n",
       "      <th></th>\n",
       "      <th></th>\n",
       "      <th></th>\n",
       "      <th></th>\n",
       "      <th></th>\n",
       "      <th></th>\n",
       "      <th></th>\n",
       "      <th></th>\n",
       "      <th></th>\n",
       "      <th></th>\n",
       "      <th></th>\n",
       "      <th></th>\n",
       "    </tr>\n",
       "  </thead>\n",
       "  <tbody>\n",
       "    <tr>\n",
       "      <th>herbietime</th>\n",
       "      <td>5191110</td>\n",
       "      <td>2466258</td>\n",
       "      <td>1263125</td>\n",
       "      <td>638384</td>\n",
       "      <td>281700</td>\n",
       "      <td>108655</td>\n",
       "      <td>38014</td>\n",
       "      <td>10242</td>\n",
       "      <td>2192</td>\n",
       "      <td>300</td>\n",
       "      <td>20</td>\n",
       "      <td>0</td>\n",
       "    </tr>\n",
       "    <tr>\n",
       "      <th>thezirconisdragon</th>\n",
       "      <td>2074697</td>\n",
       "      <td>2171155</td>\n",
       "      <td>2116925</td>\n",
       "      <td>1910464</td>\n",
       "      <td>908055</td>\n",
       "      <td>432684</td>\n",
       "      <td>211870</td>\n",
       "      <td>104144</td>\n",
       "      <td>44943</td>\n",
       "      <td>18354</td>\n",
       "      <td>6032</td>\n",
       "      <td>677</td>\n",
       "    </tr>\n",
       "    <tr>\n",
       "      <th>pacc</th>\n",
       "      <td>1301049</td>\n",
       "      <td>2361512</td>\n",
       "      <td>2587268</td>\n",
       "      <td>2017290</td>\n",
       "      <td>952164</td>\n",
       "      <td>439508</td>\n",
       "      <td>200778</td>\n",
       "      <td>89029</td>\n",
       "      <td>34619</td>\n",
       "      <td>12850</td>\n",
       "      <td>3618</td>\n",
       "      <td>315</td>\n",
       "    </tr>\n",
       "    <tr>\n",
       "      <th>alecwilson</th>\n",
       "      <td>1209358</td>\n",
       "      <td>2309450</td>\n",
       "      <td>2423388</td>\n",
       "      <td>2001998</td>\n",
       "      <td>1123941</td>\n",
       "      <td>556264</td>\n",
       "      <td>243843</td>\n",
       "      <td>95928</td>\n",
       "      <td>28520</td>\n",
       "      <td>6519</td>\n",
       "      <td>771</td>\n",
       "      <td>20</td>\n",
       "    </tr>\n",
       "    <tr>\n",
       "      <th>empireyikesback</th>\n",
       "      <td>100340</td>\n",
       "      <td>300327</td>\n",
       "      <td>652351</td>\n",
       "      <td>1275076</td>\n",
       "      <td>2215778</td>\n",
       "      <td>2300439</td>\n",
       "      <td>1551716</td>\n",
       "      <td>906495</td>\n",
       "      <td>443471</td>\n",
       "      <td>187408</td>\n",
       "      <td>59043</td>\n",
       "      <td>7556</td>\n",
       "    </tr>\n",
       "    <tr>\n",
       "      <th>therealfergus</th>\n",
       "      <td>79027</td>\n",
       "      <td>231050</td>\n",
       "      <td>524234</td>\n",
       "      <td>1112273</td>\n",
       "      <td>2232044</td>\n",
       "      <td>2101218</td>\n",
       "      <td>1603096</td>\n",
       "      <td>1077066</td>\n",
       "      <td>611100</td>\n",
       "      <td>301181</td>\n",
       "      <td>112416</td>\n",
       "      <td>15295</td>\n",
       "    </tr>\n",
       "    <tr>\n",
       "      <th>mackjyers21</th>\n",
       "      <td>29770</td>\n",
       "      <td>97803</td>\n",
       "      <td>239929</td>\n",
       "      <td>529663</td>\n",
       "      <td>1024433</td>\n",
       "      <td>1574398</td>\n",
       "      <td>2006172</td>\n",
       "      <td>2136204</td>\n",
       "      <td>1266054</td>\n",
       "      <td>688986</td>\n",
       "      <td>334023</td>\n",
       "      <td>72565</td>\n",
       "    </tr>\n",
       "    <tr>\n",
       "      <th>burgertownthicnred</th>\n",
       "      <td>12441</td>\n",
       "      <td>50768</td>\n",
       "      <td>148201</td>\n",
       "      <td>374902</td>\n",
       "      <td>863380</td>\n",
       "      <td>1594773</td>\n",
       "      <td>2346878</td>\n",
       "      <td>2212003</td>\n",
       "      <td>1351781</td>\n",
       "      <td>705852</td>\n",
       "      <td>291124</td>\n",
       "      <td>47897</td>\n",
       "    </tr>\n",
       "    <tr>\n",
       "      <th>shakylegs</th>\n",
       "      <td>1832</td>\n",
       "      <td>8321</td>\n",
       "      <td>27895</td>\n",
       "      <td>79198</td>\n",
       "      <td>204288</td>\n",
       "      <td>428686</td>\n",
       "      <td>818694</td>\n",
       "      <td>1486333</td>\n",
       "      <td>2669906</td>\n",
       "      <td>2335301</td>\n",
       "      <td>1514670</td>\n",
       "      <td>424876</td>\n",
       "    </tr>\n",
       "    <tr>\n",
       "      <th>namebrant</th>\n",
       "      <td>340</td>\n",
       "      <td>2944</td>\n",
       "      <td>13802</td>\n",
       "      <td>46325</td>\n",
       "      <td>136744</td>\n",
       "      <td>302059</td>\n",
       "      <td>591635</td>\n",
       "      <td>1072327</td>\n",
       "      <td>1910769</td>\n",
       "      <td>2822535</td>\n",
       "      <td>2315996</td>\n",
       "      <td>784524</td>\n",
       "    </tr>\n",
       "    <tr>\n",
       "      <th>tonygordzilla22</th>\n",
       "      <td>36</td>\n",
       "      <td>403</td>\n",
       "      <td>2825</td>\n",
       "      <td>14000</td>\n",
       "      <td>54992</td>\n",
       "      <td>151888</td>\n",
       "      <td>361161</td>\n",
       "      <td>736419</td>\n",
       "      <td>1446341</td>\n",
       "      <td>2425927</td>\n",
       "      <td>3904713</td>\n",
       "      <td>901295</td>\n",
       "    </tr>\n",
       "    <tr>\n",
       "      <th>black8yellownation</th>\n",
       "      <td>0</td>\n",
       "      <td>9</td>\n",
       "      <td>57</td>\n",
       "      <td>427</td>\n",
       "      <td>2481</td>\n",
       "      <td>9428</td>\n",
       "      <td>26143</td>\n",
       "      <td>73810</td>\n",
       "      <td>190304</td>\n",
       "      <td>494787</td>\n",
       "      <td>1457574</td>\n",
       "      <td>7744980</td>\n",
       "    </tr>\n",
       "  </tbody>\n",
       "</table>\n",
       "</div>"
      ],
      "text/plain": [
       "                          1        2        3        4        5        6  \\\n",
       "username                                                                   \n",
       "herbietime          5191110  2466258  1263125   638384   281700   108655   \n",
       "thezirconisdragon   2074697  2171155  2116925  1910464   908055   432684   \n",
       "pacc                1301049  2361512  2587268  2017290   952164   439508   \n",
       "alecwilson          1209358  2309450  2423388  2001998  1123941   556264   \n",
       "empireyikesback      100340   300327   652351  1275076  2215778  2300439   \n",
       "therealfergus         79027   231050   524234  1112273  2232044  2101218   \n",
       "mackjyers21           29770    97803   239929   529663  1024433  1574398   \n",
       "burgertownthicnred    12441    50768   148201   374902   863380  1594773   \n",
       "shakylegs              1832     8321    27895    79198   204288   428686   \n",
       "namebrant               340     2944    13802    46325   136744   302059   \n",
       "tonygordzilla22          36      403     2825    14000    54992   151888   \n",
       "black8yellownation        0        9       57      427     2481     9428   \n",
       "\n",
       "                          7        8        9       10       11       12  \n",
       "username                                                                  \n",
       "herbietime            38014    10242     2192      300       20        0  \n",
       "thezirconisdragon    211870   104144    44943    18354     6032      677  \n",
       "pacc                 200778    89029    34619    12850     3618      315  \n",
       "alecwilson           243843    95928    28520     6519      771       20  \n",
       "empireyikesback     1551716   906495   443471   187408    59043     7556  \n",
       "therealfergus       1603096  1077066   611100   301181   112416    15295  \n",
       "mackjyers21         2006172  2136204  1266054   688986   334023    72565  \n",
       "burgertownthicnred  2346878  2212003  1351781   705852   291124    47897  \n",
       "shakylegs            818694  1486333  2669906  2335301  1514670   424876  \n",
       "namebrant            591635  1072327  1910769  2822535  2315996   784524  \n",
       "tonygordzilla22      361161   736419  1446341  2425927  3904713   901295  \n",
       "black8yellownation    26143    73810   190304   494787  1457574  7744980  "
      ]
     },
     "execution_count": 300,
     "metadata": {},
     "output_type": "execute_result"
    }
   ],
   "source": [
    "records_df_count"
   ]
  },
  {
   "cell_type": "code",
   "execution_count": 18,
   "metadata": {},
   "outputs": [
    {
     "data": {
      "text/html": [
       "<style type=\"text/css\">\n",
       "#T_8d0e4_row0_col2, #T_8d0e4_row1_col1, #T_8d0e4_row2_col0, #T_8d0e4_row3_col3, #T_8d0e4_row4_col4, #T_8d0e4_row5_col6, #T_8d0e4_row6_col7, #T_8d0e4_row7_col5, #T_8d0e4_row8_col8, #T_8d0e4_row9_col11, #T_8d0e4_row10_col9, #T_8d0e4_row11_col10 {\n",
       "  color: red;\n",
       "}\n",
       "</style>\n",
       "<table id=\"T_8d0e4\">\n",
       "  <thead>\n",
       "    <tr>\n",
       "      <th class=\"blank level0\" >&nbsp;</th>\n",
       "      <th id=\"T_8d0e4_level0_col0\" class=\"col_heading level0 col0\" >1</th>\n",
       "      <th id=\"T_8d0e4_level0_col1\" class=\"col_heading level0 col1\" >2</th>\n",
       "      <th id=\"T_8d0e4_level0_col2\" class=\"col_heading level0 col2\" >3</th>\n",
       "      <th id=\"T_8d0e4_level0_col3\" class=\"col_heading level0 col3\" >4</th>\n",
       "      <th id=\"T_8d0e4_level0_col4\" class=\"col_heading level0 col4\" >5</th>\n",
       "      <th id=\"T_8d0e4_level0_col5\" class=\"col_heading level0 col5\" >6</th>\n",
       "      <th id=\"T_8d0e4_level0_col6\" class=\"col_heading level0 col6\" >7</th>\n",
       "      <th id=\"T_8d0e4_level0_col7\" class=\"col_heading level0 col7\" >8</th>\n",
       "      <th id=\"T_8d0e4_level0_col8\" class=\"col_heading level0 col8\" >9</th>\n",
       "      <th id=\"T_8d0e4_level0_col9\" class=\"col_heading level0 col9\" >10</th>\n",
       "      <th id=\"T_8d0e4_level0_col10\" class=\"col_heading level0 col10\" >11</th>\n",
       "      <th id=\"T_8d0e4_level0_col11\" class=\"col_heading level0 col11\" >12</th>\n",
       "    </tr>\n",
       "    <tr>\n",
       "      <th class=\"index_name level0\" >username</th>\n",
       "      <th class=\"blank col0\" >&nbsp;</th>\n",
       "      <th class=\"blank col1\" >&nbsp;</th>\n",
       "      <th class=\"blank col2\" >&nbsp;</th>\n",
       "      <th class=\"blank col3\" >&nbsp;</th>\n",
       "      <th class=\"blank col4\" >&nbsp;</th>\n",
       "      <th class=\"blank col5\" >&nbsp;</th>\n",
       "      <th class=\"blank col6\" >&nbsp;</th>\n",
       "      <th class=\"blank col7\" >&nbsp;</th>\n",
       "      <th class=\"blank col8\" >&nbsp;</th>\n",
       "      <th class=\"blank col9\" >&nbsp;</th>\n",
       "      <th class=\"blank col10\" >&nbsp;</th>\n",
       "      <th class=\"blank col11\" >&nbsp;</th>\n",
       "    </tr>\n",
       "  </thead>\n",
       "  <tbody>\n",
       "    <tr>\n",
       "      <th id=\"T_8d0e4_level0_row0\" class=\"row_heading level0 row0\" >herbietime</th>\n",
       "      <td id=\"T_8d0e4_row0_col0\" class=\"data row0 col0\" >51.9111</td>\n",
       "      <td id=\"T_8d0e4_row0_col1\" class=\"data row0 col1\" >24.66258</td>\n",
       "      <td id=\"T_8d0e4_row0_col2\" class=\"data row0 col2\" >12.63125</td>\n",
       "      <td id=\"T_8d0e4_row0_col3\" class=\"data row0 col3\" >6.38384</td>\n",
       "      <td id=\"T_8d0e4_row0_col4\" class=\"data row0 col4\" >2.817</td>\n",
       "      <td id=\"T_8d0e4_row0_col5\" class=\"data row0 col5\" >1.08655</td>\n",
       "      <td id=\"T_8d0e4_row0_col6\" class=\"data row0 col6\" >0.38014</td>\n",
       "      <td id=\"T_8d0e4_row0_col7\" class=\"data row0 col7\" >0.10242</td>\n",
       "      <td id=\"T_8d0e4_row0_col8\" class=\"data row0 col8\" >0.02192</td>\n",
       "      <td id=\"T_8d0e4_row0_col9\" class=\"data row0 col9\" >0.003</td>\n",
       "      <td id=\"T_8d0e4_row0_col10\" class=\"data row0 col10\" >0.0002</td>\n",
       "      <td id=\"T_8d0e4_row0_col11\" class=\"data row0 col11\" >0.0</td>\n",
       "    </tr>\n",
       "    <tr>\n",
       "      <th id=\"T_8d0e4_level0_row1\" class=\"row_heading level0 row1\" >thezirconisdragon</th>\n",
       "      <td id=\"T_8d0e4_row1_col0\" class=\"data row1 col0\" >20.74697</td>\n",
       "      <td id=\"T_8d0e4_row1_col1\" class=\"data row1 col1\" >21.71155</td>\n",
       "      <td id=\"T_8d0e4_row1_col2\" class=\"data row1 col2\" >21.16925</td>\n",
       "      <td id=\"T_8d0e4_row1_col3\" class=\"data row1 col3\" >19.10464</td>\n",
       "      <td id=\"T_8d0e4_row1_col4\" class=\"data row1 col4\" >9.08055</td>\n",
       "      <td id=\"T_8d0e4_row1_col5\" class=\"data row1 col5\" >4.32684</td>\n",
       "      <td id=\"T_8d0e4_row1_col6\" class=\"data row1 col6\" >2.1187</td>\n",
       "      <td id=\"T_8d0e4_row1_col7\" class=\"data row1 col7\" >1.04144</td>\n",
       "      <td id=\"T_8d0e4_row1_col8\" class=\"data row1 col8\" >0.44943</td>\n",
       "      <td id=\"T_8d0e4_row1_col9\" class=\"data row1 col9\" >0.18354</td>\n",
       "      <td id=\"T_8d0e4_row1_col10\" class=\"data row1 col10\" >0.06032</td>\n",
       "      <td id=\"T_8d0e4_row1_col11\" class=\"data row1 col11\" >0.00677</td>\n",
       "    </tr>\n",
       "    <tr>\n",
       "      <th id=\"T_8d0e4_level0_row2\" class=\"row_heading level0 row2\" >pacc</th>\n",
       "      <td id=\"T_8d0e4_row2_col0\" class=\"data row2 col0\" >13.01049</td>\n",
       "      <td id=\"T_8d0e4_row2_col1\" class=\"data row2 col1\" >23.61512</td>\n",
       "      <td id=\"T_8d0e4_row2_col2\" class=\"data row2 col2\" >25.87268</td>\n",
       "      <td id=\"T_8d0e4_row2_col3\" class=\"data row2 col3\" >20.1729</td>\n",
       "      <td id=\"T_8d0e4_row2_col4\" class=\"data row2 col4\" >9.52164</td>\n",
       "      <td id=\"T_8d0e4_row2_col5\" class=\"data row2 col5\" >4.39508</td>\n",
       "      <td id=\"T_8d0e4_row2_col6\" class=\"data row2 col6\" >2.00778</td>\n",
       "      <td id=\"T_8d0e4_row2_col7\" class=\"data row2 col7\" >0.89029</td>\n",
       "      <td id=\"T_8d0e4_row2_col8\" class=\"data row2 col8\" >0.34619</td>\n",
       "      <td id=\"T_8d0e4_row2_col9\" class=\"data row2 col9\" >0.1285</td>\n",
       "      <td id=\"T_8d0e4_row2_col10\" class=\"data row2 col10\" >0.03618</td>\n",
       "      <td id=\"T_8d0e4_row2_col11\" class=\"data row2 col11\" >0.00315</td>\n",
       "    </tr>\n",
       "    <tr>\n",
       "      <th id=\"T_8d0e4_level0_row3\" class=\"row_heading level0 row3\" >alecwilson</th>\n",
       "      <td id=\"T_8d0e4_row3_col0\" class=\"data row3 col0\" >12.09358</td>\n",
       "      <td id=\"T_8d0e4_row3_col1\" class=\"data row3 col1\" >23.0945</td>\n",
       "      <td id=\"T_8d0e4_row3_col2\" class=\"data row3 col2\" >24.23388</td>\n",
       "      <td id=\"T_8d0e4_row3_col3\" class=\"data row3 col3\" >20.01998</td>\n",
       "      <td id=\"T_8d0e4_row3_col4\" class=\"data row3 col4\" >11.23941</td>\n",
       "      <td id=\"T_8d0e4_row3_col5\" class=\"data row3 col5\" >5.56264</td>\n",
       "      <td id=\"T_8d0e4_row3_col6\" class=\"data row3 col6\" >2.43843</td>\n",
       "      <td id=\"T_8d0e4_row3_col7\" class=\"data row3 col7\" >0.95928</td>\n",
       "      <td id=\"T_8d0e4_row3_col8\" class=\"data row3 col8\" >0.2852</td>\n",
       "      <td id=\"T_8d0e4_row3_col9\" class=\"data row3 col9\" >0.06519</td>\n",
       "      <td id=\"T_8d0e4_row3_col10\" class=\"data row3 col10\" >0.00771</td>\n",
       "      <td id=\"T_8d0e4_row3_col11\" class=\"data row3 col11\" >0.0002</td>\n",
       "    </tr>\n",
       "    <tr>\n",
       "      <th id=\"T_8d0e4_level0_row4\" class=\"row_heading level0 row4\" >empireyikesback</th>\n",
       "      <td id=\"T_8d0e4_row4_col0\" class=\"data row4 col0\" >1.0034</td>\n",
       "      <td id=\"T_8d0e4_row4_col1\" class=\"data row4 col1\" >3.00327</td>\n",
       "      <td id=\"T_8d0e4_row4_col2\" class=\"data row4 col2\" >6.52351</td>\n",
       "      <td id=\"T_8d0e4_row4_col3\" class=\"data row4 col3\" >12.75076</td>\n",
       "      <td id=\"T_8d0e4_row4_col4\" class=\"data row4 col4\" >22.15778</td>\n",
       "      <td id=\"T_8d0e4_row4_col5\" class=\"data row4 col5\" >23.00439</td>\n",
       "      <td id=\"T_8d0e4_row4_col6\" class=\"data row4 col6\" >15.51716</td>\n",
       "      <td id=\"T_8d0e4_row4_col7\" class=\"data row4 col7\" >9.06495</td>\n",
       "      <td id=\"T_8d0e4_row4_col8\" class=\"data row4 col8\" >4.43471</td>\n",
       "      <td id=\"T_8d0e4_row4_col9\" class=\"data row4 col9\" >1.87408</td>\n",
       "      <td id=\"T_8d0e4_row4_col10\" class=\"data row4 col10\" >0.59043</td>\n",
       "      <td id=\"T_8d0e4_row4_col11\" class=\"data row4 col11\" >0.07556</td>\n",
       "    </tr>\n",
       "    <tr>\n",
       "      <th id=\"T_8d0e4_level0_row5\" class=\"row_heading level0 row5\" >therealfergus</th>\n",
       "      <td id=\"T_8d0e4_row5_col0\" class=\"data row5 col0\" >0.79027</td>\n",
       "      <td id=\"T_8d0e4_row5_col1\" class=\"data row5 col1\" >2.3105</td>\n",
       "      <td id=\"T_8d0e4_row5_col2\" class=\"data row5 col2\" >5.24234</td>\n",
       "      <td id=\"T_8d0e4_row5_col3\" class=\"data row5 col3\" >11.12273</td>\n",
       "      <td id=\"T_8d0e4_row5_col4\" class=\"data row5 col4\" >22.32044</td>\n",
       "      <td id=\"T_8d0e4_row5_col5\" class=\"data row5 col5\" >21.01218</td>\n",
       "      <td id=\"T_8d0e4_row5_col6\" class=\"data row5 col6\" >16.03096</td>\n",
       "      <td id=\"T_8d0e4_row5_col7\" class=\"data row5 col7\" >10.77066</td>\n",
       "      <td id=\"T_8d0e4_row5_col8\" class=\"data row5 col8\" >6.111</td>\n",
       "      <td id=\"T_8d0e4_row5_col9\" class=\"data row5 col9\" >3.01181</td>\n",
       "      <td id=\"T_8d0e4_row5_col10\" class=\"data row5 col10\" >1.12416</td>\n",
       "      <td id=\"T_8d0e4_row5_col11\" class=\"data row5 col11\" >0.15295</td>\n",
       "    </tr>\n",
       "    <tr>\n",
       "      <th id=\"T_8d0e4_level0_row6\" class=\"row_heading level0 row6\" >mackjyers21</th>\n",
       "      <td id=\"T_8d0e4_row6_col0\" class=\"data row6 col0\" >0.2977</td>\n",
       "      <td id=\"T_8d0e4_row6_col1\" class=\"data row6 col1\" >0.97803</td>\n",
       "      <td id=\"T_8d0e4_row6_col2\" class=\"data row6 col2\" >2.39929</td>\n",
       "      <td id=\"T_8d0e4_row6_col3\" class=\"data row6 col3\" >5.29663</td>\n",
       "      <td id=\"T_8d0e4_row6_col4\" class=\"data row6 col4\" >10.24433</td>\n",
       "      <td id=\"T_8d0e4_row6_col5\" class=\"data row6 col5\" >15.74398</td>\n",
       "      <td id=\"T_8d0e4_row6_col6\" class=\"data row6 col6\" >20.06172</td>\n",
       "      <td id=\"T_8d0e4_row6_col7\" class=\"data row6 col7\" >21.36204</td>\n",
       "      <td id=\"T_8d0e4_row6_col8\" class=\"data row6 col8\" >12.66054</td>\n",
       "      <td id=\"T_8d0e4_row6_col9\" class=\"data row6 col9\" >6.88986</td>\n",
       "      <td id=\"T_8d0e4_row6_col10\" class=\"data row6 col10\" >3.34023</td>\n",
       "      <td id=\"T_8d0e4_row6_col11\" class=\"data row6 col11\" >0.72565</td>\n",
       "    </tr>\n",
       "    <tr>\n",
       "      <th id=\"T_8d0e4_level0_row7\" class=\"row_heading level0 row7\" >burgertownthicnred</th>\n",
       "      <td id=\"T_8d0e4_row7_col0\" class=\"data row7 col0\" >0.12441</td>\n",
       "      <td id=\"T_8d0e4_row7_col1\" class=\"data row7 col1\" >0.50768</td>\n",
       "      <td id=\"T_8d0e4_row7_col2\" class=\"data row7 col2\" >1.48201</td>\n",
       "      <td id=\"T_8d0e4_row7_col3\" class=\"data row7 col3\" >3.74902</td>\n",
       "      <td id=\"T_8d0e4_row7_col4\" class=\"data row7 col4\" >8.6338</td>\n",
       "      <td id=\"T_8d0e4_row7_col5\" class=\"data row7 col5\" >15.94773</td>\n",
       "      <td id=\"T_8d0e4_row7_col6\" class=\"data row7 col6\" >23.46878</td>\n",
       "      <td id=\"T_8d0e4_row7_col7\" class=\"data row7 col7\" >22.12003</td>\n",
       "      <td id=\"T_8d0e4_row7_col8\" class=\"data row7 col8\" >13.51781</td>\n",
       "      <td id=\"T_8d0e4_row7_col9\" class=\"data row7 col9\" >7.05852</td>\n",
       "      <td id=\"T_8d0e4_row7_col10\" class=\"data row7 col10\" >2.91124</td>\n",
       "      <td id=\"T_8d0e4_row7_col11\" class=\"data row7 col11\" >0.47897</td>\n",
       "    </tr>\n",
       "    <tr>\n",
       "      <th id=\"T_8d0e4_level0_row8\" class=\"row_heading level0 row8\" >shakylegs</th>\n",
       "      <td id=\"T_8d0e4_row8_col0\" class=\"data row8 col0\" >0.01832</td>\n",
       "      <td id=\"T_8d0e4_row8_col1\" class=\"data row8 col1\" >0.08321</td>\n",
       "      <td id=\"T_8d0e4_row8_col2\" class=\"data row8 col2\" >0.27895</td>\n",
       "      <td id=\"T_8d0e4_row8_col3\" class=\"data row8 col3\" >0.79198</td>\n",
       "      <td id=\"T_8d0e4_row8_col4\" class=\"data row8 col4\" >2.04288</td>\n",
       "      <td id=\"T_8d0e4_row8_col5\" class=\"data row8 col5\" >4.28686</td>\n",
       "      <td id=\"T_8d0e4_row8_col6\" class=\"data row8 col6\" >8.18694</td>\n",
       "      <td id=\"T_8d0e4_row8_col7\" class=\"data row8 col7\" >14.86333</td>\n",
       "      <td id=\"T_8d0e4_row8_col8\" class=\"data row8 col8\" >26.69906</td>\n",
       "      <td id=\"T_8d0e4_row8_col9\" class=\"data row8 col9\" >23.35301</td>\n",
       "      <td id=\"T_8d0e4_row8_col10\" class=\"data row8 col10\" >15.1467</td>\n",
       "      <td id=\"T_8d0e4_row8_col11\" class=\"data row8 col11\" >4.24876</td>\n",
       "    </tr>\n",
       "    <tr>\n",
       "      <th id=\"T_8d0e4_level0_row9\" class=\"row_heading level0 row9\" >namebrant</th>\n",
       "      <td id=\"T_8d0e4_row9_col0\" class=\"data row9 col0\" >0.0034</td>\n",
       "      <td id=\"T_8d0e4_row9_col1\" class=\"data row9 col1\" >0.02944</td>\n",
       "      <td id=\"T_8d0e4_row9_col2\" class=\"data row9 col2\" >0.13802</td>\n",
       "      <td id=\"T_8d0e4_row9_col3\" class=\"data row9 col3\" >0.46325</td>\n",
       "      <td id=\"T_8d0e4_row9_col4\" class=\"data row9 col4\" >1.36744</td>\n",
       "      <td id=\"T_8d0e4_row9_col5\" class=\"data row9 col5\" >3.02059</td>\n",
       "      <td id=\"T_8d0e4_row9_col6\" class=\"data row9 col6\" >5.91635</td>\n",
       "      <td id=\"T_8d0e4_row9_col7\" class=\"data row9 col7\" >10.72327</td>\n",
       "      <td id=\"T_8d0e4_row9_col8\" class=\"data row9 col8\" >19.10769</td>\n",
       "      <td id=\"T_8d0e4_row9_col9\" class=\"data row9 col9\" >28.22535</td>\n",
       "      <td id=\"T_8d0e4_row9_col10\" class=\"data row9 col10\" >23.15996</td>\n",
       "      <td id=\"T_8d0e4_row9_col11\" class=\"data row9 col11\" >7.84524</td>\n",
       "    </tr>\n",
       "    <tr>\n",
       "      <th id=\"T_8d0e4_level0_row10\" class=\"row_heading level0 row10\" >tonygordzilla22</th>\n",
       "      <td id=\"T_8d0e4_row10_col0\" class=\"data row10 col0\" >0.00036</td>\n",
       "      <td id=\"T_8d0e4_row10_col1\" class=\"data row10 col1\" >0.00403</td>\n",
       "      <td id=\"T_8d0e4_row10_col2\" class=\"data row10 col2\" >0.02825</td>\n",
       "      <td id=\"T_8d0e4_row10_col3\" class=\"data row10 col3\" >0.14</td>\n",
       "      <td id=\"T_8d0e4_row10_col4\" class=\"data row10 col4\" >0.54992</td>\n",
       "      <td id=\"T_8d0e4_row10_col5\" class=\"data row10 col5\" >1.51888</td>\n",
       "      <td id=\"T_8d0e4_row10_col6\" class=\"data row10 col6\" >3.61161</td>\n",
       "      <td id=\"T_8d0e4_row10_col7\" class=\"data row10 col7\" >7.36419</td>\n",
       "      <td id=\"T_8d0e4_row10_col8\" class=\"data row10 col8\" >14.46341</td>\n",
       "      <td id=\"T_8d0e4_row10_col9\" class=\"data row10 col9\" >24.25927</td>\n",
       "      <td id=\"T_8d0e4_row10_col10\" class=\"data row10 col10\" >39.04713</td>\n",
       "      <td id=\"T_8d0e4_row10_col11\" class=\"data row10 col11\" >9.01295</td>\n",
       "    </tr>\n",
       "    <tr>\n",
       "      <th id=\"T_8d0e4_level0_row11\" class=\"row_heading level0 row11\" >black8yellownation</th>\n",
       "      <td id=\"T_8d0e4_row11_col0\" class=\"data row11 col0\" >0.0</td>\n",
       "      <td id=\"T_8d0e4_row11_col1\" class=\"data row11 col1\" >9e-05</td>\n",
       "      <td id=\"T_8d0e4_row11_col2\" class=\"data row11 col2\" >0.00057</td>\n",
       "      <td id=\"T_8d0e4_row11_col3\" class=\"data row11 col3\" >0.00427</td>\n",
       "      <td id=\"T_8d0e4_row11_col4\" class=\"data row11 col4\" >0.02481</td>\n",
       "      <td id=\"T_8d0e4_row11_col5\" class=\"data row11 col5\" >0.09428</td>\n",
       "      <td id=\"T_8d0e4_row11_col6\" class=\"data row11 col6\" >0.26143</td>\n",
       "      <td id=\"T_8d0e4_row11_col7\" class=\"data row11 col7\" >0.7381</td>\n",
       "      <td id=\"T_8d0e4_row11_col8\" class=\"data row11 col8\" >1.90304</td>\n",
       "      <td id=\"T_8d0e4_row11_col9\" class=\"data row11 col9\" >4.94787</td>\n",
       "      <td id=\"T_8d0e4_row11_col10\" class=\"data row11 col10\" >14.57574</td>\n",
       "      <td id=\"T_8d0e4_row11_col11\" class=\"data row11 col11\" >77.4498</td>\n",
       "    </tr>\n",
       "  </tbody>\n",
       "</table>\n"
      ],
      "text/plain": [
       "<pandas.io.formats.style.Styler at 0x343add590>"
      ]
     },
     "execution_count": 18,
     "metadata": {},
     "output_type": "execute_result"
    }
   ],
   "source": [
    "# Highlights each user's actual ranking from the season in the simulated dataframe\n",
    "def highlight_cells(row):\n",
    "    col_to_highlight = season_ranks[row.name]\n",
    "    return ['color: red' if int(col) == int(col_to_highlight) \n",
    "                            else '' for col in row.index]\n",
    "\n",
    "highlighted_df = records_df_prop.astype(str).style.apply(highlight_cells,\n",
    "                                                          axis = 1)\n",
    "highlighted_df"
   ]
  },
  {
   "cell_type": "code",
   "execution_count": 14,
   "metadata": {},
   "outputs": [
    {
     "data": {
      "text/html": [
       "<div>\n",
       "<style scoped>\n",
       "    .dataframe tbody tr th:only-of-type {\n",
       "        vertical-align: middle;\n",
       "    }\n",
       "\n",
       "    .dataframe tbody tr th {\n",
       "        vertical-align: top;\n",
       "    }\n",
       "\n",
       "    .dataframe thead th {\n",
       "        text-align: right;\n",
       "    }\n",
       "</style>\n",
       "<table border=\"1\" class=\"dataframe\">\n",
       "  <thead>\n",
       "    <tr style=\"text-align: right;\">\n",
       "      <th></th>\n",
       "      <th>username</th>\n",
       "      <th>Better</th>\n",
       "      <th>Equal</th>\n",
       "      <th>Worse</th>\n",
       "      <th>Playoff</th>\n",
       "    </tr>\n",
       "    <tr>\n",
       "      <th>rank</th>\n",
       "      <th></th>\n",
       "      <th></th>\n",
       "      <th></th>\n",
       "      <th></th>\n",
       "      <th></th>\n",
       "    </tr>\n",
       "  </thead>\n",
       "  <tbody>\n",
       "    <tr>\n",
       "      <th>1</th>\n",
       "      <td>pacc</td>\n",
       "      <td>0.00</td>\n",
       "      <td>13.01</td>\n",
       "      <td>86.99</td>\n",
       "      <td>96.59</td>\n",
       "    </tr>\n",
       "    <tr>\n",
       "      <th>2</th>\n",
       "      <td>thezirconisdragon</td>\n",
       "      <td>20.71</td>\n",
       "      <td>21.78</td>\n",
       "      <td>57.51</td>\n",
       "      <td>96.14</td>\n",
       "    </tr>\n",
       "    <tr>\n",
       "      <th>3</th>\n",
       "      <td>herbietime</td>\n",
       "      <td>76.61</td>\n",
       "      <td>12.61</td>\n",
       "      <td>10.78</td>\n",
       "      <td>99.52</td>\n",
       "    </tr>\n",
       "    <tr>\n",
       "      <th>4</th>\n",
       "      <td>alecwilson</td>\n",
       "      <td>59.47</td>\n",
       "      <td>20.05</td>\n",
       "      <td>20.48</td>\n",
       "      <td>96.26</td>\n",
       "    </tr>\n",
       "    <tr>\n",
       "      <th>5</th>\n",
       "      <td>empireyikesback</td>\n",
       "      <td>23.23</td>\n",
       "      <td>22.25</td>\n",
       "      <td>54.51</td>\n",
       "      <td>68.50</td>\n",
       "    </tr>\n",
       "    <tr>\n",
       "      <th>6</th>\n",
       "      <td>burgertownthicnred</td>\n",
       "      <td>14.49</td>\n",
       "      <td>15.96</td>\n",
       "      <td>69.55</td>\n",
       "      <td>30.45</td>\n",
       "    </tr>\n",
       "    <tr>\n",
       "      <th>7</th>\n",
       "      <td>therealfergus</td>\n",
       "      <td>62.76</td>\n",
       "      <td>16.09</td>\n",
       "      <td>21.15</td>\n",
       "      <td>62.76</td>\n",
       "    </tr>\n",
       "    <tr>\n",
       "      <th>8</th>\n",
       "      <td>mackjyers21</td>\n",
       "      <td>55.01</td>\n",
       "      <td>21.39</td>\n",
       "      <td>23.59</td>\n",
       "      <td>34.90</td>\n",
       "    </tr>\n",
       "    <tr>\n",
       "      <th>9</th>\n",
       "      <td>shakylegs</td>\n",
       "      <td>30.40</td>\n",
       "      <td>26.83</td>\n",
       "      <td>42.77</td>\n",
       "      <td>7.47</td>\n",
       "    </tr>\n",
       "    <tr>\n",
       "      <th>10</th>\n",
       "      <td>tonygordzilla22</td>\n",
       "      <td>27.64</td>\n",
       "      <td>24.27</td>\n",
       "      <td>48.09</td>\n",
       "      <td>2.24</td>\n",
       "    </tr>\n",
       "    <tr>\n",
       "      <th>11</th>\n",
       "      <td>black8yellownation</td>\n",
       "      <td>7.98</td>\n",
       "      <td>14.62</td>\n",
       "      <td>77.40</td>\n",
       "      <td>0.12</td>\n",
       "    </tr>\n",
       "    <tr>\n",
       "      <th>12</th>\n",
       "      <td>namebrant</td>\n",
       "      <td>92.17</td>\n",
       "      <td>7.83</td>\n",
       "      <td>0.00</td>\n",
       "      <td>5.04</td>\n",
       "    </tr>\n",
       "  </tbody>\n",
       "</table>\n",
       "</div>"
      ],
      "text/plain": [
       "                username  Better  Equal  Worse  Playoff\n",
       "rank                                                   \n",
       "1                   pacc    0.00  13.01  86.99    96.59\n",
       "2      thezirconisdragon   20.71  21.78  57.51    96.14\n",
       "3             herbietime   76.61  12.61  10.78    99.52\n",
       "4             alecwilson   59.47  20.05  20.48    96.26\n",
       "5        empireyikesback   23.23  22.25  54.51    68.50\n",
       "6     burgertownthicnred   14.49  15.96  69.55    30.45\n",
       "7          therealfergus   62.76  16.09  21.15    62.76\n",
       "8            mackjyers21   55.01  21.39  23.59    34.90\n",
       "9              shakylegs   30.40  26.83  42.77     7.47\n",
       "10       tonygordzilla22   27.64  24.27  48.09     2.24\n",
       "11    black8yellownation    7.98  14.62  77.40     0.12\n",
       "12             namebrant   92.17   7.83   0.00     5.04"
      ]
     },
     "execution_count": 14,
     "metadata": {},
     "output_type": "execute_result"
    }
   ],
   "source": [
    "def get_prob(username, rank, type = \"equal\"):\n",
    "    \"\"\"Gets the probability of a user ranking equal to, worse, or better than \n",
    "    they actually did. Probabilites are taken from the simulated rankings.\n",
    "\n",
    "    Args:\n",
    "        username (str): the username to get the probability ranking\n",
    "        rank (int): the rank to determinge\n",
    "        type (str, optional): Can be \"equal\", \"worse\", or \"better\". For each \n",
    "        option. Defaults to \"equal\".\n",
    "\n",
    "    Returns:\n",
    "        str: The function returns the probability of the given user ranking \n",
    "        equal/better/or worse than the passed rank. Probabilities are taken from\n",
    "        the simulated records dataframe.\n",
    "    \"\"\"\n",
    "    user_ix = records_df_prop.index.get_loc(username)\n",
    "    if type == \"equal\":\n",
    "        return records_df_prop.iloc[user_ix, rank-1]\n",
    "    elif type == \"worse\":\n",
    "        return records_df_prop.iloc[user_ix, rank:].sum()\n",
    "    elif type == \"better\":\n",
    "        return records_df_prop.iloc[user_ix, :rank-1].sum()\n",
    "    elif type == \"playoff\":\n",
    "        return records_df_prop.iloc[user_ix, :6].sum()\n",
    "\n",
    "# Gets the probability dictionaries of worse/equal/better for each user\n",
    "probs_worse = {username: get_prob(username, rank, type = \"worse\") for (username, rank) in season_ranks.items()}\n",
    "probs_better = {username: get_prob(username, rank, type = \"better\") for (username, rank) in season_ranks.items()}\n",
    "probs_equal = {username: get_prob(username, rank, type = \"equal\") for (username, rank) in season_ranks.items()}\n",
    "probs_playoff = {username: get_prob(username, rank, type = \"playoff\") for (username, rank) in season_ranks.items()}\n",
    "\n",
    "# Stores the probabilites of each user's ranking for the season\n",
    "season_probs = (pd.DataFrame(season_ranks)\n",
    "                .assign(Better = pd.Series(probs_better))\n",
    "                .assign(Equal = pd.Series(probs_equal))\n",
    "                .assign(Worse = pd.Series(probs_worse))\n",
    "                .assign(Playoff = pd.Series(probs_playoff))\n",
    "                .reset_index(names=\"username\")\n",
    "                .set_index(\"rank\")\n",
    "                .round(2))\n",
    "season_probs"
   ]
  },
  {
   "cell_type": "code",
   "execution_count": 20,
   "metadata": {},
   "outputs": [
    {
     "data": {
      "application/vnd.plotly.v1+json": {
       "config": {
        "plotlyServerURL": "https://plot.ly"
       },
       "data": [
        {
         "alignmentgroup": "True",
         "hovertemplate": " =Better<br>username=%{x}<br>Chance %=%{y}<extra></extra>",
         "legendgroup": "Better",
         "marker": {
          "color": "#2CA02C",
          "pattern": {
           "shape": ""
          }
         },
         "name": "Better",
         "offsetgroup": "Better",
         "orientation": "v",
         "showlegend": true,
         "textposition": "auto",
         "type": "bar",
         "x": [
          "pacc",
          "thezirconisdragon",
          "herbietime",
          "alecwilson",
          "empireyikesback",
          "burgertownthicnred",
          "therealfergus",
          "mackjyers21",
          "shakylegs",
          "tonygordzilla22",
          "black8yellownation",
          "namebrant"
         ],
         "xaxis": "x",
         "y": [
          0,
          20.71,
          76.61,
          59.47,
          23.23,
          14.49,
          62.76,
          55.01,
          30.4,
          27.64,
          7.98,
          92.17
         ],
         "yaxis": "y"
        },
        {
         "alignmentgroup": "True",
         "hovertemplate": " =Equal<br>username=%{x}<br>Chance %=%{y}<extra></extra>",
         "legendgroup": "Equal",
         "marker": {
          "color": "#FF7F0E",
          "pattern": {
           "shape": ""
          }
         },
         "name": "Equal",
         "offsetgroup": "Equal",
         "orientation": "v",
         "showlegend": true,
         "textposition": "auto",
         "type": "bar",
         "x": [
          "pacc",
          "thezirconisdragon",
          "herbietime",
          "alecwilson",
          "empireyikesback",
          "burgertownthicnred",
          "therealfergus",
          "mackjyers21",
          "shakylegs",
          "tonygordzilla22",
          "black8yellownation",
          "namebrant"
         ],
         "xaxis": "x",
         "y": [
          13.01,
          21.78,
          12.61,
          20.05,
          22.25,
          15.96,
          16.09,
          21.39,
          26.83,
          24.27,
          14.62,
          7.83
         ],
         "yaxis": "y"
        },
        {
         "alignmentgroup": "True",
         "hovertemplate": " =Worse<br>username=%{x}<br>Chance %=%{y}<extra></extra>",
         "legendgroup": "Worse",
         "marker": {
          "color": "#1F77B4",
          "pattern": {
           "shape": ""
          }
         },
         "name": "Worse",
         "offsetgroup": "Worse",
         "orientation": "v",
         "showlegend": true,
         "textposition": "auto",
         "type": "bar",
         "x": [
          "pacc",
          "thezirconisdragon",
          "herbietime",
          "alecwilson",
          "empireyikesback",
          "burgertownthicnred",
          "therealfergus",
          "mackjyers21",
          "shakylegs",
          "tonygordzilla22",
          "black8yellownation",
          "namebrant"
         ],
         "xaxis": "x",
         "y": [
          86.99,
          57.51,
          10.78,
          20.48,
          54.51,
          69.55,
          21.15,
          23.59,
          42.77,
          48.09,
          77.4,
          0
         ],
         "yaxis": "y"
        }
       ],
       "layout": {
        "bargap": 0.5,
        "barmode": "relative",
        "font": {
         "size": 14
        },
        "height": 600,
        "legend": {
         "font": {
          "size": 20
         },
         "title": {},
         "tracegroupgap": 0
        },
        "margin": {
         "b": 75,
         "l": 100,
         "r": 50,
         "t": 70
        },
        "template": {
         "data": {
          "bar": [
           {
            "error_x": {
             "color": "#2a3f5f"
            },
            "error_y": {
             "color": "#2a3f5f"
            },
            "marker": {
             "line": {
              "color": "#E5ECF6",
              "width": 0.5
             },
             "pattern": {
              "fillmode": "overlay",
              "size": 10,
              "solidity": 0.2
             }
            },
            "type": "bar"
           }
          ],
          "barpolar": [
           {
            "marker": {
             "line": {
              "color": "#E5ECF6",
              "width": 0.5
             },
             "pattern": {
              "fillmode": "overlay",
              "size": 10,
              "solidity": 0.2
             }
            },
            "type": "barpolar"
           }
          ],
          "carpet": [
           {
            "aaxis": {
             "endlinecolor": "#2a3f5f",
             "gridcolor": "white",
             "linecolor": "white",
             "minorgridcolor": "white",
             "startlinecolor": "#2a3f5f"
            },
            "baxis": {
             "endlinecolor": "#2a3f5f",
             "gridcolor": "white",
             "linecolor": "white",
             "minorgridcolor": "white",
             "startlinecolor": "#2a3f5f"
            },
            "type": "carpet"
           }
          ],
          "choropleth": [
           {
            "colorbar": {
             "outlinewidth": 0,
             "ticks": ""
            },
            "type": "choropleth"
           }
          ],
          "contour": [
           {
            "colorbar": {
             "outlinewidth": 0,
             "ticks": ""
            },
            "colorscale": [
             [
              0,
              "#0d0887"
             ],
             [
              0.1111111111111111,
              "#46039f"
             ],
             [
              0.2222222222222222,
              "#7201a8"
             ],
             [
              0.3333333333333333,
              "#9c179e"
             ],
             [
              0.4444444444444444,
              "#bd3786"
             ],
             [
              0.5555555555555556,
              "#d8576b"
             ],
             [
              0.6666666666666666,
              "#ed7953"
             ],
             [
              0.7777777777777778,
              "#fb9f3a"
             ],
             [
              0.8888888888888888,
              "#fdca26"
             ],
             [
              1,
              "#f0f921"
             ]
            ],
            "type": "contour"
           }
          ],
          "contourcarpet": [
           {
            "colorbar": {
             "outlinewidth": 0,
             "ticks": ""
            },
            "type": "contourcarpet"
           }
          ],
          "heatmap": [
           {
            "colorbar": {
             "outlinewidth": 0,
             "ticks": ""
            },
            "colorscale": [
             [
              0,
              "#0d0887"
             ],
             [
              0.1111111111111111,
              "#46039f"
             ],
             [
              0.2222222222222222,
              "#7201a8"
             ],
             [
              0.3333333333333333,
              "#9c179e"
             ],
             [
              0.4444444444444444,
              "#bd3786"
             ],
             [
              0.5555555555555556,
              "#d8576b"
             ],
             [
              0.6666666666666666,
              "#ed7953"
             ],
             [
              0.7777777777777778,
              "#fb9f3a"
             ],
             [
              0.8888888888888888,
              "#fdca26"
             ],
             [
              1,
              "#f0f921"
             ]
            ],
            "type": "heatmap"
           }
          ],
          "heatmapgl": [
           {
            "colorbar": {
             "outlinewidth": 0,
             "ticks": ""
            },
            "colorscale": [
             [
              0,
              "#0d0887"
             ],
             [
              0.1111111111111111,
              "#46039f"
             ],
             [
              0.2222222222222222,
              "#7201a8"
             ],
             [
              0.3333333333333333,
              "#9c179e"
             ],
             [
              0.4444444444444444,
              "#bd3786"
             ],
             [
              0.5555555555555556,
              "#d8576b"
             ],
             [
              0.6666666666666666,
              "#ed7953"
             ],
             [
              0.7777777777777778,
              "#fb9f3a"
             ],
             [
              0.8888888888888888,
              "#fdca26"
             ],
             [
              1,
              "#f0f921"
             ]
            ],
            "type": "heatmapgl"
           }
          ],
          "histogram": [
           {
            "marker": {
             "pattern": {
              "fillmode": "overlay",
              "size": 10,
              "solidity": 0.2
             }
            },
            "type": "histogram"
           }
          ],
          "histogram2d": [
           {
            "colorbar": {
             "outlinewidth": 0,
             "ticks": ""
            },
            "colorscale": [
             [
              0,
              "#0d0887"
             ],
             [
              0.1111111111111111,
              "#46039f"
             ],
             [
              0.2222222222222222,
              "#7201a8"
             ],
             [
              0.3333333333333333,
              "#9c179e"
             ],
             [
              0.4444444444444444,
              "#bd3786"
             ],
             [
              0.5555555555555556,
              "#d8576b"
             ],
             [
              0.6666666666666666,
              "#ed7953"
             ],
             [
              0.7777777777777778,
              "#fb9f3a"
             ],
             [
              0.8888888888888888,
              "#fdca26"
             ],
             [
              1,
              "#f0f921"
             ]
            ],
            "type": "histogram2d"
           }
          ],
          "histogram2dcontour": [
           {
            "colorbar": {
             "outlinewidth": 0,
             "ticks": ""
            },
            "colorscale": [
             [
              0,
              "#0d0887"
             ],
             [
              0.1111111111111111,
              "#46039f"
             ],
             [
              0.2222222222222222,
              "#7201a8"
             ],
             [
              0.3333333333333333,
              "#9c179e"
             ],
             [
              0.4444444444444444,
              "#bd3786"
             ],
             [
              0.5555555555555556,
              "#d8576b"
             ],
             [
              0.6666666666666666,
              "#ed7953"
             ],
             [
              0.7777777777777778,
              "#fb9f3a"
             ],
             [
              0.8888888888888888,
              "#fdca26"
             ],
             [
              1,
              "#f0f921"
             ]
            ],
            "type": "histogram2dcontour"
           }
          ],
          "mesh3d": [
           {
            "colorbar": {
             "outlinewidth": 0,
             "ticks": ""
            },
            "type": "mesh3d"
           }
          ],
          "parcoords": [
           {
            "line": {
             "colorbar": {
              "outlinewidth": 0,
              "ticks": ""
             }
            },
            "type": "parcoords"
           }
          ],
          "pie": [
           {
            "automargin": true,
            "type": "pie"
           }
          ],
          "scatter": [
           {
            "fillpattern": {
             "fillmode": "overlay",
             "size": 10,
             "solidity": 0.2
            },
            "type": "scatter"
           }
          ],
          "scatter3d": [
           {
            "line": {
             "colorbar": {
              "outlinewidth": 0,
              "ticks": ""
             }
            },
            "marker": {
             "colorbar": {
              "outlinewidth": 0,
              "ticks": ""
             }
            },
            "type": "scatter3d"
           }
          ],
          "scattercarpet": [
           {
            "marker": {
             "colorbar": {
              "outlinewidth": 0,
              "ticks": ""
             }
            },
            "type": "scattercarpet"
           }
          ],
          "scattergeo": [
           {
            "marker": {
             "colorbar": {
              "outlinewidth": 0,
              "ticks": ""
             }
            },
            "type": "scattergeo"
           }
          ],
          "scattergl": [
           {
            "marker": {
             "colorbar": {
              "outlinewidth": 0,
              "ticks": ""
             }
            },
            "type": "scattergl"
           }
          ],
          "scattermapbox": [
           {
            "marker": {
             "colorbar": {
              "outlinewidth": 0,
              "ticks": ""
             }
            },
            "type": "scattermapbox"
           }
          ],
          "scatterpolar": [
           {
            "marker": {
             "colorbar": {
              "outlinewidth": 0,
              "ticks": ""
             }
            },
            "type": "scatterpolar"
           }
          ],
          "scatterpolargl": [
           {
            "marker": {
             "colorbar": {
              "outlinewidth": 0,
              "ticks": ""
             }
            },
            "type": "scatterpolargl"
           }
          ],
          "scatterternary": [
           {
            "marker": {
             "colorbar": {
              "outlinewidth": 0,
              "ticks": ""
             }
            },
            "type": "scatterternary"
           }
          ],
          "surface": [
           {
            "colorbar": {
             "outlinewidth": 0,
             "ticks": ""
            },
            "colorscale": [
             [
              0,
              "#0d0887"
             ],
             [
              0.1111111111111111,
              "#46039f"
             ],
             [
              0.2222222222222222,
              "#7201a8"
             ],
             [
              0.3333333333333333,
              "#9c179e"
             ],
             [
              0.4444444444444444,
              "#bd3786"
             ],
             [
              0.5555555555555556,
              "#d8576b"
             ],
             [
              0.6666666666666666,
              "#ed7953"
             ],
             [
              0.7777777777777778,
              "#fb9f3a"
             ],
             [
              0.8888888888888888,
              "#fdca26"
             ],
             [
              1,
              "#f0f921"
             ]
            ],
            "type": "surface"
           }
          ],
          "table": [
           {
            "cells": {
             "fill": {
              "color": "#EBF0F8"
             },
             "line": {
              "color": "white"
             }
            },
            "header": {
             "fill": {
              "color": "#C8D4E3"
             },
             "line": {
              "color": "white"
             }
            },
            "type": "table"
           }
          ]
         },
         "layout": {
          "annotationdefaults": {
           "arrowcolor": "#2a3f5f",
           "arrowhead": 0,
           "arrowwidth": 1
          },
          "autotypenumbers": "strict",
          "coloraxis": {
           "colorbar": {
            "outlinewidth": 0,
            "ticks": ""
           }
          },
          "colorscale": {
           "diverging": [
            [
             0,
             "#8e0152"
            ],
            [
             0.1,
             "#c51b7d"
            ],
            [
             0.2,
             "#de77ae"
            ],
            [
             0.3,
             "#f1b6da"
            ],
            [
             0.4,
             "#fde0ef"
            ],
            [
             0.5,
             "#f7f7f7"
            ],
            [
             0.6,
             "#e6f5d0"
            ],
            [
             0.7,
             "#b8e186"
            ],
            [
             0.8,
             "#7fbc41"
            ],
            [
             0.9,
             "#4d9221"
            ],
            [
             1,
             "#276419"
            ]
           ],
           "sequential": [
            [
             0,
             "#0d0887"
            ],
            [
             0.1111111111111111,
             "#46039f"
            ],
            [
             0.2222222222222222,
             "#7201a8"
            ],
            [
             0.3333333333333333,
             "#9c179e"
            ],
            [
             0.4444444444444444,
             "#bd3786"
            ],
            [
             0.5555555555555556,
             "#d8576b"
            ],
            [
             0.6666666666666666,
             "#ed7953"
            ],
            [
             0.7777777777777778,
             "#fb9f3a"
            ],
            [
             0.8888888888888888,
             "#fdca26"
            ],
            [
             1,
             "#f0f921"
            ]
           ],
           "sequentialminus": [
            [
             0,
             "#0d0887"
            ],
            [
             0.1111111111111111,
             "#46039f"
            ],
            [
             0.2222222222222222,
             "#7201a8"
            ],
            [
             0.3333333333333333,
             "#9c179e"
            ],
            [
             0.4444444444444444,
             "#bd3786"
            ],
            [
             0.5555555555555556,
             "#d8576b"
            ],
            [
             0.6666666666666666,
             "#ed7953"
            ],
            [
             0.7777777777777778,
             "#fb9f3a"
            ],
            [
             0.8888888888888888,
             "#fdca26"
            ],
            [
             1,
             "#f0f921"
            ]
           ]
          },
          "colorway": [
           "#636efa",
           "#EF553B",
           "#00cc96",
           "#ab63fa",
           "#FFA15A",
           "#19d3f3",
           "#FF6692",
           "#B6E880",
           "#FF97FF",
           "#FECB52"
          ],
          "font": {
           "color": "#2a3f5f"
          },
          "geo": {
           "bgcolor": "white",
           "lakecolor": "white",
           "landcolor": "#E5ECF6",
           "showlakes": true,
           "showland": true,
           "subunitcolor": "white"
          },
          "hoverlabel": {
           "align": "left"
          },
          "hovermode": "closest",
          "mapbox": {
           "style": "light"
          },
          "paper_bgcolor": "white",
          "plot_bgcolor": "#E5ECF6",
          "polar": {
           "angularaxis": {
            "gridcolor": "white",
            "linecolor": "white",
            "ticks": ""
           },
           "bgcolor": "#E5ECF6",
           "radialaxis": {
            "gridcolor": "white",
            "linecolor": "white",
            "ticks": ""
           }
          },
          "scene": {
           "xaxis": {
            "backgroundcolor": "#E5ECF6",
            "gridcolor": "white",
            "gridwidth": 2,
            "linecolor": "white",
            "showbackground": true,
            "ticks": "",
            "zerolinecolor": "white"
           },
           "yaxis": {
            "backgroundcolor": "#E5ECF6",
            "gridcolor": "white",
            "gridwidth": 2,
            "linecolor": "white",
            "showbackground": true,
            "ticks": "",
            "zerolinecolor": "white"
           },
           "zaxis": {
            "backgroundcolor": "#E5ECF6",
            "gridcolor": "white",
            "gridwidth": 2,
            "linecolor": "white",
            "showbackground": true,
            "ticks": "",
            "zerolinecolor": "white"
           }
          },
          "shapedefaults": {
           "line": {
            "color": "#2a3f5f"
           }
          },
          "ternary": {
           "aaxis": {
            "gridcolor": "white",
            "linecolor": "white",
            "ticks": ""
           },
           "baxis": {
            "gridcolor": "white",
            "linecolor": "white",
            "ticks": ""
           },
           "bgcolor": "#E5ECF6",
           "caxis": {
            "gridcolor": "white",
            "linecolor": "white",
            "ticks": ""
           }
          },
          "title": {
           "x": 0.05
          },
          "xaxis": {
           "automargin": true,
           "gridcolor": "white",
           "linecolor": "white",
           "ticks": "",
           "title": {
            "standoff": 15
           },
           "zerolinecolor": "white",
           "zerolinewidth": 2
          },
          "yaxis": {
           "automargin": true,
           "gridcolor": "white",
           "linecolor": "white",
           "ticks": "",
           "title": {
            "standoff": 15
           },
           "zerolinecolor": "white",
           "zerolinewidth": 2
          }
         }
        },
        "title": {
         "text": "Chance of Ranking: Worse Than / Equal To / Better Than Actual Ranking for 2023 Season",
         "x": 0.5
        },
        "width": 1200,
        "xaxis": {
         "anchor": "y",
         "domain": [
          0,
          1
         ],
         "title": {}
        },
        "yaxis": {
         "anchor": "x",
         "domain": [
          0,
          1
         ],
         "title": {
          "text": "Chance %"
         }
        }
       }
      }
     },
     "metadata": {},
     "output_type": "display_data"
    }
   ],
   "source": [
    "# Plots the season probabilities as a stacked bar chart\n",
    "season_probs_melt = pd.melt(season_probs, id_vars=['username', \"Playoff\"], var_name=' ', value_name='Chance %')\n",
    "fig = px.bar(\n",
    "        season_probs_melt, \n",
    "        x='username', \n",
    "        y='Chance %', \n",
    "        color = ' ', \n",
    "        title = f'Chance of Ranking: Worse Than / Equal To / Better Than Actual Ranking for {YEAR} Season',\n",
    "        color_discrete_sequence = px.colors.qualitative.D3[:3][::-1],\n",
    "        )\n",
    "\n",
    "fig.update_layout(width=1200,\n",
    "                  height=600,\n",
    "                  xaxis_title = None,\n",
    "                  title_x = 0.5,\n",
    "                  font=dict(size=14),\n",
    "                  margin=dict(t=70, b=75, l=100, r=50),\n",
    "                  bargap=0.5,\n",
    "                  legend = dict(title = None,\n",
    "                                font = dict(size=20))\n",
    "                 )"
   ]
  },
  {
   "cell_type": "code",
   "execution_count": 37,
   "metadata": {},
   "outputs": [
    {
     "data": {
      "text/html": [
       "<div>\n",
       "<style scoped>\n",
       "    .dataframe tbody tr th:only-of-type {\n",
       "        vertical-align: middle;\n",
       "    }\n",
       "\n",
       "    .dataframe tbody tr th {\n",
       "        vertical-align: top;\n",
       "    }\n",
       "\n",
       "    .dataframe thead th {\n",
       "        text-align: right;\n",
       "    }\n",
       "</style>\n",
       "<table border=\"1\" class=\"dataframe\">\n",
       "  <thead>\n",
       "    <tr style=\"text-align: right;\">\n",
       "      <th></th>\n",
       "      <th>1</th>\n",
       "      <th>2</th>\n",
       "      <th>3</th>\n",
       "      <th>4</th>\n",
       "      <th>5</th>\n",
       "      <th>6</th>\n",
       "      <th>7</th>\n",
       "      <th>8</th>\n",
       "      <th>9</th>\n",
       "      <th>10</th>\n",
       "      <th>11</th>\n",
       "      <th>12</th>\n",
       "      <th>Count</th>\n",
       "    </tr>\n",
       "  </thead>\n",
       "  <tbody>\n",
       "    <tr>\n",
       "      <th>0</th>\n",
       "      <td>herbietime</td>\n",
       "      <td>alecwilson</td>\n",
       "      <td>pacc</td>\n",
       "      <td>thezirconisdragon</td>\n",
       "      <td>therealfergus</td>\n",
       "      <td>empireyikesback</td>\n",
       "      <td>burgertownthicnred</td>\n",
       "      <td>mackjyers21</td>\n",
       "      <td>shakylegs</td>\n",
       "      <td>namebrant</td>\n",
       "      <td>tonygordzilla22</td>\n",
       "      <td>black8yellownation</td>\n",
       "      <td>15035</td>\n",
       "    </tr>\n",
       "    <tr>\n",
       "      <th>1</th>\n",
       "      <td>herbietime</td>\n",
       "      <td>thezirconisdragon</td>\n",
       "      <td>alecwilson</td>\n",
       "      <td>pacc</td>\n",
       "      <td>therealfergus</td>\n",
       "      <td>empireyikesback</td>\n",
       "      <td>burgertownthicnred</td>\n",
       "      <td>mackjyers21</td>\n",
       "      <td>shakylegs</td>\n",
       "      <td>namebrant</td>\n",
       "      <td>tonygordzilla22</td>\n",
       "      <td>black8yellownation</td>\n",
       "      <td>9599</td>\n",
       "    </tr>\n",
       "    <tr>\n",
       "      <th>2</th>\n",
       "      <td>thezirconisdragon</td>\n",
       "      <td>herbietime</td>\n",
       "      <td>alecwilson</td>\n",
       "      <td>pacc</td>\n",
       "      <td>therealfergus</td>\n",
       "      <td>empireyikesback</td>\n",
       "      <td>burgertownthicnred</td>\n",
       "      <td>mackjyers21</td>\n",
       "      <td>shakylegs</td>\n",
       "      <td>namebrant</td>\n",
       "      <td>tonygordzilla22</td>\n",
       "      <td>black8yellownation</td>\n",
       "      <td>9549</td>\n",
       "    </tr>\n",
       "    <tr>\n",
       "      <th>3</th>\n",
       "      <td>herbietime</td>\n",
       "      <td>pacc</td>\n",
       "      <td>thezirconisdragon</td>\n",
       "      <td>alecwilson</td>\n",
       "      <td>therealfergus</td>\n",
       "      <td>empireyikesback</td>\n",
       "      <td>burgertownthicnred</td>\n",
       "      <td>mackjyers21</td>\n",
       "      <td>shakylegs</td>\n",
       "      <td>namebrant</td>\n",
       "      <td>tonygordzilla22</td>\n",
       "      <td>black8yellownation</td>\n",
       "      <td>8782</td>\n",
       "    </tr>\n",
       "    <tr>\n",
       "      <th>4</th>\n",
       "      <td>herbietime</td>\n",
       "      <td>alecwilson</td>\n",
       "      <td>pacc</td>\n",
       "      <td>thezirconisdragon</td>\n",
       "      <td>empireyikesback</td>\n",
       "      <td>therealfergus</td>\n",
       "      <td>burgertownthicnred</td>\n",
       "      <td>mackjyers21</td>\n",
       "      <td>shakylegs</td>\n",
       "      <td>namebrant</td>\n",
       "      <td>tonygordzilla22</td>\n",
       "      <td>black8yellownation</td>\n",
       "      <td>7777</td>\n",
       "    </tr>\n",
       "    <tr>\n",
       "      <th>...</th>\n",
       "      <td>...</td>\n",
       "      <td>...</td>\n",
       "      <td>...</td>\n",
       "      <td>...</td>\n",
       "      <td>...</td>\n",
       "      <td>...</td>\n",
       "      <td>...</td>\n",
       "      <td>...</td>\n",
       "      <td>...</td>\n",
       "      <td>...</td>\n",
       "      <td>...</td>\n",
       "      <td>...</td>\n",
       "      <td>...</td>\n",
       "    </tr>\n",
       "    <tr>\n",
       "      <th>1042661</th>\n",
       "      <td>herbietime</td>\n",
       "      <td>therealfergus</td>\n",
       "      <td>pacc</td>\n",
       "      <td>alecwilson</td>\n",
       "      <td>thezirconisdragon</td>\n",
       "      <td>mackjyers21</td>\n",
       "      <td>burgertownthicnred</td>\n",
       "      <td>tonygordzilla22</td>\n",
       "      <td>empireyikesback</td>\n",
       "      <td>namebrant</td>\n",
       "      <td>shakylegs</td>\n",
       "      <td>black8yellownation</td>\n",
       "      <td>1</td>\n",
       "    </tr>\n",
       "    <tr>\n",
       "      <th>1042662</th>\n",
       "      <td>herbietime</td>\n",
       "      <td>thezirconisdragon</td>\n",
       "      <td>therealfergus</td>\n",
       "      <td>empireyikesback</td>\n",
       "      <td>pacc</td>\n",
       "      <td>mackjyers21</td>\n",
       "      <td>burgertownthicnred</td>\n",
       "      <td>shakylegs</td>\n",
       "      <td>alecwilson</td>\n",
       "      <td>namebrant</td>\n",
       "      <td>tonygordzilla22</td>\n",
       "      <td>black8yellownation</td>\n",
       "      <td>1</td>\n",
       "    </tr>\n",
       "    <tr>\n",
       "      <th>1042663</th>\n",
       "      <td>pacc</td>\n",
       "      <td>herbietime</td>\n",
       "      <td>alecwilson</td>\n",
       "      <td>empireyikesback</td>\n",
       "      <td>thezirconisdragon</td>\n",
       "      <td>namebrant</td>\n",
       "      <td>therealfergus</td>\n",
       "      <td>shakylegs</td>\n",
       "      <td>mackjyers21</td>\n",
       "      <td>burgertownthicnred</td>\n",
       "      <td>tonygordzilla22</td>\n",
       "      <td>black8yellownation</td>\n",
       "      <td>1</td>\n",
       "    </tr>\n",
       "    <tr>\n",
       "      <th>1042664</th>\n",
       "      <td>thezirconisdragon</td>\n",
       "      <td>alecwilson</td>\n",
       "      <td>empireyikesback</td>\n",
       "      <td>herbietime</td>\n",
       "      <td>pacc</td>\n",
       "      <td>namebrant</td>\n",
       "      <td>shakylegs</td>\n",
       "      <td>therealfergus</td>\n",
       "      <td>burgertownthicnred</td>\n",
       "      <td>mackjyers21</td>\n",
       "      <td>black8yellownation</td>\n",
       "      <td>tonygordzilla22</td>\n",
       "      <td>1</td>\n",
       "    </tr>\n",
       "    <tr>\n",
       "      <th>1042665</th>\n",
       "      <td>herbietime</td>\n",
       "      <td>alecwilson</td>\n",
       "      <td>namebrant</td>\n",
       "      <td>pacc</td>\n",
       "      <td>therealfergus</td>\n",
       "      <td>thezirconisdragon</td>\n",
       "      <td>burgertownthicnred</td>\n",
       "      <td>mackjyers21</td>\n",
       "      <td>empireyikesback</td>\n",
       "      <td>shakylegs</td>\n",
       "      <td>black8yellownation</td>\n",
       "      <td>tonygordzilla22</td>\n",
       "      <td>1</td>\n",
       "    </tr>\n",
       "  </tbody>\n",
       "</table>\n",
       "<p>1042666 rows × 13 columns</p>\n",
       "</div>"
      ],
      "text/plain": [
       "                         1                  2                  3  \\\n",
       "0               herbietime         alecwilson               pacc   \n",
       "1               herbietime  thezirconisdragon         alecwilson   \n",
       "2        thezirconisdragon         herbietime         alecwilson   \n",
       "3               herbietime               pacc  thezirconisdragon   \n",
       "4               herbietime         alecwilson               pacc   \n",
       "...                    ...                ...                ...   \n",
       "1042661         herbietime      therealfergus               pacc   \n",
       "1042662         herbietime  thezirconisdragon      therealfergus   \n",
       "1042663               pacc         herbietime         alecwilson   \n",
       "1042664  thezirconisdragon         alecwilson    empireyikesback   \n",
       "1042665         herbietime         alecwilson          namebrant   \n",
       "\n",
       "                         4                  5                  6  \\\n",
       "0        thezirconisdragon      therealfergus    empireyikesback   \n",
       "1                     pacc      therealfergus    empireyikesback   \n",
       "2                     pacc      therealfergus    empireyikesback   \n",
       "3               alecwilson      therealfergus    empireyikesback   \n",
       "4        thezirconisdragon    empireyikesback      therealfergus   \n",
       "...                    ...                ...                ...   \n",
       "1042661         alecwilson  thezirconisdragon        mackjyers21   \n",
       "1042662    empireyikesback               pacc        mackjyers21   \n",
       "1042663    empireyikesback  thezirconisdragon          namebrant   \n",
       "1042664         herbietime               pacc          namebrant   \n",
       "1042665               pacc      therealfergus  thezirconisdragon   \n",
       "\n",
       "                          7                8                   9  \\\n",
       "0        burgertownthicnred      mackjyers21           shakylegs   \n",
       "1        burgertownthicnred      mackjyers21           shakylegs   \n",
       "2        burgertownthicnred      mackjyers21           shakylegs   \n",
       "3        burgertownthicnred      mackjyers21           shakylegs   \n",
       "4        burgertownthicnred      mackjyers21           shakylegs   \n",
       "...                     ...              ...                 ...   \n",
       "1042661  burgertownthicnred  tonygordzilla22     empireyikesback   \n",
       "1042662  burgertownthicnred        shakylegs          alecwilson   \n",
       "1042663       therealfergus        shakylegs         mackjyers21   \n",
       "1042664           shakylegs    therealfergus  burgertownthicnred   \n",
       "1042665  burgertownthicnred      mackjyers21     empireyikesback   \n",
       "\n",
       "                         10                  11                  12  Count  \n",
       "0                 namebrant     tonygordzilla22  black8yellownation  15035  \n",
       "1                 namebrant     tonygordzilla22  black8yellownation   9599  \n",
       "2                 namebrant     tonygordzilla22  black8yellownation   9549  \n",
       "3                 namebrant     tonygordzilla22  black8yellownation   8782  \n",
       "4                 namebrant     tonygordzilla22  black8yellownation   7777  \n",
       "...                     ...                 ...                 ...    ...  \n",
       "1042661           namebrant           shakylegs  black8yellownation      1  \n",
       "1042662           namebrant     tonygordzilla22  black8yellownation      1  \n",
       "1042663  burgertownthicnred     tonygordzilla22  black8yellownation      1  \n",
       "1042664         mackjyers21  black8yellownation     tonygordzilla22      1  \n",
       "1042665           shakylegs  black8yellownation     tonygordzilla22      1  \n",
       "\n",
       "[1042666 rows x 13 columns]"
      ]
     },
     "execution_count": 37,
     "metadata": {},
     "output_type": "execute_result"
    }
   ],
   "source": [
    "playoffs_df"
   ]
  },
  {
   "cell_type": "code",
   "execution_count": 42,
   "metadata": {},
   "outputs": [
    {
     "name": "stderr",
     "output_type": "stream",
     "text": [
      "100%|██████████| 12/12 [05:58<00:00, 29.90s/it]\n"
     ]
    }
   ],
   "source": [
    "playoffs_df_prob = pd.DataFrame(playoffs_df)\n",
    "\n",
    "def better_equal(username, rank):\n",
    "    return get_prob(username, rank, type = \"better\") + get_prob(username, rank, type = \"equal\")\n",
    "\n",
    "for i in tqdm(range(1,13), total = 12):\n",
    "    playoffs_df_prob[str(i)] = playoffs_df[str(i)].apply(lambda x: better_equal(x,i))"
   ]
  },
  {
   "cell_type": "code",
   "execution_count": 44,
   "metadata": {},
   "outputs": [],
   "source": [
    "idx_unlikely = playoffs_df_prob.iloc[:,:6].sum(axis = 1).idxmin()"
   ]
  },
  {
   "cell_type": "code",
   "execution_count": 48,
   "metadata": {},
   "outputs": [
    {
     "data": {
      "text/html": [
       "<div>\n",
       "<style scoped>\n",
       "    .dataframe tbody tr th:only-of-type {\n",
       "        vertical-align: middle;\n",
       "    }\n",
       "\n",
       "    .dataframe tbody tr th {\n",
       "        vertical-align: top;\n",
       "    }\n",
       "\n",
       "    .dataframe thead th {\n",
       "        text-align: right;\n",
       "    }\n",
       "</style>\n",
       "<table border=\"1\" class=\"dataframe\">\n",
       "  <thead>\n",
       "    <tr style=\"text-align: right;\">\n",
       "      <th></th>\n",
       "      <th>Username</th>\n",
       "      <th>Prob &gt;=</th>\n",
       "    </tr>\n",
       "  </thead>\n",
       "  <tbody>\n",
       "    <tr>\n",
       "      <th>1</th>\n",
       "      <td>alecwilson</td>\n",
       "      <td>12.09358</td>\n",
       "    </tr>\n",
       "    <tr>\n",
       "      <th>2</th>\n",
       "      <td>empireyikesback</td>\n",
       "      <td>4.00667</td>\n",
       "    </tr>\n",
       "    <tr>\n",
       "      <th>3</th>\n",
       "      <td>therealfergus</td>\n",
       "      <td>8.34311</td>\n",
       "    </tr>\n",
       "    <tr>\n",
       "      <th>4</th>\n",
       "      <td>mackjyers21</td>\n",
       "      <td>8.97165</td>\n",
       "    </tr>\n",
       "    <tr>\n",
       "      <th>5</th>\n",
       "      <td>shakylegs</td>\n",
       "      <td>3.21534</td>\n",
       "    </tr>\n",
       "    <tr>\n",
       "      <th>6</th>\n",
       "      <td>namebrant</td>\n",
       "      <td>5.02214</td>\n",
       "    </tr>\n",
       "    <tr>\n",
       "      <th>7</th>\n",
       "      <td>herbietime</td>\n",
       "      <td>99.87246</td>\n",
       "    </tr>\n",
       "    <tr>\n",
       "      <th>8</th>\n",
       "      <td>pacc</td>\n",
       "      <td>99.48598</td>\n",
       "    </tr>\n",
       "    <tr>\n",
       "      <th>9</th>\n",
       "      <td>thezirconisdragon</td>\n",
       "      <td>99.74937</td>\n",
       "    </tr>\n",
       "    <tr>\n",
       "      <th>10</th>\n",
       "      <td>burgertownthicnred</td>\n",
       "      <td>96.60979</td>\n",
       "    </tr>\n",
       "    <tr>\n",
       "      <th>11</th>\n",
       "      <td>tonygordzilla22</td>\n",
       "      <td>90.98705</td>\n",
       "    </tr>\n",
       "    <tr>\n",
       "      <th>12</th>\n",
       "      <td>black8yellownation</td>\n",
       "      <td>100.00000</td>\n",
       "    </tr>\n",
       "  </tbody>\n",
       "</table>\n",
       "</div>"
      ],
      "text/plain": [
       "              Username    Prob >=\n",
       "1           alecwilson   12.09358\n",
       "2      empireyikesback    4.00667\n",
       "3        therealfergus    8.34311\n",
       "4          mackjyers21    8.97165\n",
       "5            shakylegs    3.21534\n",
       "6            namebrant    5.02214\n",
       "7           herbietime   99.87246\n",
       "8                 pacc   99.48598\n",
       "9    thezirconisdragon   99.74937\n",
       "10  burgertownthicnred   96.60979\n",
       "11     tonygordzilla22   90.98705\n",
       "12  black8yellownation  100.00000"
      ]
     },
     "execution_count": 48,
     "metadata": {},
     "output_type": "execute_result"
    }
   ],
   "source": [
    "unlikely_playoff_seed = (pd.concat([playoffs_df.iloc[idx_unlikely,:12].rename(\"Username\"),\n",
    "                                    playoffs_df_prob.iloc[idx_unlikely,:12].rename(\"Prob >=\")],\n",
    "                                      axis = 1)\n",
    "                            .rename(columns={f'{idx_unlikely}':'as'}))\n",
    "unlikely_playoff_seed"
   ]
  },
  {
   "cell_type": "code",
   "execution_count": 58,
   "metadata": {},
   "outputs": [
    {
     "data": {
      "text/html": [
       "<div>\n",
       "<style scoped>\n",
       "    .dataframe tbody tr th:only-of-type {\n",
       "        vertical-align: middle;\n",
       "    }\n",
       "\n",
       "    .dataframe tbody tr th {\n",
       "        vertical-align: top;\n",
       "    }\n",
       "\n",
       "    .dataframe thead th {\n",
       "        text-align: right;\n",
       "    }\n",
       "</style>\n",
       "<table border=\"1\" class=\"dataframe\">\n",
       "  <thead>\n",
       "    <tr style=\"text-align: right;\">\n",
       "      <th></th>\n",
       "      <th>1</th>\n",
       "      <th>2</th>\n",
       "      <th>3</th>\n",
       "      <th>4</th>\n",
       "      <th>5</th>\n",
       "      <th>6</th>\n",
       "      <th>7</th>\n",
       "      <th>8</th>\n",
       "      <th>9</th>\n",
       "      <th>10</th>\n",
       "      <th>11</th>\n",
       "      <th>12</th>\n",
       "      <th>Count</th>\n",
       "    </tr>\n",
       "  </thead>\n",
       "  <tbody>\n",
       "    <tr>\n",
       "      <th>563319</th>\n",
       "      <td>alecwilson</td>\n",
       "      <td>burgertownthicnred</td>\n",
       "      <td>therealfergus</td>\n",
       "      <td>empireyikesback</td>\n",
       "      <td>mackjyers21</td>\n",
       "      <td>shakylegs</td>\n",
       "      <td>herbietime</td>\n",
       "      <td>pacc</td>\n",
       "      <td>thezirconisdragon</td>\n",
       "      <td>tonygordzilla22</td>\n",
       "      <td>namebrant</td>\n",
       "      <td>black8yellownation</td>\n",
       "      <td>1</td>\n",
       "    </tr>\n",
       "    <tr>\n",
       "      <th>585419</th>\n",
       "      <td>alecwilson</td>\n",
       "      <td>empireyikesback</td>\n",
       "      <td>therealfergus</td>\n",
       "      <td>mackjyers21</td>\n",
       "      <td>shakylegs</td>\n",
       "      <td>namebrant</td>\n",
       "      <td>herbietime</td>\n",
       "      <td>pacc</td>\n",
       "      <td>thezirconisdragon</td>\n",
       "      <td>burgertownthicnred</td>\n",
       "      <td>tonygordzilla22</td>\n",
       "      <td>black8yellownation</td>\n",
       "      <td>1</td>\n",
       "    </tr>\n",
       "    <tr>\n",
       "      <th>613080</th>\n",
       "      <td>alecwilson</td>\n",
       "      <td>mackjyers21</td>\n",
       "      <td>therealfergus</td>\n",
       "      <td>empireyikesback</td>\n",
       "      <td>burgertownthicnred</td>\n",
       "      <td>tonygordzilla22</td>\n",
       "      <td>herbietime</td>\n",
       "      <td>thezirconisdragon</td>\n",
       "      <td>pacc</td>\n",
       "      <td>namebrant</td>\n",
       "      <td>shakylegs</td>\n",
       "      <td>black8yellownation</td>\n",
       "      <td>1</td>\n",
       "    </tr>\n",
       "    <tr>\n",
       "      <th>864023</th>\n",
       "      <td>burgertownthicnred</td>\n",
       "      <td>mackjyers21</td>\n",
       "      <td>alecwilson</td>\n",
       "      <td>therealfergus</td>\n",
       "      <td>empireyikesback</td>\n",
       "      <td>tonygordzilla22</td>\n",
       "      <td>herbietime</td>\n",
       "      <td>pacc</td>\n",
       "      <td>thezirconisdragon</td>\n",
       "      <td>shakylegs</td>\n",
       "      <td>namebrant</td>\n",
       "      <td>black8yellownation</td>\n",
       "      <td>1</td>\n",
       "    </tr>\n",
       "    <tr>\n",
       "      <th>910671</th>\n",
       "      <td>empireyikesback</td>\n",
       "      <td>alecwilson</td>\n",
       "      <td>therealfergus</td>\n",
       "      <td>burgertownthicnred</td>\n",
       "      <td>mackjyers21</td>\n",
       "      <td>namebrant</td>\n",
       "      <td>herbietime</td>\n",
       "      <td>pacc</td>\n",
       "      <td>thezirconisdragon</td>\n",
       "      <td>shakylegs</td>\n",
       "      <td>black8yellownation</td>\n",
       "      <td>tonygordzilla22</td>\n",
       "      <td>1</td>\n",
       "    </tr>\n",
       "    <tr>\n",
       "      <th>926494</th>\n",
       "      <td>alecwilson</td>\n",
       "      <td>empireyikesback</td>\n",
       "      <td>therealfergus</td>\n",
       "      <td>burgertownthicnred</td>\n",
       "      <td>mackjyers21</td>\n",
       "      <td>shakylegs</td>\n",
       "      <td>herbietime</td>\n",
       "      <td>pacc</td>\n",
       "      <td>thezirconisdragon</td>\n",
       "      <td>namebrant</td>\n",
       "      <td>tonygordzilla22</td>\n",
       "      <td>black8yellownation</td>\n",
       "      <td>1</td>\n",
       "    </tr>\n",
       "  </tbody>\n",
       "</table>\n",
       "</div>"
      ],
      "text/plain": [
       "                         1                   2              3  \\\n",
       "563319          alecwilson  burgertownthicnred  therealfergus   \n",
       "585419          alecwilson     empireyikesback  therealfergus   \n",
       "613080          alecwilson         mackjyers21  therealfergus   \n",
       "864023  burgertownthicnred         mackjyers21     alecwilson   \n",
       "910671     empireyikesback          alecwilson  therealfergus   \n",
       "926494          alecwilson     empireyikesback  therealfergus   \n",
       "\n",
       "                         4                   5                6           7  \\\n",
       "563319     empireyikesback         mackjyers21        shakylegs  herbietime   \n",
       "585419         mackjyers21           shakylegs        namebrant  herbietime   \n",
       "613080     empireyikesback  burgertownthicnred  tonygordzilla22  herbietime   \n",
       "864023       therealfergus     empireyikesback  tonygordzilla22  herbietime   \n",
       "910671  burgertownthicnred         mackjyers21        namebrant  herbietime   \n",
       "926494  burgertownthicnred         mackjyers21        shakylegs  herbietime   \n",
       "\n",
       "                        8                  9                  10  \\\n",
       "563319               pacc  thezirconisdragon     tonygordzilla22   \n",
       "585419               pacc  thezirconisdragon  burgertownthicnred   \n",
       "613080  thezirconisdragon               pacc           namebrant   \n",
       "864023               pacc  thezirconisdragon           shakylegs   \n",
       "910671               pacc  thezirconisdragon           shakylegs   \n",
       "926494               pacc  thezirconisdragon           namebrant   \n",
       "\n",
       "                        11                  12  Count  \n",
       "563319           namebrant  black8yellownation      1  \n",
       "585419     tonygordzilla22  black8yellownation      1  \n",
       "613080           shakylegs  black8yellownation      1  \n",
       "864023           namebrant  black8yellownation      1  \n",
       "910671  black8yellownation     tonygordzilla22      1  \n",
       "926494     tonygordzilla22  black8yellownation      1  "
      ]
     },
     "execution_count": 58,
     "metadata": {},
     "output_type": "execute_result"
    }
   ],
   "source": [
    "top = ['herbietime', 'pacc', 'thezirconisdragon']\n",
    "query_str = ' and '.join([f'`{col}` not in @top' for col in [str(i) for i in range(1,7)]])\n",
    "playoffs_df.query(query_str)"
   ]
  },
  {
   "cell_type": "code",
   "execution_count": 56,
   "metadata": {},
   "outputs": [
    {
     "data": {
      "text/html": [
       "<div>\n",
       "<style scoped>\n",
       "    .dataframe tbody tr th:only-of-type {\n",
       "        vertical-align: middle;\n",
       "    }\n",
       "\n",
       "    .dataframe tbody tr th {\n",
       "        vertical-align: top;\n",
       "    }\n",
       "\n",
       "    .dataframe thead th {\n",
       "        text-align: right;\n",
       "    }\n",
       "</style>\n",
       "<table border=\"1\" class=\"dataframe\">\n",
       "  <thead>\n",
       "    <tr style=\"text-align: right;\">\n",
       "      <th></th>\n",
       "      <th>Username</th>\n",
       "      <th>Prob &gt;=</th>\n",
       "    </tr>\n",
       "  </thead>\n",
       "  <tbody>\n",
       "    <tr>\n",
       "      <th>1</th>\n",
       "      <td>burgertownthicnred</td>\n",
       "      <td>0.12441</td>\n",
       "    </tr>\n",
       "    <tr>\n",
       "      <th>2</th>\n",
       "      <td>mackjyers21</td>\n",
       "      <td>1.27573</td>\n",
       "    </tr>\n",
       "    <tr>\n",
       "      <th>3</th>\n",
       "      <td>alecwilson</td>\n",
       "      <td>59.42196</td>\n",
       "    </tr>\n",
       "    <tr>\n",
       "      <th>4</th>\n",
       "      <td>therealfergus</td>\n",
       "      <td>19.46584</td>\n",
       "    </tr>\n",
       "    <tr>\n",
       "      <th>5</th>\n",
       "      <td>empireyikesback</td>\n",
       "      <td>45.43872</td>\n",
       "    </tr>\n",
       "    <tr>\n",
       "      <th>6</th>\n",
       "      <td>tonygordzilla22</td>\n",
       "      <td>2.24144</td>\n",
       "    </tr>\n",
       "    <tr>\n",
       "      <th>7</th>\n",
       "      <td>herbietime</td>\n",
       "      <td>99.87246</td>\n",
       "    </tr>\n",
       "    <tr>\n",
       "      <th>8</th>\n",
       "      <td>pacc</td>\n",
       "      <td>99.48598</td>\n",
       "    </tr>\n",
       "    <tr>\n",
       "      <th>9</th>\n",
       "      <td>thezirconisdragon</td>\n",
       "      <td>99.74937</td>\n",
       "    </tr>\n",
       "    <tr>\n",
       "      <th>10</th>\n",
       "      <td>shakylegs</td>\n",
       "      <td>80.60454</td>\n",
       "    </tr>\n",
       "    <tr>\n",
       "      <th>11</th>\n",
       "      <td>namebrant</td>\n",
       "      <td>92.15476</td>\n",
       "    </tr>\n",
       "    <tr>\n",
       "      <th>12</th>\n",
       "      <td>black8yellownation</td>\n",
       "      <td>100.00000</td>\n",
       "    </tr>\n",
       "  </tbody>\n",
       "</table>\n",
       "</div>"
      ],
      "text/plain": [
       "              Username    Prob >=\n",
       "1   burgertownthicnred    0.12441\n",
       "2          mackjyers21    1.27573\n",
       "3           alecwilson   59.42196\n",
       "4        therealfergus   19.46584\n",
       "5      empireyikesback   45.43872\n",
       "6      tonygordzilla22    2.24144\n",
       "7           herbietime   99.87246\n",
       "8                 pacc   99.48598\n",
       "9    thezirconisdragon   99.74937\n",
       "10           shakylegs   80.60454\n",
       "11           namebrant   92.15476\n",
       "12  black8yellownation  100.00000"
      ]
     },
     "execution_count": 56,
     "metadata": {},
     "output_type": "execute_result"
    }
   ],
   "source": [
    "unlikely_playoff_seed2 = (pd.concat([playoffs_df.iloc[864023,:12].rename(\"Username\"),\n",
    "                                    playoffs_df_prob.iloc[864023,:12].rename(\"Prob >=\")],\n",
    "                                      axis = 1)\n",
    "                            .rename(columns={f'{idx_unlikely}':'as'}))\n",
    "unlikely_playoff_seed2"
   ]
  },
  {
   "cell_type": "code",
   "execution_count": 70,
   "metadata": {},
   "outputs": [
    {
     "data": {
      "text/html": [
       "<div>\n",
       "<style scoped>\n",
       "    .dataframe tbody tr th:only-of-type {\n",
       "        vertical-align: middle;\n",
       "    }\n",
       "\n",
       "    .dataframe tbody tr th {\n",
       "        vertical-align: top;\n",
       "    }\n",
       "\n",
       "    .dataframe thead th {\n",
       "        text-align: right;\n",
       "    }\n",
       "</style>\n",
       "<table border=\"1\" class=\"dataframe\">\n",
       "  <thead>\n",
       "    <tr style=\"text-align: right;\">\n",
       "      <th></th>\n",
       "      <th>1</th>\n",
       "      <th>2</th>\n",
       "      <th>3</th>\n",
       "      <th>4</th>\n",
       "      <th>5</th>\n",
       "      <th>6</th>\n",
       "      <th>7</th>\n",
       "      <th>8</th>\n",
       "      <th>9</th>\n",
       "      <th>10</th>\n",
       "      <th>11</th>\n",
       "      <th>12</th>\n",
       "      <th>Count</th>\n",
       "    </tr>\n",
       "  </thead>\n",
       "  <tbody>\n",
       "    <tr>\n",
       "      <th>676758</th>\n",
       "      <td>herbietime</td>\n",
       "      <td>pacc</td>\n",
       "      <td>thezirconisdragon</td>\n",
       "      <td>namebrant</td>\n",
       "      <td>tonygordzilla22</td>\n",
       "      <td>black8yellownation</td>\n",
       "      <td>alecwilson</td>\n",
       "      <td>empireyikesback</td>\n",
       "      <td>burgertownthicnred</td>\n",
       "      <td>therealfergus</td>\n",
       "      <td>mackjyers21</td>\n",
       "      <td>shakylegs</td>\n",
       "      <td>1</td>\n",
       "    </tr>\n",
       "  </tbody>\n",
       "</table>\n",
       "</div>"
      ],
      "text/plain": [
       "                 1     2                  3          4                5  \\\n",
       "676758  herbietime  pacc  thezirconisdragon  namebrant  tonygordzilla22   \n",
       "\n",
       "                         6           7                8                   9  \\\n",
       "676758  black8yellownation  alecwilson  empireyikesback  burgertownthicnred   \n",
       "\n",
       "                   10           11         12  Count  \n",
       "676758  therealfergus  mackjyers21  shakylegs      1  "
      ]
     },
     "execution_count": 70,
     "metadata": {},
     "output_type": "execute_result"
    }
   ],
   "source": [
    "bottom = ['black8yellownation', 'tonygordzilla22', 'namebrant']\n",
    "query_str = ' and '.join([f'`{col}` not in @bottom' for col in [str(i) for i in range(7,13)]])\n",
    "playoffs_df.query(query_str)"
   ]
  },
  {
   "cell_type": "code",
   "execution_count": null,
   "metadata": {},
   "outputs": [],
   "source": [
    "playoffs_df[playoffs_df[1] == 'tonygordzilla22']"
   ]
  },
  {
   "cell_type": "code",
   "execution_count": 244,
   "metadata": {},
   "outputs": [
    {
     "data": {
      "text/plain": [
       "1.011275136797421e+25"
      ]
     },
     "execution_count": 244,
     "metadata": {},
     "output_type": "execute_result"
    }
   ],
   "source": [
    "# This cell estimates the total number possible season schedules.\n",
    "\n",
    "def generate_schedule_nums():\n",
    "    \"\"\"This funciton is a modified verstion of the generate schedule function \n",
    "    used in the multiprocessing function file. It aims to estimate the total \n",
    "    number of possible schedules. \n",
    "    \n",
    "    Generates a 14 week season schedule for an 12 team leage. Each team plays\n",
    "    all other teams once in the first 11 weeks. The first 3 weeks are repeated\n",
    "    for the last 3 weeks.\n",
    "\n",
    "    Returns:\n",
    "        list: A list of the number of schedules to choose from at each week\n",
    "    each week.\n",
    "    \"\"\"\n",
    "    weeks = set(all_weeks)\n",
    "    schedule = []\n",
    "    num_options = []\n",
    "\n",
    "    # Recursively fills the weekly schedule at random\n",
    "    def pick_week(weeks):\n",
    "        if len(schedule) == 11:\n",
    "            return\n",
    "        else:\n",
    "            tuple_weeks = tuple(weeks)\n",
    "            num_options.append(len(tuple_weeks))\n",
    "            choice = random.choice(tuple_weeks)\n",
    "            schedule.append(choice)\n",
    "            weeks -= similar_weeks[choice]\n",
    "            pick_week(weeks)\n",
    "    \n",
    "    # The above method has about a 70% success rate to pick a valid yearly \n",
    "    # schedule. This while loop will continue until a valid schedule is picked.\n",
    "    while len(schedule) != 11:\n",
    "        try:\n",
    "            pick_week(weeks)\n",
    "        except IndexError:\n",
    "            weeks = set(all_weeks)\n",
    "            schedule = []\n",
    "            num_options = []\n",
    "\n",
    "    # Adds the first three weeks of the schedule to the end to finish the 14\n",
    "    # week season\n",
    "    schedule += schedule[:3]\n",
    "\n",
    "    total = 1\n",
    "    for i in num_options:\n",
    "        total *= i\n",
    "\n",
    "    return(total)\n",
    "\n",
    "np.array([generate_schedule_nums() for i in range(1000)]).mean() * .7"
   ]
  },
  {
   "cell_type": "code",
   "execution_count": 297,
   "metadata": {},
   "outputs": [
    {
     "name": "stdout",
     "output_type": "stream",
     "text": [
      "|   rank | username           |   points_for |   points_against | record   |\n",
      "|-------:|:-------------------|-------------:|-----------------:|:---------|\n",
      "|      1 | pacc               |      2008.96 |          1765.22 | 9-5      |\n",
      "|      2 | thezirconisdragon  |      2000.73 |          1895.99 | 9-5      |\n",
      "|      3 | herbietime         |      2114.47 |          1990.59 | 8-6      |\n",
      "|      4 | alecwilson         |      2107.2  |          1854.36 | 8-6      |\n",
      "|      5 | empireyikesback    |      1798.42 |          1662.93 | 8-6      |\n",
      "|      6 | burgertownthicnred |      1769.67 |          1778.89 | 8-6      |\n",
      "|      7 | therealfergus      |      1814.81 |          2027.19 | 6-8      |\n",
      "|      8 | mackjyers21        |      1730.29 |          1818.54 | 6-8      |\n",
      "|      9 | shakylegs          |      1650.25 |          1838.57 | 6-8      |\n",
      "|     10 | tonygordzilla22    |      1625.72 |          1735.48 | 6-8      |\n",
      "|     11 | black8yellownation |      1495.6  |          1615.37 | 6-8      |\n",
      "|     12 | namebrant          |      1645.83 |          1778.82 | 4-10     |\n"
     ]
    }
   ],
   "source": [
    "# Prints the season outcomes in markdown\n",
    "outcome_2023 = owners_raw[[\"username\",\n",
    "                           \"fpts\",\n",
    "                           \"fpts_decimal\", \n",
    "                           \"fpts_against\", \n",
    "                           \"fpts_against_decimal\", \n",
    "                           \"wins\", \n",
    "                           \"losses\"]]\n",
    "\n",
    "def format_dec(x):\n",
    "    out = str((x/100))[1:]\n",
    "    if len(out) == 2:\n",
    "        out = out + \"0\"\n",
    "    return out\n",
    "\n",
    "outcome_2023 = (\n",
    "    outcome_2023\n",
    "    .assign(points_for = outcome_2023[\"fpts\"].astype(str) \n",
    "            + (outcome_2023[\"fpts_decimal\"].apply(format_dec)))\n",
    "    .assign(points_against = outcome_2023[\"fpts_against\"].astype(str) \n",
    "            + (outcome_2023[\"fpts_against_decimal\"].apply(format_dec)))\n",
    "    .assign(record = outcome_2023[\"wins\"].astype(str) + \"-\" \n",
    "            + outcome_2023[\"losses\"].astype(str))\n",
    "            )\n",
    "outcome_2023 = pd.DataFrame(season_ranks).merge(\n",
    "        outcome_2023,\n",
    "        left_index=True, \n",
    "        right_on='username')\n",
    "\n",
    "\n",
    "outcome_2023 = (outcome_2023\n",
    "                .set_index(\"rank\")\n",
    "                .drop(columns=[\"fpts\", \"fpts_decimal\", \"fpts_against\", \n",
    "                               \"fpts_against_decimal\", \"wins\", \"losses\"]))\n",
    "print(outcome_2023.to_markdown())"
   ]
  },
  {
   "cell_type": "code",
   "execution_count": 304,
   "metadata": {},
   "outputs": [
    {
     "name": "stdout",
     "output_type": "stream",
     "text": [
      "<table border=\"1\" class=\"dataframe\">\n",
      "  <thead>\n",
      "    <tr style=\"text-align: right;\">\n",
      "      <th></th>\n",
      "      <th>1</th>\n",
      "      <th>2</th>\n",
      "      <th>3</th>\n",
      "      <th>4</th>\n",
      "      <th>5</th>\n",
      "      <th>6</th>\n",
      "      <th>7</th>\n",
      "      <th>8</th>\n",
      "      <th>9</th>\n",
      "      <th>10</th>\n",
      "      <th>11</th>\n",
      "      <th>12</th>\n",
      "    </tr>\n",
      "    <tr>\n",
      "      <th>username</th>\n",
      "      <th></th>\n",
      "      <th></th>\n",
      "      <th></th>\n",
      "      <th></th>\n",
      "      <th></th>\n",
      "      <th></th>\n",
      "      <th></th>\n",
      "      <th></th>\n",
      "      <th></th>\n",
      "      <th></th>\n",
      "      <th></th>\n",
      "      <th></th>\n",
      "    </tr>\n",
      "  </thead>\n",
      "  <tbody>\n",
      "    <tr>\n",
      "      <th>herbietime</th>\n",
      "      <td>5191110</td>\n",
      "      <td>2466258</td>\n",
      "      <td>1263125</td>\n",
      "      <td>638384</td>\n",
      "      <td>281700</td>\n",
      "      <td>108655</td>\n",
      "      <td>38014</td>\n",
      "      <td>10242</td>\n",
      "      <td>2192</td>\n",
      "      <td>300</td>\n",
      "      <td>20</td>\n",
      "      <td>0</td>\n",
      "    </tr>\n",
      "    <tr>\n",
      "      <th>thezirconisdragon</th>\n",
      "      <td>2074697</td>\n",
      "      <td>2171155</td>\n",
      "      <td>2116925</td>\n",
      "      <td>1910464</td>\n",
      "      <td>908055</td>\n",
      "      <td>432684</td>\n",
      "      <td>211870</td>\n",
      "      <td>104144</td>\n",
      "      <td>44943</td>\n",
      "      <td>18354</td>\n",
      "      <td>6032</td>\n",
      "      <td>677</td>\n",
      "    </tr>\n",
      "    <tr>\n",
      "      <th>pacc</th>\n",
      "      <td>1301049</td>\n",
      "      <td>2361512</td>\n",
      "      <td>2587268</td>\n",
      "      <td>2017290</td>\n",
      "      <td>952164</td>\n",
      "      <td>439508</td>\n",
      "      <td>200778</td>\n",
      "      <td>89029</td>\n",
      "      <td>34619</td>\n",
      "      <td>12850</td>\n",
      "      <td>3618</td>\n",
      "      <td>315</td>\n",
      "    </tr>\n",
      "    <tr>\n",
      "      <th>alecwilson</th>\n",
      "      <td>1209358</td>\n",
      "      <td>2309450</td>\n",
      "      <td>2423388</td>\n",
      "      <td>2001998</td>\n",
      "      <td>1123941</td>\n",
      "      <td>556264</td>\n",
      "      <td>243843</td>\n",
      "      <td>95928</td>\n",
      "      <td>28520</td>\n",
      "      <td>6519</td>\n",
      "      <td>771</td>\n",
      "      <td>20</td>\n",
      "    </tr>\n",
      "    <tr>\n",
      "      <th>empireyikesback</th>\n",
      "      <td>100340</td>\n",
      "      <td>300327</td>\n",
      "      <td>652351</td>\n",
      "      <td>1275076</td>\n",
      "      <td>2215778</td>\n",
      "      <td>2300439</td>\n",
      "      <td>1551716</td>\n",
      "      <td>906495</td>\n",
      "      <td>443471</td>\n",
      "      <td>187408</td>\n",
      "      <td>59043</td>\n",
      "      <td>7556</td>\n",
      "    </tr>\n",
      "    <tr>\n",
      "      <th>therealfergus</th>\n",
      "      <td>79027</td>\n",
      "      <td>231050</td>\n",
      "      <td>524234</td>\n",
      "      <td>1112273</td>\n",
      "      <td>2232044</td>\n",
      "      <td>2101218</td>\n",
      "      <td>1603096</td>\n",
      "      <td>1077066</td>\n",
      "      <td>611100</td>\n",
      "      <td>301181</td>\n",
      "      <td>112416</td>\n",
      "      <td>15295</td>\n",
      "    </tr>\n",
      "    <tr>\n",
      "      <th>mackjyers21</th>\n",
      "      <td>29770</td>\n",
      "      <td>97803</td>\n",
      "      <td>239929</td>\n",
      "      <td>529663</td>\n",
      "      <td>1024433</td>\n",
      "      <td>1574398</td>\n",
      "      <td>2006172</td>\n",
      "      <td>2136204</td>\n",
      "      <td>1266054</td>\n",
      "      <td>688986</td>\n",
      "      <td>334023</td>\n",
      "      <td>72565</td>\n",
      "    </tr>\n",
      "    <tr>\n",
      "      <th>burgertownthicnred</th>\n",
      "      <td>12441</td>\n",
      "      <td>50768</td>\n",
      "      <td>148201</td>\n",
      "      <td>374902</td>\n",
      "      <td>863380</td>\n",
      "      <td>1594773</td>\n",
      "      <td>2346878</td>\n",
      "      <td>2212003</td>\n",
      "      <td>1351781</td>\n",
      "      <td>705852</td>\n",
      "      <td>291124</td>\n",
      "      <td>47897</td>\n",
      "    </tr>\n",
      "    <tr>\n",
      "      <th>shakylegs</th>\n",
      "      <td>1832</td>\n",
      "      <td>8321</td>\n",
      "      <td>27895</td>\n",
      "      <td>79198</td>\n",
      "      <td>204288</td>\n",
      "      <td>428686</td>\n",
      "      <td>818694</td>\n",
      "      <td>1486333</td>\n",
      "      <td>2669906</td>\n",
      "      <td>2335301</td>\n",
      "      <td>1514670</td>\n",
      "      <td>424876</td>\n",
      "    </tr>\n",
      "    <tr>\n",
      "      <th>namebrant</th>\n",
      "      <td>340</td>\n",
      "      <td>2944</td>\n",
      "      <td>13802</td>\n",
      "      <td>46325</td>\n",
      "      <td>136744</td>\n",
      "      <td>302059</td>\n",
      "      <td>591635</td>\n",
      "      <td>1072327</td>\n",
      "      <td>1910769</td>\n",
      "      <td>2822535</td>\n",
      "      <td>2315996</td>\n",
      "      <td>784524</td>\n",
      "    </tr>\n",
      "    <tr>\n",
      "      <th>tonygordzilla22</th>\n",
      "      <td>36</td>\n",
      "      <td>403</td>\n",
      "      <td>2825</td>\n",
      "      <td>14000</td>\n",
      "      <td>54992</td>\n",
      "      <td>151888</td>\n",
      "      <td>361161</td>\n",
      "      <td>736419</td>\n",
      "      <td>1446341</td>\n",
      "      <td>2425927</td>\n",
      "      <td>3904713</td>\n",
      "      <td>901295</td>\n",
      "    </tr>\n",
      "    <tr>\n",
      "      <th>black8yellownation</th>\n",
      "      <td>0</td>\n",
      "      <td>9</td>\n",
      "      <td>57</td>\n",
      "      <td>427</td>\n",
      "      <td>2481</td>\n",
      "      <td>9428</td>\n",
      "      <td>26143</td>\n",
      "      <td>73810</td>\n",
      "      <td>190304</td>\n",
      "      <td>494787</td>\n",
      "      <td>1457574</td>\n",
      "      <td>7744980</td>\n",
      "    </tr>\n",
      "  </tbody>\n",
      "</table>\n"
     ]
    }
   ],
   "source": [
    "# prints the records count in markdown\n",
    "print(records_df_count.astype(str).to_html())"
   ]
  },
  {
   "cell_type": "code",
   "execution_count": null,
   "metadata": {},
   "outputs": [],
   "source": []
  }
 ],
 "metadata": {
  "kernelspec": {
   "display_name": "sleeper",
   "language": "python",
   "name": "python3"
  },
  "language_info": {
   "codemirror_mode": {
    "name": "ipython",
    "version": 3
   },
   "file_extension": ".py",
   "mimetype": "text/x-python",
   "name": "python",
   "nbconvert_exporter": "python",
   "pygments_lexer": "ipython3",
   "version": "3.11.9"
  }
 },
 "nbformat": 4,
 "nbformat_minor": 2
}
