{
 "cells": [
  {
   "cell_type": "code",
   "execution_count": 2,
   "metadata": {},
   "outputs": [],
   "source": [
    "%matplotlib inline\n",
    "import requests\n",
    "import pandas as pd\n",
    "import json\n",
    "import plotly.express as px"
   ]
  },
  {
   "cell_type": "code",
   "execution_count": 3,
   "metadata": {},
   "outputs": [],
   "source": [
    "USERNAME = 'TheRealFergus'\n",
    "SPORT = 'nfl'"
   ]
  },
  {
   "cell_type": "code",
   "execution_count": 4,
   "metadata": {},
   "outputs": [],
   "source": [
    "def _clean_int(x):\n",
    "    if x not in [\"\", \"0\", None]:\n",
    "        return int(x) \n",
    "    else:\n",
    "        return None\n",
    "    \n",
    "def _clean_height(height):\n",
    "    if height in [\"\", \"0\", None]:\n",
    "        return None\n",
    "    try:\n",
    "        height = int(height)\n",
    "    except:\n",
    "        height = height.strip(\"\\\"\").split('\\'')\n",
    "        height = int(height[0]) * 12 + int(height[1])\n",
    "\n",
    "    if height > 96 or height < 36:\n",
    "        return None\n",
    "    else:\n",
    "        return height"
   ]
  },
  {
   "cell_type": "code",
   "execution_count": 5,
   "metadata": {},
   "outputs": [],
   "source": [
    "def _clean_players(players):\n",
    "\n",
    "    teams = pd.DataFrame({key: players[key] for key in players.keys() if key.isalpha()}).transpose()\n",
    "    players = pd.DataFrame({key: players[key] for key in players.keys() if key.isnumeric()}).transpose()\n",
    "\n",
    "    players = (players\n",
    "               .assign(years_exp = players[\"years_exp\"].apply(_clean_int))\n",
    "               .assign(weight = players[\"weight\"].apply(_clean_int))\n",
    "               .assign(age = players[\"age\"].apply(_clean_int))\n",
    "               .assign(depth_chart_order = players[\"depth_chart_order\"]\n",
    "                                           .apply(_clean_int))\n",
    "               .assign(height = players[\"height\"].apply(_clean_height))\n",
    "               .assign(birth_date = pd.to_datetime(players[\"birth_date\"], \n",
    "                                                   format = '%Y-%m-%d')))\n",
    "    \n",
    "    return players, teams"
   ]
  },
  {
   "cell_type": "code",
   "execution_count": 6,
   "metadata": {},
   "outputs": [],
   "source": [
    "def get_player_data(save = True, filename = 'players.json', include_teams = False):\n",
    "    \"\"\"Gets all NFL Player data from the Sleeper API. Only call this once per \n",
    "    day as requested by Sleeper. The file is ~ 12MB. Automatically saves the \n",
    "    data in a json file named 'players.json'\n",
    "\n",
    "    Args:\n",
    "        save (bool, optional): If False, a file of the player data will not be \n",
    "        saved. Defaults to True.\n",
    "\n",
    "        filename (str, optional): The filename to save the player data. Defaults\n",
    "        to 'players.json'.\n",
    "\n",
    "        include_teams (bool, optional): If Ture, includes returns team defenses\n",
    "        as a second output\n",
    "\n",
    "    Returns:\n",
    "        dict: A dictionary containing all NFL player data. If include_teams is \n",
    "        True, also outputs a pandas dataframe containg team defense data.\n",
    "    \"\"\"\n",
    "    response = requests.get(f'https://api.sleeper.app/v1/players/nfl')  \n",
    "\n",
    "    players = response.json()\n",
    "\n",
    "    if save:\n",
    "        with open(filename, 'w') as json_file:\n",
    "            json.dump(players, json_file)\n",
    "\n",
    "    players, teams = _clean_players(players)\n",
    "    \n",
    "    if not include_teams:\n",
    "        return players\n",
    "    else:\n",
    "        return players, teams  "
   ]
  },
  {
   "cell_type": "code",
   "execution_count": 7,
   "metadata": {},
   "outputs": [],
   "source": [
    "def load_player_data(filename = 'players.json', include_teams = False):\n",
    "    \"\"\"Loads player data from a json file. Default behavior will load data from \n",
    "    the file saved by the function get_player_data()\n",
    "\n",
    "    Args:\n",
    "        filename (str, optional): The filename to load. Defaults to \n",
    "        'players.json'.\n",
    "\n",
    "    Returns:\n",
    "        dict: A dictionary containing all NFL player data.\n",
    "    \"\"\"\n",
    "    with open('players.json', 'r') as json_file:\n",
    "        players = json.load(json_file)\n",
    "\n",
    "    players, teams = _clean_players(players)\n",
    "    \n",
    "    if not include_teams:\n",
    "        return players\n",
    "    else:\n",
    "        return players, teams "
   ]
  },
  {
   "cell_type": "code",
   "execution_count": 8,
   "metadata": {},
   "outputs": [],
   "source": [
    "# Gets the user id\n",
    "user = requests.get(f'https://api.sleeper.app/v1/user/{USERNAME}').json()\n",
    "user_id = user[\"user_id\"]\n",
    "\n",
    "# Gets the current league id and league data\n",
    "season = '2024'\n",
    "leagues =  requests.get(f'https://api.sleeper.app/v1/user/{user_id}/leagues/{SPORT}/{season}').json()\n",
    "league_id = leagues[0]['league_id']\n",
    "league = requests.get(f'https://api.sleeper.app/v1/league/{league_id}').json()\n",
    "\n",
    "# Saves the scoring settings of the league for use in projected points\n",
    "settings = league[\"scoring_settings\"]\n",
    "\n",
    "# Gets all rosters for the league\n",
    "rosters = requests.get(f'https://api.sleeper.app/v1/league/{league_id}/rosters').json()\n",
    "\n",
    "# Saves all owner id's in the league\n",
    "owner_ids = [rosters[i][\"owner_id\"] for i in range(len(rosters))]\n",
    "\n",
    "# Gets all the owner's data for the league\n",
    "owners = []\n",
    "for owner_id in owner_ids:\n",
    "    owners.append(requests.get(f'https://api.sleeper.app/v1/user/{owner_id}').json())\n",
    "\n",
    "# Saves owner usernames in a series indexed by user id\n",
    "usernames = [owners[i]['username'] for i in range(len(owners))]\n",
    "users = pd.Series(usernames, index = owner_ids, name = 'username')\n",
    "users.index.name = \"user_id\"\n",
    "\n",
    "# Saves rosters in a dictionary with user id's as keys\n",
    "rosters = {rosters[i]['owner_id']: rosters[i] for i in range(len(rosters))}"
   ]
  },
  {
   "cell_type": "code",
   "execution_count": 275,
   "metadata": {},
   "outputs": [],
   "source": [
    "def get_user_data(username):\n",
    "    #Works for username or user_id\n",
    "    return requests.get(f'https://api.sleeper.app/v1/user/{username}').json()\n",
    "\n",
    "def get_league_ids(user_id, year):\n",
    "    leagues = requests.get(f'https://api.sleeper.app/v1/user/{user_id}/leagues/nfl/{year}').json()\n",
    "    ids = [league[\"league_id\"] for league in leagues]\n",
    "    return ids\n",
    "\n",
    "def get_leage(league_id):\n",
    "    return requests.get(f'https://api.sleeper.app/v1/league/{league_id}').json()\n",
    "\n",
    "def get_owners(league_id):\n",
    "\n",
    "    rosters = requests.get(f'https://api.sleeper.app/v1/league/{league_id}/rosters').json()\n",
    "\n",
    "    rosters = pd.DataFrame(rosters)\n",
    "\n",
    "    user_ids = rosters[\"owner_id\"]\n",
    "    users = [get_user_data(user_id) for user_id in user_ids]\n",
    "    users = pd.DataFrame(users)\n",
    "\n",
    "    settings = pd.DataFrame(list((rosters[\"settings\"])))\n",
    "    rosters = rosters.merge(settings, left_index=True,  right_index=True).drop(columns = \"settings\")\n",
    "\n",
    "    owners = (users\n",
    "              .merge(rosters, left_on = 'user_id', right_on = 'owner_id')\n",
    "              .dropna(how = 'all', axis=1))\n",
    "    \n",
    "    return owners"
   ]
  },
  {
   "cell_type": "code",
   "execution_count": 276,
   "metadata": {},
   "outputs": [],
   "source": [
    "players = load_player_data()\n",
    "user = get_user_data(USERNAME)\n",
    "user_id = user[\"user_id\"]\n",
    "league_id = get_league_ids(user_id, 2024)[0]\n",
    "league = get_leage(league_id)\n",
    "owners = get_owners(league_id)\n"
   ]
  },
  {
   "cell_type": "code",
   "execution_count": 203,
   "metadata": {},
   "outputs": [],
   "source": [
    "user_ids = pd.DataFrame(rosters)[\"owner_id\"]\n",
    "users = [get_user_data(user_id) for user_id in user_ids]"
   ]
  },
  {
   "cell_type": "code",
   "execution_count": 272,
   "metadata": {},
   "outputs": [
    {
     "data": {
      "text/plain": [
       "0     True\n",
       "1     True\n",
       "2     True\n",
       "3     True\n",
       "4     True\n",
       "5     True\n",
       "6     True\n",
       "7     True\n",
       "8     True\n",
       "9     True\n",
       "10    True\n",
       "11    True\n",
       "Name: phone, dtype: bool"
      ]
     },
     "execution_count": 272,
     "metadata": {},
     "output_type": "execute_result"
    }
   ],
   "source": [
    "users = pd.DataFrame(users)\n",
    "users[\"phone\"].isna()"
   ]
  },
  {
   "cell_type": "code",
   "execution_count": 239,
   "metadata": {},
   "outputs": [],
   "source": [
    "rosters = pd.DataFrame(rosters)\n"
   ]
  },
  {
   "cell_type": "code",
   "execution_count": 242,
   "metadata": {},
   "outputs": [],
   "source": [
    "settings = pd.DataFrame(list((rosters[\"settings\"])))"
   ]
  },
  {
   "cell_type": "code",
   "execution_count": 252,
   "metadata": {},
   "outputs": [
    {
     "ename": "KeyError",
     "evalue": "\"['settings'] not found in axis\"",
     "output_type": "error",
     "traceback": [
      "\u001b[0;31m---------------------------------------------------------------------------\u001b[0m",
      "\u001b[0;31mKeyError\u001b[0m                                  Traceback (most recent call last)",
      "Cell \u001b[0;32mIn[252], line 1\u001b[0m\n\u001b[0;32m----> 1\u001b[0m rosters \u001b[38;5;241m=\u001b[39m \u001b[43mrosters\u001b[49m\u001b[38;5;241;43m.\u001b[39;49m\u001b[43mmerge\u001b[49m\u001b[43m(\u001b[49m\u001b[43msettings\u001b[49m\u001b[43m,\u001b[49m\u001b[43m \u001b[49m\u001b[43mleft_index\u001b[49m\u001b[38;5;241;43m=\u001b[39;49m\u001b[38;5;28;43;01mTrue\u001b[39;49;00m\u001b[43m,\u001b[49m\u001b[43m  \u001b[49m\u001b[43mright_index\u001b[49m\u001b[38;5;241;43m=\u001b[39;49m\u001b[38;5;28;43;01mTrue\u001b[39;49;00m\u001b[43m)\u001b[49m\u001b[38;5;241;43m.\u001b[39;49m\u001b[43mdrop\u001b[49m\u001b[43m(\u001b[49m\u001b[43mcolumns\u001b[49m\u001b[43m \u001b[49m\u001b[38;5;241;43m=\u001b[39;49m\u001b[43m \u001b[49m\u001b[38;5;124;43m\"\u001b[39;49m\u001b[38;5;124;43msettings\u001b[39;49m\u001b[38;5;124;43m\"\u001b[39;49m\u001b[43m)\u001b[49m\n\u001b[1;32m      2\u001b[0m rosters\u001b[38;5;241m.\u001b[39mcolumns\n",
      "File \u001b[0;32m/opt/anaconda3/envs/sleeper/lib/python3.11/site-packages/pandas/core/frame.py:5568\u001b[0m, in \u001b[0;36mDataFrame.drop\u001b[0;34m(self, labels, axis, index, columns, level, inplace, errors)\u001b[0m\n\u001b[1;32m   5420\u001b[0m \u001b[38;5;28;01mdef\u001b[39;00m \u001b[38;5;21mdrop\u001b[39m(\n\u001b[1;32m   5421\u001b[0m     \u001b[38;5;28mself\u001b[39m,\n\u001b[1;32m   5422\u001b[0m     labels: IndexLabel \u001b[38;5;241m|\u001b[39m \u001b[38;5;28;01mNone\u001b[39;00m \u001b[38;5;241m=\u001b[39m \u001b[38;5;28;01mNone\u001b[39;00m,\n\u001b[0;32m   (...)\u001b[0m\n\u001b[1;32m   5429\u001b[0m     errors: IgnoreRaise \u001b[38;5;241m=\u001b[39m \u001b[38;5;124m\"\u001b[39m\u001b[38;5;124mraise\u001b[39m\u001b[38;5;124m\"\u001b[39m,\n\u001b[1;32m   5430\u001b[0m ) \u001b[38;5;241m-\u001b[39m\u001b[38;5;241m>\u001b[39m DataFrame \u001b[38;5;241m|\u001b[39m \u001b[38;5;28;01mNone\u001b[39;00m:\n\u001b[1;32m   5431\u001b[0m \u001b[38;5;250m    \u001b[39m\u001b[38;5;124;03m\"\"\"\u001b[39;00m\n\u001b[1;32m   5432\u001b[0m \u001b[38;5;124;03m    Drop specified labels from rows or columns.\u001b[39;00m\n\u001b[1;32m   5433\u001b[0m \n\u001b[0;32m   (...)\u001b[0m\n\u001b[1;32m   5566\u001b[0m \u001b[38;5;124;03m            weight  1.0     0.8\u001b[39;00m\n\u001b[1;32m   5567\u001b[0m \u001b[38;5;124;03m    \"\"\"\u001b[39;00m\n\u001b[0;32m-> 5568\u001b[0m     \u001b[38;5;28;01mreturn\u001b[39;00m \u001b[38;5;28;43msuper\u001b[39;49m\u001b[43m(\u001b[49m\u001b[43m)\u001b[49m\u001b[38;5;241;43m.\u001b[39;49m\u001b[43mdrop\u001b[49m\u001b[43m(\u001b[49m\n\u001b[1;32m   5569\u001b[0m \u001b[43m        \u001b[49m\u001b[43mlabels\u001b[49m\u001b[38;5;241;43m=\u001b[39;49m\u001b[43mlabels\u001b[49m\u001b[43m,\u001b[49m\n\u001b[1;32m   5570\u001b[0m \u001b[43m        \u001b[49m\u001b[43maxis\u001b[49m\u001b[38;5;241;43m=\u001b[39;49m\u001b[43maxis\u001b[49m\u001b[43m,\u001b[49m\n\u001b[1;32m   5571\u001b[0m \u001b[43m        \u001b[49m\u001b[43mindex\u001b[49m\u001b[38;5;241;43m=\u001b[39;49m\u001b[43mindex\u001b[49m\u001b[43m,\u001b[49m\n\u001b[1;32m   5572\u001b[0m \u001b[43m        \u001b[49m\u001b[43mcolumns\u001b[49m\u001b[38;5;241;43m=\u001b[39;49m\u001b[43mcolumns\u001b[49m\u001b[43m,\u001b[49m\n\u001b[1;32m   5573\u001b[0m \u001b[43m        \u001b[49m\u001b[43mlevel\u001b[49m\u001b[38;5;241;43m=\u001b[39;49m\u001b[43mlevel\u001b[49m\u001b[43m,\u001b[49m\n\u001b[1;32m   5574\u001b[0m \u001b[43m        \u001b[49m\u001b[43minplace\u001b[49m\u001b[38;5;241;43m=\u001b[39;49m\u001b[43minplace\u001b[49m\u001b[43m,\u001b[49m\n\u001b[1;32m   5575\u001b[0m \u001b[43m        \u001b[49m\u001b[43merrors\u001b[49m\u001b[38;5;241;43m=\u001b[39;49m\u001b[43merrors\u001b[49m\u001b[43m,\u001b[49m\n\u001b[1;32m   5576\u001b[0m \u001b[43m    \u001b[49m\u001b[43m)\u001b[49m\n",
      "File \u001b[0;32m/opt/anaconda3/envs/sleeper/lib/python3.11/site-packages/pandas/core/generic.py:4785\u001b[0m, in \u001b[0;36mNDFrame.drop\u001b[0;34m(self, labels, axis, index, columns, level, inplace, errors)\u001b[0m\n\u001b[1;32m   4783\u001b[0m \u001b[38;5;28;01mfor\u001b[39;00m axis, labels \u001b[38;5;129;01min\u001b[39;00m axes\u001b[38;5;241m.\u001b[39mitems():\n\u001b[1;32m   4784\u001b[0m     \u001b[38;5;28;01mif\u001b[39;00m labels \u001b[38;5;129;01mis\u001b[39;00m \u001b[38;5;129;01mnot\u001b[39;00m \u001b[38;5;28;01mNone\u001b[39;00m:\n\u001b[0;32m-> 4785\u001b[0m         obj \u001b[38;5;241m=\u001b[39m \u001b[43mobj\u001b[49m\u001b[38;5;241;43m.\u001b[39;49m\u001b[43m_drop_axis\u001b[49m\u001b[43m(\u001b[49m\u001b[43mlabels\u001b[49m\u001b[43m,\u001b[49m\u001b[43m \u001b[49m\u001b[43maxis\u001b[49m\u001b[43m,\u001b[49m\u001b[43m \u001b[49m\u001b[43mlevel\u001b[49m\u001b[38;5;241;43m=\u001b[39;49m\u001b[43mlevel\u001b[49m\u001b[43m,\u001b[49m\u001b[43m \u001b[49m\u001b[43merrors\u001b[49m\u001b[38;5;241;43m=\u001b[39;49m\u001b[43merrors\u001b[49m\u001b[43m)\u001b[49m\n\u001b[1;32m   4787\u001b[0m \u001b[38;5;28;01mif\u001b[39;00m inplace:\n\u001b[1;32m   4788\u001b[0m     \u001b[38;5;28mself\u001b[39m\u001b[38;5;241m.\u001b[39m_update_inplace(obj)\n",
      "File \u001b[0;32m/opt/anaconda3/envs/sleeper/lib/python3.11/site-packages/pandas/core/generic.py:4827\u001b[0m, in \u001b[0;36mNDFrame._drop_axis\u001b[0;34m(self, labels, axis, level, errors, only_slice)\u001b[0m\n\u001b[1;32m   4825\u001b[0m         new_axis \u001b[38;5;241m=\u001b[39m axis\u001b[38;5;241m.\u001b[39mdrop(labels, level\u001b[38;5;241m=\u001b[39mlevel, errors\u001b[38;5;241m=\u001b[39merrors)\n\u001b[1;32m   4826\u001b[0m     \u001b[38;5;28;01melse\u001b[39;00m:\n\u001b[0;32m-> 4827\u001b[0m         new_axis \u001b[38;5;241m=\u001b[39m \u001b[43maxis\u001b[49m\u001b[38;5;241;43m.\u001b[39;49m\u001b[43mdrop\u001b[49m\u001b[43m(\u001b[49m\u001b[43mlabels\u001b[49m\u001b[43m,\u001b[49m\u001b[43m \u001b[49m\u001b[43merrors\u001b[49m\u001b[38;5;241;43m=\u001b[39;49m\u001b[43merrors\u001b[49m\u001b[43m)\u001b[49m\n\u001b[1;32m   4828\u001b[0m     indexer \u001b[38;5;241m=\u001b[39m axis\u001b[38;5;241m.\u001b[39mget_indexer(new_axis)\n\u001b[1;32m   4830\u001b[0m \u001b[38;5;66;03m# Case for non-unique axis\u001b[39;00m\n\u001b[1;32m   4831\u001b[0m \u001b[38;5;28;01melse\u001b[39;00m:\n",
      "File \u001b[0;32m/opt/anaconda3/envs/sleeper/lib/python3.11/site-packages/pandas/core/indexes/base.py:7070\u001b[0m, in \u001b[0;36mIndex.drop\u001b[0;34m(self, labels, errors)\u001b[0m\n\u001b[1;32m   7068\u001b[0m \u001b[38;5;28;01mif\u001b[39;00m mask\u001b[38;5;241m.\u001b[39many():\n\u001b[1;32m   7069\u001b[0m     \u001b[38;5;28;01mif\u001b[39;00m errors \u001b[38;5;241m!=\u001b[39m \u001b[38;5;124m\"\u001b[39m\u001b[38;5;124mignore\u001b[39m\u001b[38;5;124m\"\u001b[39m:\n\u001b[0;32m-> 7070\u001b[0m         \u001b[38;5;28;01mraise\u001b[39;00m \u001b[38;5;167;01mKeyError\u001b[39;00m(\u001b[38;5;124mf\u001b[39m\u001b[38;5;124m\"\u001b[39m\u001b[38;5;132;01m{\u001b[39;00mlabels[mask]\u001b[38;5;241m.\u001b[39mtolist()\u001b[38;5;132;01m}\u001b[39;00m\u001b[38;5;124m not found in axis\u001b[39m\u001b[38;5;124m\"\u001b[39m)\n\u001b[1;32m   7071\u001b[0m     indexer \u001b[38;5;241m=\u001b[39m indexer[\u001b[38;5;241m~\u001b[39mmask]\n\u001b[1;32m   7072\u001b[0m \u001b[38;5;28;01mreturn\u001b[39;00m \u001b[38;5;28mself\u001b[39m\u001b[38;5;241m.\u001b[39mdelete(indexer)\n",
      "\u001b[0;31mKeyError\u001b[0m: \"['settings'] not found in axis\""
     ]
    }
   ],
   "source": [
    "rosters = rosters.merge(settings, left_index=True,  right_index=True).drop(columns = \"settings\")\n",
    "rosters.columns"
   ]
  },
  {
   "cell_type": "code",
   "execution_count": 253,
   "metadata": {},
   "outputs": [
    {
     "data": {
      "text/plain": [
       "Index(['verification', 'username', 'user_id', 'token', 'summoner_region',\n",
       "       'summoner_name', 'solicitable', 'real_name', 'phone', 'pending',\n",
       "       'notifications', 'metadata_x', 'is_bot', 'email', 'display_name',\n",
       "       'deleted', 'data_updated', 'currencies', 'created', 'cookies', 'avatar',\n",
       "       'taxi', 'starters', 'roster_id', 'reserve', 'players', 'player_map',\n",
       "       'owner_id', 'metadata_y', 'league_id', 'keepers', 'co_owners', 'wins',\n",
       "       'waiver_position', 'waiver_budget_used', 'total_moves', 'ties',\n",
       "       'losses', 'fpts', 'division'],\n",
       "      dtype='object')"
      ]
     },
     "execution_count": 253,
     "metadata": {},
     "output_type": "execute_result"
    }
   ],
   "source": [
    "owners = users.merge(rosters, left_on = 'user_id', right_on = 'owner_id')\n",
    "owners.columns"
   ]
  },
  {
   "cell_type": "code",
   "execution_count": 10,
   "metadata": {},
   "outputs": [],
   "source": [
    "players = get_player_data()\n",
    "\n",
    "# Gets player projections for the year\n",
    "year = '2024'\n",
    "projs = requests.get(f'https://api.sleeper.com/projections/nfl/{year}?season_type=regular&position[]=QB&position[]=RB&position[]=TE&position[]=WR&order_by=pts_dynasty_2qb').json()    \n",
    "\n",
    "# Saves the player ids of the player\n",
    "projections = [{'player_id': player[\"player_id\"]} for player in projs]\n",
    "\n",
    "# Adds the players projected stat totals to the projections\n",
    "for i in range(len(projs)):\n",
    "    for (stat, project) in projs[i][\"stats\"].items():\n",
    "        projections[i][stat] = project\n",
    "\n",
    "# Reformats the projects as a dataframe\n",
    "projections = pd.DataFrame(projections).set_index(\"player_id\")\n",
    "\n",
    "# Defines the columns of the projections dataframe\n",
    "# Only the columns that are relevant to the league settings are saved\n",
    "cols = list(set(projections.columns) & set(settings.keys()))\n",
    "projections = projections[cols]\n",
    "\n",
    "# Multiplies each stat by their respective point values from the league settings\n",
    "for (stat, points) in settings.items():\n",
    "    if stat in cols:\n",
    "        projections = projections.assign(**{stat : projections[stat] * points})\n",
    "\n",
    "# Assigns the total projected points to the dataframe\n",
    "projections = projections.assign(projected = projections.iloc[:,1:].sum(axis = 1))\n",
    "\n",
    "# Merges the projections with the player data\n",
    "projections = projections.merge(players, left_index = True, right_index = True)\n"
   ]
  },
  {
   "cell_type": "code",
   "execution_count": 45,
   "metadata": {},
   "outputs": [
    {
     "data": {
      "text/plain": [
       "[{'player_id': '9999'},\n",
       " {'player_id': '9998'},\n",
       " {'player_id': '9997'},\n",
       " {'player_id': '982'},\n",
       " {'player_id': '9759'},\n",
       " {'player_id': '9758'},\n",
       " {'player_id': '9757'},\n",
       " {'player_id': '9756'},\n",
       " {'player_id': '9754'},\n",
       " {'player_id': '9753'},\n",
       " {'player_id': '973'},\n",
       " {'player_id': '964'},\n",
       " {'player_id': '963'},\n",
       " {'player_id': '96'},\n",
       " {'player_id': '956'},\n",
       " {'player_id': '954'},\n",
       " {'player_id': '9512'},\n",
       " {'player_id': '9511'},\n",
       " {'player_id': '9510'},\n",
       " {'player_id': '9509'},\n",
       " {'player_id': '9508'},\n",
       " {'player_id': '9507'},\n",
       " {'player_id': '9506'},\n",
       " {'player_id': '9505'},\n",
       " {'player_id': '9504'},\n",
       " {'player_id': '9503'},\n",
       " {'player_id': '9502'},\n",
       " {'player_id': '9501'},\n",
       " {'player_id': '9500'},\n",
       " {'player_id': '9499'},\n",
       " {'player_id': '9498'},\n",
       " {'player_id': '9497'},\n",
       " {'player_id': '9496'},\n",
       " {'player_id': '9495'},\n",
       " {'player_id': '9494'},\n",
       " {'player_id': '9493'},\n",
       " {'player_id': '9492'},\n",
       " {'player_id': '9491'},\n",
       " {'player_id': '9490'},\n",
       " {'player_id': '9489'},\n",
       " {'player_id': '9488'},\n",
       " {'player_id': '9487'},\n",
       " {'player_id': '9486'},\n",
       " {'player_id': '9484'},\n",
       " {'player_id': '9483'},\n",
       " {'player_id': '9482'},\n",
       " {'player_id': '9481'},\n",
       " {'player_id': '9480'},\n",
       " {'player_id': '9479'},\n",
       " {'player_id': '947'},\n",
       " {'player_id': '943'},\n",
       " {'player_id': '928'},\n",
       " {'player_id': '9231'},\n",
       " {'player_id': '9230'},\n",
       " {'player_id': '9229'},\n",
       " {'player_id': '9228'},\n",
       " {'player_id': '9227'},\n",
       " {'player_id': '9226'},\n",
       " {'player_id': '9225'},\n",
       " {'player_id': '9224'},\n",
       " {'player_id': '9223'},\n",
       " {'player_id': '9222'},\n",
       " {'player_id': '9221'},\n",
       " {'player_id': '9220'},\n",
       " {'player_id': '902'},\n",
       " {'player_id': '8938'},\n",
       " {'player_id': '8934'},\n",
       " {'player_id': '8931'},\n",
       " {'player_id': '8928'},\n",
       " {'player_id': '8924'},\n",
       " {'player_id': '8921'},\n",
       " {'player_id': '8917'},\n",
       " {'player_id': '8915'},\n",
       " {'player_id': '8908'},\n",
       " {'player_id': '8905'},\n",
       " {'player_id': '89'},\n",
       " {'player_id': '8892'},\n",
       " {'player_id': '8891'},\n",
       " {'player_id': '8890'},\n",
       " {'player_id': '8888'},\n",
       " {'player_id': '8885'},\n",
       " {'player_id': '8884'},\n",
       " {'player_id': '8881'},\n",
       " {'player_id': '8878'},\n",
       " {'player_id': '8876'},\n",
       " {'player_id': '8864'},\n",
       " {'player_id': '8863'},\n",
       " {'player_id': '8861'},\n",
       " {'player_id': '886'},\n",
       " {'player_id': '8858'},\n",
       " {'player_id': '8849'},\n",
       " {'player_id': '8840'},\n",
       " {'player_id': '8831'},\n",
       " {'player_id': '8828'},\n",
       " {'player_id': '8825'},\n",
       " {'player_id': '8824'},\n",
       " {'player_id': '8820'},\n",
       " {'player_id': '8817'},\n",
       " {'player_id': '8813'},\n",
       " {'player_id': '8809'},\n",
       " {'player_id': '8801'},\n",
       " {'player_id': '8800'},\n",
       " {'player_id': '8799'},\n",
       " {'player_id': '8798'},\n",
       " {'player_id': '8783'},\n",
       " {'player_id': '8778'},\n",
       " {'player_id': '8770'},\n",
       " {'player_id': '8769'},\n",
       " {'player_id': '8760'},\n",
       " {'player_id': '8757'},\n",
       " {'player_id': '8756'},\n",
       " {'player_id': '8755'},\n",
       " {'player_id': '8751'},\n",
       " {'player_id': '8749'},\n",
       " {'player_id': '8747'},\n",
       " {'player_id': '8745'},\n",
       " {'player_id': '8741'},\n",
       " {'player_id': '8732'},\n",
       " {'player_id': '8731'},\n",
       " {'player_id': '8721'},\n",
       " {'player_id': '8707'},\n",
       " {'player_id': '8706'},\n",
       " {'player_id': '8705'},\n",
       " {'player_id': '8700'},\n",
       " {'player_id': '8699'},\n",
       " {'player_id': '8698'},\n",
       " {'player_id': '8697'},\n",
       " {'player_id': '8694'},\n",
       " {'player_id': '8690'},\n",
       " {'player_id': '8685'},\n",
       " {'player_id': '868'},\n",
       " {'player_id': '8676'},\n",
       " {'player_id': '8665'},\n",
       " {'player_id': '8663'},\n",
       " {'player_id': '8660'},\n",
       " {'player_id': '8656'},\n",
       " {'player_id': '8650'},\n",
       " {'player_id': '8638'},\n",
       " {'player_id': '8634'},\n",
       " {'player_id': '8633'},\n",
       " {'player_id': '8632'},\n",
       " {'player_id': '8628'},\n",
       " {'player_id': '8624'},\n",
       " {'player_id': '8621'},\n",
       " {'player_id': '862'},\n",
       " {'player_id': '8613'},\n",
       " {'player_id': '8602'},\n",
       " {'player_id': '8595'},\n",
       " {'player_id': '8589'},\n",
       " {'player_id': '8583'},\n",
       " {'player_id': '8581'},\n",
       " {'player_id': '8579'},\n",
       " {'player_id': '8575'},\n",
       " {'player_id': '8573'},\n",
       " {'player_id': '8572'},\n",
       " {'player_id': '8571'},\n",
       " {'player_id': '8570'},\n",
       " {'player_id': '8568'},\n",
       " {'player_id': '8560'},\n",
       " {'player_id': '8559'},\n",
       " {'player_id': '8553'},\n",
       " {'player_id': '8549'},\n",
       " {'player_id': '8543'},\n",
       " {'player_id': '8539'},\n",
       " {'player_id': '8527'},\n",
       " {'player_id': '8523'},\n",
       " {'player_id': '8500'},\n",
       " {'player_id': '8489'},\n",
       " {'player_id': '8484'},\n",
       " {'player_id': '8475'},\n",
       " {'player_id': '8442'},\n",
       " {'player_id': '8441'},\n",
       " {'player_id': '8439'},\n",
       " {'player_id': '8438'},\n",
       " {'player_id': '8437'},\n",
       " {'player_id': '8436'},\n",
       " {'player_id': '8435'},\n",
       " {'player_id': '8433'},\n",
       " {'player_id': '8431'},\n",
       " {'player_id': '8429'},\n",
       " {'player_id': '8428'},\n",
       " {'player_id': '8424'},\n",
       " {'player_id': '8423'},\n",
       " {'player_id': '8421'},\n",
       " {'player_id': '8420'},\n",
       " {'player_id': '8419'},\n",
       " {'player_id': '8418'},\n",
       " {'player_id': '8416'},\n",
       " {'player_id': '8414'},\n",
       " {'player_id': '8413'},\n",
       " {'player_id': '8411'},\n",
       " {'player_id': '8410'},\n",
       " {'player_id': '8409'},\n",
       " {'player_id': '8408'},\n",
       " {'player_id': '8407'},\n",
       " {'player_id': '830'},\n",
       " {'player_id': '829'},\n",
       " {'player_id': '827'},\n",
       " {'player_id': '8255'},\n",
       " {'player_id': '8254'},\n",
       " {'player_id': '8253'},\n",
       " {'player_id': '8252'},\n",
       " {'player_id': '8251'},\n",
       " {'player_id': '8250'},\n",
       " {'player_id': '8249'},\n",
       " {'player_id': '8248'},\n",
       " {'player_id': '8247'},\n",
       " {'player_id': '8246'},\n",
       " {'player_id': '8245'},\n",
       " {'player_id': '8243'},\n",
       " {'player_id': '8242'},\n",
       " {'player_id': '8241'},\n",
       " {'player_id': '8240'},\n",
       " {'player_id': '8239'},\n",
       " {'player_id': '8238'},\n",
       " {'player_id': '8236'},\n",
       " {'player_id': '8235'},\n",
       " {'player_id': '8234'},\n",
       " {'player_id': '8233'},\n",
       " {'player_id': '8232'},\n",
       " {'player_id': '8230'},\n",
       " {'player_id': '8229'},\n",
       " {'player_id': '8228'},\n",
       " {'player_id': '8227'},\n",
       " {'player_id': '8226'},\n",
       " {'player_id': '8225'},\n",
       " {'player_id': '8224'},\n",
       " {'player_id': '8223'},\n",
       " {'player_id': '8222'},\n",
       " {'player_id': '8221'},\n",
       " {'player_id': '8220'},\n",
       " {'player_id': '8219'},\n",
       " {'player_id': '8218'},\n",
       " {'player_id': '8217'},\n",
       " {'player_id': '8215'},\n",
       " {'player_id': '8214'},\n",
       " {'player_id': '8213'},\n",
       " {'player_id': '8212'},\n",
       " {'player_id': '8211'},\n",
       " {'player_id': '8210'},\n",
       " {'player_id': '8209'},\n",
       " {'player_id': '8208'},\n",
       " {'player_id': '8207'},\n",
       " {'player_id': '8206'},\n",
       " {'player_id': '8205'},\n",
       " {'player_id': '8204'},\n",
       " {'player_id': '8203'},\n",
       " {'player_id': '8202'},\n",
       " {'player_id': '8201'},\n",
       " {'player_id': '8200'},\n",
       " {'player_id': '8199'},\n",
       " {'player_id': '8198'},\n",
       " {'player_id': '8197'},\n",
       " {'player_id': '8196'},\n",
       " {'player_id': '8195'},\n",
       " {'player_id': '8194'},\n",
       " {'player_id': '8193'},\n",
       " {'player_id': '8192'},\n",
       " {'player_id': '8191'},\n",
       " {'player_id': '8190'},\n",
       " {'player_id': '8189'},\n",
       " {'player_id': '8188'},\n",
       " {'player_id': '8187'},\n",
       " {'player_id': '8186'},\n",
       " {'player_id': '8185'},\n",
       " {'player_id': '8184'},\n",
       " {'player_id': '8183'},\n",
       " {'player_id': '8182'},\n",
       " {'player_id': '8181'},\n",
       " {'player_id': '8180'},\n",
       " {'player_id': '818'},\n",
       " {'player_id': '8179'},\n",
       " {'player_id': '8178'},\n",
       " {'player_id': '8177'},\n",
       " {'player_id': '8176'},\n",
       " {'player_id': '8175'},\n",
       " {'player_id': '8174'},\n",
       " {'player_id': '8173'},\n",
       " {'player_id': '8172'},\n",
       " {'player_id': '8171'},\n",
       " {'player_id': '8170'},\n",
       " {'player_id': '8169'},\n",
       " {'player_id': '8168'},\n",
       " {'player_id': '8167'},\n",
       " {'player_id': '8166'},\n",
       " {'player_id': '8164'},\n",
       " {'player_id': '8162'},\n",
       " {'player_id': '8161'},\n",
       " {'player_id': '8160'},\n",
       " {'player_id': '8159'},\n",
       " {'player_id': '8158'},\n",
       " {'player_id': '8157'},\n",
       " {'player_id': '8155'},\n",
       " {'player_id': '8154'},\n",
       " {'player_id': '8153'},\n",
       " {'player_id': '8152'},\n",
       " {'player_id': '8151'},\n",
       " {'player_id': '8150'},\n",
       " {'player_id': '8149'},\n",
       " {'player_id': '8148'},\n",
       " {'player_id': '8147'},\n",
       " {'player_id': '8146'},\n",
       " {'player_id': '8145'},\n",
       " {'player_id': '8144'},\n",
       " {'player_id': '8143'},\n",
       " {'player_id': '8142'},\n",
       " {'player_id': '8140'},\n",
       " {'player_id': '8139'},\n",
       " {'player_id': '8138'},\n",
       " {'player_id': '8137'},\n",
       " {'player_id': '8136'},\n",
       " {'player_id': '8135'},\n",
       " {'player_id': '8134'},\n",
       " {'player_id': '8132'},\n",
       " {'player_id': '8131'},\n",
       " {'player_id': '8130'},\n",
       " {'player_id': '8129'},\n",
       " {'player_id': '8127'},\n",
       " {'player_id': '8126'},\n",
       " {'player_id': '8125'},\n",
       " {'player_id': '8123'},\n",
       " {'player_id': '8122'},\n",
       " {'player_id': '8121'},\n",
       " {'player_id': '8120'},\n",
       " {'player_id': '812'},\n",
       " {'player_id': '8119'},\n",
       " {'player_id': '8118'},\n",
       " {'player_id': '8117'},\n",
       " {'player_id': '8116'},\n",
       " {'player_id': '8115'},\n",
       " {'player_id': '8114'},\n",
       " {'player_id': '8112'},\n",
       " {'player_id': '8111'},\n",
       " {'player_id': '8110'},\n",
       " {'player_id': '8108'},\n",
       " {'player_id': '8107'},\n",
       " {'player_id': '8105'},\n",
       " {'player_id': '8103'},\n",
       " {'player_id': '8102'},\n",
       " {'player_id': '8101'},\n",
       " {'player_id': '8095'},\n",
       " {'player_id': '8094'},\n",
       " {'player_id': '8092'},\n",
       " {'player_id': '8090'},\n",
       " {'player_id': '8089'},\n",
       " {'player_id': '8088'},\n",
       " {'player_id': '8087'},\n",
       " {'player_id': '8085'},\n",
       " {'player_id': '8077'},\n",
       " {'player_id': '8076'},\n",
       " {'player_id': '8074'},\n",
       " {'player_id': '8070'},\n",
       " {'player_id': '8068'},\n",
       " {'player_id': '8061'},\n",
       " {'player_id': '8058'},\n",
       " {'player_id': '8057'},\n",
       " {'player_id': '8052'},\n",
       " {'player_id': '8051'},\n",
       " {'player_id': '8041'},\n",
       " {'player_id': '8039'},\n",
       " {'player_id': '8038'},\n",
       " {'player_id': '8033'},\n",
       " {'player_id': '8027'},\n",
       " {'player_id': '8026'},\n",
       " {'player_id': '8025'},\n",
       " {'player_id': '8021'},\n",
       " {'player_id': '8019'},\n",
       " {'player_id': '8018'},\n",
       " {'player_id': '8013'},\n",
       " {'player_id': '801'},\n",
       " {'player_id': '8008'},\n",
       " {'player_id': '8005'},\n",
       " {'player_id': '8002'},\n",
       " {'player_id': '7996'},\n",
       " {'player_id': '7993'},\n",
       " {'player_id': '7992'},\n",
       " {'player_id': '7990'},\n",
       " {'player_id': '7989'},\n",
       " {'player_id': '7988'},\n",
       " {'player_id': '7985'},\n",
       " {'player_id': '7983'},\n",
       " {'player_id': '7980'},\n",
       " {'player_id': '7978'},\n",
       " {'player_id': '7972'},\n",
       " {'player_id': '7960'},\n",
       " {'player_id': '7956'},\n",
       " {'player_id': '7954'},\n",
       " {'player_id': '7951'},\n",
       " {'player_id': '7949'},\n",
       " {'player_id': '7946'},\n",
       " {'player_id': '7944'},\n",
       " {'player_id': '7943'},\n",
       " {'player_id': '7941'},\n",
       " {'player_id': '7938'},\n",
       " {'player_id': '7935'},\n",
       " {'player_id': '7926'},\n",
       " {'player_id': '7918'},\n",
       " {'player_id': '7915'},\n",
       " {'player_id': '7905'},\n",
       " {'player_id': '7904'},\n",
       " {'player_id': '7903'},\n",
       " {'player_id': '7901'},\n",
       " {'player_id': '7899'},\n",
       " {'player_id': '7897'},\n",
       " {'player_id': '7893'},\n",
       " {'player_id': '7891'},\n",
       " {'player_id': '7890'},\n",
       " {'player_id': '7885'},\n",
       " {'player_id': '788'},\n",
       " {'player_id': '7874'},\n",
       " {'player_id': '7868'},\n",
       " {'player_id': '7867'},\n",
       " {'player_id': '7865'},\n",
       " {'player_id': '7864'},\n",
       " {'player_id': '7863'},\n",
       " {'player_id': '7862'},\n",
       " {'player_id': '7860'},\n",
       " {'player_id': '7859'},\n",
       " {'player_id': '7858'},\n",
       " {'player_id': '7854'},\n",
       " {'player_id': '7852'},\n",
       " {'player_id': '7848'},\n",
       " {'player_id': '7842'},\n",
       " {'player_id': '7828'},\n",
       " {'player_id': '7812'},\n",
       " {'player_id': '7809'},\n",
       " {'player_id': '7808'},\n",
       " {'player_id': '7794'},\n",
       " {'player_id': '7793'},\n",
       " {'player_id': '7789'},\n",
       " {'player_id': '7771'},\n",
       " {'player_id': '7757'},\n",
       " {'player_id': '7752'},\n",
       " {'player_id': '7751'},\n",
       " {'player_id': '7746'},\n",
       " {'player_id': '7744'},\n",
       " {'player_id': '7741'},\n",
       " {'player_id': '7735'},\n",
       " {'player_id': '7734'},\n",
       " {'player_id': '7733'},\n",
       " {'player_id': '7729'},\n",
       " {'player_id': '7720'},\n",
       " {'player_id': '7716'},\n",
       " {'player_id': '7713'},\n",
       " {'player_id': '7703'},\n",
       " {'player_id': '7694'},\n",
       " {'player_id': '7670'},\n",
       " {'player_id': '7624'},\n",
       " {'player_id': '7623'},\n",
       " {'player_id': '7622'},\n",
       " {'player_id': '7619'},\n",
       " {'player_id': '7618'},\n",
       " {'player_id': '7616'},\n",
       " {'player_id': '7614'},\n",
       " {'player_id': '7613'},\n",
       " {'player_id': '7612'},\n",
       " {'player_id': '7611'},\n",
       " {'player_id': '7610'},\n",
       " {'player_id': '7609'},\n",
       " {'player_id': '7608'},\n",
       " {'player_id': '7607'},\n",
       " {'player_id': '7606'},\n",
       " {'player_id': '7605'},\n",
       " {'player_id': '7603'},\n",
       " {'player_id': '7602'},\n",
       " {'player_id': '7601'},\n",
       " {'player_id': '7600'},\n",
       " {'player_id': '7599'},\n",
       " {'player_id': '7597'},\n",
       " {'player_id': '7596'},\n",
       " {'player_id': '7595'},\n",
       " {'player_id': '7594'},\n",
       " {'player_id': '7593'},\n",
       " {'player_id': '7591'},\n",
       " {'player_id': '7589'},\n",
       " {'player_id': '7588'},\n",
       " {'player_id': '7587'},\n",
       " {'player_id': '7586'},\n",
       " {'player_id': '7585'},\n",
       " {'player_id': '7584'},\n",
       " {'player_id': '7583'},\n",
       " {'player_id': '7582'},\n",
       " {'player_id': '7581'},\n",
       " {'player_id': '7580'},\n",
       " {'player_id': '7579'},\n",
       " {'player_id': '7578'},\n",
       " {'player_id': '7576'},\n",
       " {'player_id': '7574'},\n",
       " {'player_id': '7573'},\n",
       " {'player_id': '7572'},\n",
       " {'player_id': '7571'},\n",
       " {'player_id': '7569'},\n",
       " {'player_id': '7568'},\n",
       " {'player_id': '7567'},\n",
       " {'player_id': '7565'},\n",
       " {'player_id': '7564'},\n",
       " {'player_id': '7563'},\n",
       " {'player_id': '7562'},\n",
       " {'player_id': '7561'},\n",
       " {'player_id': '7560'},\n",
       " {'player_id': '7559'},\n",
       " {'player_id': '7558'},\n",
       " {'player_id': '7556'},\n",
       " {'player_id': '7555'},\n",
       " {'player_id': '7554'},\n",
       " {'player_id': '7553'},\n",
       " {'player_id': '7552'},\n",
       " {'player_id': '7551'},\n",
       " {'player_id': '7550'},\n",
       " {'player_id': '7549'},\n",
       " {'player_id': '7548'},\n",
       " {'player_id': '7547'},\n",
       " {'player_id': '7546'},\n",
       " {'player_id': '7545'},\n",
       " {'player_id': '7543'},\n",
       " {'player_id': '7541'},\n",
       " {'player_id': '7540'},\n",
       " {'player_id': '7539'},\n",
       " {'player_id': '7538'},\n",
       " {'player_id': '7537'},\n",
       " {'player_id': '7536'},\n",
       " {'player_id': '7535'},\n",
       " {'player_id': '7534'},\n",
       " {'player_id': '7533'},\n",
       " {'player_id': '7532'},\n",
       " {'player_id': '7531'},\n",
       " {'player_id': '7530'},\n",
       " {'player_id': '7529'},\n",
       " {'player_id': '7528'},\n",
       " {'player_id': '7527'},\n",
       " {'player_id': '7526'},\n",
       " {'player_id': '7525'},\n",
       " {'player_id': '7523'},\n",
       " {'player_id': '7522'},\n",
       " {'player_id': '7521'},\n",
       " {'player_id': '7503'},\n",
       " {'player_id': '7502'},\n",
       " {'player_id': '7499'},\n",
       " {'player_id': '7496'},\n",
       " {'player_id': '7483'},\n",
       " {'player_id': '7481'},\n",
       " {'player_id': '7475'},\n",
       " {'player_id': '7466'},\n",
       " {'player_id': '7465'},\n",
       " {'player_id': '7464'},\n",
       " {'player_id': '7462'},\n",
       " {'player_id': '7460'},\n",
       " {'player_id': '7458'},\n",
       " {'player_id': '7457'},\n",
       " {'player_id': '7455'},\n",
       " {'player_id': '7454'},\n",
       " {'player_id': '7452'},\n",
       " {'player_id': '745'},\n",
       " {'player_id': '7439'},\n",
       " {'player_id': '7438'},\n",
       " {'player_id': '7437'},\n",
       " {'player_id': '7436'},\n",
       " {'player_id': '7435'},\n",
       " {'player_id': '7427'},\n",
       " {'player_id': '7426'},\n",
       " {'player_id': '7425'},\n",
       " {'player_id': '7424'},\n",
       " {'player_id': '7420'},\n",
       " {'player_id': '7418'},\n",
       " {'player_id': '7414'},\n",
       " {'player_id': '7412'},\n",
       " {'player_id': '7407'},\n",
       " {'player_id': '7404'},\n",
       " {'player_id': '7401'},\n",
       " {'player_id': '7400'},\n",
       " {'player_id': '7397'},\n",
       " {'player_id': '7396'},\n",
       " {'player_id': '7395'},\n",
       " {'player_id': '7394'},\n",
       " {'player_id': '7387'},\n",
       " {'player_id': '7379'},\n",
       " {'player_id': '7378'},\n",
       " {'player_id': '7376'},\n",
       " {'player_id': '7370'},\n",
       " {'player_id': '7368'},\n",
       " {'player_id': '7367'},\n",
       " {'player_id': '7359'},\n",
       " {'player_id': '7358'},\n",
       " {'player_id': '7357'},\n",
       " {'player_id': '7352'},\n",
       " {'player_id': '7351'},\n",
       " {'player_id': '7340'},\n",
       " {'player_id': '7339'},\n",
       " {'player_id': '7337'},\n",
       " {'player_id': '7336'},\n",
       " {'player_id': '7335'},\n",
       " {'player_id': '7334'},\n",
       " {'player_id': '7320'},\n",
       " {'player_id': '7319'},\n",
       " {'player_id': '7318'},\n",
       " {'player_id': '7317'},\n",
       " {'player_id': '7316'},\n",
       " {'player_id': '7315'},\n",
       " {'player_id': '7309'},\n",
       " {'player_id': '7308'},\n",
       " {'player_id': '7299'},\n",
       " {'player_id': '7288'},\n",
       " {'player_id': '7287'},\n",
       " {'player_id': '7286'},\n",
       " {'player_id': '7279'},\n",
       " {'player_id': '7274'},\n",
       " {'player_id': '7272'},\n",
       " {'player_id': '7264'},\n",
       " {'player_id': '7262'},\n",
       " {'player_id': '7258'},\n",
       " {'player_id': '7245'},\n",
       " {'player_id': '7244'},\n",
       " {'player_id': '7243'},\n",
       " {'player_id': '7237'},\n",
       " {'player_id': '7236'},\n",
       " {'player_id': '7235'},\n",
       " {'player_id': '7234'},\n",
       " {'player_id': '7233'},\n",
       " {'player_id': '7228'},\n",
       " {'player_id': '7227'},\n",
       " {'player_id': '7218'},\n",
       " {'player_id': '7217'},\n",
       " {'player_id': '7216'},\n",
       " {'player_id': '7212'},\n",
       " {'player_id': '7211'},\n",
       " {'player_id': '7210'},\n",
       " {'player_id': '7204'},\n",
       " {'player_id': '7203'},\n",
       " {'player_id': '7191'},\n",
       " {'player_id': '7190'},\n",
       " {'player_id': '7176'},\n",
       " {'player_id': '7175'},\n",
       " {'player_id': '7174'},\n",
       " {'player_id': '7173'},\n",
       " {'player_id': '7172'},\n",
       " {'player_id': '7162'},\n",
       " {'player_id': '7161'},\n",
       " {'player_id': '7159'},\n",
       " {'player_id': '7158'},\n",
       " {'player_id': '7157'},\n",
       " {'player_id': '7156'},\n",
       " {'player_id': '7149'},\n",
       " {'player_id': '7143'},\n",
       " {'player_id': '7135'},\n",
       " {'player_id': '7131'},\n",
       " {'player_id': '7109'},\n",
       " {'player_id': '7107'},\n",
       " {'player_id': '7106'},\n",
       " {'player_id': '7103'},\n",
       " {'player_id': '7101'},\n",
       " {'player_id': '7100'},\n",
       " {'player_id': '7098'},\n",
       " {'player_id': '7093'},\n",
       " {'player_id': '7092'},\n",
       " {'player_id': '7091'},\n",
       " {'player_id': '7090'},\n",
       " {'player_id': '7088'},\n",
       " {'player_id': '7087'},\n",
       " {'player_id': '7086'},\n",
       " {'player_id': '7085'},\n",
       " {'player_id': '7084'},\n",
       " {'player_id': '7083'},\n",
       " {'player_id': '7082'},\n",
       " {'player_id': '7081'},\n",
       " {'player_id': '7080'},\n",
       " {'player_id': '7079'},\n",
       " {'player_id': '7078'},\n",
       " {'player_id': '7076'},\n",
       " {'player_id': '7075'},\n",
       " {'player_id': '7066'},\n",
       " {'player_id': '7065'},\n",
       " {'player_id': '7064'},\n",
       " {'player_id': '7063'},\n",
       " {'player_id': '7056'},\n",
       " {'player_id': '7055'},\n",
       " {'player_id': '7050'},\n",
       " {'player_id': '7049'},\n",
       " {'player_id': '7048'},\n",
       " {'player_id': '7045'},\n",
       " {'player_id': '7039'},\n",
       " {'player_id': '7038'},\n",
       " {'player_id': '7035'},\n",
       " {'player_id': '7032'},\n",
       " {'player_id': '7021'},\n",
       " {'player_id': '7015'},\n",
       " {'player_id': '7013'},\n",
       " {'player_id': '7009'},\n",
       " {'player_id': '7008'},\n",
       " {'player_id': '7005'},\n",
       " {'player_id': '7002'},\n",
       " {'player_id': '7001'},\n",
       " {'player_id': '6996'},\n",
       " {'player_id': '6993'},\n",
       " {'player_id': '6992'},\n",
       " {'player_id': '6989'},\n",
       " {'player_id': '6988'},\n",
       " {'player_id': '6985'},\n",
       " {'player_id': '6984'},\n",
       " {'player_id': '6982'},\n",
       " {'player_id': '6973'},\n",
       " {'player_id': '6970'},\n",
       " {'player_id': '6967'},\n",
       " {'player_id': '6966'},\n",
       " {'player_id': '6964'},\n",
       " {'player_id': '6963'},\n",
       " {'player_id': '6960'},\n",
       " {'player_id': '6959'},\n",
       " {'player_id': '6957'},\n",
       " {'player_id': '6956'},\n",
       " {'player_id': '6955'},\n",
       " {'player_id': '6954'},\n",
       " {'player_id': '6951'},\n",
       " {'player_id': '695'},\n",
       " {'player_id': '6945'},\n",
       " {'player_id': '6943'},\n",
       " {'player_id': '6939'},\n",
       " {'player_id': '6938'},\n",
       " {'player_id': '6932'},\n",
       " {'player_id': '6931'},\n",
       " {'player_id': '6927'},\n",
       " {'player_id': '6926'},\n",
       " {'player_id': '6920'},\n",
       " {'player_id': '6919'},\n",
       " {'player_id': '6918'},\n",
       " {'player_id': '6913'},\n",
       " {'player_id': '6909'},\n",
       " {'player_id': '6908'},\n",
       " {'player_id': '6906'},\n",
       " {'player_id': '6904'},\n",
       " {'player_id': '6898'},\n",
       " {'player_id': '6895'},\n",
       " {'player_id': '6894'},\n",
       " {'player_id': '6892'},\n",
       " {'player_id': '6886'},\n",
       " {'player_id': '6885'},\n",
       " {'player_id': '6879'},\n",
       " {'player_id': '6878'},\n",
       " {'player_id': '6873'},\n",
       " {'player_id': '6870'},\n",
       " {'player_id': '6869'},\n",
       " {'player_id': '6866'},\n",
       " {'player_id': '6865'},\n",
       " {'player_id': '6857'},\n",
       " {'player_id': '6853'},\n",
       " {'player_id': '6850'},\n",
       " {'player_id': '6849'},\n",
       " {'player_id': '6847'},\n",
       " {'player_id': '6846'},\n",
       " {'player_id': '6845'},\n",
       " {'player_id': '6843'},\n",
       " {'player_id': '6834'},\n",
       " {'player_id': '6832'},\n",
       " {'player_id': '6828'},\n",
       " {'player_id': '6826'},\n",
       " {'player_id': '6824'},\n",
       " {'player_id': '6823'},\n",
       " {'player_id': '6822'},\n",
       " {'player_id': '6820'},\n",
       " {'player_id': '6819'},\n",
       " {'player_id': '6814'},\n",
       " {'player_id': '6813'},\n",
       " {'player_id': '6806'},\n",
       " {'player_id': '6805'},\n",
       " {'player_id': '6804'},\n",
       " {'player_id': '6803'},\n",
       " {'player_id': '6801'},\n",
       " {'player_id': '6798'},\n",
       " {'player_id': '6797'},\n",
       " {'player_id': '6794'},\n",
       " {'player_id': '6790'},\n",
       " {'player_id': '6789'},\n",
       " {'player_id': '6786'},\n",
       " {'player_id': '6783'},\n",
       " {'player_id': '6778'},\n",
       " {'player_id': '6770'},\n",
       " {'player_id': '6768'},\n",
       " {'player_id': '6763'},\n",
       " {'player_id': '6762'},\n",
       " {'player_id': '676'},\n",
       " {'player_id': '6755'},\n",
       " {'player_id': '6753'},\n",
       " {'player_id': '6744'},\n",
       " {'player_id': '6742'},\n",
       " {'player_id': '6737'},\n",
       " {'player_id': '6730'},\n",
       " {'player_id': '6728'},\n",
       " {'player_id': '6727'},\n",
       " {'player_id': '6723'},\n",
       " {'player_id': '6713'},\n",
       " {'player_id': '6712'},\n",
       " {'player_id': '6710'},\n",
       " {'player_id': '6705'},\n",
       " {'player_id': '6701'},\n",
       " {'player_id': '6700'},\n",
       " {'player_id': '6699'},\n",
       " {'player_id': '6697'},\n",
       " {'player_id': '6694'},\n",
       " {'player_id': '6692'},\n",
       " {'player_id': '6686'},\n",
       " {'player_id': '6685'},\n",
       " {'player_id': '6665'},\n",
       " {'player_id': '6664'},\n",
       " {'player_id': '6663'},\n",
       " {'player_id': '6662'},\n",
       " {'player_id': '6661'},\n",
       " {'player_id': '6659'},\n",
       " {'player_id': '6637'},\n",
       " {'player_id': '663'},\n",
       " {'player_id': '6629'},\n",
       " {'player_id': '6628'},\n",
       " {'player_id': '6626'},\n",
       " {'player_id': '6618'},\n",
       " {'player_id': '6617'},\n",
       " {'player_id': '6606'},\n",
       " {'player_id': '6605'},\n",
       " {'player_id': '6598'},\n",
       " {'player_id': '6596'},\n",
       " {'player_id': '6595'},\n",
       " {'player_id': '6593'},\n",
       " {'player_id': '6592'},\n",
       " {'player_id': '6591'},\n",
       " {'player_id': '6590'},\n",
       " {'player_id': '6588'},\n",
       " {'player_id': '6586'},\n",
       " {'player_id': '6585'},\n",
       " {'player_id': '6557'},\n",
       " {'player_id': '6554'},\n",
       " {'player_id': '6553'},\n",
       " {'player_id': '6552'},\n",
       " {'player_id': '6549'},\n",
       " {'player_id': '6548'},\n",
       " {'player_id': '6540'},\n",
       " {'player_id': '6539'},\n",
       " {'player_id': '6535'},\n",
       " {'player_id': '6529'},\n",
       " {'player_id': '6524'},\n",
       " {'player_id': '6522'},\n",
       " {'player_id': '6519'},\n",
       " {'player_id': '6506'},\n",
       " {'player_id': '6501'},\n",
       " {'player_id': '6493'},\n",
       " {'player_id': '6492'},\n",
       " {'player_id': '6491'},\n",
       " {'player_id': '6490'},\n",
       " {'player_id': '6489'},\n",
       " {'player_id': '6487'},\n",
       " {'player_id': '6469'},\n",
       " {'player_id': '6468'},\n",
       " {'player_id': '6465'},\n",
       " {'player_id': '6462'},\n",
       " {'player_id': '6460'},\n",
       " {'player_id': '6459'},\n",
       " {'player_id': '6453'},\n",
       " {'player_id': '6451'},\n",
       " {'player_id': '6450'},\n",
       " {'player_id': '6449'},\n",
       " {'player_id': '6448'},\n",
       " {'player_id': '6446'},\n",
       " {'player_id': '6443'},\n",
       " {'player_id': '6439'},\n",
       " {'player_id': '6438'},\n",
       " {'player_id': '6435'},\n",
       " {'player_id': '6427'},\n",
       " {'player_id': '6421'},\n",
       " {'player_id': '6420'},\n",
       " {'player_id': '642'},\n",
       " {'player_id': '6402'},\n",
       " {'player_id': '6401'},\n",
       " {'player_id': '6399'},\n",
       " {'player_id': '6396'},\n",
       " {'player_id': '6395'},\n",
       " {'player_id': '6394'},\n",
       " {'player_id': '6392'},\n",
       " {'player_id': '6389'},\n",
       " {'player_id': '6388'},\n",
       " {'player_id': '6387'},\n",
       " {'player_id': '6386'},\n",
       " {'player_id': '6385'},\n",
       " {'player_id': '6384'},\n",
       " {'player_id': '6381'},\n",
       " {'player_id': '6380'},\n",
       " {'player_id': '6379'},\n",
       " {'player_id': '6375'},\n",
       " {'player_id': '6374'},\n",
       " {'player_id': '6373'},\n",
       " {'player_id': '6372'},\n",
       " {'player_id': '6371'},\n",
       " {'player_id': '6370'},\n",
       " {'player_id': '6365'},\n",
       " {'player_id': '6364'},\n",
       " {'player_id': '6363'},\n",
       " {'player_id': '6362'},\n",
       " {'player_id': '6361'},\n",
       " {'player_id': '6359'},\n",
       " {'player_id': '6358'},\n",
       " {'player_id': '6357'},\n",
       " {'player_id': '6343'},\n",
       " {'player_id': '6342'},\n",
       " {'player_id': '6334'},\n",
       " {'player_id': '6323'},\n",
       " {'player_id': '6322'},\n",
       " {'player_id': '6320'},\n",
       " {'player_id': '6318'},\n",
       " {'player_id': '6317'},\n",
       " {'player_id': '6311'},\n",
       " {'player_id': '6308'},\n",
       " {'player_id': '6298'},\n",
       " {'player_id': '6293'},\n",
       " {'player_id': '6290'},\n",
       " {'player_id': '6288'},\n",
       " {'player_id': '6279'},\n",
       " {'player_id': '6271'},\n",
       " {'player_id': '627'},\n",
       " {'player_id': '6269'},\n",
       " {'player_id': '6263'},\n",
       " {'player_id': '6261'},\n",
       " {'player_id': '6260'},\n",
       " {'player_id': '6259'},\n",
       " {'player_id': '6248'},\n",
       " {'player_id': '6247'},\n",
       " {'player_id': '6246'},\n",
       " {'player_id': '6239'},\n",
       " {'player_id': '6238'},\n",
       " {'player_id': '6237'},\n",
       " {'player_id': '6236'},\n",
       " {'player_id': '6234'},\n",
       " {'player_id': '6233'},\n",
       " {'player_id': '6231'},\n",
       " {'player_id': '6227'},\n",
       " {'player_id': '6223'},\n",
       " {'player_id': '6209'},\n",
       " {'player_id': '6205'},\n",
       " {'player_id': '6203'},\n",
       " {'player_id': '6202'},\n",
       " {'player_id': '6196'},\n",
       " {'player_id': '6195'},\n",
       " {'player_id': '6188'},\n",
       " {'player_id': '6187'},\n",
       " {'player_id': '6185'},\n",
       " {'player_id': '6181'},\n",
       " {'player_id': '6178'},\n",
       " {'player_id': '6175'},\n",
       " {'player_id': '6171'},\n",
       " {'player_id': '6169'},\n",
       " {'player_id': '6168'},\n",
       " {'player_id': '6167'},\n",
       " {'player_id': '6165'},\n",
       " {'player_id': '6164'},\n",
       " {'player_id': '6163'},\n",
       " {'player_id': '6161'},\n",
       " {'player_id': '616'},\n",
       " {'player_id': '6159'},\n",
       " {'player_id': '6156'},\n",
       " {'player_id': '6155'},\n",
       " {'player_id': '6154'},\n",
       " {'player_id': '6153'},\n",
       " {'player_id': '6151'},\n",
       " {'player_id': '6149'},\n",
       " {'player_id': '6148'},\n",
       " {'player_id': '6147'},\n",
       " {'player_id': '6146'},\n",
       " {'player_id': '6144'},\n",
       " {'player_id': '6142'},\n",
       " {'player_id': '6139'},\n",
       " {'player_id': '6137'},\n",
       " {'player_id': '6136'},\n",
       " {'player_id': '6130'},\n",
       " {'player_id': '6126'},\n",
       " {'player_id': '6115'},\n",
       " {'player_id': '6111'},\n",
       " {'player_id': '6109'},\n",
       " {'player_id': '6108'},\n",
       " {'player_id': '6107'},\n",
       " {'player_id': '6097'},\n",
       " {'player_id': '6089'},\n",
       " {'player_id': '6088'},\n",
       " {'player_id': '6081'},\n",
       " {'player_id': '6075'},\n",
       " {'player_id': '6074'},\n",
       " {'player_id': '6072'},\n",
       " {'player_id': '6069'},\n",
       " {'player_id': '6068'},\n",
       " {'player_id': '6063'},\n",
       " {'player_id': '606'},\n",
       " {'player_id': '6059'},\n",
       " {'player_id': '6049'},\n",
       " {'player_id': '6047'},\n",
       " {'player_id': '6045'},\n",
       " {'player_id': '6040'},\n",
       " {'player_id': '6039'},\n",
       " {'player_id': '6037'},\n",
       " {'player_id': '6036'},\n",
       " {'player_id': '6032'},\n",
       " {'player_id': '6031'},\n",
       " {'player_id': '6021'},\n",
       " {'player_id': '6019'},\n",
       " {'player_id': '6018'},\n",
       " {'player_id': '6017'},\n",
       " {'player_id': '6016'},\n",
       " {'player_id': '6012'},\n",
       " ...]"
      ]
     },
     "execution_count": 45,
     "metadata": {},
     "output_type": "execute_result"
    }
   ],
   "source": [
    "projections"
   ]
  },
  {
   "cell_type": "code",
   "execution_count": 59,
   "metadata": {},
   "outputs": [
    {
     "data": {
      "text/plain": [
       "rush_yd                  526.00\n",
       "rush_td                    5.00\n",
       "rush_fd                   52.60\n",
       "rush_att                  94.00\n",
       "pts_std                  307.28\n",
       "pts_ppr                  307.28\n",
       "pts_half_ppr             307.28\n",
       "pass_yd                 3717.00\n",
       "pass_td                   23.00\n",
       "pass_int                  12.00\n",
       "pass_fd                  371.70\n",
       "pass_cmp                 339.00\n",
       "pass_att                 525.00\n",
       "pass_2pt                   1.00\n",
       "gp                        18.00\n",
       "fum_lost                   3.00\n",
       "cmp_pct                   64.57\n",
       "adp_std                   79.50\n",
       "adp_rookie               999.00\n",
       "adp_ppr                   79.50\n",
       "adp_idp                   37.40\n",
       "adp_half_ppr              79.50\n",
       "adp_dynasty_std           89.00\n",
       "adp_dynasty_ppr           89.00\n",
       "adp_dynasty_half_ppr      89.00\n",
       "adp_dynasty_2qb           23.50\n",
       "adp_dynasty              999.00\n",
       "adp_2qb                   20.30\n",
       "rec_yd                      NaN\n",
       "rec_td                      NaN\n",
       "rec_fd                      NaN\n",
       "rec_5_9                     NaN\n",
       "rec_40p                     NaN\n",
       "rec_30_39                   NaN\n",
       "rec_20_29                   NaN\n",
       "rec_10_19                   NaN\n",
       "rec_0_4                     NaN\n",
       "rec                         NaN\n",
       "bonus_rec_wr                NaN\n",
       "bonus_rec_rb                NaN\n",
       "bonus_rec_te                NaN\n",
       "rush_2pt                    NaN\n",
       "def_kr_td                   NaN\n",
       "Name: 5849, dtype: float64"
      ]
     },
     "execution_count": 59,
     "metadata": {},
     "output_type": "execute_result"
    }
   ],
   "source": [
    "year = '2024'\n",
    "projs = requests.get(f'https://api.sleeper.com/projections/nfl/{year}?season_type=regular&position[]=QB&position[]=RB&position[]=TE&position[]=WR&order_by=pts_dynasty_2qb').json()    \n",
    "projections = [{'player_id': player[\"player_id\"]} for player in projs]\n",
    "\n",
    "for i in range(len(projs)):\n",
    "    for (stat, project) in projs[i][\"stats\"].items():\n",
    "        projections[i][stat] = project\n",
    "\n",
    "# Reformats the projects as a dataframe\n",
    "projections = pd.DataFrame(projections).set_index(\"player_id\")\n",
    "projections.loc['5849'] *"
   ]
  },
  {
   "cell_type": "code",
   "execution_count": 56,
   "metadata": {},
   "outputs": [
    {
     "data": {
      "text/html": [
       "<div>\n",
       "<style scoped>\n",
       "    .dataframe tbody tr th:only-of-type {\n",
       "        vertical-align: middle;\n",
       "    }\n",
       "\n",
       "    .dataframe tbody tr th {\n",
       "        vertical-align: top;\n",
       "    }\n",
       "\n",
       "    .dataframe thead th {\n",
       "        text-align: right;\n",
       "    }\n",
       "</style>\n",
       "<table border=\"1\" class=\"dataframe\">\n",
       "  <thead>\n",
       "    <tr style=\"text-align: right;\">\n",
       "      <th></th>\n",
       "      <th>rush_yd</th>\n",
       "      <th>rush_td</th>\n",
       "      <th>rush_fd</th>\n",
       "      <th>rush_att</th>\n",
       "      <th>pts_std</th>\n",
       "      <th>pts_ppr</th>\n",
       "      <th>pts_half_ppr</th>\n",
       "      <th>pass_yd</th>\n",
       "      <th>pass_td</th>\n",
       "      <th>pass_int</th>\n",
       "      <th>...</th>\n",
       "      <th>rec_30_39</th>\n",
       "      <th>rec_20_29</th>\n",
       "      <th>rec_10_19</th>\n",
       "      <th>rec_0_4</th>\n",
       "      <th>rec</th>\n",
       "      <th>bonus_rec_wr</th>\n",
       "      <th>bonus_rec_rb</th>\n",
       "      <th>bonus_rec_te</th>\n",
       "      <th>rush_2pt</th>\n",
       "      <th>def_kr_td</th>\n",
       "    </tr>\n",
       "    <tr>\n",
       "      <th>player_id</th>\n",
       "      <th></th>\n",
       "      <th></th>\n",
       "      <th></th>\n",
       "      <th></th>\n",
       "      <th></th>\n",
       "      <th></th>\n",
       "      <th></th>\n",
       "      <th></th>\n",
       "      <th></th>\n",
       "      <th></th>\n",
       "      <th></th>\n",
       "      <th></th>\n",
       "      <th></th>\n",
       "      <th></th>\n",
       "      <th></th>\n",
       "      <th></th>\n",
       "      <th></th>\n",
       "      <th></th>\n",
       "      <th></th>\n",
       "      <th></th>\n",
       "      <th></th>\n",
       "    </tr>\n",
       "  </thead>\n",
       "  <tbody>\n",
       "    <tr>\n",
       "      <th>9999</th>\n",
       "      <td>169.0</td>\n",
       "      <td>2.0</td>\n",
       "      <td>16.9</td>\n",
       "      <td>48.0</td>\n",
       "      <td>260.70</td>\n",
       "      <td>260.70</td>\n",
       "      <td>260.70</td>\n",
       "      <td>3845.0</td>\n",
       "      <td>24.0</td>\n",
       "      <td>14.0</td>\n",
       "      <td>...</td>\n",
       "      <td>NaN</td>\n",
       "      <td>NaN</td>\n",
       "      <td>NaN</td>\n",
       "      <td>NaN</td>\n",
       "      <td>NaN</td>\n",
       "      <td>NaN</td>\n",
       "      <td>NaN</td>\n",
       "      <td>NaN</td>\n",
       "      <td>NaN</td>\n",
       "      <td>NaN</td>\n",
       "    </tr>\n",
       "    <tr>\n",
       "      <th>9998</th>\n",
       "      <td>26.0</td>\n",
       "      <td>NaN</td>\n",
       "      <td>2.6</td>\n",
       "      <td>5.0</td>\n",
       "      <td>13.28</td>\n",
       "      <td>13.28</td>\n",
       "      <td>13.28</td>\n",
       "      <td>192.0</td>\n",
       "      <td>1.0</td>\n",
       "      <td>1.0</td>\n",
       "      <td>...</td>\n",
       "      <td>NaN</td>\n",
       "      <td>NaN</td>\n",
       "      <td>NaN</td>\n",
       "      <td>NaN</td>\n",
       "      <td>NaN</td>\n",
       "      <td>NaN</td>\n",
       "      <td>NaN</td>\n",
       "      <td>NaN</td>\n",
       "      <td>NaN</td>\n",
       "      <td>NaN</td>\n",
       "    </tr>\n",
       "    <tr>\n",
       "      <th>9997</th>\n",
       "      <td>51.0</td>\n",
       "      <td>NaN</td>\n",
       "      <td>5.1</td>\n",
       "      <td>8.0</td>\n",
       "      <td>132.30</td>\n",
       "      <td>213.30</td>\n",
       "      <td>172.80</td>\n",
       "      <td>NaN</td>\n",
       "      <td>NaN</td>\n",
       "      <td>NaN</td>\n",
       "      <td>...</td>\n",
       "      <td>8.1</td>\n",
       "      <td>16.2</td>\n",
       "      <td>24.3</td>\n",
       "      <td>16.2</td>\n",
       "      <td>81.0</td>\n",
       "      <td>81.0</td>\n",
       "      <td>NaN</td>\n",
       "      <td>NaN</td>\n",
       "      <td>NaN</td>\n",
       "      <td>NaN</td>\n",
       "    </tr>\n",
       "    <tr>\n",
       "      <th>982</th>\n",
       "      <td>NaN</td>\n",
       "      <td>NaN</td>\n",
       "      <td>NaN</td>\n",
       "      <td>NaN</td>\n",
       "      <td>NaN</td>\n",
       "      <td>NaN</td>\n",
       "      <td>NaN</td>\n",
       "      <td>NaN</td>\n",
       "      <td>NaN</td>\n",
       "      <td>NaN</td>\n",
       "      <td>...</td>\n",
       "      <td>NaN</td>\n",
       "      <td>NaN</td>\n",
       "      <td>NaN</td>\n",
       "      <td>NaN</td>\n",
       "      <td>NaN</td>\n",
       "      <td>NaN</td>\n",
       "      <td>NaN</td>\n",
       "      <td>NaN</td>\n",
       "      <td>NaN</td>\n",
       "      <td>NaN</td>\n",
       "    </tr>\n",
       "    <tr>\n",
       "      <th>9759</th>\n",
       "      <td>NaN</td>\n",
       "      <td>NaN</td>\n",
       "      <td>NaN</td>\n",
       "      <td>NaN</td>\n",
       "      <td>NaN</td>\n",
       "      <td>NaN</td>\n",
       "      <td>NaN</td>\n",
       "      <td>NaN</td>\n",
       "      <td>NaN</td>\n",
       "      <td>NaN</td>\n",
       "      <td>...</td>\n",
       "      <td>NaN</td>\n",
       "      <td>NaN</td>\n",
       "      <td>NaN</td>\n",
       "      <td>NaN</td>\n",
       "      <td>NaN</td>\n",
       "      <td>NaN</td>\n",
       "      <td>NaN</td>\n",
       "      <td>NaN</td>\n",
       "      <td>NaN</td>\n",
       "      <td>NaN</td>\n",
       "    </tr>\n",
       "    <tr>\n",
       "      <th>...</th>\n",
       "      <td>...</td>\n",
       "      <td>...</td>\n",
       "      <td>...</td>\n",
       "      <td>...</td>\n",
       "      <td>...</td>\n",
       "      <td>...</td>\n",
       "      <td>...</td>\n",
       "      <td>...</td>\n",
       "      <td>...</td>\n",
       "      <td>...</td>\n",
       "      <td>...</td>\n",
       "      <td>...</td>\n",
       "      <td>...</td>\n",
       "      <td>...</td>\n",
       "      <td>...</td>\n",
       "      <td>...</td>\n",
       "      <td>...</td>\n",
       "      <td>...</td>\n",
       "      <td>...</td>\n",
       "      <td>...</td>\n",
       "      <td>...</td>\n",
       "    </tr>\n",
       "    <tr>\n",
       "      <th>10214</th>\n",
       "      <td>NaN</td>\n",
       "      <td>NaN</td>\n",
       "      <td>NaN</td>\n",
       "      <td>NaN</td>\n",
       "      <td>19.20</td>\n",
       "      <td>32.20</td>\n",
       "      <td>25.70</td>\n",
       "      <td>NaN</td>\n",
       "      <td>NaN</td>\n",
       "      <td>NaN</td>\n",
       "      <td>...</td>\n",
       "      <td>1.3</td>\n",
       "      <td>2.6</td>\n",
       "      <td>3.9</td>\n",
       "      <td>2.6</td>\n",
       "      <td>13.0</td>\n",
       "      <td>NaN</td>\n",
       "      <td>NaN</td>\n",
       "      <td>13.0</td>\n",
       "      <td>NaN</td>\n",
       "      <td>NaN</td>\n",
       "    </tr>\n",
       "    <tr>\n",
       "      <th>10213</th>\n",
       "      <td>35.0</td>\n",
       "      <td>NaN</td>\n",
       "      <td>3.5</td>\n",
       "      <td>6.0</td>\n",
       "      <td>47.80</td>\n",
       "      <td>77.80</td>\n",
       "      <td>62.80</td>\n",
       "      <td>NaN</td>\n",
       "      <td>NaN</td>\n",
       "      <td>NaN</td>\n",
       "      <td>...</td>\n",
       "      <td>3.0</td>\n",
       "      <td>6.0</td>\n",
       "      <td>9.0</td>\n",
       "      <td>6.0</td>\n",
       "      <td>30.0</td>\n",
       "      <td>30.0</td>\n",
       "      <td>NaN</td>\n",
       "      <td>NaN</td>\n",
       "      <td>NaN</td>\n",
       "      <td>NaN</td>\n",
       "    </tr>\n",
       "    <tr>\n",
       "      <th>10212</th>\n",
       "      <td>NaN</td>\n",
       "      <td>NaN</td>\n",
       "      <td>NaN</td>\n",
       "      <td>NaN</td>\n",
       "      <td>29.40</td>\n",
       "      <td>51.40</td>\n",
       "      <td>40.40</td>\n",
       "      <td>NaN</td>\n",
       "      <td>NaN</td>\n",
       "      <td>NaN</td>\n",
       "      <td>...</td>\n",
       "      <td>2.2</td>\n",
       "      <td>4.4</td>\n",
       "      <td>6.6</td>\n",
       "      <td>4.4</td>\n",
       "      <td>22.0</td>\n",
       "      <td>NaN</td>\n",
       "      <td>NaN</td>\n",
       "      <td>22.0</td>\n",
       "      <td>NaN</td>\n",
       "      <td>NaN</td>\n",
       "    </tr>\n",
       "    <tr>\n",
       "      <th>10211</th>\n",
       "      <td>NaN</td>\n",
       "      <td>NaN</td>\n",
       "      <td>NaN</td>\n",
       "      <td>NaN</td>\n",
       "      <td>NaN</td>\n",
       "      <td>NaN</td>\n",
       "      <td>NaN</td>\n",
       "      <td>NaN</td>\n",
       "      <td>NaN</td>\n",
       "      <td>NaN</td>\n",
       "      <td>...</td>\n",
       "      <td>NaN</td>\n",
       "      <td>NaN</td>\n",
       "      <td>NaN</td>\n",
       "      <td>NaN</td>\n",
       "      <td>NaN</td>\n",
       "      <td>NaN</td>\n",
       "      <td>NaN</td>\n",
       "      <td>NaN</td>\n",
       "      <td>NaN</td>\n",
       "      <td>NaN</td>\n",
       "    </tr>\n",
       "    <tr>\n",
       "      <th>10210</th>\n",
       "      <td>NaN</td>\n",
       "      <td>NaN</td>\n",
       "      <td>NaN</td>\n",
       "      <td>NaN</td>\n",
       "      <td>NaN</td>\n",
       "      <td>NaN</td>\n",
       "      <td>NaN</td>\n",
       "      <td>NaN</td>\n",
       "      <td>NaN</td>\n",
       "      <td>NaN</td>\n",
       "      <td>...</td>\n",
       "      <td>NaN</td>\n",
       "      <td>NaN</td>\n",
       "      <td>NaN</td>\n",
       "      <td>NaN</td>\n",
       "      <td>NaN</td>\n",
       "      <td>NaN</td>\n",
       "      <td>NaN</td>\n",
       "      <td>NaN</td>\n",
       "      <td>NaN</td>\n",
       "      <td>NaN</td>\n",
       "    </tr>\n",
       "  </tbody>\n",
       "</table>\n",
       "<p>2450 rows × 43 columns</p>\n",
       "</div>"
      ],
      "text/plain": [
       "           rush_yd  rush_td  rush_fd  rush_att  pts_std  pts_ppr  \\\n",
       "player_id                                                          \n",
       "9999         169.0      2.0     16.9      48.0   260.70   260.70   \n",
       "9998          26.0      NaN      2.6       5.0    13.28    13.28   \n",
       "9997          51.0      NaN      5.1       8.0   132.30   213.30   \n",
       "982            NaN      NaN      NaN       NaN      NaN      NaN   \n",
       "9759           NaN      NaN      NaN       NaN      NaN      NaN   \n",
       "...            ...      ...      ...       ...      ...      ...   \n",
       "10214          NaN      NaN      NaN       NaN    19.20    32.20   \n",
       "10213         35.0      NaN      3.5       6.0    47.80    77.80   \n",
       "10212          NaN      NaN      NaN       NaN    29.40    51.40   \n",
       "10211          NaN      NaN      NaN       NaN      NaN      NaN   \n",
       "10210          NaN      NaN      NaN       NaN      NaN      NaN   \n",
       "\n",
       "           pts_half_ppr  pass_yd  pass_td  pass_int  ...  rec_30_39  \\\n",
       "player_id                                            ...              \n",
       "9999             260.70   3845.0     24.0      14.0  ...        NaN   \n",
       "9998              13.28    192.0      1.0       1.0  ...        NaN   \n",
       "9997             172.80      NaN      NaN       NaN  ...        8.1   \n",
       "982                 NaN      NaN      NaN       NaN  ...        NaN   \n",
       "9759                NaN      NaN      NaN       NaN  ...        NaN   \n",
       "...                 ...      ...      ...       ...  ...        ...   \n",
       "10214             25.70      NaN      NaN       NaN  ...        1.3   \n",
       "10213             62.80      NaN      NaN       NaN  ...        3.0   \n",
       "10212             40.40      NaN      NaN       NaN  ...        2.2   \n",
       "10211               NaN      NaN      NaN       NaN  ...        NaN   \n",
       "10210               NaN      NaN      NaN       NaN  ...        NaN   \n",
       "\n",
       "           rec_20_29  rec_10_19  rec_0_4   rec  bonus_rec_wr  bonus_rec_rb  \\\n",
       "player_id                                                                    \n",
       "9999             NaN        NaN      NaN   NaN           NaN           NaN   \n",
       "9998             NaN        NaN      NaN   NaN           NaN           NaN   \n",
       "9997            16.2       24.3     16.2  81.0          81.0           NaN   \n",
       "982              NaN        NaN      NaN   NaN           NaN           NaN   \n",
       "9759             NaN        NaN      NaN   NaN           NaN           NaN   \n",
       "...              ...        ...      ...   ...           ...           ...   \n",
       "10214            2.6        3.9      2.6  13.0           NaN           NaN   \n",
       "10213            6.0        9.0      6.0  30.0          30.0           NaN   \n",
       "10212            4.4        6.6      4.4  22.0           NaN           NaN   \n",
       "10211            NaN        NaN      NaN   NaN           NaN           NaN   \n",
       "10210            NaN        NaN      NaN   NaN           NaN           NaN   \n",
       "\n",
       "           bonus_rec_te  rush_2pt  def_kr_td  \n",
       "player_id                                     \n",
       "9999                NaN       NaN        NaN  \n",
       "9998                NaN       NaN        NaN  \n",
       "9997                NaN       NaN        NaN  \n",
       "982                 NaN       NaN        NaN  \n",
       "9759                NaN       NaN        NaN  \n",
       "...                 ...       ...        ...  \n",
       "10214              13.0       NaN        NaN  \n",
       "10213               NaN       NaN        NaN  \n",
       "10212              22.0       NaN        NaN  \n",
       "10211               NaN       NaN        NaN  \n",
       "10210               NaN       NaN        NaN  \n",
       "\n",
       "[2450 rows x 43 columns]"
      ]
     },
     "execution_count": 56,
     "metadata": {},
     "output_type": "execute_result"
    }
   ],
   "source": [
    "projections"
   ]
  },
  {
   "cell_type": "code",
   "execution_count": 51,
   "metadata": {},
   "outputs": [
    {
     "data": {
      "text/plain": [
       "{'adp_2qb',\n",
       " 'adp_dynasty',\n",
       " 'adp_dynasty_2qb',\n",
       " 'adp_dynasty_half_ppr',\n",
       " 'adp_dynasty_ppr',\n",
       " 'adp_dynasty_std',\n",
       " 'adp_half_ppr',\n",
       " 'adp_idp',\n",
       " 'adp_ppr',\n",
       " 'adp_rookie',\n",
       " 'adp_std',\n",
       " 'cmp_pct',\n",
       " 'def_kr_td',\n",
       " 'gp',\n",
       " 'pass_att',\n",
       " 'pass_fd',\n",
       " 'pts_half_ppr',\n",
       " 'pts_ppr',\n",
       " 'pts_std',\n",
       " 'rush_att'}"
      ]
     },
     "execution_count": 51,
     "metadata": {},
     "output_type": "execute_result"
    }
   ],
   "source": [
    "set(projections.columns) - set(settings.keys())"
   ]
  },
  {
   "cell_type": "code",
   "execution_count": 57,
   "metadata": {},
   "outputs": [
    {
     "data": {
      "text/plain": [
       "{'blk_kick',\n",
       " 'bonus_rec_rb',\n",
       " 'bonus_rec_te',\n",
       " 'bonus_rec_wr',\n",
       " 'def_st_ff',\n",
       " 'def_st_fum_rec',\n",
       " 'def_st_td',\n",
       " 'def_td',\n",
       " 'ff',\n",
       " 'fgm_0_19',\n",
       " 'fgm_20_29',\n",
       " 'fgm_30_39',\n",
       " 'fgm_40_49',\n",
       " 'fgm_50p',\n",
       " 'fgmiss',\n",
       " 'fum',\n",
       " 'fum_lost',\n",
       " 'fum_rec',\n",
       " 'fum_rec_td',\n",
       " 'int',\n",
       " 'pass_2pt',\n",
       " 'pass_cmp',\n",
       " 'pass_inc',\n",
       " 'pass_int',\n",
       " 'pass_int_td',\n",
       " 'pass_sack',\n",
       " 'pass_td',\n",
       " 'pass_yd',\n",
       " 'pts_allow_0',\n",
       " 'pts_allow_14_20',\n",
       " 'pts_allow_1_6',\n",
       " 'pts_allow_21_27',\n",
       " 'pts_allow_28_34',\n",
       " 'pts_allow_35p',\n",
       " 'pts_allow_7_13',\n",
       " 'rec',\n",
       " 'rec_0_4',\n",
       " 'rec_10_19',\n",
       " 'rec_20_29',\n",
       " 'rec_2pt',\n",
       " 'rec_30_39',\n",
       " 'rec_40p',\n",
       " 'rec_5_9',\n",
       " 'rec_fd',\n",
       " 'rec_td',\n",
       " 'rec_yd',\n",
       " 'rush_2pt',\n",
       " 'rush_fd',\n",
       " 'rush_td',\n",
       " 'rush_yd',\n",
       " 'sack',\n",
       " 'safe',\n",
       " 'st_ff',\n",
       " 'st_fum_rec',\n",
       " 'st_td',\n",
       " 'xpm',\n",
       " 'xpmiss'}"
      ]
     },
     "execution_count": 57,
     "metadata": {},
     "output_type": "execute_result"
    }
   ],
   "source": [
    "set(settings.keys())"
   ]
  },
  {
   "cell_type": "code",
   "execution_count": 11,
   "metadata": {},
   "outputs": [],
   "source": [
    "# Returns a dataframe containing a user's team and projected points\n",
    "# The function takes either a user id or user name\n",
    "def get_team(user_id = None, username = None):\n",
    "    \n",
    "    if username == user_id:\n",
    "        return None\n",
    "    elif username != None:\n",
    "        user_id = users[users == username].index[0]\n",
    "\n",
    "    # Get's a dataframe of player id's from the roster\n",
    "    team = pd.DataFrame(pd.Series(rosters[user_id][\"players\"], name = \"player_id\"))\n",
    "\n",
    "    # Merges players with projections dataframe, matches up players with owners\n",
    "    team = (projections\n",
    "            .merge(team, left_on='player_id', right_on='player_id', how = 'right')\n",
    "            .sort_values(by = 'projected', ascending = False))\n",
    "    \n",
    "    team[\"owner\"] = users[user_id]\n",
    "\n",
    "    team = team.set_index('player_id')\n",
    "\n",
    "    return team"
   ]
  },
  {
   "cell_type": "code",
   "execution_count": 12,
   "metadata": {},
   "outputs": [],
   "source": [
    "# Save projections for all teams\n",
    "teams = pd.concat([get_team(user_id = user_id) for user_id in users.index])\n"
   ]
  },
  {
   "cell_type": "code",
   "execution_count": 13,
   "metadata": {},
   "outputs": [],
   "source": [
    "# Returns the starters with the highest projected points\n",
    "def get_starters(user_id = None, username = None):\n",
    "\n",
    "    # Gets the user_id if username was passed\n",
    "    if username == user_id:\n",
    "        return None\n",
    "    elif username != None:\n",
    "        user_id = users[users == username].index[0]\n",
    "\n",
    "    # Gets the team\n",
    "    team = get_team(user_id)\n",
    "\n",
    "    starters = pd.DataFrame()\n",
    "\n",
    "    # The remaining positions available\n",
    "    positions = ['QB', 'WR', 'WR', 'RB', 'RB', 'TE', 'F', 'F', 'F', 'SF']\n",
    "\n",
    "    # Adds a boolean column that denotes if the player is a Flex\n",
    "    team = (team\n",
    "            .sort_values(by = 'projected', ascending=False)\n",
    "            .assign(is_flex = team[\"position\"].isin([\"WR\", \"RB\", \"TE\"])))\n",
    "\n",
    "    # Chooses the highest projected players and eliminates spots from positions\n",
    "    for id in team.index:\n",
    "\n",
    "        position = team.loc[id,\"position\"]\n",
    "        is_flex = team.loc[id,'is_flex']\n",
    "\n",
    "        if (position in positions) and len(positions) > 0:\n",
    "            positions.remove(position)\n",
    "            starters[id] = team.loc[id]\n",
    "\n",
    "        elif is_flex and 'F' in positions and len(positions) > 0:\n",
    "            positions.remove('F')\n",
    "            starters[id] = team.loc[id]\n",
    "            \n",
    "        elif 'SF' in positions and len(positions) > 0:\n",
    "            positions.remove('SF')\n",
    "            starters[id] = team.loc[id]\n",
    "\n",
    "    starters = (starters\n",
    "                .transpose()\n",
    "                .drop(columns=\"is_flex\")\n",
    "                )\n",
    "    starters = starters.assign(projected = starters[\"projected\"].astype(float))\n",
    "\n",
    "    return starters"
   ]
  },
  {
   "cell_type": "code",
   "execution_count": 14,
   "metadata": {},
   "outputs": [],
   "source": [
    "# Saves a dataframe of each player's best starting lineup\n",
    "starters = []\n",
    "relevant_cols = [\"name\", \"projected\", \"position\", \"team\", \"owner\"]\n",
    "\n",
    "for user_id in users.index:\n",
    "    starters.append(get_starters(user_id = user_id))\n",
    "\n",
    "starters = pd.concat(starters)\n"
   ]
  },
  {
   "cell_type": "code",
   "execution_count": 15,
   "metadata": {},
   "outputs": [
    {
     "data": {
      "application/vnd.plotly.v1+json": {
       "config": {
        "plotlyServerURL": "https://plot.ly"
       },
       "data": [
        {
         "alignmentgroup": "True",
         "hovertemplate": "variable=QB<br>owner=%{x}<br>value=%{y}<extra></extra>",
         "legendgroup": "QB",
         "marker": {
          "color": "#E45756",
          "pattern": {
           "shape": ""
          }
         },
         "name": "QB",
         "offsetgroup": "QB",
         "orientation": "v",
         "showlegend": true,
         "textposition": "auto",
         "type": "bar",
         "x": [
          "pacc",
          "therealfergus",
          "mackjyers21",
          "herbietime",
          "thezirconisdragon",
          "namebrant",
          "empireyikesback",
          "alecwilson",
          "burgertownthicnred",
          "shakylegs",
          "tonygordzilla22",
          "black8yellownation"
         ],
         "xaxis": "x",
         "y": [
          913.6999999999999,
          752.25,
          710.1400000000001,
          774.8199999999999,
          794.6400000000001,
          824.52,
          784.4200000000001,
          826.81,
          812.87,
          740.8600000000001,
          807.15,
          318.19
         ],
         "yaxis": "y"
        },
        {
         "alignmentgroup": "True",
         "hovertemplate": "variable=RB<br>owner=%{x}<br>value=%{y}<extra></extra>",
         "legendgroup": "RB",
         "marker": {
          "color": "#54A24B",
          "pattern": {
           "shape": ""
          }
         },
         "name": "RB",
         "offsetgroup": "RB",
         "orientation": "v",
         "showlegend": true,
         "textposition": "auto",
         "type": "bar",
         "x": [
          "pacc",
          "therealfergus",
          "mackjyers21",
          "herbietime",
          "thezirconisdragon",
          "namebrant",
          "empireyikesback",
          "alecwilson",
          "burgertownthicnred",
          "shakylegs",
          "tonygordzilla22",
          "black8yellownation"
         ],
         "xaxis": "x",
         "y": [
          959.75,
          1133.0500000000002,
          1257.75,
          892.75,
          840.8000000000001,
          836.9000000000001,
          716.3000000000001,
          639.9000000000001,
          425.45000000000005,
          477.1500000000001,
          271,
          701.7
         ],
         "yaxis": "y"
        },
        {
         "alignmentgroup": "True",
         "hovertemplate": "variable=WR<br>owner=%{x}<br>value=%{y}<extra></extra>",
         "legendgroup": "WR",
         "marker": {
          "color": "#4C78A8",
          "pattern": {
           "shape": ""
          }
         },
         "name": "WR",
         "offsetgroup": "WR",
         "orientation": "v",
         "showlegend": true,
         "textposition": "auto",
         "type": "bar",
         "x": [
          "pacc",
          "therealfergus",
          "mackjyers21",
          "herbietime",
          "thezirconisdragon",
          "namebrant",
          "empireyikesback",
          "alecwilson",
          "burgertownthicnred",
          "shakylegs",
          "tonygordzilla22",
          "black8yellownation"
         ],
         "xaxis": "x",
         "y": [
          356.80000000000007,
          362.65,
          327.45,
          554.25,
          623.7,
          475.15,
          673.85,
          626.45,
          595.85,
          597.5,
          650,
          261.4
         ],
         "yaxis": "y"
        },
        {
         "alignmentgroup": "True",
         "hovertemplate": "variable=TE<br>owner=%{x}<br>value=%{y}<extra></extra>",
         "legendgroup": "TE",
         "marker": {
          "color": "#F58518",
          "pattern": {
           "shape": ""
          }
         },
         "name": "TE",
         "offsetgroup": "TE",
         "orientation": "v",
         "showlegend": true,
         "textposition": "auto",
         "type": "bar",
         "x": [
          "pacc",
          "therealfergus",
          "mackjyers21",
          "herbietime",
          "thezirconisdragon",
          "namebrant",
          "empireyikesback",
          "alecwilson",
          "burgertownthicnred",
          "shakylegs",
          "tonygordzilla22",
          "black8yellownation"
         ],
         "xaxis": "x",
         "y": [
          354.54999999999995,
          206.3,
          158.20000000000002,
          188.54999999999998,
          137.55,
          204.8,
          108.94999999999999,
          152.05,
          237.5,
          166.9,
          246.8,
          416.95
         ],
         "yaxis": "y"
        }
       ],
       "layout": {
        "bargap": 0.25,
        "barmode": "group",
        "font": {
         "size": 14
        },
        "height": 600,
        "legend": {
         "font": {
          "size": 20
         },
         "title": {},
         "tracegroupgap": 0,
         "x": 0.99,
         "xanchor": "right",
         "y": 0.98,
         "yanchor": "top"
        },
        "margin": {
         "b": 75,
         "l": 100,
         "r": 50,
         "t": 70
        },
        "template": {
         "data": {
          "bar": [
           {
            "error_x": {
             "color": "#2a3f5f"
            },
            "error_y": {
             "color": "#2a3f5f"
            },
            "marker": {
             "line": {
              "color": "#E5ECF6",
              "width": 0.5
             },
             "pattern": {
              "fillmode": "overlay",
              "size": 10,
              "solidity": 0.2
             }
            },
            "type": "bar"
           }
          ],
          "barpolar": [
           {
            "marker": {
             "line": {
              "color": "#E5ECF6",
              "width": 0.5
             },
             "pattern": {
              "fillmode": "overlay",
              "size": 10,
              "solidity": 0.2
             }
            },
            "type": "barpolar"
           }
          ],
          "carpet": [
           {
            "aaxis": {
             "endlinecolor": "#2a3f5f",
             "gridcolor": "white",
             "linecolor": "white",
             "minorgridcolor": "white",
             "startlinecolor": "#2a3f5f"
            },
            "baxis": {
             "endlinecolor": "#2a3f5f",
             "gridcolor": "white",
             "linecolor": "white",
             "minorgridcolor": "white",
             "startlinecolor": "#2a3f5f"
            },
            "type": "carpet"
           }
          ],
          "choropleth": [
           {
            "colorbar": {
             "outlinewidth": 0,
             "ticks": ""
            },
            "type": "choropleth"
           }
          ],
          "contour": [
           {
            "colorbar": {
             "outlinewidth": 0,
             "ticks": ""
            },
            "colorscale": [
             [
              0,
              "#0d0887"
             ],
             [
              0.1111111111111111,
              "#46039f"
             ],
             [
              0.2222222222222222,
              "#7201a8"
             ],
             [
              0.3333333333333333,
              "#9c179e"
             ],
             [
              0.4444444444444444,
              "#bd3786"
             ],
             [
              0.5555555555555556,
              "#d8576b"
             ],
             [
              0.6666666666666666,
              "#ed7953"
             ],
             [
              0.7777777777777778,
              "#fb9f3a"
             ],
             [
              0.8888888888888888,
              "#fdca26"
             ],
             [
              1,
              "#f0f921"
             ]
            ],
            "type": "contour"
           }
          ],
          "contourcarpet": [
           {
            "colorbar": {
             "outlinewidth": 0,
             "ticks": ""
            },
            "type": "contourcarpet"
           }
          ],
          "heatmap": [
           {
            "colorbar": {
             "outlinewidth": 0,
             "ticks": ""
            },
            "colorscale": [
             [
              0,
              "#0d0887"
             ],
             [
              0.1111111111111111,
              "#46039f"
             ],
             [
              0.2222222222222222,
              "#7201a8"
             ],
             [
              0.3333333333333333,
              "#9c179e"
             ],
             [
              0.4444444444444444,
              "#bd3786"
             ],
             [
              0.5555555555555556,
              "#d8576b"
             ],
             [
              0.6666666666666666,
              "#ed7953"
             ],
             [
              0.7777777777777778,
              "#fb9f3a"
             ],
             [
              0.8888888888888888,
              "#fdca26"
             ],
             [
              1,
              "#f0f921"
             ]
            ],
            "type": "heatmap"
           }
          ],
          "heatmapgl": [
           {
            "colorbar": {
             "outlinewidth": 0,
             "ticks": ""
            },
            "colorscale": [
             [
              0,
              "#0d0887"
             ],
             [
              0.1111111111111111,
              "#46039f"
             ],
             [
              0.2222222222222222,
              "#7201a8"
             ],
             [
              0.3333333333333333,
              "#9c179e"
             ],
             [
              0.4444444444444444,
              "#bd3786"
             ],
             [
              0.5555555555555556,
              "#d8576b"
             ],
             [
              0.6666666666666666,
              "#ed7953"
             ],
             [
              0.7777777777777778,
              "#fb9f3a"
             ],
             [
              0.8888888888888888,
              "#fdca26"
             ],
             [
              1,
              "#f0f921"
             ]
            ],
            "type": "heatmapgl"
           }
          ],
          "histogram": [
           {
            "marker": {
             "pattern": {
              "fillmode": "overlay",
              "size": 10,
              "solidity": 0.2
             }
            },
            "type": "histogram"
           }
          ],
          "histogram2d": [
           {
            "colorbar": {
             "outlinewidth": 0,
             "ticks": ""
            },
            "colorscale": [
             [
              0,
              "#0d0887"
             ],
             [
              0.1111111111111111,
              "#46039f"
             ],
             [
              0.2222222222222222,
              "#7201a8"
             ],
             [
              0.3333333333333333,
              "#9c179e"
             ],
             [
              0.4444444444444444,
              "#bd3786"
             ],
             [
              0.5555555555555556,
              "#d8576b"
             ],
             [
              0.6666666666666666,
              "#ed7953"
             ],
             [
              0.7777777777777778,
              "#fb9f3a"
             ],
             [
              0.8888888888888888,
              "#fdca26"
             ],
             [
              1,
              "#f0f921"
             ]
            ],
            "type": "histogram2d"
           }
          ],
          "histogram2dcontour": [
           {
            "colorbar": {
             "outlinewidth": 0,
             "ticks": ""
            },
            "colorscale": [
             [
              0,
              "#0d0887"
             ],
             [
              0.1111111111111111,
              "#46039f"
             ],
             [
              0.2222222222222222,
              "#7201a8"
             ],
             [
              0.3333333333333333,
              "#9c179e"
             ],
             [
              0.4444444444444444,
              "#bd3786"
             ],
             [
              0.5555555555555556,
              "#d8576b"
             ],
             [
              0.6666666666666666,
              "#ed7953"
             ],
             [
              0.7777777777777778,
              "#fb9f3a"
             ],
             [
              0.8888888888888888,
              "#fdca26"
             ],
             [
              1,
              "#f0f921"
             ]
            ],
            "type": "histogram2dcontour"
           }
          ],
          "mesh3d": [
           {
            "colorbar": {
             "outlinewidth": 0,
             "ticks": ""
            },
            "type": "mesh3d"
           }
          ],
          "parcoords": [
           {
            "line": {
             "colorbar": {
              "outlinewidth": 0,
              "ticks": ""
             }
            },
            "type": "parcoords"
           }
          ],
          "pie": [
           {
            "automargin": true,
            "type": "pie"
           }
          ],
          "scatter": [
           {
            "fillpattern": {
             "fillmode": "overlay",
             "size": 10,
             "solidity": 0.2
            },
            "type": "scatter"
           }
          ],
          "scatter3d": [
           {
            "line": {
             "colorbar": {
              "outlinewidth": 0,
              "ticks": ""
             }
            },
            "marker": {
             "colorbar": {
              "outlinewidth": 0,
              "ticks": ""
             }
            },
            "type": "scatter3d"
           }
          ],
          "scattercarpet": [
           {
            "marker": {
             "colorbar": {
              "outlinewidth": 0,
              "ticks": ""
             }
            },
            "type": "scattercarpet"
           }
          ],
          "scattergeo": [
           {
            "marker": {
             "colorbar": {
              "outlinewidth": 0,
              "ticks": ""
             }
            },
            "type": "scattergeo"
           }
          ],
          "scattergl": [
           {
            "marker": {
             "colorbar": {
              "outlinewidth": 0,
              "ticks": ""
             }
            },
            "type": "scattergl"
           }
          ],
          "scattermapbox": [
           {
            "marker": {
             "colorbar": {
              "outlinewidth": 0,
              "ticks": ""
             }
            },
            "type": "scattermapbox"
           }
          ],
          "scatterpolar": [
           {
            "marker": {
             "colorbar": {
              "outlinewidth": 0,
              "ticks": ""
             }
            },
            "type": "scatterpolar"
           }
          ],
          "scatterpolargl": [
           {
            "marker": {
             "colorbar": {
              "outlinewidth": 0,
              "ticks": ""
             }
            },
            "type": "scatterpolargl"
           }
          ],
          "scatterternary": [
           {
            "marker": {
             "colorbar": {
              "outlinewidth": 0,
              "ticks": ""
             }
            },
            "type": "scatterternary"
           }
          ],
          "surface": [
           {
            "colorbar": {
             "outlinewidth": 0,
             "ticks": ""
            },
            "colorscale": [
             [
              0,
              "#0d0887"
             ],
             [
              0.1111111111111111,
              "#46039f"
             ],
             [
              0.2222222222222222,
              "#7201a8"
             ],
             [
              0.3333333333333333,
              "#9c179e"
             ],
             [
              0.4444444444444444,
              "#bd3786"
             ],
             [
              0.5555555555555556,
              "#d8576b"
             ],
             [
              0.6666666666666666,
              "#ed7953"
             ],
             [
              0.7777777777777778,
              "#fb9f3a"
             ],
             [
              0.8888888888888888,
              "#fdca26"
             ],
             [
              1,
              "#f0f921"
             ]
            ],
            "type": "surface"
           }
          ],
          "table": [
           {
            "cells": {
             "fill": {
              "color": "#EBF0F8"
             },
             "line": {
              "color": "white"
             }
            },
            "header": {
             "fill": {
              "color": "#C8D4E3"
             },
             "line": {
              "color": "white"
             }
            },
            "type": "table"
           }
          ]
         },
         "layout": {
          "annotationdefaults": {
           "arrowcolor": "#2a3f5f",
           "arrowhead": 0,
           "arrowwidth": 1
          },
          "autotypenumbers": "strict",
          "coloraxis": {
           "colorbar": {
            "outlinewidth": 0,
            "ticks": ""
           }
          },
          "colorscale": {
           "diverging": [
            [
             0,
             "#8e0152"
            ],
            [
             0.1,
             "#c51b7d"
            ],
            [
             0.2,
             "#de77ae"
            ],
            [
             0.3,
             "#f1b6da"
            ],
            [
             0.4,
             "#fde0ef"
            ],
            [
             0.5,
             "#f7f7f7"
            ],
            [
             0.6,
             "#e6f5d0"
            ],
            [
             0.7,
             "#b8e186"
            ],
            [
             0.8,
             "#7fbc41"
            ],
            [
             0.9,
             "#4d9221"
            ],
            [
             1,
             "#276419"
            ]
           ],
           "sequential": [
            [
             0,
             "#0d0887"
            ],
            [
             0.1111111111111111,
             "#46039f"
            ],
            [
             0.2222222222222222,
             "#7201a8"
            ],
            [
             0.3333333333333333,
             "#9c179e"
            ],
            [
             0.4444444444444444,
             "#bd3786"
            ],
            [
             0.5555555555555556,
             "#d8576b"
            ],
            [
             0.6666666666666666,
             "#ed7953"
            ],
            [
             0.7777777777777778,
             "#fb9f3a"
            ],
            [
             0.8888888888888888,
             "#fdca26"
            ],
            [
             1,
             "#f0f921"
            ]
           ],
           "sequentialminus": [
            [
             0,
             "#0d0887"
            ],
            [
             0.1111111111111111,
             "#46039f"
            ],
            [
             0.2222222222222222,
             "#7201a8"
            ],
            [
             0.3333333333333333,
             "#9c179e"
            ],
            [
             0.4444444444444444,
             "#bd3786"
            ],
            [
             0.5555555555555556,
             "#d8576b"
            ],
            [
             0.6666666666666666,
             "#ed7953"
            ],
            [
             0.7777777777777778,
             "#fb9f3a"
            ],
            [
             0.8888888888888888,
             "#fdca26"
            ],
            [
             1,
             "#f0f921"
            ]
           ]
          },
          "colorway": [
           "#636efa",
           "#EF553B",
           "#00cc96",
           "#ab63fa",
           "#FFA15A",
           "#19d3f3",
           "#FF6692",
           "#B6E880",
           "#FF97FF",
           "#FECB52"
          ],
          "font": {
           "color": "#2a3f5f"
          },
          "geo": {
           "bgcolor": "white",
           "lakecolor": "white",
           "landcolor": "#E5ECF6",
           "showlakes": true,
           "showland": true,
           "subunitcolor": "white"
          },
          "hoverlabel": {
           "align": "left"
          },
          "hovermode": "closest",
          "mapbox": {
           "style": "light"
          },
          "paper_bgcolor": "white",
          "plot_bgcolor": "#E5ECF6",
          "polar": {
           "angularaxis": {
            "gridcolor": "white",
            "linecolor": "white",
            "ticks": ""
           },
           "bgcolor": "#E5ECF6",
           "radialaxis": {
            "gridcolor": "white",
            "linecolor": "white",
            "ticks": ""
           }
          },
          "scene": {
           "xaxis": {
            "backgroundcolor": "#E5ECF6",
            "gridcolor": "white",
            "gridwidth": 2,
            "linecolor": "white",
            "showbackground": true,
            "ticks": "",
            "zerolinecolor": "white"
           },
           "yaxis": {
            "backgroundcolor": "#E5ECF6",
            "gridcolor": "white",
            "gridwidth": 2,
            "linecolor": "white",
            "showbackground": true,
            "ticks": "",
            "zerolinecolor": "white"
           },
           "zaxis": {
            "backgroundcolor": "#E5ECF6",
            "gridcolor": "white",
            "gridwidth": 2,
            "linecolor": "white",
            "showbackground": true,
            "ticks": "",
            "zerolinecolor": "white"
           }
          },
          "shapedefaults": {
           "line": {
            "color": "#2a3f5f"
           }
          },
          "ternary": {
           "aaxis": {
            "gridcolor": "white",
            "linecolor": "white",
            "ticks": ""
           },
           "baxis": {
            "gridcolor": "white",
            "linecolor": "white",
            "ticks": ""
           },
           "bgcolor": "#E5ECF6",
           "caxis": {
            "gridcolor": "white",
            "linecolor": "white",
            "ticks": ""
           }
          },
          "title": {
           "x": 0.05
          },
          "xaxis": {
           "automargin": true,
           "gridcolor": "white",
           "linecolor": "white",
           "ticks": "",
           "title": {
            "standoff": 15
           },
           "zerolinecolor": "white",
           "zerolinewidth": 2
          },
          "yaxis": {
           "automargin": true,
           "gridcolor": "white",
           "linecolor": "white",
           "ticks": "",
           "title": {
            "standoff": 15
           },
           "zerolinecolor": "white",
           "zerolinewidth": 2
          }
         }
        },
        "title": {
         "text": "2024 Starter Projected Points By Position",
         "x": 0.5
        },
        "width": 1200,
        "xaxis": {
         "anchor": "y",
         "domain": [
          0,
          1
         ],
         "title": {}
        },
        "yaxis": {
         "anchor": "x",
         "domain": [
          0,
          1
         ],
         "title": {
          "text": "Projected Points"
         }
        }
       }
      }
     },
     "metadata": {},
     "output_type": "display_data"
    }
   ],
   "source": [
    "# Plots the total contribution of each owner's positions to their total projected score\n",
    "by_position = starters.pivot_table(index = 'owner',\n",
    "                                  columns = 'position',\n",
    "                                  values = 'projected',\n",
    "                                  aggfunc = 'sum')\n",
    "\n",
    "by_position = (by_position.assign(total = by_position.sum(axis=1))\n",
    "                          .sort_values(by='total', ascending = False)\n",
    "                          .reset_index())\n",
    "color_seq = [2, 4 , 0, 1]\n",
    "color_seq = [px.colors.qualitative.T10[i] for i in color_seq]\n",
    "fig = px.bar(by_position,\n",
    "       x = 'owner', \n",
    "       y = ['QB', 'RB', 'WR', 'TE'],\n",
    "       barmode = 'group',\n",
    "       color_discrete_sequence = color_seq)\n",
    "\n",
    "fig.update_layout(width=1200,\n",
    "                 height=600,\n",
    "                 xaxis_title = None,\n",
    "                 yaxis_title = 'Projected Points',\n",
    "                 title = \"2024 Starter Projected Points By Position\",\n",
    "                 title_x = 0.5,\n",
    "                 font=dict(size=14),\n",
    "                 margin=dict(t=70, b=75, l=100, r=50),\n",
    "                 bargap=0.25,\n",
    "                 legend = dict(\n",
    "                     title = None,\n",
    "                     font = dict(size=20),\n",
    "                     xanchor = \"right\",\n",
    "                     y=.98,\n",
    "                     yanchor = \"top\",\n",
    "                     x=0.99\n",
    "                 ))\n",
    "fig.show()"
   ]
  },
  {
   "cell_type": "code",
   "execution_count": 20,
   "metadata": {},
   "outputs": [
    {
     "data": {
      "application/vnd.plotly.v1+json": {
       "config": {
        "plotlyServerURL": "https://plot.ly"
       },
       "data": [
        {
         "alignmentgroup": "True",
         "hovertemplate": "projected=%{x}<br>owner=%{y}<extra></extra>",
         "legendgroup": "",
         "marker": {
          "color": "#F58518",
          "pattern": {
           "shape": ""
          }
         },
         "name": "",
         "offsetgroup": "",
         "orientation": "h",
         "showlegend": false,
         "textposition": "inside",
         "texttemplate": "%{x:.0f}",
         "type": "bar",
         "x": [
          2514.77,
          3053.03,
          3087.2400000000002,
          3295.8,
          3319.57,
          3533.14,
          3540.28,
          3615.04,
          3841.59,
          4306.57,
          4319.78,
          4519.6900000000005
         ],
         "xaxis": "x",
         "y": [
          "black8yellownation",
          "burgertownthicnred",
          "shakylegs",
          "thezirconisdragon",
          "alecwilson",
          "tonygordzilla22",
          "herbietime",
          "empireyikesback",
          "namebrant",
          "pacc",
          "therealfergus",
          "mackjyers21"
         ],
         "yaxis": "y"
        }
       ],
       "layout": {
        "bargap": 0.4,
        "barmode": "relative",
        "font": {
         "size": 14
        },
        "height": 600,
        "legend": {
         "tracegroupgap": 0
        },
        "margin": {
         "b": 75,
         "l": 50,
         "r": 50,
         "t": 70
        },
        "template": {
         "data": {
          "bar": [
           {
            "error_x": {
             "color": "#2a3f5f"
            },
            "error_y": {
             "color": "#2a3f5f"
            },
            "marker": {
             "line": {
              "color": "#E5ECF6",
              "width": 0.5
             },
             "pattern": {
              "fillmode": "overlay",
              "size": 10,
              "solidity": 0.2
             }
            },
            "type": "bar"
           }
          ],
          "barpolar": [
           {
            "marker": {
             "line": {
              "color": "#E5ECF6",
              "width": 0.5
             },
             "pattern": {
              "fillmode": "overlay",
              "size": 10,
              "solidity": 0.2
             }
            },
            "type": "barpolar"
           }
          ],
          "carpet": [
           {
            "aaxis": {
             "endlinecolor": "#2a3f5f",
             "gridcolor": "white",
             "linecolor": "white",
             "minorgridcolor": "white",
             "startlinecolor": "#2a3f5f"
            },
            "baxis": {
             "endlinecolor": "#2a3f5f",
             "gridcolor": "white",
             "linecolor": "white",
             "minorgridcolor": "white",
             "startlinecolor": "#2a3f5f"
            },
            "type": "carpet"
           }
          ],
          "choropleth": [
           {
            "colorbar": {
             "outlinewidth": 0,
             "ticks": ""
            },
            "type": "choropleth"
           }
          ],
          "contour": [
           {
            "colorbar": {
             "outlinewidth": 0,
             "ticks": ""
            },
            "colorscale": [
             [
              0,
              "#0d0887"
             ],
             [
              0.1111111111111111,
              "#46039f"
             ],
             [
              0.2222222222222222,
              "#7201a8"
             ],
             [
              0.3333333333333333,
              "#9c179e"
             ],
             [
              0.4444444444444444,
              "#bd3786"
             ],
             [
              0.5555555555555556,
              "#d8576b"
             ],
             [
              0.6666666666666666,
              "#ed7953"
             ],
             [
              0.7777777777777778,
              "#fb9f3a"
             ],
             [
              0.8888888888888888,
              "#fdca26"
             ],
             [
              1,
              "#f0f921"
             ]
            ],
            "type": "contour"
           }
          ],
          "contourcarpet": [
           {
            "colorbar": {
             "outlinewidth": 0,
             "ticks": ""
            },
            "type": "contourcarpet"
           }
          ],
          "heatmap": [
           {
            "colorbar": {
             "outlinewidth": 0,
             "ticks": ""
            },
            "colorscale": [
             [
              0,
              "#0d0887"
             ],
             [
              0.1111111111111111,
              "#46039f"
             ],
             [
              0.2222222222222222,
              "#7201a8"
             ],
             [
              0.3333333333333333,
              "#9c179e"
             ],
             [
              0.4444444444444444,
              "#bd3786"
             ],
             [
              0.5555555555555556,
              "#d8576b"
             ],
             [
              0.6666666666666666,
              "#ed7953"
             ],
             [
              0.7777777777777778,
              "#fb9f3a"
             ],
             [
              0.8888888888888888,
              "#fdca26"
             ],
             [
              1,
              "#f0f921"
             ]
            ],
            "type": "heatmap"
           }
          ],
          "heatmapgl": [
           {
            "colorbar": {
             "outlinewidth": 0,
             "ticks": ""
            },
            "colorscale": [
             [
              0,
              "#0d0887"
             ],
             [
              0.1111111111111111,
              "#46039f"
             ],
             [
              0.2222222222222222,
              "#7201a8"
             ],
             [
              0.3333333333333333,
              "#9c179e"
             ],
             [
              0.4444444444444444,
              "#bd3786"
             ],
             [
              0.5555555555555556,
              "#d8576b"
             ],
             [
              0.6666666666666666,
              "#ed7953"
             ],
             [
              0.7777777777777778,
              "#fb9f3a"
             ],
             [
              0.8888888888888888,
              "#fdca26"
             ],
             [
              1,
              "#f0f921"
             ]
            ],
            "type": "heatmapgl"
           }
          ],
          "histogram": [
           {
            "marker": {
             "pattern": {
              "fillmode": "overlay",
              "size": 10,
              "solidity": 0.2
             }
            },
            "type": "histogram"
           }
          ],
          "histogram2d": [
           {
            "colorbar": {
             "outlinewidth": 0,
             "ticks": ""
            },
            "colorscale": [
             [
              0,
              "#0d0887"
             ],
             [
              0.1111111111111111,
              "#46039f"
             ],
             [
              0.2222222222222222,
              "#7201a8"
             ],
             [
              0.3333333333333333,
              "#9c179e"
             ],
             [
              0.4444444444444444,
              "#bd3786"
             ],
             [
              0.5555555555555556,
              "#d8576b"
             ],
             [
              0.6666666666666666,
              "#ed7953"
             ],
             [
              0.7777777777777778,
              "#fb9f3a"
             ],
             [
              0.8888888888888888,
              "#fdca26"
             ],
             [
              1,
              "#f0f921"
             ]
            ],
            "type": "histogram2d"
           }
          ],
          "histogram2dcontour": [
           {
            "colorbar": {
             "outlinewidth": 0,
             "ticks": ""
            },
            "colorscale": [
             [
              0,
              "#0d0887"
             ],
             [
              0.1111111111111111,
              "#46039f"
             ],
             [
              0.2222222222222222,
              "#7201a8"
             ],
             [
              0.3333333333333333,
              "#9c179e"
             ],
             [
              0.4444444444444444,
              "#bd3786"
             ],
             [
              0.5555555555555556,
              "#d8576b"
             ],
             [
              0.6666666666666666,
              "#ed7953"
             ],
             [
              0.7777777777777778,
              "#fb9f3a"
             ],
             [
              0.8888888888888888,
              "#fdca26"
             ],
             [
              1,
              "#f0f921"
             ]
            ],
            "type": "histogram2dcontour"
           }
          ],
          "mesh3d": [
           {
            "colorbar": {
             "outlinewidth": 0,
             "ticks": ""
            },
            "type": "mesh3d"
           }
          ],
          "parcoords": [
           {
            "line": {
             "colorbar": {
              "outlinewidth": 0,
              "ticks": ""
             }
            },
            "type": "parcoords"
           }
          ],
          "pie": [
           {
            "automargin": true,
            "type": "pie"
           }
          ],
          "scatter": [
           {
            "fillpattern": {
             "fillmode": "overlay",
             "size": 10,
             "solidity": 0.2
            },
            "type": "scatter"
           }
          ],
          "scatter3d": [
           {
            "line": {
             "colorbar": {
              "outlinewidth": 0,
              "ticks": ""
             }
            },
            "marker": {
             "colorbar": {
              "outlinewidth": 0,
              "ticks": ""
             }
            },
            "type": "scatter3d"
           }
          ],
          "scattercarpet": [
           {
            "marker": {
             "colorbar": {
              "outlinewidth": 0,
              "ticks": ""
             }
            },
            "type": "scattercarpet"
           }
          ],
          "scattergeo": [
           {
            "marker": {
             "colorbar": {
              "outlinewidth": 0,
              "ticks": ""
             }
            },
            "type": "scattergeo"
           }
          ],
          "scattergl": [
           {
            "marker": {
             "colorbar": {
              "outlinewidth": 0,
              "ticks": ""
             }
            },
            "type": "scattergl"
           }
          ],
          "scattermapbox": [
           {
            "marker": {
             "colorbar": {
              "outlinewidth": 0,
              "ticks": ""
             }
            },
            "type": "scattermapbox"
           }
          ],
          "scatterpolar": [
           {
            "marker": {
             "colorbar": {
              "outlinewidth": 0,
              "ticks": ""
             }
            },
            "type": "scatterpolar"
           }
          ],
          "scatterpolargl": [
           {
            "marker": {
             "colorbar": {
              "outlinewidth": 0,
              "ticks": ""
             }
            },
            "type": "scatterpolargl"
           }
          ],
          "scatterternary": [
           {
            "marker": {
             "colorbar": {
              "outlinewidth": 0,
              "ticks": ""
             }
            },
            "type": "scatterternary"
           }
          ],
          "surface": [
           {
            "colorbar": {
             "outlinewidth": 0,
             "ticks": ""
            },
            "colorscale": [
             [
              0,
              "#0d0887"
             ],
             [
              0.1111111111111111,
              "#46039f"
             ],
             [
              0.2222222222222222,
              "#7201a8"
             ],
             [
              0.3333333333333333,
              "#9c179e"
             ],
             [
              0.4444444444444444,
              "#bd3786"
             ],
             [
              0.5555555555555556,
              "#d8576b"
             ],
             [
              0.6666666666666666,
              "#ed7953"
             ],
             [
              0.7777777777777778,
              "#fb9f3a"
             ],
             [
              0.8888888888888888,
              "#fdca26"
             ],
             [
              1,
              "#f0f921"
             ]
            ],
            "type": "surface"
           }
          ],
          "table": [
           {
            "cells": {
             "fill": {
              "color": "#EBF0F8"
             },
             "line": {
              "color": "white"
             }
            },
            "header": {
             "fill": {
              "color": "#C8D4E3"
             },
             "line": {
              "color": "white"
             }
            },
            "type": "table"
           }
          ]
         },
         "layout": {
          "annotationdefaults": {
           "arrowcolor": "#2a3f5f",
           "arrowhead": 0,
           "arrowwidth": 1
          },
          "autotypenumbers": "strict",
          "coloraxis": {
           "colorbar": {
            "outlinewidth": 0,
            "ticks": ""
           }
          },
          "colorscale": {
           "diverging": [
            [
             0,
             "#8e0152"
            ],
            [
             0.1,
             "#c51b7d"
            ],
            [
             0.2,
             "#de77ae"
            ],
            [
             0.3,
             "#f1b6da"
            ],
            [
             0.4,
             "#fde0ef"
            ],
            [
             0.5,
             "#f7f7f7"
            ],
            [
             0.6,
             "#e6f5d0"
            ],
            [
             0.7,
             "#b8e186"
            ],
            [
             0.8,
             "#7fbc41"
            ],
            [
             0.9,
             "#4d9221"
            ],
            [
             1,
             "#276419"
            ]
           ],
           "sequential": [
            [
             0,
             "#0d0887"
            ],
            [
             0.1111111111111111,
             "#46039f"
            ],
            [
             0.2222222222222222,
             "#7201a8"
            ],
            [
             0.3333333333333333,
             "#9c179e"
            ],
            [
             0.4444444444444444,
             "#bd3786"
            ],
            [
             0.5555555555555556,
             "#d8576b"
            ],
            [
             0.6666666666666666,
             "#ed7953"
            ],
            [
             0.7777777777777778,
             "#fb9f3a"
            ],
            [
             0.8888888888888888,
             "#fdca26"
            ],
            [
             1,
             "#f0f921"
            ]
           ],
           "sequentialminus": [
            [
             0,
             "#0d0887"
            ],
            [
             0.1111111111111111,
             "#46039f"
            ],
            [
             0.2222222222222222,
             "#7201a8"
            ],
            [
             0.3333333333333333,
             "#9c179e"
            ],
            [
             0.4444444444444444,
             "#bd3786"
            ],
            [
             0.5555555555555556,
             "#d8576b"
            ],
            [
             0.6666666666666666,
             "#ed7953"
            ],
            [
             0.7777777777777778,
             "#fb9f3a"
            ],
            [
             0.8888888888888888,
             "#fdca26"
            ],
            [
             1,
             "#f0f921"
            ]
           ]
          },
          "colorway": [
           "#636efa",
           "#EF553B",
           "#00cc96",
           "#ab63fa",
           "#FFA15A",
           "#19d3f3",
           "#FF6692",
           "#B6E880",
           "#FF97FF",
           "#FECB52"
          ],
          "font": {
           "color": "#2a3f5f"
          },
          "geo": {
           "bgcolor": "white",
           "lakecolor": "white",
           "landcolor": "#E5ECF6",
           "showlakes": true,
           "showland": true,
           "subunitcolor": "white"
          },
          "hoverlabel": {
           "align": "left"
          },
          "hovermode": "closest",
          "mapbox": {
           "style": "light"
          },
          "paper_bgcolor": "white",
          "plot_bgcolor": "#E5ECF6",
          "polar": {
           "angularaxis": {
            "gridcolor": "white",
            "linecolor": "white",
            "ticks": ""
           },
           "bgcolor": "#E5ECF6",
           "radialaxis": {
            "gridcolor": "white",
            "linecolor": "white",
            "ticks": ""
           }
          },
          "scene": {
           "xaxis": {
            "backgroundcolor": "#E5ECF6",
            "gridcolor": "white",
            "gridwidth": 2,
            "linecolor": "white",
            "showbackground": true,
            "ticks": "",
            "zerolinecolor": "white"
           },
           "yaxis": {
            "backgroundcolor": "#E5ECF6",
            "gridcolor": "white",
            "gridwidth": 2,
            "linecolor": "white",
            "showbackground": true,
            "ticks": "",
            "zerolinecolor": "white"
           },
           "zaxis": {
            "backgroundcolor": "#E5ECF6",
            "gridcolor": "white",
            "gridwidth": 2,
            "linecolor": "white",
            "showbackground": true,
            "ticks": "",
            "zerolinecolor": "white"
           }
          },
          "shapedefaults": {
           "line": {
            "color": "#2a3f5f"
           }
          },
          "ternary": {
           "aaxis": {
            "gridcolor": "white",
            "linecolor": "white",
            "ticks": ""
           },
           "baxis": {
            "gridcolor": "white",
            "linecolor": "white",
            "ticks": ""
           },
           "bgcolor": "#E5ECF6",
           "caxis": {
            "gridcolor": "white",
            "linecolor": "white",
            "ticks": ""
           }
          },
          "title": {
           "x": 0.05
          },
          "xaxis": {
           "automargin": true,
           "gridcolor": "white",
           "linecolor": "white",
           "ticks": "",
           "title": {
            "standoff": 15
           },
           "zerolinecolor": "white",
           "zerolinewidth": 2
          },
          "yaxis": {
           "automargin": true,
           "gridcolor": "white",
           "linecolor": "white",
           "ticks": "",
           "title": {
            "standoff": 15
           },
           "zerolinecolor": "white",
           "zerolinewidth": 2
          }
         }
        },
        "title": {
         "text": "2024 Season Projected Points for All Players",
         "x": 0.5
        },
        "width": 900,
        "xaxis": {
         "anchor": "y",
         "domain": [
          0,
          1
         ],
         "title": {
          "text": "Total Projected Points"
         }
        },
        "yaxis": {
         "anchor": "x",
         "domain": [
          0,
          1
         ],
         "title": {
          "text": ""
         }
        }
       }
      }
     },
     "metadata": {},
     "output_type": "display_data"
    }
   ],
   "source": [
    "# Plots the season total projected points of all players on each team\n",
    "total_team = (teams.\n",
    "              groupby(\"owner\")\n",
    "              [[\"projected\"]]\n",
    "              .sum()\n",
    "              .sort_values(by = 'projected')\n",
    "              .reset_index()\n",
    "              )\n",
    "\n",
    "fig = px.bar(total_team,\n",
    "              y = 'owner',\n",
    "              x = 'projected',\n",
    "              orientation = 'h',\n",
    "              color_discrete_sequence = [px.colors.qualitative.T10[1]])\n",
    "\n",
    "fig.update_layout(width=900,\n",
    "                 height=600,\n",
    "                 xaxis_title = \"Total Projected Points\",\n",
    "                 yaxis_title = \"\",\n",
    "                 title = '2024 Season Projected Points for All Players',\n",
    "                 title_x = 0.5,\n",
    "                 font=dict(size=14),\n",
    "                 margin=dict(t=70, b=75, l=50, r=50),\n",
    "                 bargap=0.4)\n",
    "\n",
    "fig.update_traces(textposition = \"inside\", texttemplate='%{x:.0f}')\n",
    "\n",
    "fig.show()"
   ]
  },
  {
   "cell_type": "code",
   "execution_count": 21,
   "metadata": {},
   "outputs": [
    {
     "data": {
      "application/vnd.plotly.v1+json": {
       "config": {
        "plotlyServerURL": "https://plot.ly"
       },
       "data": [
        {
         "alignmentgroup": "True",
         "hovertemplate": "projected=%{x}<br>owner=%{y}<extra></extra>",
         "legendgroup": "",
         "marker": {
          "color": "#4C78A8",
          "pattern": {
           "shape": ""
          }
         },
         "name": "",
         "offsetgroup": "",
         "orientation": "h",
         "showlegend": false,
         "textposition": "inside",
         "texttemplate": "%{x:.0f}",
         "type": "bar",
         "x": [
          1698.24,
          1974.95,
          1982.41,
          2071.67,
          2245.21,
          2283.52,
          2341.37,
          2396.69,
          2410.37,
          2453.54,
          2454.25,
          2584.7999999999997
         ],
         "xaxis": "x",
         "y": [
          "black8yellownation",
          "tonygordzilla22",
          "shakylegs",
          "burgertownthicnred",
          "alecwilson",
          "empireyikesback",
          "namebrant",
          "thezirconisdragon",
          "herbietime",
          "mackjyers21",
          "therealfergus",
          "pacc"
         ],
         "yaxis": "y"
        }
       ],
       "layout": {
        "bargap": 0.4,
        "barmode": "relative",
        "font": {
         "size": 14
        },
        "height": 600,
        "legend": {
         "tracegroupgap": 0
        },
        "margin": {
         "b": 75,
         "l": 50,
         "r": 50,
         "t": 70
        },
        "template": {
         "data": {
          "bar": [
           {
            "error_x": {
             "color": "#2a3f5f"
            },
            "error_y": {
             "color": "#2a3f5f"
            },
            "marker": {
             "line": {
              "color": "#E5ECF6",
              "width": 0.5
             },
             "pattern": {
              "fillmode": "overlay",
              "size": 10,
              "solidity": 0.2
             }
            },
            "type": "bar"
           }
          ],
          "barpolar": [
           {
            "marker": {
             "line": {
              "color": "#E5ECF6",
              "width": 0.5
             },
             "pattern": {
              "fillmode": "overlay",
              "size": 10,
              "solidity": 0.2
             }
            },
            "type": "barpolar"
           }
          ],
          "carpet": [
           {
            "aaxis": {
             "endlinecolor": "#2a3f5f",
             "gridcolor": "white",
             "linecolor": "white",
             "minorgridcolor": "white",
             "startlinecolor": "#2a3f5f"
            },
            "baxis": {
             "endlinecolor": "#2a3f5f",
             "gridcolor": "white",
             "linecolor": "white",
             "minorgridcolor": "white",
             "startlinecolor": "#2a3f5f"
            },
            "type": "carpet"
           }
          ],
          "choropleth": [
           {
            "colorbar": {
             "outlinewidth": 0,
             "ticks": ""
            },
            "type": "choropleth"
           }
          ],
          "contour": [
           {
            "colorbar": {
             "outlinewidth": 0,
             "ticks": ""
            },
            "colorscale": [
             [
              0,
              "#0d0887"
             ],
             [
              0.1111111111111111,
              "#46039f"
             ],
             [
              0.2222222222222222,
              "#7201a8"
             ],
             [
              0.3333333333333333,
              "#9c179e"
             ],
             [
              0.4444444444444444,
              "#bd3786"
             ],
             [
              0.5555555555555556,
              "#d8576b"
             ],
             [
              0.6666666666666666,
              "#ed7953"
             ],
             [
              0.7777777777777778,
              "#fb9f3a"
             ],
             [
              0.8888888888888888,
              "#fdca26"
             ],
             [
              1,
              "#f0f921"
             ]
            ],
            "type": "contour"
           }
          ],
          "contourcarpet": [
           {
            "colorbar": {
             "outlinewidth": 0,
             "ticks": ""
            },
            "type": "contourcarpet"
           }
          ],
          "heatmap": [
           {
            "colorbar": {
             "outlinewidth": 0,
             "ticks": ""
            },
            "colorscale": [
             [
              0,
              "#0d0887"
             ],
             [
              0.1111111111111111,
              "#46039f"
             ],
             [
              0.2222222222222222,
              "#7201a8"
             ],
             [
              0.3333333333333333,
              "#9c179e"
             ],
             [
              0.4444444444444444,
              "#bd3786"
             ],
             [
              0.5555555555555556,
              "#d8576b"
             ],
             [
              0.6666666666666666,
              "#ed7953"
             ],
             [
              0.7777777777777778,
              "#fb9f3a"
             ],
             [
              0.8888888888888888,
              "#fdca26"
             ],
             [
              1,
              "#f0f921"
             ]
            ],
            "type": "heatmap"
           }
          ],
          "heatmapgl": [
           {
            "colorbar": {
             "outlinewidth": 0,
             "ticks": ""
            },
            "colorscale": [
             [
              0,
              "#0d0887"
             ],
             [
              0.1111111111111111,
              "#46039f"
             ],
             [
              0.2222222222222222,
              "#7201a8"
             ],
             [
              0.3333333333333333,
              "#9c179e"
             ],
             [
              0.4444444444444444,
              "#bd3786"
             ],
             [
              0.5555555555555556,
              "#d8576b"
             ],
             [
              0.6666666666666666,
              "#ed7953"
             ],
             [
              0.7777777777777778,
              "#fb9f3a"
             ],
             [
              0.8888888888888888,
              "#fdca26"
             ],
             [
              1,
              "#f0f921"
             ]
            ],
            "type": "heatmapgl"
           }
          ],
          "histogram": [
           {
            "marker": {
             "pattern": {
              "fillmode": "overlay",
              "size": 10,
              "solidity": 0.2
             }
            },
            "type": "histogram"
           }
          ],
          "histogram2d": [
           {
            "colorbar": {
             "outlinewidth": 0,
             "ticks": ""
            },
            "colorscale": [
             [
              0,
              "#0d0887"
             ],
             [
              0.1111111111111111,
              "#46039f"
             ],
             [
              0.2222222222222222,
              "#7201a8"
             ],
             [
              0.3333333333333333,
              "#9c179e"
             ],
             [
              0.4444444444444444,
              "#bd3786"
             ],
             [
              0.5555555555555556,
              "#d8576b"
             ],
             [
              0.6666666666666666,
              "#ed7953"
             ],
             [
              0.7777777777777778,
              "#fb9f3a"
             ],
             [
              0.8888888888888888,
              "#fdca26"
             ],
             [
              1,
              "#f0f921"
             ]
            ],
            "type": "histogram2d"
           }
          ],
          "histogram2dcontour": [
           {
            "colorbar": {
             "outlinewidth": 0,
             "ticks": ""
            },
            "colorscale": [
             [
              0,
              "#0d0887"
             ],
             [
              0.1111111111111111,
              "#46039f"
             ],
             [
              0.2222222222222222,
              "#7201a8"
             ],
             [
              0.3333333333333333,
              "#9c179e"
             ],
             [
              0.4444444444444444,
              "#bd3786"
             ],
             [
              0.5555555555555556,
              "#d8576b"
             ],
             [
              0.6666666666666666,
              "#ed7953"
             ],
             [
              0.7777777777777778,
              "#fb9f3a"
             ],
             [
              0.8888888888888888,
              "#fdca26"
             ],
             [
              1,
              "#f0f921"
             ]
            ],
            "type": "histogram2dcontour"
           }
          ],
          "mesh3d": [
           {
            "colorbar": {
             "outlinewidth": 0,
             "ticks": ""
            },
            "type": "mesh3d"
           }
          ],
          "parcoords": [
           {
            "line": {
             "colorbar": {
              "outlinewidth": 0,
              "ticks": ""
             }
            },
            "type": "parcoords"
           }
          ],
          "pie": [
           {
            "automargin": true,
            "type": "pie"
           }
          ],
          "scatter": [
           {
            "fillpattern": {
             "fillmode": "overlay",
             "size": 10,
             "solidity": 0.2
            },
            "type": "scatter"
           }
          ],
          "scatter3d": [
           {
            "line": {
             "colorbar": {
              "outlinewidth": 0,
              "ticks": ""
             }
            },
            "marker": {
             "colorbar": {
              "outlinewidth": 0,
              "ticks": ""
             }
            },
            "type": "scatter3d"
           }
          ],
          "scattercarpet": [
           {
            "marker": {
             "colorbar": {
              "outlinewidth": 0,
              "ticks": ""
             }
            },
            "type": "scattercarpet"
           }
          ],
          "scattergeo": [
           {
            "marker": {
             "colorbar": {
              "outlinewidth": 0,
              "ticks": ""
             }
            },
            "type": "scattergeo"
           }
          ],
          "scattergl": [
           {
            "marker": {
             "colorbar": {
              "outlinewidth": 0,
              "ticks": ""
             }
            },
            "type": "scattergl"
           }
          ],
          "scattermapbox": [
           {
            "marker": {
             "colorbar": {
              "outlinewidth": 0,
              "ticks": ""
             }
            },
            "type": "scattermapbox"
           }
          ],
          "scatterpolar": [
           {
            "marker": {
             "colorbar": {
              "outlinewidth": 0,
              "ticks": ""
             }
            },
            "type": "scatterpolar"
           }
          ],
          "scatterpolargl": [
           {
            "marker": {
             "colorbar": {
              "outlinewidth": 0,
              "ticks": ""
             }
            },
            "type": "scatterpolargl"
           }
          ],
          "scatterternary": [
           {
            "marker": {
             "colorbar": {
              "outlinewidth": 0,
              "ticks": ""
             }
            },
            "type": "scatterternary"
           }
          ],
          "surface": [
           {
            "colorbar": {
             "outlinewidth": 0,
             "ticks": ""
            },
            "colorscale": [
             [
              0,
              "#0d0887"
             ],
             [
              0.1111111111111111,
              "#46039f"
             ],
             [
              0.2222222222222222,
              "#7201a8"
             ],
             [
              0.3333333333333333,
              "#9c179e"
             ],
             [
              0.4444444444444444,
              "#bd3786"
             ],
             [
              0.5555555555555556,
              "#d8576b"
             ],
             [
              0.6666666666666666,
              "#ed7953"
             ],
             [
              0.7777777777777778,
              "#fb9f3a"
             ],
             [
              0.8888888888888888,
              "#fdca26"
             ],
             [
              1,
              "#f0f921"
             ]
            ],
            "type": "surface"
           }
          ],
          "table": [
           {
            "cells": {
             "fill": {
              "color": "#EBF0F8"
             },
             "line": {
              "color": "white"
             }
            },
            "header": {
             "fill": {
              "color": "#C8D4E3"
             },
             "line": {
              "color": "white"
             }
            },
            "type": "table"
           }
          ]
         },
         "layout": {
          "annotationdefaults": {
           "arrowcolor": "#2a3f5f",
           "arrowhead": 0,
           "arrowwidth": 1
          },
          "autotypenumbers": "strict",
          "coloraxis": {
           "colorbar": {
            "outlinewidth": 0,
            "ticks": ""
           }
          },
          "colorscale": {
           "diverging": [
            [
             0,
             "#8e0152"
            ],
            [
             0.1,
             "#c51b7d"
            ],
            [
             0.2,
             "#de77ae"
            ],
            [
             0.3,
             "#f1b6da"
            ],
            [
             0.4,
             "#fde0ef"
            ],
            [
             0.5,
             "#f7f7f7"
            ],
            [
             0.6,
             "#e6f5d0"
            ],
            [
             0.7,
             "#b8e186"
            ],
            [
             0.8,
             "#7fbc41"
            ],
            [
             0.9,
             "#4d9221"
            ],
            [
             1,
             "#276419"
            ]
           ],
           "sequential": [
            [
             0,
             "#0d0887"
            ],
            [
             0.1111111111111111,
             "#46039f"
            ],
            [
             0.2222222222222222,
             "#7201a8"
            ],
            [
             0.3333333333333333,
             "#9c179e"
            ],
            [
             0.4444444444444444,
             "#bd3786"
            ],
            [
             0.5555555555555556,
             "#d8576b"
            ],
            [
             0.6666666666666666,
             "#ed7953"
            ],
            [
             0.7777777777777778,
             "#fb9f3a"
            ],
            [
             0.8888888888888888,
             "#fdca26"
            ],
            [
             1,
             "#f0f921"
            ]
           ],
           "sequentialminus": [
            [
             0,
             "#0d0887"
            ],
            [
             0.1111111111111111,
             "#46039f"
            ],
            [
             0.2222222222222222,
             "#7201a8"
            ],
            [
             0.3333333333333333,
             "#9c179e"
            ],
            [
             0.4444444444444444,
             "#bd3786"
            ],
            [
             0.5555555555555556,
             "#d8576b"
            ],
            [
             0.6666666666666666,
             "#ed7953"
            ],
            [
             0.7777777777777778,
             "#fb9f3a"
            ],
            [
             0.8888888888888888,
             "#fdca26"
            ],
            [
             1,
             "#f0f921"
            ]
           ]
          },
          "colorway": [
           "#636efa",
           "#EF553B",
           "#00cc96",
           "#ab63fa",
           "#FFA15A",
           "#19d3f3",
           "#FF6692",
           "#B6E880",
           "#FF97FF",
           "#FECB52"
          ],
          "font": {
           "color": "#2a3f5f"
          },
          "geo": {
           "bgcolor": "white",
           "lakecolor": "white",
           "landcolor": "#E5ECF6",
           "showlakes": true,
           "showland": true,
           "subunitcolor": "white"
          },
          "hoverlabel": {
           "align": "left"
          },
          "hovermode": "closest",
          "mapbox": {
           "style": "light"
          },
          "paper_bgcolor": "white",
          "plot_bgcolor": "#E5ECF6",
          "polar": {
           "angularaxis": {
            "gridcolor": "white",
            "linecolor": "white",
            "ticks": ""
           },
           "bgcolor": "#E5ECF6",
           "radialaxis": {
            "gridcolor": "white",
            "linecolor": "white",
            "ticks": ""
           }
          },
          "scene": {
           "xaxis": {
            "backgroundcolor": "#E5ECF6",
            "gridcolor": "white",
            "gridwidth": 2,
            "linecolor": "white",
            "showbackground": true,
            "ticks": "",
            "zerolinecolor": "white"
           },
           "yaxis": {
            "backgroundcolor": "#E5ECF6",
            "gridcolor": "white",
            "gridwidth": 2,
            "linecolor": "white",
            "showbackground": true,
            "ticks": "",
            "zerolinecolor": "white"
           },
           "zaxis": {
            "backgroundcolor": "#E5ECF6",
            "gridcolor": "white",
            "gridwidth": 2,
            "linecolor": "white",
            "showbackground": true,
            "ticks": "",
            "zerolinecolor": "white"
           }
          },
          "shapedefaults": {
           "line": {
            "color": "#2a3f5f"
           }
          },
          "ternary": {
           "aaxis": {
            "gridcolor": "white",
            "linecolor": "white",
            "ticks": ""
           },
           "baxis": {
            "gridcolor": "white",
            "linecolor": "white",
            "ticks": ""
           },
           "bgcolor": "#E5ECF6",
           "caxis": {
            "gridcolor": "white",
            "linecolor": "white",
            "ticks": ""
           }
          },
          "title": {
           "x": 0.05
          },
          "xaxis": {
           "automargin": true,
           "gridcolor": "white",
           "linecolor": "white",
           "ticks": "",
           "title": {
            "standoff": 15
           },
           "zerolinecolor": "white",
           "zerolinewidth": 2
          },
          "yaxis": {
           "automargin": true,
           "gridcolor": "white",
           "linecolor": "white",
           "ticks": "",
           "title": {
            "standoff": 15
           },
           "zerolinecolor": "white",
           "zerolinewidth": 2
          }
         }
        },
        "title": {
         "text": "2024 Season Projected Points for Top Starters",
         "x": 0.5
        },
        "width": 900,
        "xaxis": {
         "anchor": "y",
         "domain": [
          0,
          1
         ],
         "title": {
          "text": "Total Projected Points"
         }
        },
        "yaxis": {
         "anchor": "x",
         "domain": [
          0,
          1
         ],
         "title": {
          "text": ""
         }
        }
       }
      }
     },
     "metadata": {},
     "output_type": "display_data"
    }
   ],
   "source": [
    "# Plots the season total projected points of the starters on each team\n",
    "best_starts = (starters\n",
    "               .groupby(\"owner\")\n",
    "               [[\"projected\"]]\n",
    "               .sum()\n",
    "               .sort_values(by=\"projected\")\n",
    "               .reset_index()\n",
    "               )\n",
    "\n",
    "fig = px.bar(best_starts,\n",
    "              y = 'owner',\n",
    "              x = 'projected',\n",
    "              orientation = 'h',\n",
    "              color_discrete_sequence = [px.colors.qualitative.T10[0]])\n",
    "\n",
    "fig.update_layout(width=900,\n",
    "                 height=600,\n",
    "                 xaxis_title = \"Total Projected Points\",\n",
    "                 yaxis_title = \"\",\n",
    "                 title = '2024 Season Projected Points for Top Starters',\n",
    "                 title_x = 0.5,\n",
    "                 font=dict(size=14),\n",
    "                 margin=dict(t=70, b=75, l=50, r=50),\n",
    "                 bargap=0.4)\n",
    "\n",
    "fig.update_traces(textposition = \"inside\", texttemplate='%{x:.0f}')\n",
    "\n",
    "fig.show()"
   ]
  },
  {
   "cell_type": "code",
   "execution_count": 22,
   "metadata": {},
   "outputs": [
    {
     "data": {
      "application/vnd.plotly.v1+json": {
       "config": {
        "plotlyServerURL": "https://plot.ly"
       },
       "data": [
        {
         "alignmentgroup": "True",
         "hovertemplate": "variable=Top Starters<br>value=%{x}<br>owner=%{y}<extra></extra>",
         "legendgroup": "Top Starters",
         "marker": {
          "color": "#4C78A8",
          "pattern": {
           "shape": ""
          }
         },
         "name": "Top Starters",
         "offsetgroup": "Top Starters",
         "orientation": "h",
         "showlegend": true,
         "textposition": "inside",
         "texttemplate": "%{x:.0f}",
         "type": "bar",
         "x": [
          1698.24,
          1974.95,
          1982.41,
          2071.67,
          2245.21,
          2283.52,
          2341.37,
          2396.69,
          2410.37,
          2453.54,
          2454.25,
          2584.7999999999997
         ],
         "xaxis": "x",
         "y": [
          "black8yellownation",
          "tonygordzilla22",
          "shakylegs",
          "burgertownthicnred",
          "alecwilson",
          "empireyikesback",
          "namebrant",
          "thezirconisdragon",
          "herbietime",
          "mackjyers21",
          "therealfergus",
          "pacc"
         ],
         "yaxis": "y"
        },
        {
         "alignmentgroup": "True",
         "hovertemplate": "variable=All Players<br>value=%{x}<br>owner=%{y}<extra></extra>",
         "legendgroup": "All Players",
         "marker": {
          "color": "#F58518",
          "pattern": {
           "shape": ""
          }
         },
         "name": "All Players",
         "offsetgroup": "All Players",
         "orientation": "h",
         "showlegend": true,
         "textposition": "inside",
         "texttemplate": "%{x:.0f}",
         "type": "bar",
         "x": [
          2514.77,
          3533.14,
          3087.2400000000002,
          3053.03,
          3319.57,
          3615.04,
          3841.59,
          3295.8,
          3540.28,
          4519.6900000000005,
          4319.78,
          4306.57
         ],
         "xaxis": "x",
         "y": [
          "black8yellownation",
          "tonygordzilla22",
          "shakylegs",
          "burgertownthicnred",
          "alecwilson",
          "empireyikesback",
          "namebrant",
          "thezirconisdragon",
          "herbietime",
          "mackjyers21",
          "therealfergus",
          "pacc"
         ],
         "yaxis": "y"
        }
       ],
       "layout": {
        "bargap": 0.25,
        "barmode": "group",
        "font": {
         "size": 14
        },
        "height": 800,
        "legend": {
         "font": {
          "size": 20
         },
         "title": {},
         "tracegroupgap": 0,
         "x": 0.95,
         "xanchor": "right",
         "y": 0.05,
         "yanchor": "bottom"
        },
        "margin": {
         "b": 75,
         "l": 50,
         "r": 50,
         "t": 70
        },
        "template": {
         "data": {
          "bar": [
           {
            "error_x": {
             "color": "#2a3f5f"
            },
            "error_y": {
             "color": "#2a3f5f"
            },
            "marker": {
             "line": {
              "color": "#E5ECF6",
              "width": 0.5
             },
             "pattern": {
              "fillmode": "overlay",
              "size": 10,
              "solidity": 0.2
             }
            },
            "type": "bar"
           }
          ],
          "barpolar": [
           {
            "marker": {
             "line": {
              "color": "#E5ECF6",
              "width": 0.5
             },
             "pattern": {
              "fillmode": "overlay",
              "size": 10,
              "solidity": 0.2
             }
            },
            "type": "barpolar"
           }
          ],
          "carpet": [
           {
            "aaxis": {
             "endlinecolor": "#2a3f5f",
             "gridcolor": "white",
             "linecolor": "white",
             "minorgridcolor": "white",
             "startlinecolor": "#2a3f5f"
            },
            "baxis": {
             "endlinecolor": "#2a3f5f",
             "gridcolor": "white",
             "linecolor": "white",
             "minorgridcolor": "white",
             "startlinecolor": "#2a3f5f"
            },
            "type": "carpet"
           }
          ],
          "choropleth": [
           {
            "colorbar": {
             "outlinewidth": 0,
             "ticks": ""
            },
            "type": "choropleth"
           }
          ],
          "contour": [
           {
            "colorbar": {
             "outlinewidth": 0,
             "ticks": ""
            },
            "colorscale": [
             [
              0,
              "#0d0887"
             ],
             [
              0.1111111111111111,
              "#46039f"
             ],
             [
              0.2222222222222222,
              "#7201a8"
             ],
             [
              0.3333333333333333,
              "#9c179e"
             ],
             [
              0.4444444444444444,
              "#bd3786"
             ],
             [
              0.5555555555555556,
              "#d8576b"
             ],
             [
              0.6666666666666666,
              "#ed7953"
             ],
             [
              0.7777777777777778,
              "#fb9f3a"
             ],
             [
              0.8888888888888888,
              "#fdca26"
             ],
             [
              1,
              "#f0f921"
             ]
            ],
            "type": "contour"
           }
          ],
          "contourcarpet": [
           {
            "colorbar": {
             "outlinewidth": 0,
             "ticks": ""
            },
            "type": "contourcarpet"
           }
          ],
          "heatmap": [
           {
            "colorbar": {
             "outlinewidth": 0,
             "ticks": ""
            },
            "colorscale": [
             [
              0,
              "#0d0887"
             ],
             [
              0.1111111111111111,
              "#46039f"
             ],
             [
              0.2222222222222222,
              "#7201a8"
             ],
             [
              0.3333333333333333,
              "#9c179e"
             ],
             [
              0.4444444444444444,
              "#bd3786"
             ],
             [
              0.5555555555555556,
              "#d8576b"
             ],
             [
              0.6666666666666666,
              "#ed7953"
             ],
             [
              0.7777777777777778,
              "#fb9f3a"
             ],
             [
              0.8888888888888888,
              "#fdca26"
             ],
             [
              1,
              "#f0f921"
             ]
            ],
            "type": "heatmap"
           }
          ],
          "heatmapgl": [
           {
            "colorbar": {
             "outlinewidth": 0,
             "ticks": ""
            },
            "colorscale": [
             [
              0,
              "#0d0887"
             ],
             [
              0.1111111111111111,
              "#46039f"
             ],
             [
              0.2222222222222222,
              "#7201a8"
             ],
             [
              0.3333333333333333,
              "#9c179e"
             ],
             [
              0.4444444444444444,
              "#bd3786"
             ],
             [
              0.5555555555555556,
              "#d8576b"
             ],
             [
              0.6666666666666666,
              "#ed7953"
             ],
             [
              0.7777777777777778,
              "#fb9f3a"
             ],
             [
              0.8888888888888888,
              "#fdca26"
             ],
             [
              1,
              "#f0f921"
             ]
            ],
            "type": "heatmapgl"
           }
          ],
          "histogram": [
           {
            "marker": {
             "pattern": {
              "fillmode": "overlay",
              "size": 10,
              "solidity": 0.2
             }
            },
            "type": "histogram"
           }
          ],
          "histogram2d": [
           {
            "colorbar": {
             "outlinewidth": 0,
             "ticks": ""
            },
            "colorscale": [
             [
              0,
              "#0d0887"
             ],
             [
              0.1111111111111111,
              "#46039f"
             ],
             [
              0.2222222222222222,
              "#7201a8"
             ],
             [
              0.3333333333333333,
              "#9c179e"
             ],
             [
              0.4444444444444444,
              "#bd3786"
             ],
             [
              0.5555555555555556,
              "#d8576b"
             ],
             [
              0.6666666666666666,
              "#ed7953"
             ],
             [
              0.7777777777777778,
              "#fb9f3a"
             ],
             [
              0.8888888888888888,
              "#fdca26"
             ],
             [
              1,
              "#f0f921"
             ]
            ],
            "type": "histogram2d"
           }
          ],
          "histogram2dcontour": [
           {
            "colorbar": {
             "outlinewidth": 0,
             "ticks": ""
            },
            "colorscale": [
             [
              0,
              "#0d0887"
             ],
             [
              0.1111111111111111,
              "#46039f"
             ],
             [
              0.2222222222222222,
              "#7201a8"
             ],
             [
              0.3333333333333333,
              "#9c179e"
             ],
             [
              0.4444444444444444,
              "#bd3786"
             ],
             [
              0.5555555555555556,
              "#d8576b"
             ],
             [
              0.6666666666666666,
              "#ed7953"
             ],
             [
              0.7777777777777778,
              "#fb9f3a"
             ],
             [
              0.8888888888888888,
              "#fdca26"
             ],
             [
              1,
              "#f0f921"
             ]
            ],
            "type": "histogram2dcontour"
           }
          ],
          "mesh3d": [
           {
            "colorbar": {
             "outlinewidth": 0,
             "ticks": ""
            },
            "type": "mesh3d"
           }
          ],
          "parcoords": [
           {
            "line": {
             "colorbar": {
              "outlinewidth": 0,
              "ticks": ""
             }
            },
            "type": "parcoords"
           }
          ],
          "pie": [
           {
            "automargin": true,
            "type": "pie"
           }
          ],
          "scatter": [
           {
            "fillpattern": {
             "fillmode": "overlay",
             "size": 10,
             "solidity": 0.2
            },
            "type": "scatter"
           }
          ],
          "scatter3d": [
           {
            "line": {
             "colorbar": {
              "outlinewidth": 0,
              "ticks": ""
             }
            },
            "marker": {
             "colorbar": {
              "outlinewidth": 0,
              "ticks": ""
             }
            },
            "type": "scatter3d"
           }
          ],
          "scattercarpet": [
           {
            "marker": {
             "colorbar": {
              "outlinewidth": 0,
              "ticks": ""
             }
            },
            "type": "scattercarpet"
           }
          ],
          "scattergeo": [
           {
            "marker": {
             "colorbar": {
              "outlinewidth": 0,
              "ticks": ""
             }
            },
            "type": "scattergeo"
           }
          ],
          "scattergl": [
           {
            "marker": {
             "colorbar": {
              "outlinewidth": 0,
              "ticks": ""
             }
            },
            "type": "scattergl"
           }
          ],
          "scattermapbox": [
           {
            "marker": {
             "colorbar": {
              "outlinewidth": 0,
              "ticks": ""
             }
            },
            "type": "scattermapbox"
           }
          ],
          "scatterpolar": [
           {
            "marker": {
             "colorbar": {
              "outlinewidth": 0,
              "ticks": ""
             }
            },
            "type": "scatterpolar"
           }
          ],
          "scatterpolargl": [
           {
            "marker": {
             "colorbar": {
              "outlinewidth": 0,
              "ticks": ""
             }
            },
            "type": "scatterpolargl"
           }
          ],
          "scatterternary": [
           {
            "marker": {
             "colorbar": {
              "outlinewidth": 0,
              "ticks": ""
             }
            },
            "type": "scatterternary"
           }
          ],
          "surface": [
           {
            "colorbar": {
             "outlinewidth": 0,
             "ticks": ""
            },
            "colorscale": [
             [
              0,
              "#0d0887"
             ],
             [
              0.1111111111111111,
              "#46039f"
             ],
             [
              0.2222222222222222,
              "#7201a8"
             ],
             [
              0.3333333333333333,
              "#9c179e"
             ],
             [
              0.4444444444444444,
              "#bd3786"
             ],
             [
              0.5555555555555556,
              "#d8576b"
             ],
             [
              0.6666666666666666,
              "#ed7953"
             ],
             [
              0.7777777777777778,
              "#fb9f3a"
             ],
             [
              0.8888888888888888,
              "#fdca26"
             ],
             [
              1,
              "#f0f921"
             ]
            ],
            "type": "surface"
           }
          ],
          "table": [
           {
            "cells": {
             "fill": {
              "color": "#EBF0F8"
             },
             "line": {
              "color": "white"
             }
            },
            "header": {
             "fill": {
              "color": "#C8D4E3"
             },
             "line": {
              "color": "white"
             }
            },
            "type": "table"
           }
          ]
         },
         "layout": {
          "annotationdefaults": {
           "arrowcolor": "#2a3f5f",
           "arrowhead": 0,
           "arrowwidth": 1
          },
          "autotypenumbers": "strict",
          "coloraxis": {
           "colorbar": {
            "outlinewidth": 0,
            "ticks": ""
           }
          },
          "colorscale": {
           "diverging": [
            [
             0,
             "#8e0152"
            ],
            [
             0.1,
             "#c51b7d"
            ],
            [
             0.2,
             "#de77ae"
            ],
            [
             0.3,
             "#f1b6da"
            ],
            [
             0.4,
             "#fde0ef"
            ],
            [
             0.5,
             "#f7f7f7"
            ],
            [
             0.6,
             "#e6f5d0"
            ],
            [
             0.7,
             "#b8e186"
            ],
            [
             0.8,
             "#7fbc41"
            ],
            [
             0.9,
             "#4d9221"
            ],
            [
             1,
             "#276419"
            ]
           ],
           "sequential": [
            [
             0,
             "#0d0887"
            ],
            [
             0.1111111111111111,
             "#46039f"
            ],
            [
             0.2222222222222222,
             "#7201a8"
            ],
            [
             0.3333333333333333,
             "#9c179e"
            ],
            [
             0.4444444444444444,
             "#bd3786"
            ],
            [
             0.5555555555555556,
             "#d8576b"
            ],
            [
             0.6666666666666666,
             "#ed7953"
            ],
            [
             0.7777777777777778,
             "#fb9f3a"
            ],
            [
             0.8888888888888888,
             "#fdca26"
            ],
            [
             1,
             "#f0f921"
            ]
           ],
           "sequentialminus": [
            [
             0,
             "#0d0887"
            ],
            [
             0.1111111111111111,
             "#46039f"
            ],
            [
             0.2222222222222222,
             "#7201a8"
            ],
            [
             0.3333333333333333,
             "#9c179e"
            ],
            [
             0.4444444444444444,
             "#bd3786"
            ],
            [
             0.5555555555555556,
             "#d8576b"
            ],
            [
             0.6666666666666666,
             "#ed7953"
            ],
            [
             0.7777777777777778,
             "#fb9f3a"
            ],
            [
             0.8888888888888888,
             "#fdca26"
            ],
            [
             1,
             "#f0f921"
            ]
           ]
          },
          "colorway": [
           "#636efa",
           "#EF553B",
           "#00cc96",
           "#ab63fa",
           "#FFA15A",
           "#19d3f3",
           "#FF6692",
           "#B6E880",
           "#FF97FF",
           "#FECB52"
          ],
          "font": {
           "color": "#2a3f5f"
          },
          "geo": {
           "bgcolor": "white",
           "lakecolor": "white",
           "landcolor": "#E5ECF6",
           "showlakes": true,
           "showland": true,
           "subunitcolor": "white"
          },
          "hoverlabel": {
           "align": "left"
          },
          "hovermode": "closest",
          "mapbox": {
           "style": "light"
          },
          "paper_bgcolor": "white",
          "plot_bgcolor": "#E5ECF6",
          "polar": {
           "angularaxis": {
            "gridcolor": "white",
            "linecolor": "white",
            "ticks": ""
           },
           "bgcolor": "#E5ECF6",
           "radialaxis": {
            "gridcolor": "white",
            "linecolor": "white",
            "ticks": ""
           }
          },
          "scene": {
           "xaxis": {
            "backgroundcolor": "#E5ECF6",
            "gridcolor": "white",
            "gridwidth": 2,
            "linecolor": "white",
            "showbackground": true,
            "ticks": "",
            "zerolinecolor": "white"
           },
           "yaxis": {
            "backgroundcolor": "#E5ECF6",
            "gridcolor": "white",
            "gridwidth": 2,
            "linecolor": "white",
            "showbackground": true,
            "ticks": "",
            "zerolinecolor": "white"
           },
           "zaxis": {
            "backgroundcolor": "#E5ECF6",
            "gridcolor": "white",
            "gridwidth": 2,
            "linecolor": "white",
            "showbackground": true,
            "ticks": "",
            "zerolinecolor": "white"
           }
          },
          "shapedefaults": {
           "line": {
            "color": "#2a3f5f"
           }
          },
          "ternary": {
           "aaxis": {
            "gridcolor": "white",
            "linecolor": "white",
            "ticks": ""
           },
           "baxis": {
            "gridcolor": "white",
            "linecolor": "white",
            "ticks": ""
           },
           "bgcolor": "#E5ECF6",
           "caxis": {
            "gridcolor": "white",
            "linecolor": "white",
            "ticks": ""
           }
          },
          "title": {
           "x": 0.05
          },
          "xaxis": {
           "automargin": true,
           "gridcolor": "white",
           "linecolor": "white",
           "ticks": "",
           "title": {
            "standoff": 15
           },
           "zerolinecolor": "white",
           "zerolinewidth": 2
          },
          "yaxis": {
           "automargin": true,
           "gridcolor": "white",
           "linecolor": "white",
           "ticks": "",
           "title": {
            "standoff": 15
           },
           "zerolinecolor": "white",
           "zerolinewidth": 2
          }
         }
        },
        "title": {
         "text": "2024 Season Projected Points",
         "x": 0.5
        },
        "width": 1200,
        "xaxis": {
         "anchor": "y",
         "domain": [
          0,
          1
         ],
         "title": {
          "text": "Projected Points"
         }
        },
        "yaxis": {
         "anchor": "x",
         "domain": [
          0,
          1
         ],
         "title": {
          "text": ""
         }
        }
       }
      }
     },
     "metadata": {},
     "output_type": "display_data"
    }
   ],
   "source": [
    "# Plots the total and starter projected points in a grouped bar chart\n",
    "totals = (teams.\n",
    "          groupby(\"owner\")\n",
    "          [[\"projected\"]]\n",
    "          .sum()\n",
    "          .sort_values(by = 'projected')\n",
    "          .rename(columns = {'projected': 'All Players'})\n",
    "          )\n",
    "starts = (starters\n",
    "          .groupby(\"owner\")\n",
    "          [[\"projected\"]]\n",
    "          .sum()\n",
    "          .sort_values(by=\"projected\")\n",
    "          .rename(columns = {'projected': 'Top Starters'})\n",
    "        )\n",
    "\n",
    "groups = starts.merge(totals, left_index=True, right_index=True).reset_index()\n",
    "\n",
    "fig = px.bar(groups,\n",
    "             y = 'owner', \n",
    "             x = [\"Top Starters\", \"All Players\"], \n",
    "             barmode = 'group', \n",
    "             orientation = 'h',\n",
    "             color_discrete_sequence = px.colors.qualitative.T10)\n",
    "\n",
    "fig.update_layout(width=1200,\n",
    "                 height=800,\n",
    "                 xaxis_title = \"Projected Points\",\n",
    "                 yaxis_title = \"\",\n",
    "                 title = '2024 Season Projected Points',\n",
    "                 title_x = 0.5,\n",
    "                 font=dict(size=14),\n",
    "                 margin=dict(t=70, b=75, l=50, r=50),\n",
    "                 bargap=0.25,\n",
    "                 legend = dict(\n",
    "                     title = None,\n",
    "                     font = dict(size=20),\n",
    "                     xanchor = \"right\",\n",
    "                     y=0.05,\n",
    "                     yanchor = \"bottom\",\n",
    "                     x=0.95\n",
    "                 ))\n",
    "\n",
    "fig.update_traces(textposition = \"inside\", texttemplate='%{x:.0f}')\n",
    "\n",
    "fig.show()"
   ]
  },
  {
   "cell_type": "code",
   "execution_count": 36,
   "metadata": {},
   "outputs": [
    {
     "ename": "KeyError",
     "evalue": "'projected'",
     "output_type": "error",
     "traceback": [
      "\u001b[0;31m---------------------------------------------------------------------------\u001b[0m",
      "\u001b[0;31mKeyError\u001b[0m                                  Traceback (most recent call last)",
      "\u001b[0;32m/var/folders/7t/k1b4n0y93_7_vc2l4yzn4p1m0000gn/T/ipykernel_86962/1794452754.py\u001b[0m in \u001b[0;36m?\u001b[0;34m()\u001b[0m\n\u001b[1;32m      1\u001b[0m \u001b[0mrelevant_cols\u001b[0m \u001b[0;34m=\u001b[0m \u001b[0;34m[\u001b[0m\u001b[0;34m\"full_name\"\u001b[0m\u001b[0;34m,\u001b[0m \u001b[0;34m\"projected\"\u001b[0m\u001b[0;34m,\u001b[0m \u001b[0;34m\"position\"\u001b[0m\u001b[0;34m,\u001b[0m \u001b[0;34m\"team\"\u001b[0m\u001b[0;34m,\u001b[0m \u001b[0;34m\"owner\"\u001b[0m\u001b[0;34m]\u001b[0m\u001b[0;34m\u001b[0m\u001b[0;34m\u001b[0m\u001b[0m\n\u001b[1;32m      2\u001b[0m \u001b[0;34m\u001b[0m\u001b[0m\n\u001b[0;32m----> 3\u001b[0;31m \u001b[0mmy_team\u001b[0m \u001b[0;34m=\u001b[0m \u001b[0mget_team\u001b[0m\u001b[0;34m(\u001b[0m\u001b[0musername\u001b[0m\u001b[0;34m=\u001b[0m\u001b[0;34m'therealfergus'\u001b[0m\u001b[0;34m)\u001b[0m\u001b[0;34m[\u001b[0m\u001b[0mrelevant_cols\u001b[0m\u001b[0;34m]\u001b[0m\u001b[0;34m\u001b[0m\u001b[0;34m\u001b[0m\u001b[0m\n\u001b[0m\u001b[1;32m      4\u001b[0m \u001b[0malec_team\u001b[0m \u001b[0;34m=\u001b[0m \u001b[0mget_team\u001b[0m\u001b[0;34m(\u001b[0m\u001b[0musername\u001b[0m\u001b[0;34m=\u001b[0m\u001b[0;34m'alecwilson'\u001b[0m\u001b[0;34m)\u001b[0m\u001b[0;34m[\u001b[0m\u001b[0mrelevant_cols\u001b[0m\u001b[0;34m]\u001b[0m\u001b[0;34m\u001b[0m\u001b[0;34m\u001b[0m\u001b[0m\n\u001b[1;32m      5\u001b[0m \u001b[0mpat_team\u001b[0m \u001b[0;34m=\u001b[0m \u001b[0mget_team\u001b[0m\u001b[0;34m(\u001b[0m\u001b[0musername\u001b[0m \u001b[0;34m=\u001b[0m\u001b[0;34m'burgertownthicnred'\u001b[0m\u001b[0;34m)\u001b[0m\u001b[0;34m[\u001b[0m\u001b[0mrelevant_cols\u001b[0m\u001b[0;34m]\u001b[0m\u001b[0;34m\u001b[0m\u001b[0;34m\u001b[0m\u001b[0m\n\u001b[1;32m      6\u001b[0m \u001b[0;34m\u001b[0m\u001b[0m\n",
      "\u001b[0;32m/var/folders/7t/k1b4n0y93_7_vc2l4yzn4p1m0000gn/T/ipykernel_86962/2601188159.py\u001b[0m in \u001b[0;36m?\u001b[0;34m(user_id, username)\u001b[0m\n\u001b[1;32m     12\u001b[0m \u001b[0;34m\u001b[0m\u001b[0m\n\u001b[1;32m     13\u001b[0m     \u001b[0;31m# Merges players with projections dataframe, matches up players with owners\u001b[0m\u001b[0;34m\u001b[0m\u001b[0;34m\u001b[0m\u001b[0m\n\u001b[1;32m     14\u001b[0m     team = (projections\n\u001b[1;32m     15\u001b[0m             \u001b[0;34m.\u001b[0m\u001b[0mmerge\u001b[0m\u001b[0;34m(\u001b[0m\u001b[0mteam\u001b[0m\u001b[0;34m,\u001b[0m \u001b[0mleft_on\u001b[0m\u001b[0;34m=\u001b[0m\u001b[0;34m'player_id'\u001b[0m\u001b[0;34m,\u001b[0m \u001b[0mright_on\u001b[0m\u001b[0;34m=\u001b[0m\u001b[0;34m'player_id'\u001b[0m\u001b[0;34m,\u001b[0m \u001b[0mhow\u001b[0m \u001b[0;34m=\u001b[0m \u001b[0;34m'right'\u001b[0m\u001b[0;34m)\u001b[0m\u001b[0;34m\u001b[0m\u001b[0;34m\u001b[0m\u001b[0m\n\u001b[0;32m---> 16\u001b[0;31m             .sort_values(by = 'projected', ascending = False))\n\u001b[0m\u001b[1;32m     17\u001b[0m \u001b[0;34m\u001b[0m\u001b[0m\n\u001b[1;32m     18\u001b[0m     \u001b[0mteam\u001b[0m\u001b[0;34m[\u001b[0m\u001b[0;34m\"owner\"\u001b[0m\u001b[0;34m]\u001b[0m \u001b[0;34m=\u001b[0m \u001b[0musers\u001b[0m\u001b[0;34m[\u001b[0m\u001b[0muser_id\u001b[0m\u001b[0;34m]\u001b[0m\u001b[0;34m\u001b[0m\u001b[0;34m\u001b[0m\u001b[0m\n\u001b[1;32m     19\u001b[0m \u001b[0;34m\u001b[0m\u001b[0m\n",
      "\u001b[0;32m/opt/anaconda3/envs/sleeper/lib/python3.11/site-packages/pandas/core/frame.py\u001b[0m in \u001b[0;36m?\u001b[0;34m(self, by, axis, ascending, inplace, kind, na_position, ignore_index, key)\u001b[0m\n\u001b[1;32m   7172\u001b[0m             )\n\u001b[1;32m   7173\u001b[0m         \u001b[0;32melif\u001b[0m \u001b[0mlen\u001b[0m\u001b[0;34m(\u001b[0m\u001b[0mby\u001b[0m\u001b[0;34m)\u001b[0m\u001b[0;34m:\u001b[0m\u001b[0;34m\u001b[0m\u001b[0;34m\u001b[0m\u001b[0m\n\u001b[1;32m   7174\u001b[0m             \u001b[0;31m# len(by) == 1\u001b[0m\u001b[0;34m\u001b[0m\u001b[0;34m\u001b[0m\u001b[0m\n\u001b[1;32m   7175\u001b[0m \u001b[0;34m\u001b[0m\u001b[0m\n\u001b[0;32m-> 7176\u001b[0;31m             \u001b[0mk\u001b[0m \u001b[0;34m=\u001b[0m \u001b[0mself\u001b[0m\u001b[0;34m.\u001b[0m\u001b[0m_get_label_or_level_values\u001b[0m\u001b[0;34m(\u001b[0m\u001b[0mby\u001b[0m\u001b[0;34m[\u001b[0m\u001b[0;36m0\u001b[0m\u001b[0;34m]\u001b[0m\u001b[0;34m,\u001b[0m \u001b[0maxis\u001b[0m\u001b[0;34m=\u001b[0m\u001b[0maxis\u001b[0m\u001b[0;34m)\u001b[0m\u001b[0;34m\u001b[0m\u001b[0;34m\u001b[0m\u001b[0m\n\u001b[0m\u001b[1;32m   7177\u001b[0m \u001b[0;34m\u001b[0m\u001b[0m\n\u001b[1;32m   7178\u001b[0m             \u001b[0;31m# need to rewrap column in Series to apply key function\u001b[0m\u001b[0;34m\u001b[0m\u001b[0;34m\u001b[0m\u001b[0m\n\u001b[1;32m   7179\u001b[0m             \u001b[0;32mif\u001b[0m \u001b[0mkey\u001b[0m \u001b[0;32mis\u001b[0m \u001b[0;32mnot\u001b[0m \u001b[0;32mNone\u001b[0m\u001b[0;34m:\u001b[0m\u001b[0;34m\u001b[0m\u001b[0;34m\u001b[0m\u001b[0m\n",
      "\u001b[0;32m/opt/anaconda3/envs/sleeper/lib/python3.11/site-packages/pandas/core/generic.py\u001b[0m in \u001b[0;36m?\u001b[0;34m(self, key, axis)\u001b[0m\n\u001b[1;32m   1906\u001b[0m             \u001b[0mvalues\u001b[0m \u001b[0;34m=\u001b[0m \u001b[0mself\u001b[0m\u001b[0;34m.\u001b[0m\u001b[0mxs\u001b[0m\u001b[0;34m(\u001b[0m\u001b[0mkey\u001b[0m\u001b[0;34m,\u001b[0m \u001b[0maxis\u001b[0m\u001b[0;34m=\u001b[0m\u001b[0mother_axes\u001b[0m\u001b[0;34m[\u001b[0m\u001b[0;36m0\u001b[0m\u001b[0;34m]\u001b[0m\u001b[0;34m)\u001b[0m\u001b[0;34m.\u001b[0m\u001b[0m_values\u001b[0m\u001b[0;34m\u001b[0m\u001b[0;34m\u001b[0m\u001b[0m\n\u001b[1;32m   1907\u001b[0m         \u001b[0;32melif\u001b[0m \u001b[0mself\u001b[0m\u001b[0;34m.\u001b[0m\u001b[0m_is_level_reference\u001b[0m\u001b[0;34m(\u001b[0m\u001b[0mkey\u001b[0m\u001b[0;34m,\u001b[0m \u001b[0maxis\u001b[0m\u001b[0;34m=\u001b[0m\u001b[0maxis\u001b[0m\u001b[0;34m)\u001b[0m\u001b[0;34m:\u001b[0m\u001b[0;34m\u001b[0m\u001b[0;34m\u001b[0m\u001b[0m\n\u001b[1;32m   1908\u001b[0m             \u001b[0mvalues\u001b[0m \u001b[0;34m=\u001b[0m \u001b[0mself\u001b[0m\u001b[0;34m.\u001b[0m\u001b[0maxes\u001b[0m\u001b[0;34m[\u001b[0m\u001b[0maxis\u001b[0m\u001b[0;34m]\u001b[0m\u001b[0;34m.\u001b[0m\u001b[0mget_level_values\u001b[0m\u001b[0;34m(\u001b[0m\u001b[0mkey\u001b[0m\u001b[0;34m)\u001b[0m\u001b[0;34m.\u001b[0m\u001b[0m_values\u001b[0m\u001b[0;34m\u001b[0m\u001b[0;34m\u001b[0m\u001b[0m\n\u001b[1;32m   1909\u001b[0m         \u001b[0;32melse\u001b[0m\u001b[0;34m:\u001b[0m\u001b[0;34m\u001b[0m\u001b[0;34m\u001b[0m\u001b[0m\n\u001b[0;32m-> 1910\u001b[0;31m             \u001b[0;32mraise\u001b[0m \u001b[0mKeyError\u001b[0m\u001b[0;34m(\u001b[0m\u001b[0mkey\u001b[0m\u001b[0;34m)\u001b[0m\u001b[0;34m\u001b[0m\u001b[0;34m\u001b[0m\u001b[0m\n\u001b[0m\u001b[1;32m   1911\u001b[0m \u001b[0;34m\u001b[0m\u001b[0m\n\u001b[1;32m   1912\u001b[0m         \u001b[0;31m# Check for duplicates\u001b[0m\u001b[0;34m\u001b[0m\u001b[0;34m\u001b[0m\u001b[0m\n\u001b[1;32m   1913\u001b[0m         \u001b[0;32mif\u001b[0m \u001b[0mvalues\u001b[0m\u001b[0;34m.\u001b[0m\u001b[0mndim\u001b[0m \u001b[0;34m>\u001b[0m \u001b[0;36m1\u001b[0m\u001b[0;34m:\u001b[0m\u001b[0;34m\u001b[0m\u001b[0;34m\u001b[0m\u001b[0m\n",
      "\u001b[0;31mKeyError\u001b[0m: 'projected'"
     ]
    }
   ],
   "source": [
    "relevant_cols = [\"full_name\", \"projected\", \"position\", \"team\", \"owner\"]\n",
    "\n",
    "my_team = get_team(username='therealfergus')[relevant_cols]\n",
    "alec_team = get_team(username='alecwilson')[relevant_cols]\n",
    "pat_team = get_team(username ='burgertownthicnred')[relevant_cols]\n",
    "\n",
    "my_starters = get_starters(username='therealfergus')[relevant_cols]\n",
    "alec_starters = get_starters(username='alecwilson')[relevant_cols]\n",
    "pat_starters = get_starters(username ='burgertownthicnred')[relevant_cols]"
   ]
  },
  {
   "cell_type": "code",
   "execution_count": 37,
   "metadata": {},
   "outputs": [
    {
     "data": {
      "text/html": [
       "<div>\n",
       "<style scoped>\n",
       "    .dataframe tbody tr th:only-of-type {\n",
       "        vertical-align: middle;\n",
       "    }\n",
       "\n",
       "    .dataframe tbody tr th {\n",
       "        vertical-align: top;\n",
       "    }\n",
       "\n",
       "    .dataframe thead th {\n",
       "        text-align: right;\n",
       "    }\n",
       "</style>\n",
       "<table border=\"1\" class=\"dataframe\">\n",
       "  <thead>\n",
       "    <tr style=\"text-align: right;\">\n",
       "      <th></th>\n",
       "      <th>full_name</th>\n",
       "      <th>projected</th>\n",
       "      <th>position</th>\n",
       "      <th>team</th>\n",
       "      <th>owner</th>\n",
       "    </tr>\n",
       "    <tr>\n",
       "      <th>player_id</th>\n",
       "      <th></th>\n",
       "      <th></th>\n",
       "      <th></th>\n",
       "      <th></th>\n",
       "      <th></th>\n",
       "    </tr>\n",
       "  </thead>\n",
       "  <tbody>\n",
       "    <tr>\n",
       "      <th>5849</th>\n",
       "      <td>Kyler Murray</td>\n",
       "      <td>401.48</td>\n",
       "      <td>QB</td>\n",
       "      <td>ARI</td>\n",
       "      <td>therealfergus</td>\n",
       "    </tr>\n",
       "    <tr>\n",
       "      <th>4017</th>\n",
       "      <td>Deshaun Watson</td>\n",
       "      <td>350.77</td>\n",
       "      <td>QB</td>\n",
       "      <td>CLE</td>\n",
       "      <td>therealfergus</td>\n",
       "    </tr>\n",
       "    <tr>\n",
       "      <th>9999</th>\n",
       "      <td>Will Levis</td>\n",
       "      <td>336.95</td>\n",
       "      <td>QB</td>\n",
       "      <td>TEN</td>\n",
       "      <td>therealfergus</td>\n",
       "    </tr>\n",
       "    <tr>\n",
       "      <th>5850</th>\n",
       "      <td>Josh Jacobs</td>\n",
       "      <td>262.40</td>\n",
       "      <td>RB</td>\n",
       "      <td>GB</td>\n",
       "      <td>therealfergus</td>\n",
       "    </tr>\n",
       "    <tr>\n",
       "      <th>8205</th>\n",
       "      <td>Isiah Pacheco</td>\n",
       "      <td>258.15</td>\n",
       "      <td>RB</td>\n",
       "      <td>KC</td>\n",
       "      <td>therealfergus</td>\n",
       "    </tr>\n",
       "    <tr>\n",
       "      <th>6130</th>\n",
       "      <td>Devin Singletary</td>\n",
       "      <td>218.85</td>\n",
       "      <td>RB</td>\n",
       "      <td>NYG</td>\n",
       "      <td>therealfergus</td>\n",
       "    </tr>\n",
       "    <tr>\n",
       "      <th>1466</th>\n",
       "      <td>Travis Kelce</td>\n",
       "      <td>206.30</td>\n",
       "      <td>TE</td>\n",
       "      <td>KC</td>\n",
       "      <td>therealfergus</td>\n",
       "    </tr>\n",
       "    <tr>\n",
       "      <th>6790</th>\n",
       "      <td>D'Andre Swift</td>\n",
       "      <td>205.60</td>\n",
       "      <td>RB</td>\n",
       "      <td>CHI</td>\n",
       "      <td>therealfergus</td>\n",
       "    </tr>\n",
       "    <tr>\n",
       "      <th>8146</th>\n",
       "      <td>Garrett Wilson</td>\n",
       "      <td>197.60</td>\n",
       "      <td>WR</td>\n",
       "      <td>NYJ</td>\n",
       "      <td>therealfergus</td>\n",
       "    </tr>\n",
       "    <tr>\n",
       "      <th>2749</th>\n",
       "      <td>Raheem Mostert</td>\n",
       "      <td>188.05</td>\n",
       "      <td>RB</td>\n",
       "      <td>MIA</td>\n",
       "      <td>therealfergus</td>\n",
       "    </tr>\n",
       "    <tr>\n",
       "      <th>2216</th>\n",
       "      <td>Mike Evans</td>\n",
       "      <td>165.05</td>\n",
       "      <td>WR</td>\n",
       "      <td>TB</td>\n",
       "      <td>therealfergus</td>\n",
       "    </tr>\n",
       "    <tr>\n",
       "      <th>11620</th>\n",
       "      <td>Rome Odunze</td>\n",
       "      <td>143.45</td>\n",
       "      <td>WR</td>\n",
       "      <td>CHI</td>\n",
       "      <td>therealfergus</td>\n",
       "    </tr>\n",
       "    <tr>\n",
       "      <th>11635</th>\n",
       "      <td>Ladd McConkey</td>\n",
       "      <td>126.50</td>\n",
       "      <td>WR</td>\n",
       "      <td>LAC</td>\n",
       "      <td>therealfergus</td>\n",
       "    </tr>\n",
       "    <tr>\n",
       "      <th>11439</th>\n",
       "      <td>Jaleel McLaughlin</td>\n",
       "      <td>121.25</td>\n",
       "      <td>RB</td>\n",
       "      <td>DEN</td>\n",
       "      <td>therealfergus</td>\n",
       "    </tr>\n",
       "    <tr>\n",
       "      <th>6783</th>\n",
       "      <td>Jerry Jeudy</td>\n",
       "      <td>111.90</td>\n",
       "      <td>WR</td>\n",
       "      <td>CLE</td>\n",
       "      <td>therealfergus</td>\n",
       "    </tr>\n",
       "    <tr>\n",
       "      <th>6945</th>\n",
       "      <td>Antonio Gibson</td>\n",
       "      <td>109.90</td>\n",
       "      <td>RB</td>\n",
       "      <td>NE</td>\n",
       "      <td>therealfergus</td>\n",
       "    </tr>\n",
       "    <tr>\n",
       "      <th>9500</th>\n",
       "      <td>Josh Downs</td>\n",
       "      <td>107.80</td>\n",
       "      <td>WR</td>\n",
       "      <td>IND</td>\n",
       "      <td>therealfergus</td>\n",
       "    </tr>\n",
       "    <tr>\n",
       "      <th>2197</th>\n",
       "      <td>Brandin Cooks</td>\n",
       "      <td>104.05</td>\n",
       "      <td>WR</td>\n",
       "      <td>DAL</td>\n",
       "      <td>therealfergus</td>\n",
       "    </tr>\n",
       "    <tr>\n",
       "      <th>7090</th>\n",
       "      <td>Darnell Mooney</td>\n",
       "      <td>95.95</td>\n",
       "      <td>WR</td>\n",
       "      <td>ATL</td>\n",
       "      <td>therealfergus</td>\n",
       "    </tr>\n",
       "    <tr>\n",
       "      <th>5970</th>\n",
       "      <td>Greg Dortch</td>\n",
       "      <td>91.50</td>\n",
       "      <td>WR</td>\n",
       "      <td>ARI</td>\n",
       "      <td>therealfergus</td>\n",
       "    </tr>\n",
       "    <tr>\n",
       "      <th>9484</th>\n",
       "      <td>Tucker Kraft</td>\n",
       "      <td>85.30</td>\n",
       "      <td>TE</td>\n",
       "      <td>GB</td>\n",
       "      <td>therealfergus</td>\n",
       "    </tr>\n",
       "    <tr>\n",
       "      <th>11600</th>\n",
       "      <td>Ja'Tavion Sanders</td>\n",
       "      <td>78.95</td>\n",
       "      <td>TE</td>\n",
       "      <td>CAR</td>\n",
       "      <td>therealfergus</td>\n",
       "    </tr>\n",
       "    <tr>\n",
       "      <th>3286</th>\n",
       "      <td>Demarcus Robinson</td>\n",
       "      <td>64.85</td>\n",
       "      <td>WR</td>\n",
       "      <td>LAR</td>\n",
       "      <td>therealfergus</td>\n",
       "    </tr>\n",
       "    <tr>\n",
       "      <th>8142</th>\n",
       "      <td>Alec Pierce</td>\n",
       "      <td>47.90</td>\n",
       "      <td>WR</td>\n",
       "      <td>IND</td>\n",
       "      <td>therealfergus</td>\n",
       "    </tr>\n",
       "    <tr>\n",
       "      <th>6151</th>\n",
       "      <td>Miles Sanders</td>\n",
       "      <td>40.40</td>\n",
       "      <td>RB</td>\n",
       "      <td>CAR</td>\n",
       "      <td>therealfergus</td>\n",
       "    </tr>\n",
       "    <tr>\n",
       "      <th>4144</th>\n",
       "      <td>Jonnu Smith</td>\n",
       "      <td>39.40</td>\n",
       "      <td>TE</td>\n",
       "      <td>MIA</td>\n",
       "      <td>therealfergus</td>\n",
       "    </tr>\n",
       "    <tr>\n",
       "      <th>1535</th>\n",
       "      <td>Cordarrelle Patterson</td>\n",
       "      <td>37.90</td>\n",
       "      <td>RB</td>\n",
       "      <td>PIT</td>\n",
       "      <td>therealfergus</td>\n",
       "    </tr>\n",
       "    <tr>\n",
       "      <th>3257</th>\n",
       "      <td>Jacoby Brissett</td>\n",
       "      <td>37.38</td>\n",
       "      <td>QB</td>\n",
       "      <td>NE</td>\n",
       "      <td>therealfergus</td>\n",
       "    </tr>\n",
       "    <tr>\n",
       "      <th>6938</th>\n",
       "      <td>Cam Akers</td>\n",
       "      <td>35.50</td>\n",
       "      <td>RB</td>\n",
       "      <td>MIN</td>\n",
       "      <td>therealfergus</td>\n",
       "    </tr>\n",
       "    <tr>\n",
       "      <th>9479</th>\n",
       "      <td>Darnell Washington</td>\n",
       "      <td>33.90</td>\n",
       "      <td>TE</td>\n",
       "      <td>PIT</td>\n",
       "      <td>therealfergus</td>\n",
       "    </tr>\n",
       "    <tr>\n",
       "      <th>2711</th>\n",
       "      <td>Taylor Heinicke</td>\n",
       "      <td>14.80</td>\n",
       "      <td>QB</td>\n",
       "      <td>ATL</td>\n",
       "      <td>therealfergus</td>\n",
       "    </tr>\n",
       "  </tbody>\n",
       "</table>\n",
       "</div>"
      ],
      "text/plain": [
       "                       full_name  projected position team          owner\n",
       "player_id                                                               \n",
       "5849                Kyler Murray     401.48       QB  ARI  therealfergus\n",
       "4017              Deshaun Watson     350.77       QB  CLE  therealfergus\n",
       "9999                  Will Levis     336.95       QB  TEN  therealfergus\n",
       "5850                 Josh Jacobs     262.40       RB   GB  therealfergus\n",
       "8205               Isiah Pacheco     258.15       RB   KC  therealfergus\n",
       "6130            Devin Singletary     218.85       RB  NYG  therealfergus\n",
       "1466                Travis Kelce     206.30       TE   KC  therealfergus\n",
       "6790               D'Andre Swift     205.60       RB  CHI  therealfergus\n",
       "8146              Garrett Wilson     197.60       WR  NYJ  therealfergus\n",
       "2749              Raheem Mostert     188.05       RB  MIA  therealfergus\n",
       "2216                  Mike Evans     165.05       WR   TB  therealfergus\n",
       "11620                Rome Odunze     143.45       WR  CHI  therealfergus\n",
       "11635              Ladd McConkey     126.50       WR  LAC  therealfergus\n",
       "11439          Jaleel McLaughlin     121.25       RB  DEN  therealfergus\n",
       "6783                 Jerry Jeudy     111.90       WR  CLE  therealfergus\n",
       "6945              Antonio Gibson     109.90       RB   NE  therealfergus\n",
       "9500                  Josh Downs     107.80       WR  IND  therealfergus\n",
       "2197               Brandin Cooks     104.05       WR  DAL  therealfergus\n",
       "7090              Darnell Mooney      95.95       WR  ATL  therealfergus\n",
       "5970                 Greg Dortch      91.50       WR  ARI  therealfergus\n",
       "9484                Tucker Kraft      85.30       TE   GB  therealfergus\n",
       "11600          Ja'Tavion Sanders      78.95       TE  CAR  therealfergus\n",
       "3286           Demarcus Robinson      64.85       WR  LAR  therealfergus\n",
       "8142                 Alec Pierce      47.90       WR  IND  therealfergus\n",
       "6151               Miles Sanders      40.40       RB  CAR  therealfergus\n",
       "4144                 Jonnu Smith      39.40       TE  MIA  therealfergus\n",
       "1535       Cordarrelle Patterson      37.90       RB  PIT  therealfergus\n",
       "3257             Jacoby Brissett      37.38       QB   NE  therealfergus\n",
       "6938                   Cam Akers      35.50       RB  MIN  therealfergus\n",
       "9479          Darnell Washington      33.90       TE  PIT  therealfergus\n",
       "2711             Taylor Heinicke      14.80       QB  ATL  therealfergus"
      ]
     },
     "execution_count": 37,
     "metadata": {},
     "output_type": "execute_result"
    }
   ],
   "source": [
    "my_team"
   ]
  },
  {
   "cell_type": "code",
   "execution_count": 118,
   "metadata": {},
   "outputs": [],
   "source": []
  },
  {
   "cell_type": "code",
   "execution_count": 121,
   "metadata": {},
   "outputs": [
    {
     "data": {
      "text/html": [
       "<div>\n",
       "<style scoped>\n",
       "    .dataframe tbody tr th:only-of-type {\n",
       "        vertical-align: middle;\n",
       "    }\n",
       "\n",
       "    .dataframe tbody tr th {\n",
       "        vertical-align: top;\n",
       "    }\n",
       "\n",
       "    .dataframe thead th {\n",
       "        text-align: right;\n",
       "    }\n",
       "</style>\n",
       "<table border=\"1\" class=\"dataframe\">\n",
       "  <thead>\n",
       "    <tr style=\"text-align: right;\">\n",
       "      <th></th>\n",
       "      <th>name</th>\n",
       "      <th>projected</th>\n",
       "      <th>position</th>\n",
       "      <th>team</th>\n",
       "      <th>owner</th>\n",
       "    </tr>\n",
       "  </thead>\n",
       "  <tbody>\n",
       "    <tr>\n",
       "      <th>4046</th>\n",
       "      <td>Patrick Mahomes</td>\n",
       "      <td>461.390</td>\n",
       "      <td>QB</td>\n",
       "      <td>KC</td>\n",
       "      <td>burgertownthicnred</td>\n",
       "    </tr>\n",
       "    <tr>\n",
       "      <th>96</th>\n",
       "      <td>Aaron Rodgers</td>\n",
       "      <td>351.480</td>\n",
       "      <td>QB</td>\n",
       "      <td>NYJ</td>\n",
       "      <td>burgertownthicnred</td>\n",
       "    </tr>\n",
       "    <tr>\n",
       "      <th>6803</th>\n",
       "      <td>Brandon Aiyuk</td>\n",
       "      <td>262.800</td>\n",
       "      <td>WR</td>\n",
       "      <td>SF</td>\n",
       "      <td>burgertownthicnred</td>\n",
       "    </tr>\n",
       "    <tr>\n",
       "      <th>4039</th>\n",
       "      <td>Cooper Kupp</td>\n",
       "      <td>253.775</td>\n",
       "      <td>WR</td>\n",
       "      <td>LAR</td>\n",
       "      <td>burgertownthicnred</td>\n",
       "    </tr>\n",
       "    <tr>\n",
       "      <th>9756</th>\n",
       "      <td>Jordan Addison</td>\n",
       "      <td>241.575</td>\n",
       "      <td>WR</td>\n",
       "      <td>MIN</td>\n",
       "      <td>burgertownthicnred</td>\n",
       "    </tr>\n",
       "    <tr>\n",
       "      <th>4035</th>\n",
       "      <td>Alvin Kamara</td>\n",
       "      <td>241.275</td>\n",
       "      <td>RB</td>\n",
       "      <td>NO</td>\n",
       "      <td>burgertownthicnred</td>\n",
       "    </tr>\n",
       "    <tr>\n",
       "      <th>4018</th>\n",
       "      <td>Joe Mixon</td>\n",
       "      <td>240.100</td>\n",
       "      <td>RB</td>\n",
       "      <td>HOU</td>\n",
       "      <td>burgertownthicnred</td>\n",
       "    </tr>\n",
       "    <tr>\n",
       "      <th>5022</th>\n",
       "      <td>Dallas Goedert</td>\n",
       "      <td>200.725</td>\n",
       "      <td>TE</td>\n",
       "      <td>PHI</td>\n",
       "      <td>burgertownthicnred</td>\n",
       "    </tr>\n",
       "    <tr>\n",
       "      <th>2374</th>\n",
       "      <td>Tyler Lockett</td>\n",
       "      <td>190.350</td>\n",
       "      <td>WR</td>\n",
       "      <td>SEA</td>\n",
       "      <td>burgertownthicnred</td>\n",
       "    </tr>\n",
       "    <tr>\n",
       "      <th>1689</th>\n",
       "      <td>Adam Thielen</td>\n",
       "      <td>148.175</td>\n",
       "      <td>WR</td>\n",
       "      <td>CAR</td>\n",
       "      <td>burgertownthicnred</td>\n",
       "    </tr>\n",
       "  </tbody>\n",
       "</table>\n",
       "</div>"
      ],
      "text/plain": [
       "                 name  projected position team               owner\n",
       "4046  Patrick Mahomes    461.390       QB   KC  burgertownthicnred\n",
       "96      Aaron Rodgers    351.480       QB  NYJ  burgertownthicnred\n",
       "6803    Brandon Aiyuk    262.800       WR   SF  burgertownthicnred\n",
       "4039      Cooper Kupp    253.775       WR  LAR  burgertownthicnred\n",
       "9756   Jordan Addison    241.575       WR  MIN  burgertownthicnred\n",
       "4035     Alvin Kamara    241.275       RB   NO  burgertownthicnred\n",
       "4018        Joe Mixon    240.100       RB  HOU  burgertownthicnred\n",
       "5022   Dallas Goedert    200.725       TE  PHI  burgertownthicnred\n",
       "2374    Tyler Lockett    190.350       WR  SEA  burgertownthicnred\n",
       "1689     Adam Thielen    148.175       WR  CAR  burgertownthicnred"
      ]
     },
     "execution_count": 121,
     "metadata": {},
     "output_type": "execute_result"
    }
   ],
   "source": [
    "pat_starters"
   ]
  },
  {
   "cell_type": "code",
   "execution_count": 120,
   "metadata": {},
   "outputs": [
    {
     "data": {
      "text/html": [
       "<div>\n",
       "<style scoped>\n",
       "    .dataframe tbody tr th:only-of-type {\n",
       "        vertical-align: middle;\n",
       "    }\n",
       "\n",
       "    .dataframe tbody tr th {\n",
       "        vertical-align: top;\n",
       "    }\n",
       "\n",
       "    .dataframe thead th {\n",
       "        text-align: right;\n",
       "    }\n",
       "</style>\n",
       "<table border=\"1\" class=\"dataframe\">\n",
       "  <thead>\n",
       "    <tr style=\"text-align: right;\">\n",
       "      <th></th>\n",
       "      <th>name</th>\n",
       "      <th>projected</th>\n",
       "      <th>position</th>\n",
       "      <th>team</th>\n",
       "      <th>owner</th>\n",
       "    </tr>\n",
       "  </thead>\n",
       "  <tbody>\n",
       "    <tr>\n",
       "      <th>5849</th>\n",
       "      <td>Kyler Murray</td>\n",
       "      <td>401.480</td>\n",
       "      <td>QB</td>\n",
       "      <td>ARI</td>\n",
       "      <td>therealfergus</td>\n",
       "    </tr>\n",
       "    <tr>\n",
       "      <th>4017</th>\n",
       "      <td>Deshaun Watson</td>\n",
       "      <td>350.770</td>\n",
       "      <td>QB</td>\n",
       "      <td>CLE</td>\n",
       "      <td>therealfergus</td>\n",
       "    </tr>\n",
       "    <tr>\n",
       "      <th>8146</th>\n",
       "      <td>Garrett Wilson</td>\n",
       "      <td>310.825</td>\n",
       "      <td>WR</td>\n",
       "      <td>NYJ</td>\n",
       "      <td>therealfergus</td>\n",
       "    </tr>\n",
       "    <tr>\n",
       "      <th>1466</th>\n",
       "      <td>Travis Kelce</td>\n",
       "      <td>289.100</td>\n",
       "      <td>TE</td>\n",
       "      <td>KC</td>\n",
       "      <td>therealfergus</td>\n",
       "    </tr>\n",
       "    <tr>\n",
       "      <th>5850</th>\n",
       "      <td>Josh Jacobs</td>\n",
       "      <td>284.200</td>\n",
       "      <td>RB</td>\n",
       "      <td>GB</td>\n",
       "      <td>therealfergus</td>\n",
       "    </tr>\n",
       "    <tr>\n",
       "      <th>8205</th>\n",
       "      <td>Isiah Pacheco</td>\n",
       "      <td>283.325</td>\n",
       "      <td>RB</td>\n",
       "      <td>KC</td>\n",
       "      <td>therealfergus</td>\n",
       "    </tr>\n",
       "    <tr>\n",
       "      <th>2216</th>\n",
       "      <td>Mike Evans</td>\n",
       "      <td>266.600</td>\n",
       "      <td>WR</td>\n",
       "      <td>TB</td>\n",
       "      <td>therealfergus</td>\n",
       "    </tr>\n",
       "    <tr>\n",
       "      <th>6130</th>\n",
       "      <td>Devin Singletary</td>\n",
       "      <td>239.950</td>\n",
       "      <td>RB</td>\n",
       "      <td>NYG</td>\n",
       "      <td>therealfergus</td>\n",
       "    </tr>\n",
       "    <tr>\n",
       "      <th>6790</th>\n",
       "      <td>D'Andre Swift</td>\n",
       "      <td>228.075</td>\n",
       "      <td>RB</td>\n",
       "      <td>CHI</td>\n",
       "      <td>therealfergus</td>\n",
       "    </tr>\n",
       "    <tr>\n",
       "      <th>2749</th>\n",
       "      <td>Raheem Mostert</td>\n",
       "      <td>202.750</td>\n",
       "      <td>RB</td>\n",
       "      <td>MIA</td>\n",
       "      <td>therealfergus</td>\n",
       "    </tr>\n",
       "  </tbody>\n",
       "</table>\n",
       "</div>"
      ],
      "text/plain": [
       "                  name  projected position team          owner\n",
       "5849      Kyler Murray    401.480       QB  ARI  therealfergus\n",
       "4017    Deshaun Watson    350.770       QB  CLE  therealfergus\n",
       "8146    Garrett Wilson    310.825       WR  NYJ  therealfergus\n",
       "1466      Travis Kelce    289.100       TE   KC  therealfergus\n",
       "5850       Josh Jacobs    284.200       RB   GB  therealfergus\n",
       "8205     Isiah Pacheco    283.325       RB   KC  therealfergus\n",
       "2216        Mike Evans    266.600       WR   TB  therealfergus\n",
       "6130  Devin Singletary    239.950       RB  NYG  therealfergus\n",
       "6790     D'Andre Swift    228.075       RB  CHI  therealfergus\n",
       "2749    Raheem Mostert    202.750       RB  MIA  therealfergus"
      ]
     },
     "execution_count": 120,
     "metadata": {},
     "output_type": "execute_result"
    }
   ],
   "source": [
    "my_starters"
   ]
  },
  {
   "cell_type": "code",
   "execution_count": 316,
   "metadata": {},
   "outputs": [
    {
     "data": {
      "text/html": [
       "<div>\n",
       "<style scoped>\n",
       "    .dataframe tbody tr th:only-of-type {\n",
       "        vertical-align: middle;\n",
       "    }\n",
       "\n",
       "    .dataframe tbody tr th {\n",
       "        vertical-align: top;\n",
       "    }\n",
       "\n",
       "    .dataframe thead th {\n",
       "        text-align: right;\n",
       "    }\n",
       "</style>\n",
       "<table border=\"1\" class=\"dataframe\">\n",
       "  <thead>\n",
       "    <tr style=\"text-align: right;\">\n",
       "      <th></th>\n",
       "      <th>name</th>\n",
       "      <th>projected</th>\n",
       "      <th>position</th>\n",
       "      <th>team</th>\n",
       "      <th>owner</th>\n",
       "    </tr>\n",
       "    <tr>\n",
       "      <th>player_id</th>\n",
       "      <th></th>\n",
       "      <th></th>\n",
       "      <th></th>\n",
       "      <th></th>\n",
       "      <th></th>\n",
       "    </tr>\n",
       "  </thead>\n",
       "  <tbody>\n",
       "    <tr>\n",
       "      <th>4881</th>\n",
       "      <td>Lamar Jackson</td>\n",
       "      <td>464.29</td>\n",
       "      <td>QB</td>\n",
       "      <td>BAL</td>\n",
       "      <td>pacc</td>\n",
       "    </tr>\n",
       "    <tr>\n",
       "      <th>6904</th>\n",
       "      <td>Jalen Hurts</td>\n",
       "      <td>449.41</td>\n",
       "      <td>QB</td>\n",
       "      <td>PHI</td>\n",
       "      <td>pacc</td>\n",
       "    </tr>\n",
       "    <tr>\n",
       "      <th>421</th>\n",
       "      <td>Matthew Stafford</td>\n",
       "      <td>369.04</td>\n",
       "      <td>QB</td>\n",
       "      <td>LAR</td>\n",
       "      <td>pacc</td>\n",
       "    </tr>\n",
       "    <tr>\n",
       "      <th>7543</th>\n",
       "      <td>Travis Etienne</td>\n",
       "      <td>295.00</td>\n",
       "      <td>RB</td>\n",
       "      <td>JAX</td>\n",
       "      <td>pacc</td>\n",
       "    </tr>\n",
       "    <tr>\n",
       "      <th>8112</th>\n",
       "      <td>Drake London</td>\n",
       "      <td>282.90</td>\n",
       "      <td>WR</td>\n",
       "      <td>ATL</td>\n",
       "      <td>pacc</td>\n",
       "    </tr>\n",
       "    <tr>\n",
       "      <th>8136</th>\n",
       "      <td>Rachaad White</td>\n",
       "      <td>280.75</td>\n",
       "      <td>RB</td>\n",
       "      <td>TB</td>\n",
       "      <td>pacc</td>\n",
       "    </tr>\n",
       "    <tr>\n",
       "      <th>5872</th>\n",
       "      <td>Deebo Samuel</td>\n",
       "      <td>275.50</td>\n",
       "      <td>WR</td>\n",
       "      <td>SF</td>\n",
       "      <td>pacc</td>\n",
       "    </tr>\n",
       "    <tr>\n",
       "      <th>6801</th>\n",
       "      <td>Tee Higgins</td>\n",
       "      <td>261.90</td>\n",
       "      <td>WR</td>\n",
       "      <td>CIN</td>\n",
       "      <td>pacc</td>\n",
       "    </tr>\n",
       "    <tr>\n",
       "      <th>5012</th>\n",
       "      <td>Mark Andrews</td>\n",
       "      <td>261.40</td>\n",
       "      <td>TE</td>\n",
       "      <td>BAL</td>\n",
       "      <td>pacc</td>\n",
       "    </tr>\n",
       "    <tr>\n",
       "      <th>10236</th>\n",
       "      <td>Dalton Kincaid</td>\n",
       "      <td>260.05</td>\n",
       "      <td>TE</td>\n",
       "      <td>BUF</td>\n",
       "      <td>pacc</td>\n",
       "    </tr>\n",
       "    <tr>\n",
       "      <th>9226</th>\n",
       "      <td>De'Von Achane</td>\n",
       "      <td>256.90</td>\n",
       "      <td>RB</td>\n",
       "      <td>MIA</td>\n",
       "      <td>pacc</td>\n",
       "    </tr>\n",
       "    <tr>\n",
       "      <th>2449</th>\n",
       "      <td>Stefon Diggs</td>\n",
       "      <td>255.15</td>\n",
       "      <td>WR</td>\n",
       "      <td>HOU</td>\n",
       "      <td>pacc</td>\n",
       "    </tr>\n",
       "    <tr>\n",
       "      <th>9502</th>\n",
       "      <td>Tank Dell</td>\n",
       "      <td>254.75</td>\n",
       "      <td>WR</td>\n",
       "      <td>HOU</td>\n",
       "      <td>pacc</td>\n",
       "    </tr>\n",
       "    <tr>\n",
       "      <th>8151</th>\n",
       "      <td>Kenneth Walker</td>\n",
       "      <td>248.40</td>\n",
       "      <td>RB</td>\n",
       "      <td>SEA</td>\n",
       "      <td>pacc</td>\n",
       "    </tr>\n",
       "    <tr>\n",
       "      <th>8167</th>\n",
       "      <td>Christian Watson</td>\n",
       "      <td>201.75</td>\n",
       "      <td>WR</td>\n",
       "      <td>GB</td>\n",
       "      <td>pacc</td>\n",
       "    </tr>\n",
       "    <tr>\n",
       "      <th>8148</th>\n",
       "      <td>Jameson Williams</td>\n",
       "      <td>181.20</td>\n",
       "      <td>WR</td>\n",
       "      <td>DET</td>\n",
       "      <td>pacc</td>\n",
       "    </tr>\n",
       "    <tr>\n",
       "      <th>10232</th>\n",
       "      <td>Michael Wilson</td>\n",
       "      <td>161.85</td>\n",
       "      <td>WR</td>\n",
       "      <td>ARI</td>\n",
       "      <td>pacc</td>\n",
       "    </tr>\n",
       "    <tr>\n",
       "      <th>7571</th>\n",
       "      <td>Rashod Bateman</td>\n",
       "      <td>146.00</td>\n",
       "      <td>WR</td>\n",
       "      <td>BAL</td>\n",
       "      <td>pacc</td>\n",
       "    </tr>\n",
       "    <tr>\n",
       "      <th>8230</th>\n",
       "      <td>Ty Chandler</td>\n",
       "      <td>135.95</td>\n",
       "      <td>RB</td>\n",
       "      <td>MIN</td>\n",
       "      <td>pacc</td>\n",
       "    </tr>\n",
       "    <tr>\n",
       "      <th>7601</th>\n",
       "      <td>Rondale Moore</td>\n",
       "      <td>98.60</td>\n",
       "      <td>WR</td>\n",
       "      <td>ATL</td>\n",
       "      <td>pacc</td>\n",
       "    </tr>\n",
       "    <tr>\n",
       "      <th>8172</th>\n",
       "      <td>Greg Dulcich</td>\n",
       "      <td>81.60</td>\n",
       "      <td>TE</td>\n",
       "      <td>DEN</td>\n",
       "      <td>pacc</td>\n",
       "    </tr>\n",
       "    <tr>\n",
       "      <th>7562</th>\n",
       "      <td>Tutu Atwell</td>\n",
       "      <td>61.00</td>\n",
       "      <td>WR</td>\n",
       "      <td>LAR</td>\n",
       "      <td>pacc</td>\n",
       "    </tr>\n",
       "    <tr>\n",
       "      <th>8188</th>\n",
       "      <td>Tyquan Thornton</td>\n",
       "      <td>32.40</td>\n",
       "      <td>WR</td>\n",
       "      <td>NE</td>\n",
       "      <td>pacc</td>\n",
       "    </tr>\n",
       "    <tr>\n",
       "      <th>10871</th>\n",
       "      <td>Luke Schoonmaker</td>\n",
       "      <td>29.85</td>\n",
       "      <td>TE</td>\n",
       "      <td>DAL</td>\n",
       "      <td>pacc</td>\n",
       "    </tr>\n",
       "    <tr>\n",
       "      <th>8159</th>\n",
       "      <td>Desmond Ridder</td>\n",
       "      <td>25.18</td>\n",
       "      <td>QB</td>\n",
       "      <td>ARI</td>\n",
       "      <td>pacc</td>\n",
       "    </tr>\n",
       "  </tbody>\n",
       "</table>\n",
       "</div>"
      ],
      "text/plain": [
       "                       name  projected position team owner\n",
       "player_id                                                 \n",
       "4881          Lamar Jackson     464.29       QB  BAL  pacc\n",
       "6904            Jalen Hurts     449.41       QB  PHI  pacc\n",
       "421        Matthew Stafford     369.04       QB  LAR  pacc\n",
       "7543         Travis Etienne     295.00       RB  JAX  pacc\n",
       "8112           Drake London     282.90       WR  ATL  pacc\n",
       "8136          Rachaad White     280.75       RB   TB  pacc\n",
       "5872           Deebo Samuel     275.50       WR   SF  pacc\n",
       "6801            Tee Higgins     261.90       WR  CIN  pacc\n",
       "5012           Mark Andrews     261.40       TE  BAL  pacc\n",
       "10236        Dalton Kincaid     260.05       TE  BUF  pacc\n",
       "9226          De'Von Achane     256.90       RB  MIA  pacc\n",
       "2449           Stefon Diggs     255.15       WR  HOU  pacc\n",
       "9502              Tank Dell     254.75       WR  HOU  pacc\n",
       "8151         Kenneth Walker     248.40       RB  SEA  pacc\n",
       "8167       Christian Watson     201.75       WR   GB  pacc\n",
       "8148       Jameson Williams     181.20       WR  DET  pacc\n",
       "10232        Michael Wilson     161.85       WR  ARI  pacc\n",
       "7571         Rashod Bateman     146.00       WR  BAL  pacc\n",
       "8230            Ty Chandler     135.95       RB  MIN  pacc\n",
       "7601          Rondale Moore      98.60       WR  ATL  pacc\n",
       "8172           Greg Dulcich      81.60       TE  DEN  pacc\n",
       "7562            Tutu Atwell      61.00       WR  LAR  pacc\n",
       "8188        Tyquan Thornton      32.40       WR   NE  pacc\n",
       "10871      Luke Schoonmaker      29.85       TE  DAL  pacc\n",
       "8159         Desmond Ridder      25.18       QB  ARI  pacc"
      ]
     },
     "execution_count": 316,
     "metadata": {},
     "output_type": "execute_result"
    }
   ],
   "source": [
    "pacc_team = get_team(username = 'pacc')[relevant_cols]\n",
    "pacc_team"
   ]
  },
  {
   "cell_type": "code",
   "execution_count": null,
   "metadata": {},
   "outputs": [],
   "source": []
  }
 ],
 "metadata": {
  "kernelspec": {
   "display_name": "Python 3",
   "language": "python",
   "name": "python3"
  },
  "language_info": {
   "codemirror_mode": {
    "name": "ipython",
    "version": 3
   },
   "file_extension": ".py",
   "mimetype": "text/x-python",
   "name": "python",
   "nbconvert_exporter": "python",
   "pygments_lexer": "ipython3",
   "version": "3.11.9"
  }
 },
 "nbformat": 4,
 "nbformat_minor": 2
}
