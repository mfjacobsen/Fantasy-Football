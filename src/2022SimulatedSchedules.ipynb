{
 "cells": [
  {
   "cell_type": "code",
   "execution_count": 1,
   "metadata": {},
   "outputs": [],
   "source": [
    "import pandas as pd\n",
    "import numpy as np\n",
    "import math\n",
    "import itertools\n",
    "import plotly.express as px\n",
    "from tqdm import tqdm\n",
    "import time\n",
    "import random\n",
    "import multiprocessing as mp\n",
    "import sleepy\n",
    "from multiprocessing_functions import simulate_schedules, get_ranking"
   ]
  },
  {
   "cell_type": "code",
   "execution_count": 2,
   "metadata": {},
   "outputs": [],
   "source": [
    "USERNAME = 'TheRealFergus'\n",
    "YEAR = 2022"
   ]
  },
  {
   "cell_type": "code",
   "execution_count": 3,
   "metadata": {},
   "outputs": [],
   "source": [
    "# Gets league and owner data\n",
    "user_id = sleepy.get_user_data(USERNAME)[\"user_id\"]\n",
    "league_id = sleepy.get_league_ids(user_id, YEAR)[0]\n",
    "league_raw = sleepy.get_leage(league_id)\n",
    "owners_raw = sleepy.get_owners(league_id)\n",
    "owners = owners_raw[[\"username\", \"owner_id\", \"roster_id\"]]"
   ]
  },
  {
   "cell_type": "code",
   "execution_count": 4,
   "metadata": {},
   "outputs": [],
   "source": [
    "# Stores the number of teams in the league\n",
    "num_teams = owners.shape[0]\n",
    "\n",
    "# Stores the number of the first week of the league playoffs\n",
    "playoff_week1 = league_raw[\"settings\"][\"playoff_week_start\"]\n",
    "\n",
    "# Maps a unique matchup id corresponding to each combination of two roster ids\n",
    "matchup_to_roster_id = {matchup[0] + 1: matchup[1] for matchup in \n",
    "                        enumerate(itertools.combinations(range(1,13), 2))}\n",
    "\n",
    "roster_to_matchup_id = {val: key for (key, val) in matchup_to_roster_id.items()}"
   ]
  },
  {
   "cell_type": "code",
   "execution_count": 5,
   "metadata": {},
   "outputs": [],
   "source": [
    "# Gets regular season matchup data\n",
    "matchups = (sleepy.get_matchups(league_id, season=True)\n",
    "            .query(f\"starter == True & week < {playoff_week1}\")\n",
    "            .groupby([\"week\", \"roster_id\", \"matchup_id\"])\n",
    "            [[\"team_points\"]]\n",
    "            .first()\n",
    "            .reset_index())\n",
    "\n",
    "# Merges matchups with owners to include usersernames\n",
    "matchups = (\n",
    "    matchups.merge(owners.reset_index(),\n",
    "                    left_on=\"roster_id\",\n",
    "                      right_on = \"roster_id\")\n",
    "            .assign(matchup_id = matchups[\"matchup_id\"].astype(int))\n",
    "            .drop(columns=\"index\"))"
   ]
  },
  {
   "cell_type": "code",
   "execution_count": 6,
   "metadata": {},
   "outputs": [
    {
     "data": {
      "text/html": [
       "<div>\n",
       "<style scoped>\n",
       "    .dataframe tbody tr th:only-of-type {\n",
       "        vertical-align: middle;\n",
       "    }\n",
       "\n",
       "    .dataframe tbody tr th {\n",
       "        vertical-align: top;\n",
       "    }\n",
       "\n",
       "    .dataframe thead th {\n",
       "        text-align: right;\n",
       "    }\n",
       "</style>\n",
       "<table border=\"1\" class=\"dataframe\">\n",
       "  <thead>\n",
       "    <tr style=\"text-align: right;\">\n",
       "      <th></th>\n",
       "      <th>week</th>\n",
       "      <th>roster_id</th>\n",
       "      <th>matchup_id</th>\n",
       "      <th>team_points</th>\n",
       "      <th>username</th>\n",
       "      <th>owner_id</th>\n",
       "    </tr>\n",
       "  </thead>\n",
       "  <tbody>\n",
       "    <tr>\n",
       "      <th>0</th>\n",
       "      <td>1</td>\n",
       "      <td>1</td>\n",
       "      <td>8</td>\n",
       "      <td>141.13</td>\n",
       "      <td>alecwilson</td>\n",
       "      <td>781258862778015744</td>\n",
       "    </tr>\n",
       "    <tr>\n",
       "      <th>1</th>\n",
       "      <td>1</td>\n",
       "      <td>2</td>\n",
       "      <td>13</td>\n",
       "      <td>137.48</td>\n",
       "      <td>namebrant</td>\n",
       "      <td>737201118836346880</td>\n",
       "    </tr>\n",
       "    <tr>\n",
       "      <th>2</th>\n",
       "      <td>1</td>\n",
       "      <td>3</td>\n",
       "      <td>29</td>\n",
       "      <td>168.39</td>\n",
       "      <td>therealfergus</td>\n",
       "      <td>871830995287085056</td>\n",
       "    </tr>\n",
       "    <tr>\n",
       "      <th>3</th>\n",
       "      <td>1</td>\n",
       "      <td>4</td>\n",
       "      <td>13</td>\n",
       "      <td>88.67</td>\n",
       "      <td>empireyikesback</td>\n",
       "      <td>340376049508429824</td>\n",
       "    </tr>\n",
       "    <tr>\n",
       "      <th>4</th>\n",
       "      <td>1</td>\n",
       "      <td>5</td>\n",
       "      <td>40</td>\n",
       "      <td>98.13</td>\n",
       "      <td>pacc</td>\n",
       "      <td>791907251894984704</td>\n",
       "    </tr>\n",
       "    <tr>\n",
       "      <th>5</th>\n",
       "      <td>1</td>\n",
       "      <td>6</td>\n",
       "      <td>47</td>\n",
       "      <td>101.86</td>\n",
       "      <td>tonygordzilla22</td>\n",
       "      <td>790423754491678720</td>\n",
       "    </tr>\n",
       "    <tr>\n",
       "      <th>6</th>\n",
       "      <td>1</td>\n",
       "      <td>7</td>\n",
       "      <td>40</td>\n",
       "      <td>173.01</td>\n",
       "      <td>mackjyers21</td>\n",
       "      <td>463115290251620352</td>\n",
       "    </tr>\n",
       "    <tr>\n",
       "      <th>7</th>\n",
       "      <td>1</td>\n",
       "      <td>8</td>\n",
       "      <td>47</td>\n",
       "      <td>133.25</td>\n",
       "      <td>burgertownthicnred</td>\n",
       "      <td>865421962913157120</td>\n",
       "    </tr>\n",
       "    <tr>\n",
       "      <th>8</th>\n",
       "      <td>1</td>\n",
       "      <td>9</td>\n",
       "      <td>8</td>\n",
       "      <td>126.47</td>\n",
       "      <td>thezirconisdragon</td>\n",
       "      <td>865438032692649984</td>\n",
       "    </tr>\n",
       "    <tr>\n",
       "      <th>9</th>\n",
       "      <td>1</td>\n",
       "      <td>10</td>\n",
       "      <td>65</td>\n",
       "      <td>113.79</td>\n",
       "      <td>black8yellownation</td>\n",
       "      <td>865844843182694400</td>\n",
       "    </tr>\n",
       "    <tr>\n",
       "      <th>10</th>\n",
       "      <td>1</td>\n",
       "      <td>11</td>\n",
       "      <td>29</td>\n",
       "      <td>112.03</td>\n",
       "      <td>herbietime</td>\n",
       "      <td>866177748505329664</td>\n",
       "    </tr>\n",
       "    <tr>\n",
       "      <th>11</th>\n",
       "      <td>1</td>\n",
       "      <td>12</td>\n",
       "      <td>65</td>\n",
       "      <td>137.03</td>\n",
       "      <td>shakylegs</td>\n",
       "      <td>869018101340098560</td>\n",
       "    </tr>\n",
       "  </tbody>\n",
       "</table>\n",
       "</div>"
      ],
      "text/plain": [
       "    week  roster_id  matchup_id  team_points            username  \\\n",
       "0      1          1           8       141.13          alecwilson   \n",
       "1      1          2          13       137.48           namebrant   \n",
       "2      1          3          29       168.39       therealfergus   \n",
       "3      1          4          13        88.67     empireyikesback   \n",
       "4      1          5          40        98.13                pacc   \n",
       "5      1          6          47       101.86     tonygordzilla22   \n",
       "6      1          7          40       173.01         mackjyers21   \n",
       "7      1          8          47       133.25  burgertownthicnred   \n",
       "8      1          9           8       126.47   thezirconisdragon   \n",
       "9      1         10          65       113.79  black8yellownation   \n",
       "10     1         11          29       112.03          herbietime   \n",
       "11     1         12          65       137.03           shakylegs   \n",
       "\n",
       "              owner_id  \n",
       "0   781258862778015744  \n",
       "1   737201118836346880  \n",
       "2   871830995287085056  \n",
       "3   340376049508429824  \n",
       "4   791907251894984704  \n",
       "5   790423754491678720  \n",
       "6   463115290251620352  \n",
       "7   865421962913157120  \n",
       "8   865438032692649984  \n",
       "9   865844843182694400  \n",
       "10  866177748505329664  \n",
       "11  869018101340098560  "
      ]
     },
     "execution_count": 6,
     "metadata": {},
     "output_type": "execute_result"
    }
   ],
   "source": [
    "# Gets regular season matchup data\n",
    "matchups = (sleepy.get_matchups(league_id, season=True)\n",
    "            .query(f\"starter == True & week < {playoff_week1}\")\n",
    "            .groupby([\"week\", \"roster_id\", \"matchup_id\"])\n",
    "            [[\"team_points\"]]\n",
    "            .first()\n",
    "            .reset_index())\n",
    "\n",
    "# Merges matchups with owners to include usersernames\n",
    "matchups = (\n",
    "    matchups.merge(owners.reset_index(),\n",
    "                    left_on=\"roster_id\",\n",
    "                      right_on = \"roster_id\")\n",
    "            .assign(matchup_id = matchups[\"matchup_id\"].astype(int))\n",
    "            .drop(columns=\"index\"))\n",
    "\n",
    "# Reassigns the matchup id\n",
    "matchups[\"matchup_id\"] = (\n",
    "    matchups\n",
    "    .groupby([\"week\", \"matchup_id\"])\n",
    "    [\"roster_id\"]\n",
    "    .transform(lambda x: roster_to_matchup_id[tuple(x.unique())])\n",
    "    )\n",
    "\n",
    "# The first week's games\n",
    "matchups.head(12)"
   ]
  },
  {
   "cell_type": "code",
   "execution_count": 7,
   "metadata": {},
   "outputs": [],
   "source": [
    "# Formats the actual season schedule\n",
    "season_schedule = tuple(\n",
    "    tuple(week) for week in matchups.groupby(\"week\")[\"matchup_id\"].agg(set)\n",
    ")\n",
    "\n",
    "# Gets the total season points for each owner\n",
    "owners_points = matchups.groupby(\"username\")[[\"team_points\"]].sum()"
   ]
  },
  {
   "cell_type": "code",
   "execution_count": 8,
   "metadata": {},
   "outputs": [
    {
     "name": "stderr",
     "output_type": "stream",
     "text": [
      "100%|██████████| 90858768/90858768 [00:40<00:00, 2270189.21it/s]\n"
     ]
    }
   ],
   "source": [
    "# Gets all possible weekly schedules, each tuple contains six matchp id's \n",
    "# corresponding to a single game. There are 10395 possible weekly schedules\n",
    "all_weeks = []\n",
    "for week in tqdm(itertools.combinations(matchup_to_roster_id.values(), 6), \n",
    "                 total = math.comb(66, 6)):\n",
    "    s = set()\n",
    "    for match in week:\n",
    "        s.update(match)\n",
    "    if len(s) == 12:\n",
    "        all_weeks.append(tuple(roster_to_matchup_id[match] for match in week))\n",
    "all_weeks = tuple(all_weeks)"
   ]
  },
  {
   "cell_type": "code",
   "execution_count": 9,
   "metadata": {},
   "outputs": [
    {
     "name": "stderr",
     "output_type": "stream",
     "text": [
      "100%|██████████| 10395/10395 [00:23<00:00, 435.33it/s]\n"
     ]
    }
   ],
   "source": [
    "# Maps each week schedule in all possible weeks to a set of weeks. Given that the\n",
    "# key week appears in a season schedule, none of the weeks in the value set can \n",
    "# also appear\n",
    "similar_weeks = {}\n",
    "for key_week in tqdm(all_weeks, total = len(all_weeks)):\n",
    "    similar_weeks[key_week] = (\n",
    "        set([week for week in all_weeks if len(set(week + key_week)) != 12])\n",
    "        )"
   ]
  },
  {
   "cell_type": "code",
   "execution_count": 10,
   "metadata": {},
   "outputs": [],
   "source": [
    "# Sets the number of simulations\n",
    "num_sims_per_process = 10000  # Number of simulations per process\n",
    "num_processes = 1000  # Number of processes\n",
    "total_sims = num_sims_per_process * num_processes"
   ]
  },
  {
   "cell_type": "code",
   "execution_count": 11,
   "metadata": {},
   "outputs": [],
   "source": [
    "# Creates the shared data stuctures to hold results from different processors\n",
    "manager = mp.Manager()\n",
    "total_records = manager.dict()\n",
    "ranking_counts = manager.dict()\n",
    "for username in owners[\"username\"]:\n",
    "    total_records[username] = manager.list(np.zeros(12, dtype=int))\n",
    "# Simulates schedules using multiple processors\n",
    "if __name__ == \"__main__\":\n",
    "\n",
    "    processes = []\n",
    "\n",
    "    for p in range(num_processes):\n",
    "\n",
    "        # Continues while at the maximum number of active processes\n",
    "        while len(processes) >= mp.cpu_count():\n",
    "            time.sleep(1)\n",
    "            processes = [p for p in processes if p.is_alive()]\n",
    "\n",
    "        # When there is less than the max number of processess, start a new one\n",
    "        process = mp.Process(\n",
    "            target = simulate_schedules,\n",
    "            args = (all_weeks, similar_weeks, owners, matchup_to_roster_id, matchups, owners_points, total_records, ranking_counts, num_sims_per_process)\n",
    "        )\n",
    "        process.start()\n",
    "        processes.append(process)\n",
    "\n",
    "    # Join remaining processes\n",
    "    for process in processes:\n",
    "        process.join()\n",
    "\n",
    "# Formats and stores the results in CSVs\n",
    "tot_rec = {username: pd.Series(list(lst), index = range(1,13)) \n",
    "           for username, lst in dict(total_records).items()}\n",
    "\n",
    "records_df = (pd.DataFrame(tot_rec)\n",
    "              .transpose()\n",
    "              .sort_values(by = list(range(1,13)), ascending = False))\n",
    "\n",
    "playoffs_df = (pd.DataFrame(dict(ranking_counts), index = [\"Count\"])\n",
    "               .transpose()\n",
    "               .reset_index()\n",
    "               .query(\"Count > 0\")\n",
    "               .rename(columns={'level_0': 1, 'level_1': 2, 'level_2': 3,\n",
    "                                'level_3': 4, 'level_4': 5, 'level_5': 6,\n",
    "                                'level_6': 7, 'level_7': 8, 'level_8': 9,\n",
    "                                'level_9': 10, 'level_10': 11, 'level_11': 12})\n",
    "               .sort_values(by = 'Count', ascending = False))\n",
    "\n",
    "path_to_data = f'../{YEAR}SimulatedSchedules/data/'\n",
    "\n",
    "records_df.to_csv(path_to_data + f'{YEAR}_{total_sims}_simulated_records.csv',\n",
    "                   index_label = 'username')\n",
    "\n",
    "playoffs_df.to_csv(path_to_data + f'{YEAR}_{total_sims}_simulated_playoffs.csv',\n",
    "                    index = False)"
   ]
  },
  {
   "cell_type": "code",
   "execution_count": 12,
   "metadata": {},
   "outputs": [],
   "source": [
    "# Reads previously stored simulated records\n",
    "records_df = pd.read_csv(\n",
    "    path_to_data + f'{YEAR}_{total_sims}_simulated_records.csv', \n",
    "                         index_col=\"username\")\n",
    "playoffs_df = pd.read_csv(\n",
    "    path_to_data + f'{YEAR}_{total_sims}_simulated_playoffs.csv', \n",
    "                          index_col = False)\n",
    "\n",
    "records_df_prop = records_df / (total_sims / 100)\n",
    "records_df_count = records_df"
   ]
  },
  {
   "cell_type": "code",
   "execution_count": 13,
   "metadata": {},
   "outputs": [
    {
     "data": {
      "text/html": [
       "<div>\n",
       "<style scoped>\n",
       "    .dataframe tbody tr th:only-of-type {\n",
       "        vertical-align: middle;\n",
       "    }\n",
       "\n",
       "    .dataframe tbody tr th {\n",
       "        vertical-align: top;\n",
       "    }\n",
       "\n",
       "    .dataframe thead th {\n",
       "        text-align: right;\n",
       "    }\n",
       "</style>\n",
       "<table border=\"1\" class=\"dataframe\">\n",
       "  <thead>\n",
       "    <tr style=\"text-align: right;\">\n",
       "      <th></th>\n",
       "      <th>rank</th>\n",
       "    </tr>\n",
       "  </thead>\n",
       "  <tbody>\n",
       "    <tr>\n",
       "      <th>burgertownthicnred</th>\n",
       "      <td>1</td>\n",
       "    </tr>\n",
       "    <tr>\n",
       "      <th>therealfergus</th>\n",
       "      <td>2</td>\n",
       "    </tr>\n",
       "    <tr>\n",
       "      <th>herbietime</th>\n",
       "      <td>3</td>\n",
       "    </tr>\n",
       "    <tr>\n",
       "      <th>thezirconisdragon</th>\n",
       "      <td>4</td>\n",
       "    </tr>\n",
       "    <tr>\n",
       "      <th>mackjyers21</th>\n",
       "      <td>5</td>\n",
       "    </tr>\n",
       "    <tr>\n",
       "      <th>namebrant</th>\n",
       "      <td>6</td>\n",
       "    </tr>\n",
       "    <tr>\n",
       "      <th>empireyikesback</th>\n",
       "      <td>7</td>\n",
       "    </tr>\n",
       "    <tr>\n",
       "      <th>shakylegs</th>\n",
       "      <td>8</td>\n",
       "    </tr>\n",
       "    <tr>\n",
       "      <th>alecwilson</th>\n",
       "      <td>9</td>\n",
       "    </tr>\n",
       "    <tr>\n",
       "      <th>black8yellownation</th>\n",
       "      <td>10</td>\n",
       "    </tr>\n",
       "    <tr>\n",
       "      <th>tonygordzilla22</th>\n",
       "      <td>11</td>\n",
       "    </tr>\n",
       "    <tr>\n",
       "      <th>pacc</th>\n",
       "      <td>12</td>\n",
       "    </tr>\n",
       "  </tbody>\n",
       "</table>\n",
       "</div>"
      ],
      "text/plain": [
       "                    rank\n",
       "burgertownthicnred     1\n",
       "therealfergus          2\n",
       "herbietime             3\n",
       "thezirconisdragon      4\n",
       "mackjyers21            5\n",
       "namebrant              6\n",
       "empireyikesback        7\n",
       "shakylegs              8\n",
       "alecwilson             9\n",
       "black8yellownation    10\n",
       "tonygordzilla22       11\n",
       "pacc                  12"
      ]
     },
     "execution_count": 13,
     "metadata": {},
     "output_type": "execute_result"
    }
   ],
   "source": [
    "# Stores the true season ranks\n",
    "season_ranks = get_ranking(season_schedule, owners, matchup_to_roster_id, matchups, owners_points)\n",
    "pd.DataFrame(season_ranks)"
   ]
  },
  {
   "cell_type": "code",
   "execution_count": 14,
   "metadata": {},
   "outputs": [
    {
     "data": {
      "text/html": [
       "<div>\n",
       "<style scoped>\n",
       "    .dataframe tbody tr th:only-of-type {\n",
       "        vertical-align: middle;\n",
       "    }\n",
       "\n",
       "    .dataframe tbody tr th {\n",
       "        vertical-align: top;\n",
       "    }\n",
       "\n",
       "    .dataframe thead th {\n",
       "        text-align: right;\n",
       "    }\n",
       "</style>\n",
       "<table border=\"1\" class=\"dataframe\">\n",
       "  <thead>\n",
       "    <tr style=\"text-align: right;\">\n",
       "      <th></th>\n",
       "      <th>1</th>\n",
       "      <th>2</th>\n",
       "      <th>3</th>\n",
       "      <th>4</th>\n",
       "      <th>5</th>\n",
       "      <th>6</th>\n",
       "      <th>7</th>\n",
       "      <th>8</th>\n",
       "      <th>9</th>\n",
       "      <th>10</th>\n",
       "      <th>11</th>\n",
       "      <th>12</th>\n",
       "    </tr>\n",
       "    <tr>\n",
       "      <th>username</th>\n",
       "      <th></th>\n",
       "      <th></th>\n",
       "      <th></th>\n",
       "      <th></th>\n",
       "      <th></th>\n",
       "      <th></th>\n",
       "      <th></th>\n",
       "      <th></th>\n",
       "      <th></th>\n",
       "      <th></th>\n",
       "      <th></th>\n",
       "      <th></th>\n",
       "    </tr>\n",
       "  </thead>\n",
       "  <tbody>\n",
       "    <tr>\n",
       "      <th>therealfergus</th>\n",
       "      <td>7051924</td>\n",
       "      <td>1918803</td>\n",
       "      <td>626791</td>\n",
       "      <td>243497</td>\n",
       "      <td>98729</td>\n",
       "      <td>39456</td>\n",
       "      <td>14863</td>\n",
       "      <td>4442</td>\n",
       "      <td>1246</td>\n",
       "      <td>217</td>\n",
       "      <td>31</td>\n",
       "      <td>1</td>\n",
       "    </tr>\n",
       "    <tr>\n",
       "      <th>herbietime</th>\n",
       "      <td>2324007</td>\n",
       "      <td>5870166</td>\n",
       "      <td>1466564</td>\n",
       "      <td>291928</td>\n",
       "      <td>42931</td>\n",
       "      <td>4270</td>\n",
       "      <td>134</td>\n",
       "      <td>0</td>\n",
       "      <td>0</td>\n",
       "      <td>0</td>\n",
       "      <td>0</td>\n",
       "      <td>0</td>\n",
       "    </tr>\n",
       "    <tr>\n",
       "      <th>namebrant</th>\n",
       "      <td>182179</td>\n",
       "      <td>549583</td>\n",
       "      <td>1763731</td>\n",
       "      <td>2072461</td>\n",
       "      <td>1714522</td>\n",
       "      <td>1353389</td>\n",
       "      <td>990934</td>\n",
       "      <td>671285</td>\n",
       "      <td>390579</td>\n",
       "      <td>201265</td>\n",
       "      <td>85076</td>\n",
       "      <td>24996</td>\n",
       "    </tr>\n",
       "    <tr>\n",
       "      <th>thezirconisdragon</th>\n",
       "      <td>172367</td>\n",
       "      <td>705490</td>\n",
       "      <td>2946337</td>\n",
       "      <td>2284685</td>\n",
       "      <td>1591888</td>\n",
       "      <td>1078057</td>\n",
       "      <td>650100</td>\n",
       "      <td>362141</td>\n",
       "      <td>147320</td>\n",
       "      <td>49836</td>\n",
       "      <td>10448</td>\n",
       "      <td>1331</td>\n",
       "    </tr>\n",
       "    <tr>\n",
       "      <th>burgertownthicnred</th>\n",
       "      <td>132582</td>\n",
       "      <td>401293</td>\n",
       "      <td>1322104</td>\n",
       "      <td>1796774</td>\n",
       "      <td>1912706</td>\n",
       "      <td>1705152</td>\n",
       "      <td>1277458</td>\n",
       "      <td>830484</td>\n",
       "      <td>419592</td>\n",
       "      <td>157110</td>\n",
       "      <td>39417</td>\n",
       "      <td>5328</td>\n",
       "    </tr>\n",
       "    <tr>\n",
       "      <th>mackjyers21</th>\n",
       "      <td>95071</td>\n",
       "      <td>365016</td>\n",
       "      <td>1130730</td>\n",
       "      <td>1751132</td>\n",
       "      <td>2025363</td>\n",
       "      <td>1891529</td>\n",
       "      <td>1343868</td>\n",
       "      <td>804767</td>\n",
       "      <td>388339</td>\n",
       "      <td>152176</td>\n",
       "      <td>43879</td>\n",
       "      <td>8130</td>\n",
       "    </tr>\n",
       "    <tr>\n",
       "      <th>shakylegs</th>\n",
       "      <td>24313</td>\n",
       "      <td>106217</td>\n",
       "      <td>386736</td>\n",
       "      <td>801559</td>\n",
       "      <td>1289289</td>\n",
       "      <td>1799152</td>\n",
       "      <td>2207580</td>\n",
       "      <td>1670266</td>\n",
       "      <td>983890</td>\n",
       "      <td>479109</td>\n",
       "      <td>195368</td>\n",
       "      <td>56521</td>\n",
       "    </tr>\n",
       "    <tr>\n",
       "      <th>black8yellownation</th>\n",
       "      <td>14324</td>\n",
       "      <td>64955</td>\n",
       "      <td>250486</td>\n",
       "      <td>481362</td>\n",
       "      <td>755281</td>\n",
       "      <td>1061767</td>\n",
       "      <td>1504236</td>\n",
       "      <td>2038612</td>\n",
       "      <td>2165606</td>\n",
       "      <td>1097009</td>\n",
       "      <td>442847</td>\n",
       "      <td>123515</td>\n",
       "    </tr>\n",
       "    <tr>\n",
       "      <th>alecwilson</th>\n",
       "      <td>3060</td>\n",
       "      <td>16875</td>\n",
       "      <td>89890</td>\n",
       "      <td>217731</td>\n",
       "      <td>424854</td>\n",
       "      <td>751722</td>\n",
       "      <td>1320777</td>\n",
       "      <td>2214308</td>\n",
       "      <td>2477538</td>\n",
       "      <td>1489315</td>\n",
       "      <td>729290</td>\n",
       "      <td>264640</td>\n",
       "    </tr>\n",
       "    <tr>\n",
       "      <th>tonygordzilla22</th>\n",
       "      <td>134</td>\n",
       "      <td>891</td>\n",
       "      <td>6361</td>\n",
       "      <td>18135</td>\n",
       "      <td>39613</td>\n",
       "      <td>78827</td>\n",
       "      <td>163152</td>\n",
       "      <td>324104</td>\n",
       "      <td>705850</td>\n",
       "      <td>1572148</td>\n",
       "      <td>3061888</td>\n",
       "      <td>4028897</td>\n",
       "    </tr>\n",
       "    <tr>\n",
       "      <th>pacc</th>\n",
       "      <td>22</td>\n",
       "      <td>283</td>\n",
       "      <td>3626</td>\n",
       "      <td>13947</td>\n",
       "      <td>35539</td>\n",
       "      <td>80436</td>\n",
       "      <td>178717</td>\n",
       "      <td>365826</td>\n",
       "      <td>796348</td>\n",
       "      <td>1623371</td>\n",
       "      <td>2936226</td>\n",
       "      <td>3965659</td>\n",
       "    </tr>\n",
       "    <tr>\n",
       "      <th>empireyikesback</th>\n",
       "      <td>17</td>\n",
       "      <td>428</td>\n",
       "      <td>6644</td>\n",
       "      <td>26789</td>\n",
       "      <td>69285</td>\n",
       "      <td>156243</td>\n",
       "      <td>348181</td>\n",
       "      <td>713765</td>\n",
       "      <td>1523692</td>\n",
       "      <td>3178444</td>\n",
       "      <td>2455530</td>\n",
       "      <td>1520982</td>\n",
       "    </tr>\n",
       "  </tbody>\n",
       "</table>\n",
       "</div>"
      ],
      "text/plain": [
       "                          1        2        3        4        5        6  \\\n",
       "username                                                                   \n",
       "therealfergus       7051924  1918803   626791   243497    98729    39456   \n",
       "herbietime          2324007  5870166  1466564   291928    42931     4270   \n",
       "namebrant            182179   549583  1763731  2072461  1714522  1353389   \n",
       "thezirconisdragon    172367   705490  2946337  2284685  1591888  1078057   \n",
       "burgertownthicnred   132582   401293  1322104  1796774  1912706  1705152   \n",
       "mackjyers21           95071   365016  1130730  1751132  2025363  1891529   \n",
       "shakylegs             24313   106217   386736   801559  1289289  1799152   \n",
       "black8yellownation    14324    64955   250486   481362   755281  1061767   \n",
       "alecwilson             3060    16875    89890   217731   424854   751722   \n",
       "tonygordzilla22         134      891     6361    18135    39613    78827   \n",
       "pacc                     22      283     3626    13947    35539    80436   \n",
       "empireyikesback          17      428     6644    26789    69285   156243   \n",
       "\n",
       "                          7        8        9       10       11       12  \n",
       "username                                                                  \n",
       "therealfergus         14863     4442     1246      217       31        1  \n",
       "herbietime              134        0        0        0        0        0  \n",
       "namebrant            990934   671285   390579   201265    85076    24996  \n",
       "thezirconisdragon    650100   362141   147320    49836    10448     1331  \n",
       "burgertownthicnred  1277458   830484   419592   157110    39417     5328  \n",
       "mackjyers21         1343868   804767   388339   152176    43879     8130  \n",
       "shakylegs           2207580  1670266   983890   479109   195368    56521  \n",
       "black8yellownation  1504236  2038612  2165606  1097009   442847   123515  \n",
       "alecwilson          1320777  2214308  2477538  1489315   729290   264640  \n",
       "tonygordzilla22      163152   324104   705850  1572148  3061888  4028897  \n",
       "pacc                 178717   365826   796348  1623371  2936226  3965659  \n",
       "empireyikesback      348181   713765  1523692  3178444  2455530  1520982  "
      ]
     },
     "execution_count": 14,
     "metadata": {},
     "output_type": "execute_result"
    }
   ],
   "source": [
    "records_df_count"
   ]
  },
  {
   "cell_type": "code",
   "execution_count": 15,
   "metadata": {},
   "outputs": [
    {
     "data": {
      "text/html": [
       "<style type=\"text/css\">\n",
       "#T_5993b_row0_col1, #T_5993b_row1_col2, #T_5993b_row2_col5, #T_5993b_row3_col3, #T_5993b_row4_col0, #T_5993b_row5_col4, #T_5993b_row6_col7, #T_5993b_row7_col9, #T_5993b_row8_col8, #T_5993b_row9_col10, #T_5993b_row10_col11, #T_5993b_row11_col6 {\n",
       "  color: red;\n",
       "}\n",
       "</style>\n",
       "<table id=\"T_5993b\">\n",
       "  <thead>\n",
       "    <tr>\n",
       "      <th class=\"blank level0\" >&nbsp;</th>\n",
       "      <th id=\"T_5993b_level0_col0\" class=\"col_heading level0 col0\" >1</th>\n",
       "      <th id=\"T_5993b_level0_col1\" class=\"col_heading level0 col1\" >2</th>\n",
       "      <th id=\"T_5993b_level0_col2\" class=\"col_heading level0 col2\" >3</th>\n",
       "      <th id=\"T_5993b_level0_col3\" class=\"col_heading level0 col3\" >4</th>\n",
       "      <th id=\"T_5993b_level0_col4\" class=\"col_heading level0 col4\" >5</th>\n",
       "      <th id=\"T_5993b_level0_col5\" class=\"col_heading level0 col5\" >6</th>\n",
       "      <th id=\"T_5993b_level0_col6\" class=\"col_heading level0 col6\" >7</th>\n",
       "      <th id=\"T_5993b_level0_col7\" class=\"col_heading level0 col7\" >8</th>\n",
       "      <th id=\"T_5993b_level0_col8\" class=\"col_heading level0 col8\" >9</th>\n",
       "      <th id=\"T_5993b_level0_col9\" class=\"col_heading level0 col9\" >10</th>\n",
       "      <th id=\"T_5993b_level0_col10\" class=\"col_heading level0 col10\" >11</th>\n",
       "      <th id=\"T_5993b_level0_col11\" class=\"col_heading level0 col11\" >12</th>\n",
       "    </tr>\n",
       "    <tr>\n",
       "      <th class=\"index_name level0\" >username</th>\n",
       "      <th class=\"blank col0\" >&nbsp;</th>\n",
       "      <th class=\"blank col1\" >&nbsp;</th>\n",
       "      <th class=\"blank col2\" >&nbsp;</th>\n",
       "      <th class=\"blank col3\" >&nbsp;</th>\n",
       "      <th class=\"blank col4\" >&nbsp;</th>\n",
       "      <th class=\"blank col5\" >&nbsp;</th>\n",
       "      <th class=\"blank col6\" >&nbsp;</th>\n",
       "      <th class=\"blank col7\" >&nbsp;</th>\n",
       "      <th class=\"blank col8\" >&nbsp;</th>\n",
       "      <th class=\"blank col9\" >&nbsp;</th>\n",
       "      <th class=\"blank col10\" >&nbsp;</th>\n",
       "      <th class=\"blank col11\" >&nbsp;</th>\n",
       "    </tr>\n",
       "  </thead>\n",
       "  <tbody>\n",
       "    <tr>\n",
       "      <th id=\"T_5993b_level0_row0\" class=\"row_heading level0 row0\" >therealfergus</th>\n",
       "      <td id=\"T_5993b_row0_col0\" class=\"data row0 col0\" >70.51924</td>\n",
       "      <td id=\"T_5993b_row0_col1\" class=\"data row0 col1\" >19.18803</td>\n",
       "      <td id=\"T_5993b_row0_col2\" class=\"data row0 col2\" >6.26791</td>\n",
       "      <td id=\"T_5993b_row0_col3\" class=\"data row0 col3\" >2.43497</td>\n",
       "      <td id=\"T_5993b_row0_col4\" class=\"data row0 col4\" >0.98729</td>\n",
       "      <td id=\"T_5993b_row0_col5\" class=\"data row0 col5\" >0.39456</td>\n",
       "      <td id=\"T_5993b_row0_col6\" class=\"data row0 col6\" >0.14863</td>\n",
       "      <td id=\"T_5993b_row0_col7\" class=\"data row0 col7\" >0.04442</td>\n",
       "      <td id=\"T_5993b_row0_col8\" class=\"data row0 col8\" >0.01246</td>\n",
       "      <td id=\"T_5993b_row0_col9\" class=\"data row0 col9\" >0.00217</td>\n",
       "      <td id=\"T_5993b_row0_col10\" class=\"data row0 col10\" >0.00031</td>\n",
       "      <td id=\"T_5993b_row0_col11\" class=\"data row0 col11\" >1e-05</td>\n",
       "    </tr>\n",
       "    <tr>\n",
       "      <th id=\"T_5993b_level0_row1\" class=\"row_heading level0 row1\" >herbietime</th>\n",
       "      <td id=\"T_5993b_row1_col0\" class=\"data row1 col0\" >23.24007</td>\n",
       "      <td id=\"T_5993b_row1_col1\" class=\"data row1 col1\" >58.70166</td>\n",
       "      <td id=\"T_5993b_row1_col2\" class=\"data row1 col2\" >14.66564</td>\n",
       "      <td id=\"T_5993b_row1_col3\" class=\"data row1 col3\" >2.91928</td>\n",
       "      <td id=\"T_5993b_row1_col4\" class=\"data row1 col4\" >0.42931</td>\n",
       "      <td id=\"T_5993b_row1_col5\" class=\"data row1 col5\" >0.0427</td>\n",
       "      <td id=\"T_5993b_row1_col6\" class=\"data row1 col6\" >0.00134</td>\n",
       "      <td id=\"T_5993b_row1_col7\" class=\"data row1 col7\" >0.0</td>\n",
       "      <td id=\"T_5993b_row1_col8\" class=\"data row1 col8\" >0.0</td>\n",
       "      <td id=\"T_5993b_row1_col9\" class=\"data row1 col9\" >0.0</td>\n",
       "      <td id=\"T_5993b_row1_col10\" class=\"data row1 col10\" >0.0</td>\n",
       "      <td id=\"T_5993b_row1_col11\" class=\"data row1 col11\" >0.0</td>\n",
       "    </tr>\n",
       "    <tr>\n",
       "      <th id=\"T_5993b_level0_row2\" class=\"row_heading level0 row2\" >namebrant</th>\n",
       "      <td id=\"T_5993b_row2_col0\" class=\"data row2 col0\" >1.82179</td>\n",
       "      <td id=\"T_5993b_row2_col1\" class=\"data row2 col1\" >5.49583</td>\n",
       "      <td id=\"T_5993b_row2_col2\" class=\"data row2 col2\" >17.63731</td>\n",
       "      <td id=\"T_5993b_row2_col3\" class=\"data row2 col3\" >20.72461</td>\n",
       "      <td id=\"T_5993b_row2_col4\" class=\"data row2 col4\" >17.14522</td>\n",
       "      <td id=\"T_5993b_row2_col5\" class=\"data row2 col5\" >13.53389</td>\n",
       "      <td id=\"T_5993b_row2_col6\" class=\"data row2 col6\" >9.90934</td>\n",
       "      <td id=\"T_5993b_row2_col7\" class=\"data row2 col7\" >6.71285</td>\n",
       "      <td id=\"T_5993b_row2_col8\" class=\"data row2 col8\" >3.90579</td>\n",
       "      <td id=\"T_5993b_row2_col9\" class=\"data row2 col9\" >2.01265</td>\n",
       "      <td id=\"T_5993b_row2_col10\" class=\"data row2 col10\" >0.85076</td>\n",
       "      <td id=\"T_5993b_row2_col11\" class=\"data row2 col11\" >0.24996</td>\n",
       "    </tr>\n",
       "    <tr>\n",
       "      <th id=\"T_5993b_level0_row3\" class=\"row_heading level0 row3\" >thezirconisdragon</th>\n",
       "      <td id=\"T_5993b_row3_col0\" class=\"data row3 col0\" >1.72367</td>\n",
       "      <td id=\"T_5993b_row3_col1\" class=\"data row3 col1\" >7.0549</td>\n",
       "      <td id=\"T_5993b_row3_col2\" class=\"data row3 col2\" >29.46337</td>\n",
       "      <td id=\"T_5993b_row3_col3\" class=\"data row3 col3\" >22.84685</td>\n",
       "      <td id=\"T_5993b_row3_col4\" class=\"data row3 col4\" >15.91888</td>\n",
       "      <td id=\"T_5993b_row3_col5\" class=\"data row3 col5\" >10.78057</td>\n",
       "      <td id=\"T_5993b_row3_col6\" class=\"data row3 col6\" >6.501</td>\n",
       "      <td id=\"T_5993b_row3_col7\" class=\"data row3 col7\" >3.62141</td>\n",
       "      <td id=\"T_5993b_row3_col8\" class=\"data row3 col8\" >1.4732</td>\n",
       "      <td id=\"T_5993b_row3_col9\" class=\"data row3 col9\" >0.49836</td>\n",
       "      <td id=\"T_5993b_row3_col10\" class=\"data row3 col10\" >0.10448</td>\n",
       "      <td id=\"T_5993b_row3_col11\" class=\"data row3 col11\" >0.01331</td>\n",
       "    </tr>\n",
       "    <tr>\n",
       "      <th id=\"T_5993b_level0_row4\" class=\"row_heading level0 row4\" >burgertownthicnred</th>\n",
       "      <td id=\"T_5993b_row4_col0\" class=\"data row4 col0\" >1.32582</td>\n",
       "      <td id=\"T_5993b_row4_col1\" class=\"data row4 col1\" >4.01293</td>\n",
       "      <td id=\"T_5993b_row4_col2\" class=\"data row4 col2\" >13.22104</td>\n",
       "      <td id=\"T_5993b_row4_col3\" class=\"data row4 col3\" >17.96774</td>\n",
       "      <td id=\"T_5993b_row4_col4\" class=\"data row4 col4\" >19.12706</td>\n",
       "      <td id=\"T_5993b_row4_col5\" class=\"data row4 col5\" >17.05152</td>\n",
       "      <td id=\"T_5993b_row4_col6\" class=\"data row4 col6\" >12.77458</td>\n",
       "      <td id=\"T_5993b_row4_col7\" class=\"data row4 col7\" >8.30484</td>\n",
       "      <td id=\"T_5993b_row4_col8\" class=\"data row4 col8\" >4.19592</td>\n",
       "      <td id=\"T_5993b_row4_col9\" class=\"data row4 col9\" >1.5711</td>\n",
       "      <td id=\"T_5993b_row4_col10\" class=\"data row4 col10\" >0.39417</td>\n",
       "      <td id=\"T_5993b_row4_col11\" class=\"data row4 col11\" >0.05328</td>\n",
       "    </tr>\n",
       "    <tr>\n",
       "      <th id=\"T_5993b_level0_row5\" class=\"row_heading level0 row5\" >mackjyers21</th>\n",
       "      <td id=\"T_5993b_row5_col0\" class=\"data row5 col0\" >0.95071</td>\n",
       "      <td id=\"T_5993b_row5_col1\" class=\"data row5 col1\" >3.65016</td>\n",
       "      <td id=\"T_5993b_row5_col2\" class=\"data row5 col2\" >11.3073</td>\n",
       "      <td id=\"T_5993b_row5_col3\" class=\"data row5 col3\" >17.51132</td>\n",
       "      <td id=\"T_5993b_row5_col4\" class=\"data row5 col4\" >20.25363</td>\n",
       "      <td id=\"T_5993b_row5_col5\" class=\"data row5 col5\" >18.91529</td>\n",
       "      <td id=\"T_5993b_row5_col6\" class=\"data row5 col6\" >13.43868</td>\n",
       "      <td id=\"T_5993b_row5_col7\" class=\"data row5 col7\" >8.04767</td>\n",
       "      <td id=\"T_5993b_row5_col8\" class=\"data row5 col8\" >3.88339</td>\n",
       "      <td id=\"T_5993b_row5_col9\" class=\"data row5 col9\" >1.52176</td>\n",
       "      <td id=\"T_5993b_row5_col10\" class=\"data row5 col10\" >0.43879</td>\n",
       "      <td id=\"T_5993b_row5_col11\" class=\"data row5 col11\" >0.0813</td>\n",
       "    </tr>\n",
       "    <tr>\n",
       "      <th id=\"T_5993b_level0_row6\" class=\"row_heading level0 row6\" >shakylegs</th>\n",
       "      <td id=\"T_5993b_row6_col0\" class=\"data row6 col0\" >0.24313</td>\n",
       "      <td id=\"T_5993b_row6_col1\" class=\"data row6 col1\" >1.06217</td>\n",
       "      <td id=\"T_5993b_row6_col2\" class=\"data row6 col2\" >3.86736</td>\n",
       "      <td id=\"T_5993b_row6_col3\" class=\"data row6 col3\" >8.01559</td>\n",
       "      <td id=\"T_5993b_row6_col4\" class=\"data row6 col4\" >12.89289</td>\n",
       "      <td id=\"T_5993b_row6_col5\" class=\"data row6 col5\" >17.99152</td>\n",
       "      <td id=\"T_5993b_row6_col6\" class=\"data row6 col6\" >22.0758</td>\n",
       "      <td id=\"T_5993b_row6_col7\" class=\"data row6 col7\" >16.70266</td>\n",
       "      <td id=\"T_5993b_row6_col8\" class=\"data row6 col8\" >9.8389</td>\n",
       "      <td id=\"T_5993b_row6_col9\" class=\"data row6 col9\" >4.79109</td>\n",
       "      <td id=\"T_5993b_row6_col10\" class=\"data row6 col10\" >1.95368</td>\n",
       "      <td id=\"T_5993b_row6_col11\" class=\"data row6 col11\" >0.56521</td>\n",
       "    </tr>\n",
       "    <tr>\n",
       "      <th id=\"T_5993b_level0_row7\" class=\"row_heading level0 row7\" >black8yellownation</th>\n",
       "      <td id=\"T_5993b_row7_col0\" class=\"data row7 col0\" >0.14324</td>\n",
       "      <td id=\"T_5993b_row7_col1\" class=\"data row7 col1\" >0.64955</td>\n",
       "      <td id=\"T_5993b_row7_col2\" class=\"data row7 col2\" >2.50486</td>\n",
       "      <td id=\"T_5993b_row7_col3\" class=\"data row7 col3\" >4.81362</td>\n",
       "      <td id=\"T_5993b_row7_col4\" class=\"data row7 col4\" >7.55281</td>\n",
       "      <td id=\"T_5993b_row7_col5\" class=\"data row7 col5\" >10.61767</td>\n",
       "      <td id=\"T_5993b_row7_col6\" class=\"data row7 col6\" >15.04236</td>\n",
       "      <td id=\"T_5993b_row7_col7\" class=\"data row7 col7\" >20.38612</td>\n",
       "      <td id=\"T_5993b_row7_col8\" class=\"data row7 col8\" >21.65606</td>\n",
       "      <td id=\"T_5993b_row7_col9\" class=\"data row7 col9\" >10.97009</td>\n",
       "      <td id=\"T_5993b_row7_col10\" class=\"data row7 col10\" >4.42847</td>\n",
       "      <td id=\"T_5993b_row7_col11\" class=\"data row7 col11\" >1.23515</td>\n",
       "    </tr>\n",
       "    <tr>\n",
       "      <th id=\"T_5993b_level0_row8\" class=\"row_heading level0 row8\" >alecwilson</th>\n",
       "      <td id=\"T_5993b_row8_col0\" class=\"data row8 col0\" >0.0306</td>\n",
       "      <td id=\"T_5993b_row8_col1\" class=\"data row8 col1\" >0.16875</td>\n",
       "      <td id=\"T_5993b_row8_col2\" class=\"data row8 col2\" >0.8989</td>\n",
       "      <td id=\"T_5993b_row8_col3\" class=\"data row8 col3\" >2.17731</td>\n",
       "      <td id=\"T_5993b_row8_col4\" class=\"data row8 col4\" >4.24854</td>\n",
       "      <td id=\"T_5993b_row8_col5\" class=\"data row8 col5\" >7.51722</td>\n",
       "      <td id=\"T_5993b_row8_col6\" class=\"data row8 col6\" >13.20777</td>\n",
       "      <td id=\"T_5993b_row8_col7\" class=\"data row8 col7\" >22.14308</td>\n",
       "      <td id=\"T_5993b_row8_col8\" class=\"data row8 col8\" >24.77538</td>\n",
       "      <td id=\"T_5993b_row8_col9\" class=\"data row8 col9\" >14.89315</td>\n",
       "      <td id=\"T_5993b_row8_col10\" class=\"data row8 col10\" >7.2929</td>\n",
       "      <td id=\"T_5993b_row8_col11\" class=\"data row8 col11\" >2.6464</td>\n",
       "    </tr>\n",
       "    <tr>\n",
       "      <th id=\"T_5993b_level0_row9\" class=\"row_heading level0 row9\" >tonygordzilla22</th>\n",
       "      <td id=\"T_5993b_row9_col0\" class=\"data row9 col0\" >0.00134</td>\n",
       "      <td id=\"T_5993b_row9_col1\" class=\"data row9 col1\" >0.00891</td>\n",
       "      <td id=\"T_5993b_row9_col2\" class=\"data row9 col2\" >0.06361</td>\n",
       "      <td id=\"T_5993b_row9_col3\" class=\"data row9 col3\" >0.18135</td>\n",
       "      <td id=\"T_5993b_row9_col4\" class=\"data row9 col4\" >0.39613</td>\n",
       "      <td id=\"T_5993b_row9_col5\" class=\"data row9 col5\" >0.78827</td>\n",
       "      <td id=\"T_5993b_row9_col6\" class=\"data row9 col6\" >1.63152</td>\n",
       "      <td id=\"T_5993b_row9_col7\" class=\"data row9 col7\" >3.24104</td>\n",
       "      <td id=\"T_5993b_row9_col8\" class=\"data row9 col8\" >7.0585</td>\n",
       "      <td id=\"T_5993b_row9_col9\" class=\"data row9 col9\" >15.72148</td>\n",
       "      <td id=\"T_5993b_row9_col10\" class=\"data row9 col10\" >30.61888</td>\n",
       "      <td id=\"T_5993b_row9_col11\" class=\"data row9 col11\" >40.28897</td>\n",
       "    </tr>\n",
       "    <tr>\n",
       "      <th id=\"T_5993b_level0_row10\" class=\"row_heading level0 row10\" >pacc</th>\n",
       "      <td id=\"T_5993b_row10_col0\" class=\"data row10 col0\" >0.00022</td>\n",
       "      <td id=\"T_5993b_row10_col1\" class=\"data row10 col1\" >0.00283</td>\n",
       "      <td id=\"T_5993b_row10_col2\" class=\"data row10 col2\" >0.03626</td>\n",
       "      <td id=\"T_5993b_row10_col3\" class=\"data row10 col3\" >0.13947</td>\n",
       "      <td id=\"T_5993b_row10_col4\" class=\"data row10 col4\" >0.35539</td>\n",
       "      <td id=\"T_5993b_row10_col5\" class=\"data row10 col5\" >0.80436</td>\n",
       "      <td id=\"T_5993b_row10_col6\" class=\"data row10 col6\" >1.78717</td>\n",
       "      <td id=\"T_5993b_row10_col7\" class=\"data row10 col7\" >3.65826</td>\n",
       "      <td id=\"T_5993b_row10_col8\" class=\"data row10 col8\" >7.96348</td>\n",
       "      <td id=\"T_5993b_row10_col9\" class=\"data row10 col9\" >16.23371</td>\n",
       "      <td id=\"T_5993b_row10_col10\" class=\"data row10 col10\" >29.36226</td>\n",
       "      <td id=\"T_5993b_row10_col11\" class=\"data row10 col11\" >39.65659</td>\n",
       "    </tr>\n",
       "    <tr>\n",
       "      <th id=\"T_5993b_level0_row11\" class=\"row_heading level0 row11\" >empireyikesback</th>\n",
       "      <td id=\"T_5993b_row11_col0\" class=\"data row11 col0\" >0.00017</td>\n",
       "      <td id=\"T_5993b_row11_col1\" class=\"data row11 col1\" >0.00428</td>\n",
       "      <td id=\"T_5993b_row11_col2\" class=\"data row11 col2\" >0.06644</td>\n",
       "      <td id=\"T_5993b_row11_col3\" class=\"data row11 col3\" >0.26789</td>\n",
       "      <td id=\"T_5993b_row11_col4\" class=\"data row11 col4\" >0.69285</td>\n",
       "      <td id=\"T_5993b_row11_col5\" class=\"data row11 col5\" >1.56243</td>\n",
       "      <td id=\"T_5993b_row11_col6\" class=\"data row11 col6\" >3.48181</td>\n",
       "      <td id=\"T_5993b_row11_col7\" class=\"data row11 col7\" >7.13765</td>\n",
       "      <td id=\"T_5993b_row11_col8\" class=\"data row11 col8\" >15.23692</td>\n",
       "      <td id=\"T_5993b_row11_col9\" class=\"data row11 col9\" >31.78444</td>\n",
       "      <td id=\"T_5993b_row11_col10\" class=\"data row11 col10\" >24.5553</td>\n",
       "      <td id=\"T_5993b_row11_col11\" class=\"data row11 col11\" >15.20982</td>\n",
       "    </tr>\n",
       "  </tbody>\n",
       "</table>\n"
      ],
      "text/plain": [
       "<pandas.io.formats.style.Styler at 0x38ad3bbd0>"
      ]
     },
     "execution_count": 15,
     "metadata": {},
     "output_type": "execute_result"
    }
   ],
   "source": [
    "# Highlights each user's actual ranking from the season in the simulated dataframe\n",
    "def highlight_cells(row):\n",
    "    col_to_highlight = season_ranks[row.name]\n",
    "    return ['color: red' if int(col) == int(col_to_highlight) \n",
    "                            else '' for col in row.index]\n",
    "\n",
    "highlighted_df = records_df_prop.astype(str).style.apply(highlight_cells,\n",
    "                                                          axis = 1)\n",
    "highlighted_df"
   ]
  },
  {
   "cell_type": "code",
   "execution_count": 34,
   "metadata": {},
   "outputs": [
    {
     "data": {
      "text/html": [
       "<div>\n",
       "<style scoped>\n",
       "    .dataframe tbody tr th:only-of-type {\n",
       "        vertical-align: middle;\n",
       "    }\n",
       "\n",
       "    .dataframe tbody tr th {\n",
       "        vertical-align: top;\n",
       "    }\n",
       "\n",
       "    .dataframe thead th {\n",
       "        text-align: right;\n",
       "    }\n",
       "</style>\n",
       "<table border=\"1\" class=\"dataframe\">\n",
       "  <thead>\n",
       "    <tr style=\"text-align: right;\">\n",
       "      <th></th>\n",
       "      <th>username</th>\n",
       "      <th>Better</th>\n",
       "      <th>Equal</th>\n",
       "      <th>Worse</th>\n",
       "      <th>Playoff</th>\n",
       "    </tr>\n",
       "    <tr>\n",
       "      <th>rank</th>\n",
       "      <th></th>\n",
       "      <th></th>\n",
       "      <th></th>\n",
       "      <th></th>\n",
       "      <th></th>\n",
       "    </tr>\n",
       "  </thead>\n",
       "  <tbody>\n",
       "    <tr>\n",
       "      <th>1</th>\n",
       "      <td>burgertownthicnred</td>\n",
       "      <td>0.000</td>\n",
       "      <td>1.326</td>\n",
       "      <td>98.674</td>\n",
       "      <td>72.706</td>\n",
       "    </tr>\n",
       "    <tr>\n",
       "      <th>2</th>\n",
       "      <td>therealfergus</td>\n",
       "      <td>70.519</td>\n",
       "      <td>19.188</td>\n",
       "      <td>10.293</td>\n",
       "      <td>99.792</td>\n",
       "    </tr>\n",
       "    <tr>\n",
       "      <th>3</th>\n",
       "      <td>herbietime</td>\n",
       "      <td>81.942</td>\n",
       "      <td>14.666</td>\n",
       "      <td>3.393</td>\n",
       "      <td>99.999</td>\n",
       "    </tr>\n",
       "    <tr>\n",
       "      <th>4</th>\n",
       "      <td>thezirconisdragon</td>\n",
       "      <td>38.242</td>\n",
       "      <td>22.847</td>\n",
       "      <td>38.911</td>\n",
       "      <td>87.788</td>\n",
       "    </tr>\n",
       "    <tr>\n",
       "      <th>5</th>\n",
       "      <td>mackjyers21</td>\n",
       "      <td>33.419</td>\n",
       "      <td>20.254</td>\n",
       "      <td>46.327</td>\n",
       "      <td>72.588</td>\n",
       "    </tr>\n",
       "    <tr>\n",
       "      <th>6</th>\n",
       "      <td>namebrant</td>\n",
       "      <td>62.825</td>\n",
       "      <td>13.534</td>\n",
       "      <td>23.641</td>\n",
       "      <td>76.359</td>\n",
       "    </tr>\n",
       "    <tr>\n",
       "      <th>7</th>\n",
       "      <td>empireyikesback</td>\n",
       "      <td>2.594</td>\n",
       "      <td>3.482</td>\n",
       "      <td>93.924</td>\n",
       "      <td>2.594</td>\n",
       "    </tr>\n",
       "    <tr>\n",
       "      <th>8</th>\n",
       "      <td>shakylegs</td>\n",
       "      <td>66.148</td>\n",
       "      <td>16.703</td>\n",
       "      <td>17.149</td>\n",
       "      <td>44.073</td>\n",
       "    </tr>\n",
       "    <tr>\n",
       "      <th>9</th>\n",
       "      <td>alecwilson</td>\n",
       "      <td>50.392</td>\n",
       "      <td>24.775</td>\n",
       "      <td>24.832</td>\n",
       "      <td>15.041</td>\n",
       "    </tr>\n",
       "    <tr>\n",
       "      <th>10</th>\n",
       "      <td>black8yellownation</td>\n",
       "      <td>83.366</td>\n",
       "      <td>10.970</td>\n",
       "      <td>5.664</td>\n",
       "      <td>26.282</td>\n",
       "    </tr>\n",
       "    <tr>\n",
       "      <th>11</th>\n",
       "      <td>tonygordzilla22</td>\n",
       "      <td>29.092</td>\n",
       "      <td>30.619</td>\n",
       "      <td>40.289</td>\n",
       "      <td>1.440</td>\n",
       "    </tr>\n",
       "    <tr>\n",
       "      <th>12</th>\n",
       "      <td>pacc</td>\n",
       "      <td>60.343</td>\n",
       "      <td>39.657</td>\n",
       "      <td>0.000</td>\n",
       "      <td>1.339</td>\n",
       "    </tr>\n",
       "  </tbody>\n",
       "</table>\n",
       "</div>"
      ],
      "text/plain": [
       "                username  Better   Equal   Worse  Playoff\n",
       "rank                                                     \n",
       "1     burgertownthicnred   0.000   1.326  98.674   72.706\n",
       "2          therealfergus  70.519  19.188  10.293   99.792\n",
       "3             herbietime  81.942  14.666   3.393   99.999\n",
       "4      thezirconisdragon  38.242  22.847  38.911   87.788\n",
       "5            mackjyers21  33.419  20.254  46.327   72.588\n",
       "6              namebrant  62.825  13.534  23.641   76.359\n",
       "7        empireyikesback   2.594   3.482  93.924    2.594\n",
       "8              shakylegs  66.148  16.703  17.149   44.073\n",
       "9             alecwilson  50.392  24.775  24.832   15.041\n",
       "10    black8yellownation  83.366  10.970   5.664   26.282\n",
       "11       tonygordzilla22  29.092  30.619  40.289    1.440\n",
       "12                  pacc  60.343  39.657   0.000    1.339"
      ]
     },
     "execution_count": 34,
     "metadata": {},
     "output_type": "execute_result"
    }
   ],
   "source": [
    "def get_prob(username, rank, type = \"equal\"):\n",
    "    \"\"\"Gets the probability of a user ranking equal to, worse, or better than \n",
    "    they actually did. Probabilites are taken from the simulated rankings.\n",
    "\n",
    "    Args:\n",
    "        username (str): the username to get the probability ranking\n",
    "        rank (int): the rank to determinge\n",
    "        type (str, optional): Can be \"equal\", \"worse\", or \"better\". For each \n",
    "        option. Defaults to \"equal\".\n",
    "\n",
    "    Returns:\n",
    "        str: The function returns the probability of the given user ranking \n",
    "        equal/better/or worse than the passed rank. Probabilities are taken from\n",
    "        the simulated records dataframe.\n",
    "    \"\"\"\n",
    "    user_ix = records_df_prop.index.get_loc(username)\n",
    "    if type == \"equal\":\n",
    "        return records_df_prop.iloc[user_ix, rank-1]\n",
    "    elif type == \"worse\":\n",
    "        return records_df_prop.iloc[user_ix, rank:].sum()\n",
    "    elif type == \"better\":\n",
    "        return records_df_prop.iloc[user_ix, :rank-1].sum()\n",
    "    elif type == \"playoff\":\n",
    "        return records_df_prop.iloc[user_ix, :6].sum()\n",
    "\n",
    "# Gets the probability dictionaries of worse/equal/better for each user\n",
    "probs_worse = {username: get_prob(username, rank, type = \"worse\") for (username, rank) in season_ranks.items()}\n",
    "probs_better = {username: get_prob(username, rank, type = \"better\") for (username, rank) in season_ranks.items()}\n",
    "probs_equal = {username: get_prob(username, rank, type = \"equal\") for (username, rank) in season_ranks.items()}\n",
    "probs_playoff = {username: get_prob(username, rank, type = \"playoff\") for (username, rank) in season_ranks.items()}\n",
    "\n",
    "# Stores the probabilites of each user's ranking for the season\n",
    "season_probs = (pd.DataFrame(season_ranks)\n",
    "                .assign(Better = pd.Series(probs_better))\n",
    "                .assign(Equal = pd.Series(probs_equal))\n",
    "                .assign(Worse = pd.Series(probs_worse))\n",
    "                .assign(Playoff = pd.Series(probs_playoff))\n",
    "                .reset_index(names=\"username\")\n",
    "                .set_index(\"rank\")\n",
    "                .round(3))\n",
    "season_probs"
   ]
  },
  {
   "cell_type": "code",
   "execution_count": 17,
   "metadata": {},
   "outputs": [
    {
     "data": {
      "application/vnd.plotly.v1+json": {
       "config": {
        "plotlyServerURL": "https://plot.ly"
       },
       "data": [
        {
         "alignmentgroup": "True",
         "hovertemplate": " =Better<br>username=%{x}<br>Chance %=%{y}<extra></extra>",
         "legendgroup": "Better",
         "marker": {
          "color": "#2CA02C",
          "pattern": {
           "shape": ""
          }
         },
         "name": "Better",
         "offsetgroup": "Better",
         "orientation": "v",
         "showlegend": true,
         "textposition": "auto",
         "type": "bar",
         "x": [
          "burgertownthicnred",
          "therealfergus",
          "herbietime",
          "thezirconisdragon",
          "mackjyers21",
          "namebrant",
          "empireyikesback",
          "shakylegs",
          "alecwilson",
          "black8yellownation",
          "tonygordzilla22",
          "pacc"
         ],
         "xaxis": "x",
         "y": [
          0,
          70.52,
          81.94,
          38.24,
          33.42,
          62.82,
          2.59,
          66.15,
          50.39,
          83.37,
          29.09,
          60.34
         ],
         "yaxis": "y"
        },
        {
         "alignmentgroup": "True",
         "hovertemplate": " =Equal<br>username=%{x}<br>Chance %=%{y}<extra></extra>",
         "legendgroup": "Equal",
         "marker": {
          "color": "#FF7F0E",
          "pattern": {
           "shape": ""
          }
         },
         "name": "Equal",
         "offsetgroup": "Equal",
         "orientation": "v",
         "showlegend": true,
         "textposition": "auto",
         "type": "bar",
         "x": [
          "burgertownthicnred",
          "therealfergus",
          "herbietime",
          "thezirconisdragon",
          "mackjyers21",
          "namebrant",
          "empireyikesback",
          "shakylegs",
          "alecwilson",
          "black8yellownation",
          "tonygordzilla22",
          "pacc"
         ],
         "xaxis": "x",
         "y": [
          1.33,
          19.19,
          14.67,
          22.85,
          20.25,
          13.53,
          3.48,
          16.7,
          24.78,
          10.97,
          30.62,
          39.66
         ],
         "yaxis": "y"
        },
        {
         "alignmentgroup": "True",
         "hovertemplate": " =Worse<br>username=%{x}<br>Chance %=%{y}<extra></extra>",
         "legendgroup": "Worse",
         "marker": {
          "color": "#1F77B4",
          "pattern": {
           "shape": ""
          }
         },
         "name": "Worse",
         "offsetgroup": "Worse",
         "orientation": "v",
         "showlegend": true,
         "textposition": "auto",
         "type": "bar",
         "x": [
          "burgertownthicnred",
          "therealfergus",
          "herbietime",
          "thezirconisdragon",
          "mackjyers21",
          "namebrant",
          "empireyikesback",
          "shakylegs",
          "alecwilson",
          "black8yellownation",
          "tonygordzilla22",
          "pacc"
         ],
         "xaxis": "x",
         "y": [
          98.67,
          10.29,
          3.39,
          38.91,
          46.33,
          23.64,
          93.92,
          17.15,
          24.83,
          5.66,
          40.29,
          0
         ],
         "yaxis": "y"
        }
       ],
       "layout": {
        "bargap": 0.5,
        "barmode": "relative",
        "font": {
         "size": 12
        },
        "height": 400,
        "legend": {
         "font": {
          "size": 14
         },
         "title": {},
         "tracegroupgap": 0
        },
        "margin": {
         "b": 75,
         "l": 75,
         "r": 50,
         "t": 70
        },
        "template": {
         "data": {
          "bar": [
           {
            "error_x": {
             "color": "#2a3f5f"
            },
            "error_y": {
             "color": "#2a3f5f"
            },
            "marker": {
             "line": {
              "color": "#E5ECF6",
              "width": 0.5
             },
             "pattern": {
              "fillmode": "overlay",
              "size": 10,
              "solidity": 0.2
             }
            },
            "type": "bar"
           }
          ],
          "barpolar": [
           {
            "marker": {
             "line": {
              "color": "#E5ECF6",
              "width": 0.5
             },
             "pattern": {
              "fillmode": "overlay",
              "size": 10,
              "solidity": 0.2
             }
            },
            "type": "barpolar"
           }
          ],
          "carpet": [
           {
            "aaxis": {
             "endlinecolor": "#2a3f5f",
             "gridcolor": "white",
             "linecolor": "white",
             "minorgridcolor": "white",
             "startlinecolor": "#2a3f5f"
            },
            "baxis": {
             "endlinecolor": "#2a3f5f",
             "gridcolor": "white",
             "linecolor": "white",
             "minorgridcolor": "white",
             "startlinecolor": "#2a3f5f"
            },
            "type": "carpet"
           }
          ],
          "choropleth": [
           {
            "colorbar": {
             "outlinewidth": 0,
             "ticks": ""
            },
            "type": "choropleth"
           }
          ],
          "contour": [
           {
            "colorbar": {
             "outlinewidth": 0,
             "ticks": ""
            },
            "colorscale": [
             [
              0,
              "#0d0887"
             ],
             [
              0.1111111111111111,
              "#46039f"
             ],
             [
              0.2222222222222222,
              "#7201a8"
             ],
             [
              0.3333333333333333,
              "#9c179e"
             ],
             [
              0.4444444444444444,
              "#bd3786"
             ],
             [
              0.5555555555555556,
              "#d8576b"
             ],
             [
              0.6666666666666666,
              "#ed7953"
             ],
             [
              0.7777777777777778,
              "#fb9f3a"
             ],
             [
              0.8888888888888888,
              "#fdca26"
             ],
             [
              1,
              "#f0f921"
             ]
            ],
            "type": "contour"
           }
          ],
          "contourcarpet": [
           {
            "colorbar": {
             "outlinewidth": 0,
             "ticks": ""
            },
            "type": "contourcarpet"
           }
          ],
          "heatmap": [
           {
            "colorbar": {
             "outlinewidth": 0,
             "ticks": ""
            },
            "colorscale": [
             [
              0,
              "#0d0887"
             ],
             [
              0.1111111111111111,
              "#46039f"
             ],
             [
              0.2222222222222222,
              "#7201a8"
             ],
             [
              0.3333333333333333,
              "#9c179e"
             ],
             [
              0.4444444444444444,
              "#bd3786"
             ],
             [
              0.5555555555555556,
              "#d8576b"
             ],
             [
              0.6666666666666666,
              "#ed7953"
             ],
             [
              0.7777777777777778,
              "#fb9f3a"
             ],
             [
              0.8888888888888888,
              "#fdca26"
             ],
             [
              1,
              "#f0f921"
             ]
            ],
            "type": "heatmap"
           }
          ],
          "heatmapgl": [
           {
            "colorbar": {
             "outlinewidth": 0,
             "ticks": ""
            },
            "colorscale": [
             [
              0,
              "#0d0887"
             ],
             [
              0.1111111111111111,
              "#46039f"
             ],
             [
              0.2222222222222222,
              "#7201a8"
             ],
             [
              0.3333333333333333,
              "#9c179e"
             ],
             [
              0.4444444444444444,
              "#bd3786"
             ],
             [
              0.5555555555555556,
              "#d8576b"
             ],
             [
              0.6666666666666666,
              "#ed7953"
             ],
             [
              0.7777777777777778,
              "#fb9f3a"
             ],
             [
              0.8888888888888888,
              "#fdca26"
             ],
             [
              1,
              "#f0f921"
             ]
            ],
            "type": "heatmapgl"
           }
          ],
          "histogram": [
           {
            "marker": {
             "pattern": {
              "fillmode": "overlay",
              "size": 10,
              "solidity": 0.2
             }
            },
            "type": "histogram"
           }
          ],
          "histogram2d": [
           {
            "colorbar": {
             "outlinewidth": 0,
             "ticks": ""
            },
            "colorscale": [
             [
              0,
              "#0d0887"
             ],
             [
              0.1111111111111111,
              "#46039f"
             ],
             [
              0.2222222222222222,
              "#7201a8"
             ],
             [
              0.3333333333333333,
              "#9c179e"
             ],
             [
              0.4444444444444444,
              "#bd3786"
             ],
             [
              0.5555555555555556,
              "#d8576b"
             ],
             [
              0.6666666666666666,
              "#ed7953"
             ],
             [
              0.7777777777777778,
              "#fb9f3a"
             ],
             [
              0.8888888888888888,
              "#fdca26"
             ],
             [
              1,
              "#f0f921"
             ]
            ],
            "type": "histogram2d"
           }
          ],
          "histogram2dcontour": [
           {
            "colorbar": {
             "outlinewidth": 0,
             "ticks": ""
            },
            "colorscale": [
             [
              0,
              "#0d0887"
             ],
             [
              0.1111111111111111,
              "#46039f"
             ],
             [
              0.2222222222222222,
              "#7201a8"
             ],
             [
              0.3333333333333333,
              "#9c179e"
             ],
             [
              0.4444444444444444,
              "#bd3786"
             ],
             [
              0.5555555555555556,
              "#d8576b"
             ],
             [
              0.6666666666666666,
              "#ed7953"
             ],
             [
              0.7777777777777778,
              "#fb9f3a"
             ],
             [
              0.8888888888888888,
              "#fdca26"
             ],
             [
              1,
              "#f0f921"
             ]
            ],
            "type": "histogram2dcontour"
           }
          ],
          "mesh3d": [
           {
            "colorbar": {
             "outlinewidth": 0,
             "ticks": ""
            },
            "type": "mesh3d"
           }
          ],
          "parcoords": [
           {
            "line": {
             "colorbar": {
              "outlinewidth": 0,
              "ticks": ""
             }
            },
            "type": "parcoords"
           }
          ],
          "pie": [
           {
            "automargin": true,
            "type": "pie"
           }
          ],
          "scatter": [
           {
            "fillpattern": {
             "fillmode": "overlay",
             "size": 10,
             "solidity": 0.2
            },
            "type": "scatter"
           }
          ],
          "scatter3d": [
           {
            "line": {
             "colorbar": {
              "outlinewidth": 0,
              "ticks": ""
             }
            },
            "marker": {
             "colorbar": {
              "outlinewidth": 0,
              "ticks": ""
             }
            },
            "type": "scatter3d"
           }
          ],
          "scattercarpet": [
           {
            "marker": {
             "colorbar": {
              "outlinewidth": 0,
              "ticks": ""
             }
            },
            "type": "scattercarpet"
           }
          ],
          "scattergeo": [
           {
            "marker": {
             "colorbar": {
              "outlinewidth": 0,
              "ticks": ""
             }
            },
            "type": "scattergeo"
           }
          ],
          "scattergl": [
           {
            "marker": {
             "colorbar": {
              "outlinewidth": 0,
              "ticks": ""
             }
            },
            "type": "scattergl"
           }
          ],
          "scattermapbox": [
           {
            "marker": {
             "colorbar": {
              "outlinewidth": 0,
              "ticks": ""
             }
            },
            "type": "scattermapbox"
           }
          ],
          "scatterpolar": [
           {
            "marker": {
             "colorbar": {
              "outlinewidth": 0,
              "ticks": ""
             }
            },
            "type": "scatterpolar"
           }
          ],
          "scatterpolargl": [
           {
            "marker": {
             "colorbar": {
              "outlinewidth": 0,
              "ticks": ""
             }
            },
            "type": "scatterpolargl"
           }
          ],
          "scatterternary": [
           {
            "marker": {
             "colorbar": {
              "outlinewidth": 0,
              "ticks": ""
             }
            },
            "type": "scatterternary"
           }
          ],
          "surface": [
           {
            "colorbar": {
             "outlinewidth": 0,
             "ticks": ""
            },
            "colorscale": [
             [
              0,
              "#0d0887"
             ],
             [
              0.1111111111111111,
              "#46039f"
             ],
             [
              0.2222222222222222,
              "#7201a8"
             ],
             [
              0.3333333333333333,
              "#9c179e"
             ],
             [
              0.4444444444444444,
              "#bd3786"
             ],
             [
              0.5555555555555556,
              "#d8576b"
             ],
             [
              0.6666666666666666,
              "#ed7953"
             ],
             [
              0.7777777777777778,
              "#fb9f3a"
             ],
             [
              0.8888888888888888,
              "#fdca26"
             ],
             [
              1,
              "#f0f921"
             ]
            ],
            "type": "surface"
           }
          ],
          "table": [
           {
            "cells": {
             "fill": {
              "color": "#EBF0F8"
             },
             "line": {
              "color": "white"
             }
            },
            "header": {
             "fill": {
              "color": "#C8D4E3"
             },
             "line": {
              "color": "white"
             }
            },
            "type": "table"
           }
          ]
         },
         "layout": {
          "annotationdefaults": {
           "arrowcolor": "#2a3f5f",
           "arrowhead": 0,
           "arrowwidth": 1
          },
          "autotypenumbers": "strict",
          "coloraxis": {
           "colorbar": {
            "outlinewidth": 0,
            "ticks": ""
           }
          },
          "colorscale": {
           "diverging": [
            [
             0,
             "#8e0152"
            ],
            [
             0.1,
             "#c51b7d"
            ],
            [
             0.2,
             "#de77ae"
            ],
            [
             0.3,
             "#f1b6da"
            ],
            [
             0.4,
             "#fde0ef"
            ],
            [
             0.5,
             "#f7f7f7"
            ],
            [
             0.6,
             "#e6f5d0"
            ],
            [
             0.7,
             "#b8e186"
            ],
            [
             0.8,
             "#7fbc41"
            ],
            [
             0.9,
             "#4d9221"
            ],
            [
             1,
             "#276419"
            ]
           ],
           "sequential": [
            [
             0,
             "#0d0887"
            ],
            [
             0.1111111111111111,
             "#46039f"
            ],
            [
             0.2222222222222222,
             "#7201a8"
            ],
            [
             0.3333333333333333,
             "#9c179e"
            ],
            [
             0.4444444444444444,
             "#bd3786"
            ],
            [
             0.5555555555555556,
             "#d8576b"
            ],
            [
             0.6666666666666666,
             "#ed7953"
            ],
            [
             0.7777777777777778,
             "#fb9f3a"
            ],
            [
             0.8888888888888888,
             "#fdca26"
            ],
            [
             1,
             "#f0f921"
            ]
           ],
           "sequentialminus": [
            [
             0,
             "#0d0887"
            ],
            [
             0.1111111111111111,
             "#46039f"
            ],
            [
             0.2222222222222222,
             "#7201a8"
            ],
            [
             0.3333333333333333,
             "#9c179e"
            ],
            [
             0.4444444444444444,
             "#bd3786"
            ],
            [
             0.5555555555555556,
             "#d8576b"
            ],
            [
             0.6666666666666666,
             "#ed7953"
            ],
            [
             0.7777777777777778,
             "#fb9f3a"
            ],
            [
             0.8888888888888888,
             "#fdca26"
            ],
            [
             1,
             "#f0f921"
            ]
           ]
          },
          "colorway": [
           "#636efa",
           "#EF553B",
           "#00cc96",
           "#ab63fa",
           "#FFA15A",
           "#19d3f3",
           "#FF6692",
           "#B6E880",
           "#FF97FF",
           "#FECB52"
          ],
          "font": {
           "color": "#2a3f5f"
          },
          "geo": {
           "bgcolor": "white",
           "lakecolor": "white",
           "landcolor": "#E5ECF6",
           "showlakes": true,
           "showland": true,
           "subunitcolor": "white"
          },
          "hoverlabel": {
           "align": "left"
          },
          "hovermode": "closest",
          "mapbox": {
           "style": "light"
          },
          "paper_bgcolor": "white",
          "plot_bgcolor": "#E5ECF6",
          "polar": {
           "angularaxis": {
            "gridcolor": "white",
            "linecolor": "white",
            "ticks": ""
           },
           "bgcolor": "#E5ECF6",
           "radialaxis": {
            "gridcolor": "white",
            "linecolor": "white",
            "ticks": ""
           }
          },
          "scene": {
           "xaxis": {
            "backgroundcolor": "#E5ECF6",
            "gridcolor": "white",
            "gridwidth": 2,
            "linecolor": "white",
            "showbackground": true,
            "ticks": "",
            "zerolinecolor": "white"
           },
           "yaxis": {
            "backgroundcolor": "#E5ECF6",
            "gridcolor": "white",
            "gridwidth": 2,
            "linecolor": "white",
            "showbackground": true,
            "ticks": "",
            "zerolinecolor": "white"
           },
           "zaxis": {
            "backgroundcolor": "#E5ECF6",
            "gridcolor": "white",
            "gridwidth": 2,
            "linecolor": "white",
            "showbackground": true,
            "ticks": "",
            "zerolinecolor": "white"
           }
          },
          "shapedefaults": {
           "line": {
            "color": "#2a3f5f"
           }
          },
          "ternary": {
           "aaxis": {
            "gridcolor": "white",
            "linecolor": "white",
            "ticks": ""
           },
           "baxis": {
            "gridcolor": "white",
            "linecolor": "white",
            "ticks": ""
           },
           "bgcolor": "#E5ECF6",
           "caxis": {
            "gridcolor": "white",
            "linecolor": "white",
            "ticks": ""
           }
          },
          "title": {
           "x": 0.05
          },
          "xaxis": {
           "automargin": true,
           "gridcolor": "white",
           "linecolor": "white",
           "ticks": "",
           "title": {
            "standoff": 15
           },
           "zerolinecolor": "white",
           "zerolinewidth": 2
          },
          "yaxis": {
           "automargin": true,
           "gridcolor": "white",
           "linecolor": "white",
           "ticks": "",
           "title": {
            "standoff": 15
           },
           "zerolinecolor": "white",
           "zerolinewidth": 2
          }
         }
        },
        "title": {
         "text": "Chance of Ranking for 2022 Season",
         "x": 0.5
        },
        "width": 800,
        "xaxis": {
         "anchor": "y",
         "domain": [
          0,
          1
         ],
         "title": {}
        },
        "yaxis": {
         "anchor": "x",
         "domain": [
          0,
          1
         ],
         "title": {
          "text": "Chance %"
         }
        }
       }
      }
     },
     "metadata": {},
     "output_type": "display_data"
    }
   ],
   "source": [
    "# Plots the season probabilities as a stacked bar chart\n",
    "season_probs_melt = pd.melt(season_probs, id_vars=['username', \"Playoff\"], var_name=' ', value_name='Chance %')\n",
    "fig = px.bar(\n",
    "        season_probs_melt, \n",
    "        x='username', \n",
    "        y='Chance %', \n",
    "        color = ' ', \n",
    "        title = f'Chance of Ranking for {YEAR} Season',\n",
    "        color_discrete_sequence = px.colors.qualitative.D3[:3][::-1],\n",
    "        )\n",
    "\n",
    "fig.update_layout(width=800,\n",
    "                  height=400,\n",
    "                  xaxis_title = None,\n",
    "                  yaxis_title = \"Chance %\",\n",
    "                  title_x = 0.5,\n",
    "                  font=dict(size=12),\n",
    "                  margin=dict(t=70, b=75, l=75, r=50),\n",
    "                  bargap=0.5,\n",
    "                  legend = dict(title = None,\n",
    "                                font = dict(size=14))\n",
    "                 )"
   ]
  },
  {
   "cell_type": "code",
   "execution_count": 59,
   "metadata": {},
   "outputs": [
    {
     "data": {
      "application/vnd.plotly.v1+json": {
       "config": {
        "plotlyServerURL": "https://plot.ly"
       },
       "data": [
        {
         "alignmentgroup": "True",
         "hovertemplate": " =Better<br>Chance %=%{x}<br>username=%{y}<extra></extra>",
         "legendgroup": "Better",
         "marker": {
          "color": "#2CA02C",
          "pattern": {
           "shape": ""
          }
         },
         "name": "Better",
         "offsetgroup": "Better",
         "orientation": "h",
         "showlegend": true,
         "textposition": "auto",
         "type": "bar",
         "x": [
          60.343,
          29.092,
          83.366,
          50.392,
          66.148,
          2.594,
          62.825,
          33.419,
          38.242,
          81.942,
          70.519,
          0
         ],
         "xaxis": "x",
         "y": [
          "pacc",
          "tonygordzilla22",
          "black8yellownation",
          "alecwilson",
          "shakylegs",
          "empireyikesback",
          "namebrant",
          "mackjyers21",
          "thezirconisdragon",
          "herbietime",
          "therealfergus",
          "burgertownthicnred"
         ],
         "yaxis": "y"
        },
        {
         "alignmentgroup": "True",
         "hovertemplate": " =Equal<br>Chance %=%{x}<br>username=%{y}<extra></extra>",
         "legendgroup": "Equal",
         "marker": {
          "color": "#FF7F0E",
          "pattern": {
           "shape": ""
          }
         },
         "name": "Equal",
         "offsetgroup": "Equal",
         "orientation": "h",
         "showlegend": true,
         "textposition": "auto",
         "type": "bar",
         "x": [
          39.657,
          30.619,
          10.97,
          24.775,
          16.703,
          3.482,
          13.534,
          20.254,
          22.847,
          14.666,
          19.188,
          1.326
         ],
         "xaxis": "x",
         "y": [
          "pacc",
          "tonygordzilla22",
          "black8yellownation",
          "alecwilson",
          "shakylegs",
          "empireyikesback",
          "namebrant",
          "mackjyers21",
          "thezirconisdragon",
          "herbietime",
          "therealfergus",
          "burgertownthicnred"
         ],
         "yaxis": "y"
        },
        {
         "alignmentgroup": "True",
         "hovertemplate": " =Worse<br>Chance %=%{x}<br>username=%{y}<extra></extra>",
         "legendgroup": "Worse",
         "marker": {
          "color": "#1F77B4",
          "pattern": {
           "shape": ""
          }
         },
         "name": "Worse",
         "offsetgroup": "Worse",
         "orientation": "h",
         "showlegend": true,
         "textposition": "auto",
         "type": "bar",
         "x": [
          0,
          40.289,
          5.664,
          24.832,
          17.149,
          93.924,
          23.641,
          46.327,
          38.911,
          3.393,
          10.293,
          98.674
         ],
         "xaxis": "x",
         "y": [
          "pacc",
          "tonygordzilla22",
          "black8yellownation",
          "alecwilson",
          "shakylegs",
          "empireyikesback",
          "namebrant",
          "mackjyers21",
          "thezirconisdragon",
          "herbietime",
          "therealfergus",
          "burgertownthicnred"
         ],
         "yaxis": "y"
        }
       ],
       "layout": {
        "bargap": 0.5,
        "barmode": "relative",
        "font": {
         "size": 12
        },
        "height": 800,
        "legend": {
         "font": {
          "size": 16
         },
         "title": {},
         "tracegroupgap": 0
        },
        "margin": {
         "b": 75,
         "l": 75,
         "r": 50,
         "t": 70
        },
        "template": {
         "data": {
          "bar": [
           {
            "error_x": {
             "color": "#2a3f5f"
            },
            "error_y": {
             "color": "#2a3f5f"
            },
            "marker": {
             "line": {
              "color": "#E5ECF6",
              "width": 0.5
             },
             "pattern": {
              "fillmode": "overlay",
              "size": 10,
              "solidity": 0.2
             }
            },
            "type": "bar"
           }
          ],
          "barpolar": [
           {
            "marker": {
             "line": {
              "color": "#E5ECF6",
              "width": 0.5
             },
             "pattern": {
              "fillmode": "overlay",
              "size": 10,
              "solidity": 0.2
             }
            },
            "type": "barpolar"
           }
          ],
          "carpet": [
           {
            "aaxis": {
             "endlinecolor": "#2a3f5f",
             "gridcolor": "white",
             "linecolor": "white",
             "minorgridcolor": "white",
             "startlinecolor": "#2a3f5f"
            },
            "baxis": {
             "endlinecolor": "#2a3f5f",
             "gridcolor": "white",
             "linecolor": "white",
             "minorgridcolor": "white",
             "startlinecolor": "#2a3f5f"
            },
            "type": "carpet"
           }
          ],
          "choropleth": [
           {
            "colorbar": {
             "outlinewidth": 0,
             "ticks": ""
            },
            "type": "choropleth"
           }
          ],
          "contour": [
           {
            "colorbar": {
             "outlinewidth": 0,
             "ticks": ""
            },
            "colorscale": [
             [
              0,
              "#0d0887"
             ],
             [
              0.1111111111111111,
              "#46039f"
             ],
             [
              0.2222222222222222,
              "#7201a8"
             ],
             [
              0.3333333333333333,
              "#9c179e"
             ],
             [
              0.4444444444444444,
              "#bd3786"
             ],
             [
              0.5555555555555556,
              "#d8576b"
             ],
             [
              0.6666666666666666,
              "#ed7953"
             ],
             [
              0.7777777777777778,
              "#fb9f3a"
             ],
             [
              0.8888888888888888,
              "#fdca26"
             ],
             [
              1,
              "#f0f921"
             ]
            ],
            "type": "contour"
           }
          ],
          "contourcarpet": [
           {
            "colorbar": {
             "outlinewidth": 0,
             "ticks": ""
            },
            "type": "contourcarpet"
           }
          ],
          "heatmap": [
           {
            "colorbar": {
             "outlinewidth": 0,
             "ticks": ""
            },
            "colorscale": [
             [
              0,
              "#0d0887"
             ],
             [
              0.1111111111111111,
              "#46039f"
             ],
             [
              0.2222222222222222,
              "#7201a8"
             ],
             [
              0.3333333333333333,
              "#9c179e"
             ],
             [
              0.4444444444444444,
              "#bd3786"
             ],
             [
              0.5555555555555556,
              "#d8576b"
             ],
             [
              0.6666666666666666,
              "#ed7953"
             ],
             [
              0.7777777777777778,
              "#fb9f3a"
             ],
             [
              0.8888888888888888,
              "#fdca26"
             ],
             [
              1,
              "#f0f921"
             ]
            ],
            "type": "heatmap"
           }
          ],
          "heatmapgl": [
           {
            "colorbar": {
             "outlinewidth": 0,
             "ticks": ""
            },
            "colorscale": [
             [
              0,
              "#0d0887"
             ],
             [
              0.1111111111111111,
              "#46039f"
             ],
             [
              0.2222222222222222,
              "#7201a8"
             ],
             [
              0.3333333333333333,
              "#9c179e"
             ],
             [
              0.4444444444444444,
              "#bd3786"
             ],
             [
              0.5555555555555556,
              "#d8576b"
             ],
             [
              0.6666666666666666,
              "#ed7953"
             ],
             [
              0.7777777777777778,
              "#fb9f3a"
             ],
             [
              0.8888888888888888,
              "#fdca26"
             ],
             [
              1,
              "#f0f921"
             ]
            ],
            "type": "heatmapgl"
           }
          ],
          "histogram": [
           {
            "marker": {
             "pattern": {
              "fillmode": "overlay",
              "size": 10,
              "solidity": 0.2
             }
            },
            "type": "histogram"
           }
          ],
          "histogram2d": [
           {
            "colorbar": {
             "outlinewidth": 0,
             "ticks": ""
            },
            "colorscale": [
             [
              0,
              "#0d0887"
             ],
             [
              0.1111111111111111,
              "#46039f"
             ],
             [
              0.2222222222222222,
              "#7201a8"
             ],
             [
              0.3333333333333333,
              "#9c179e"
             ],
             [
              0.4444444444444444,
              "#bd3786"
             ],
             [
              0.5555555555555556,
              "#d8576b"
             ],
             [
              0.6666666666666666,
              "#ed7953"
             ],
             [
              0.7777777777777778,
              "#fb9f3a"
             ],
             [
              0.8888888888888888,
              "#fdca26"
             ],
             [
              1,
              "#f0f921"
             ]
            ],
            "type": "histogram2d"
           }
          ],
          "histogram2dcontour": [
           {
            "colorbar": {
             "outlinewidth": 0,
             "ticks": ""
            },
            "colorscale": [
             [
              0,
              "#0d0887"
             ],
             [
              0.1111111111111111,
              "#46039f"
             ],
             [
              0.2222222222222222,
              "#7201a8"
             ],
             [
              0.3333333333333333,
              "#9c179e"
             ],
             [
              0.4444444444444444,
              "#bd3786"
             ],
             [
              0.5555555555555556,
              "#d8576b"
             ],
             [
              0.6666666666666666,
              "#ed7953"
             ],
             [
              0.7777777777777778,
              "#fb9f3a"
             ],
             [
              0.8888888888888888,
              "#fdca26"
             ],
             [
              1,
              "#f0f921"
             ]
            ],
            "type": "histogram2dcontour"
           }
          ],
          "mesh3d": [
           {
            "colorbar": {
             "outlinewidth": 0,
             "ticks": ""
            },
            "type": "mesh3d"
           }
          ],
          "parcoords": [
           {
            "line": {
             "colorbar": {
              "outlinewidth": 0,
              "ticks": ""
             }
            },
            "type": "parcoords"
           }
          ],
          "pie": [
           {
            "automargin": true,
            "type": "pie"
           }
          ],
          "scatter": [
           {
            "fillpattern": {
             "fillmode": "overlay",
             "size": 10,
             "solidity": 0.2
            },
            "type": "scatter"
           }
          ],
          "scatter3d": [
           {
            "line": {
             "colorbar": {
              "outlinewidth": 0,
              "ticks": ""
             }
            },
            "marker": {
             "colorbar": {
              "outlinewidth": 0,
              "ticks": ""
             }
            },
            "type": "scatter3d"
           }
          ],
          "scattercarpet": [
           {
            "marker": {
             "colorbar": {
              "outlinewidth": 0,
              "ticks": ""
             }
            },
            "type": "scattercarpet"
           }
          ],
          "scattergeo": [
           {
            "marker": {
             "colorbar": {
              "outlinewidth": 0,
              "ticks": ""
             }
            },
            "type": "scattergeo"
           }
          ],
          "scattergl": [
           {
            "marker": {
             "colorbar": {
              "outlinewidth": 0,
              "ticks": ""
             }
            },
            "type": "scattergl"
           }
          ],
          "scattermapbox": [
           {
            "marker": {
             "colorbar": {
              "outlinewidth": 0,
              "ticks": ""
             }
            },
            "type": "scattermapbox"
           }
          ],
          "scatterpolar": [
           {
            "marker": {
             "colorbar": {
              "outlinewidth": 0,
              "ticks": ""
             }
            },
            "type": "scatterpolar"
           }
          ],
          "scatterpolargl": [
           {
            "marker": {
             "colorbar": {
              "outlinewidth": 0,
              "ticks": ""
             }
            },
            "type": "scatterpolargl"
           }
          ],
          "scatterternary": [
           {
            "marker": {
             "colorbar": {
              "outlinewidth": 0,
              "ticks": ""
             }
            },
            "type": "scatterternary"
           }
          ],
          "surface": [
           {
            "colorbar": {
             "outlinewidth": 0,
             "ticks": ""
            },
            "colorscale": [
             [
              0,
              "#0d0887"
             ],
             [
              0.1111111111111111,
              "#46039f"
             ],
             [
              0.2222222222222222,
              "#7201a8"
             ],
             [
              0.3333333333333333,
              "#9c179e"
             ],
             [
              0.4444444444444444,
              "#bd3786"
             ],
             [
              0.5555555555555556,
              "#d8576b"
             ],
             [
              0.6666666666666666,
              "#ed7953"
             ],
             [
              0.7777777777777778,
              "#fb9f3a"
             ],
             [
              0.8888888888888888,
              "#fdca26"
             ],
             [
              1,
              "#f0f921"
             ]
            ],
            "type": "surface"
           }
          ],
          "table": [
           {
            "cells": {
             "fill": {
              "color": "#EBF0F8"
             },
             "line": {
              "color": "white"
             }
            },
            "header": {
             "fill": {
              "color": "#C8D4E3"
             },
             "line": {
              "color": "white"
             }
            },
            "type": "table"
           }
          ]
         },
         "layout": {
          "annotationdefaults": {
           "arrowcolor": "#2a3f5f",
           "arrowhead": 0,
           "arrowwidth": 1
          },
          "autotypenumbers": "strict",
          "coloraxis": {
           "colorbar": {
            "outlinewidth": 0,
            "ticks": ""
           }
          },
          "colorscale": {
           "diverging": [
            [
             0,
             "#8e0152"
            ],
            [
             0.1,
             "#c51b7d"
            ],
            [
             0.2,
             "#de77ae"
            ],
            [
             0.3,
             "#f1b6da"
            ],
            [
             0.4,
             "#fde0ef"
            ],
            [
             0.5,
             "#f7f7f7"
            ],
            [
             0.6,
             "#e6f5d0"
            ],
            [
             0.7,
             "#b8e186"
            ],
            [
             0.8,
             "#7fbc41"
            ],
            [
             0.9,
             "#4d9221"
            ],
            [
             1,
             "#276419"
            ]
           ],
           "sequential": [
            [
             0,
             "#0d0887"
            ],
            [
             0.1111111111111111,
             "#46039f"
            ],
            [
             0.2222222222222222,
             "#7201a8"
            ],
            [
             0.3333333333333333,
             "#9c179e"
            ],
            [
             0.4444444444444444,
             "#bd3786"
            ],
            [
             0.5555555555555556,
             "#d8576b"
            ],
            [
             0.6666666666666666,
             "#ed7953"
            ],
            [
             0.7777777777777778,
             "#fb9f3a"
            ],
            [
             0.8888888888888888,
             "#fdca26"
            ],
            [
             1,
             "#f0f921"
            ]
           ],
           "sequentialminus": [
            [
             0,
             "#0d0887"
            ],
            [
             0.1111111111111111,
             "#46039f"
            ],
            [
             0.2222222222222222,
             "#7201a8"
            ],
            [
             0.3333333333333333,
             "#9c179e"
            ],
            [
             0.4444444444444444,
             "#bd3786"
            ],
            [
             0.5555555555555556,
             "#d8576b"
            ],
            [
             0.6666666666666666,
             "#ed7953"
            ],
            [
             0.7777777777777778,
             "#fb9f3a"
            ],
            [
             0.8888888888888888,
             "#fdca26"
            ],
            [
             1,
             "#f0f921"
            ]
           ]
          },
          "colorway": [
           "#636efa",
           "#EF553B",
           "#00cc96",
           "#ab63fa",
           "#FFA15A",
           "#19d3f3",
           "#FF6692",
           "#B6E880",
           "#FF97FF",
           "#FECB52"
          ],
          "font": {
           "color": "#2a3f5f"
          },
          "geo": {
           "bgcolor": "white",
           "lakecolor": "white",
           "landcolor": "#E5ECF6",
           "showlakes": true,
           "showland": true,
           "subunitcolor": "white"
          },
          "hoverlabel": {
           "align": "left"
          },
          "hovermode": "closest",
          "mapbox": {
           "style": "light"
          },
          "paper_bgcolor": "white",
          "plot_bgcolor": "#E5ECF6",
          "polar": {
           "angularaxis": {
            "gridcolor": "white",
            "linecolor": "white",
            "ticks": ""
           },
           "bgcolor": "#E5ECF6",
           "radialaxis": {
            "gridcolor": "white",
            "linecolor": "white",
            "ticks": ""
           }
          },
          "scene": {
           "xaxis": {
            "backgroundcolor": "#E5ECF6",
            "gridcolor": "white",
            "gridwidth": 2,
            "linecolor": "white",
            "showbackground": true,
            "ticks": "",
            "zerolinecolor": "white"
           },
           "yaxis": {
            "backgroundcolor": "#E5ECF6",
            "gridcolor": "white",
            "gridwidth": 2,
            "linecolor": "white",
            "showbackground": true,
            "ticks": "",
            "zerolinecolor": "white"
           },
           "zaxis": {
            "backgroundcolor": "#E5ECF6",
            "gridcolor": "white",
            "gridwidth": 2,
            "linecolor": "white",
            "showbackground": true,
            "ticks": "",
            "zerolinecolor": "white"
           }
          },
          "shapedefaults": {
           "line": {
            "color": "#2a3f5f"
           }
          },
          "ternary": {
           "aaxis": {
            "gridcolor": "white",
            "linecolor": "white",
            "ticks": ""
           },
           "baxis": {
            "gridcolor": "white",
            "linecolor": "white",
            "ticks": ""
           },
           "bgcolor": "#E5ECF6",
           "caxis": {
            "gridcolor": "white",
            "linecolor": "white",
            "ticks": ""
           }
          },
          "title": {
           "x": 0.05
          },
          "xaxis": {
           "automargin": true,
           "gridcolor": "white",
           "linecolor": "white",
           "ticks": "",
           "title": {
            "standoff": 15
           },
           "zerolinecolor": "white",
           "zerolinewidth": 2
          },
          "yaxis": {
           "automargin": true,
           "gridcolor": "white",
           "linecolor": "white",
           "ticks": "",
           "title": {
            "standoff": 15
           },
           "zerolinecolor": "white",
           "zerolinewidth": 2
          }
         }
        },
        "title": {
         "text": "Chance of Ranking for 2022 Season",
         "x": 0.5
        },
        "width": 800,
        "xaxis": {
         "anchor": "y",
         "domain": [
          0,
          1
         ],
         "title": {
          "text": "Chance %"
         }
        },
        "yaxis": {
         "anchor": "x",
         "domain": [
          0,
          1
         ],
         "title": {}
        }
       }
      }
     },
     "metadata": {},
     "output_type": "display_data"
    }
   ],
   "source": [
    "# Plots a horizontal bar chart\n",
    "season_probs_melt = pd.melt(season_probs.reset_index().sort_values(by=\"rank\", ascending=False).set_index(\"rank\"), id_vars=['username', \"Playoff\"], var_name=' ', value_name='Chance %')\n",
    "\n",
    "# Create the horizontal bar chart\n",
    "fig = px.bar(\n",
    "    season_probs_melt, \n",
    "    y='username', \n",
    "    x='Chance %', \n",
    "    color=' ', \n",
    "    title=f'Chance of Ranking for {YEAR} Season',\n",
    "    orientation='h',  # Horizontal bar chart\n",
    "    color_discrete_sequence=px.colors.qualitative.D3[:3][::-1],\n",
    ")\n",
    "\n",
    "# Update the layout\n",
    "fig.update_layout(\n",
    "    width=800,\n",
    "    height=800,\n",
    "    xaxis_title=\"Chance %\",\n",
    "    yaxis_title=None,\n",
    "    title_x=0.5,\n",
    "    font=dict(size=12),\n",
    "    margin=dict(t=70, b=75, l=75, r=50),\n",
    "    bargap=0.5,\n",
    "    legend=dict(\n",
    "        title=None,\n",
    "        font=dict(size=16)\n",
    "    )\n",
    ")\n",
    "\n",
    "fig.show()"
   ]
  },
  {
   "cell_type": "code",
   "execution_count": 60,
   "metadata": {},
   "outputs": [],
   "source": [
    "fig.write_html(f'../{YEAR}SimulatedSchedules/output/{YEAR}Probabilities.html', include_plotlyjs='cdn')"
   ]
  },
  {
   "cell_type": "code",
   "execution_count": 20,
   "metadata": {},
   "outputs": [
    {
     "data": {
      "text/html": [
       "<div>\n",
       "<style scoped>\n",
       "    .dataframe tbody tr th:only-of-type {\n",
       "        vertical-align: middle;\n",
       "    }\n",
       "\n",
       "    .dataframe tbody tr th {\n",
       "        vertical-align: top;\n",
       "    }\n",
       "\n",
       "    .dataframe thead th {\n",
       "        text-align: right;\n",
       "    }\n",
       "</style>\n",
       "<table border=\"1\" class=\"dataframe\">\n",
       "  <thead>\n",
       "    <tr style=\"text-align: right;\">\n",
       "      <th></th>\n",
       "      <th>1</th>\n",
       "      <th>2</th>\n",
       "      <th>3</th>\n",
       "      <th>4</th>\n",
       "      <th>5</th>\n",
       "      <th>6</th>\n",
       "      <th>7</th>\n",
       "      <th>8</th>\n",
       "      <th>9</th>\n",
       "      <th>10</th>\n",
       "      <th>11</th>\n",
       "      <th>12</th>\n",
       "      <th>Count</th>\n",
       "    </tr>\n",
       "  </thead>\n",
       "  <tbody>\n",
       "    <tr>\n",
       "      <th>0</th>\n",
       "      <td>therealfergus</td>\n",
       "      <td>herbietime</td>\n",
       "      <td>thezirconisdragon</td>\n",
       "      <td>namebrant</td>\n",
       "      <td>burgertownthicnred</td>\n",
       "      <td>mackjyers21</td>\n",
       "      <td>shakylegs</td>\n",
       "      <td>alecwilson</td>\n",
       "      <td>black8yellownation</td>\n",
       "      <td>empireyikesback</td>\n",
       "      <td>tonygordzilla22</td>\n",
       "      <td>pacc</td>\n",
       "      <td>16515</td>\n",
       "    </tr>\n",
       "    <tr>\n",
       "      <th>1</th>\n",
       "      <td>therealfergus</td>\n",
       "      <td>herbietime</td>\n",
       "      <td>thezirconisdragon</td>\n",
       "      <td>namebrant</td>\n",
       "      <td>burgertownthicnred</td>\n",
       "      <td>mackjyers21</td>\n",
       "      <td>shakylegs</td>\n",
       "      <td>alecwilson</td>\n",
       "      <td>black8yellownation</td>\n",
       "      <td>empireyikesback</td>\n",
       "      <td>pacc</td>\n",
       "      <td>tonygordzilla22</td>\n",
       "      <td>12837</td>\n",
       "    </tr>\n",
       "    <tr>\n",
       "      <th>2</th>\n",
       "      <td>therealfergus</td>\n",
       "      <td>herbietime</td>\n",
       "      <td>thezirconisdragon</td>\n",
       "      <td>namebrant</td>\n",
       "      <td>burgertownthicnred</td>\n",
       "      <td>mackjyers21</td>\n",
       "      <td>shakylegs</td>\n",
       "      <td>black8yellownation</td>\n",
       "      <td>alecwilson</td>\n",
       "      <td>empireyikesback</td>\n",
       "      <td>tonygordzilla22</td>\n",
       "      <td>pacc</td>\n",
       "      <td>8987</td>\n",
       "    </tr>\n",
       "    <tr>\n",
       "      <th>3</th>\n",
       "      <td>therealfergus</td>\n",
       "      <td>herbietime</td>\n",
       "      <td>namebrant</td>\n",
       "      <td>thezirconisdragon</td>\n",
       "      <td>burgertownthicnred</td>\n",
       "      <td>mackjyers21</td>\n",
       "      <td>shakylegs</td>\n",
       "      <td>alecwilson</td>\n",
       "      <td>black8yellownation</td>\n",
       "      <td>empireyikesback</td>\n",
       "      <td>tonygordzilla22</td>\n",
       "      <td>pacc</td>\n",
       "      <td>7628</td>\n",
       "    </tr>\n",
       "    <tr>\n",
       "      <th>4</th>\n",
       "      <td>therealfergus</td>\n",
       "      <td>herbietime</td>\n",
       "      <td>thezirconisdragon</td>\n",
       "      <td>namebrant</td>\n",
       "      <td>burgertownthicnred</td>\n",
       "      <td>mackjyers21</td>\n",
       "      <td>shakylegs</td>\n",
       "      <td>alecwilson</td>\n",
       "      <td>black8yellownation</td>\n",
       "      <td>pacc</td>\n",
       "      <td>empireyikesback</td>\n",
       "      <td>tonygordzilla22</td>\n",
       "      <td>7257</td>\n",
       "    </tr>\n",
       "    <tr>\n",
       "      <th>...</th>\n",
       "      <td>...</td>\n",
       "      <td>...</td>\n",
       "      <td>...</td>\n",
       "      <td>...</td>\n",
       "      <td>...</td>\n",
       "      <td>...</td>\n",
       "      <td>...</td>\n",
       "      <td>...</td>\n",
       "      <td>...</td>\n",
       "      <td>...</td>\n",
       "      <td>...</td>\n",
       "      <td>...</td>\n",
       "      <td>...</td>\n",
       "    </tr>\n",
       "    <tr>\n",
       "      <th>1013316</th>\n",
       "      <td>therealfergus</td>\n",
       "      <td>burgertownthicnred</td>\n",
       "      <td>herbietime</td>\n",
       "      <td>thezirconisdragon</td>\n",
       "      <td>namebrant</td>\n",
       "      <td>alecwilson</td>\n",
       "      <td>pacc</td>\n",
       "      <td>shakylegs</td>\n",
       "      <td>tonygordzilla22</td>\n",
       "      <td>black8yellownation</td>\n",
       "      <td>mackjyers21</td>\n",
       "      <td>empireyikesback</td>\n",
       "      <td>1</td>\n",
       "    </tr>\n",
       "    <tr>\n",
       "      <th>1013317</th>\n",
       "      <td>shakylegs</td>\n",
       "      <td>herbietime</td>\n",
       "      <td>therealfergus</td>\n",
       "      <td>namebrant</td>\n",
       "      <td>burgertownthicnred</td>\n",
       "      <td>thezirconisdragon</td>\n",
       "      <td>mackjyers21</td>\n",
       "      <td>empireyikesback</td>\n",
       "      <td>black8yellownation</td>\n",
       "      <td>pacc</td>\n",
       "      <td>tonygordzilla22</td>\n",
       "      <td>alecwilson</td>\n",
       "      <td>1</td>\n",
       "    </tr>\n",
       "    <tr>\n",
       "      <th>1013318</th>\n",
       "      <td>therealfergus</td>\n",
       "      <td>burgertownthicnred</td>\n",
       "      <td>herbietime</td>\n",
       "      <td>alecwilson</td>\n",
       "      <td>shakylegs</td>\n",
       "      <td>mackjyers21</td>\n",
       "      <td>thezirconisdragon</td>\n",
       "      <td>black8yellownation</td>\n",
       "      <td>pacc</td>\n",
       "      <td>namebrant</td>\n",
       "      <td>tonygordzilla22</td>\n",
       "      <td>empireyikesback</td>\n",
       "      <td>1</td>\n",
       "    </tr>\n",
       "    <tr>\n",
       "      <th>1013319</th>\n",
       "      <td>herbietime</td>\n",
       "      <td>therealfergus</td>\n",
       "      <td>namebrant</td>\n",
       "      <td>mackjyers21</td>\n",
       "      <td>empireyikesback</td>\n",
       "      <td>pacc</td>\n",
       "      <td>thezirconisdragon</td>\n",
       "      <td>burgertownthicnred</td>\n",
       "      <td>shakylegs</td>\n",
       "      <td>alecwilson</td>\n",
       "      <td>black8yellownation</td>\n",
       "      <td>tonygordzilla22</td>\n",
       "      <td>1</td>\n",
       "    </tr>\n",
       "    <tr>\n",
       "      <th>1013320</th>\n",
       "      <td>herbietime</td>\n",
       "      <td>mackjyers21</td>\n",
       "      <td>therealfergus</td>\n",
       "      <td>shakylegs</td>\n",
       "      <td>thezirconisdragon</td>\n",
       "      <td>black8yellownation</td>\n",
       "      <td>pacc</td>\n",
       "      <td>burgertownthicnred</td>\n",
       "      <td>namebrant</td>\n",
       "      <td>alecwilson</td>\n",
       "      <td>empireyikesback</td>\n",
       "      <td>tonygordzilla22</td>\n",
       "      <td>1</td>\n",
       "    </tr>\n",
       "  </tbody>\n",
       "</table>\n",
       "<p>1013321 rows × 13 columns</p>\n",
       "</div>"
      ],
      "text/plain": [
       "                     1                   2                  3  \\\n",
       "0        therealfergus          herbietime  thezirconisdragon   \n",
       "1        therealfergus          herbietime  thezirconisdragon   \n",
       "2        therealfergus          herbietime  thezirconisdragon   \n",
       "3        therealfergus          herbietime          namebrant   \n",
       "4        therealfergus          herbietime  thezirconisdragon   \n",
       "...                ...                 ...                ...   \n",
       "1013316  therealfergus  burgertownthicnred         herbietime   \n",
       "1013317      shakylegs          herbietime      therealfergus   \n",
       "1013318  therealfergus  burgertownthicnred         herbietime   \n",
       "1013319     herbietime       therealfergus          namebrant   \n",
       "1013320     herbietime         mackjyers21      therealfergus   \n",
       "\n",
       "                         4                   5                   6  \\\n",
       "0                namebrant  burgertownthicnred         mackjyers21   \n",
       "1                namebrant  burgertownthicnred         mackjyers21   \n",
       "2                namebrant  burgertownthicnred         mackjyers21   \n",
       "3        thezirconisdragon  burgertownthicnred         mackjyers21   \n",
       "4                namebrant  burgertownthicnred         mackjyers21   \n",
       "...                    ...                 ...                 ...   \n",
       "1013316  thezirconisdragon           namebrant          alecwilson   \n",
       "1013317          namebrant  burgertownthicnred   thezirconisdragon   \n",
       "1013318         alecwilson           shakylegs         mackjyers21   \n",
       "1013319        mackjyers21     empireyikesback                pacc   \n",
       "1013320          shakylegs   thezirconisdragon  black8yellownation   \n",
       "\n",
       "                         7                   8                   9  \\\n",
       "0                shakylegs          alecwilson  black8yellownation   \n",
       "1                shakylegs          alecwilson  black8yellownation   \n",
       "2                shakylegs  black8yellownation          alecwilson   \n",
       "3                shakylegs          alecwilson  black8yellownation   \n",
       "4                shakylegs          alecwilson  black8yellownation   \n",
       "...                    ...                 ...                 ...   \n",
       "1013316               pacc           shakylegs     tonygordzilla22   \n",
       "1013317        mackjyers21     empireyikesback  black8yellownation   \n",
       "1013318  thezirconisdragon  black8yellownation                pacc   \n",
       "1013319  thezirconisdragon  burgertownthicnred           shakylegs   \n",
       "1013320               pacc  burgertownthicnred           namebrant   \n",
       "\n",
       "                         10                  11               12  Count  \n",
       "0           empireyikesback     tonygordzilla22             pacc  16515  \n",
       "1           empireyikesback                pacc  tonygordzilla22  12837  \n",
       "2           empireyikesback     tonygordzilla22             pacc   8987  \n",
       "3           empireyikesback     tonygordzilla22             pacc   7628  \n",
       "4                      pacc     empireyikesback  tonygordzilla22   7257  \n",
       "...                     ...                 ...              ...    ...  \n",
       "1013316  black8yellownation         mackjyers21  empireyikesback      1  \n",
       "1013317                pacc     tonygordzilla22       alecwilson      1  \n",
       "1013318           namebrant     tonygordzilla22  empireyikesback      1  \n",
       "1013319          alecwilson  black8yellownation  tonygordzilla22      1  \n",
       "1013320          alecwilson     empireyikesback  tonygordzilla22      1  \n",
       "\n",
       "[1013321 rows x 13 columns]"
      ]
     },
     "execution_count": 20,
     "metadata": {},
     "output_type": "execute_result"
    }
   ],
   "source": [
    "playoffs_df"
   ]
  },
  {
   "cell_type": "code",
   "execution_count": 21,
   "metadata": {},
   "outputs": [
    {
     "name": "stderr",
     "output_type": "stream",
     "text": [
      "100%|██████████| 12/12 [05:46<00:00, 28.88s/it]\n"
     ]
    }
   ],
   "source": [
    "# ge_df_prob contains the chance of each team ranking reater than or equal to \n",
    "# the rank achieved\n",
    "ge_df_prob = pd.DataFrame(playoffs_df)\n",
    "\n",
    "def better_equal(username, rank):\n",
    "    return get_prob(username, rank, type = \"better\") + get_prob(username, rank, type = \"equal\")\n",
    "\n",
    "for i in tqdm(range(1,13), total = 12):\n",
    "    ge_df_prob[str(i)] = playoffs_df[str(i)].apply(lambda x: better_equal(x,i))"
   ]
  },
  {
   "cell_type": "code",
   "execution_count": 22,
   "metadata": {},
   "outputs": [
    {
     "data": {
      "text/html": [
       "<div>\n",
       "<style scoped>\n",
       "    .dataframe tbody tr th:only-of-type {\n",
       "        vertical-align: middle;\n",
       "    }\n",
       "\n",
       "    .dataframe tbody tr th {\n",
       "        vertical-align: top;\n",
       "    }\n",
       "\n",
       "    .dataframe thead th {\n",
       "        text-align: right;\n",
       "    }\n",
       "</style>\n",
       "<table border=\"1\" class=\"dataframe\">\n",
       "  <thead>\n",
       "    <tr style=\"text-align: right;\">\n",
       "      <th></th>\n",
       "      <th>Rank</th>\n",
       "      <th>Username</th>\n",
       "      <th>Chance &gt;=</th>\n",
       "      <th>Playoff</th>\n",
       "    </tr>\n",
       "  </thead>\n",
       "  <tbody>\n",
       "    <tr>\n",
       "      <th>0</th>\n",
       "      <td>1</td>\n",
       "      <td>therealfergus</td>\n",
       "      <td>70.51924</td>\n",
       "      <td>99.79</td>\n",
       "    </tr>\n",
       "    <tr>\n",
       "      <th>1</th>\n",
       "      <td>2</td>\n",
       "      <td>herbietime</td>\n",
       "      <td>81.94173</td>\n",
       "      <td>100.00</td>\n",
       "    </tr>\n",
       "    <tr>\n",
       "      <th>2</th>\n",
       "      <td>3</td>\n",
       "      <td>thezirconisdragon</td>\n",
       "      <td>38.24194</td>\n",
       "      <td>87.79</td>\n",
       "    </tr>\n",
       "    <tr>\n",
       "      <th>3</th>\n",
       "      <td>4</td>\n",
       "      <td>namebrant</td>\n",
       "      <td>45.67954</td>\n",
       "      <td>76.36</td>\n",
       "    </tr>\n",
       "    <tr>\n",
       "      <th>4</th>\n",
       "      <td>5</td>\n",
       "      <td>burgertownthicnred</td>\n",
       "      <td>55.65459</td>\n",
       "      <td>72.71</td>\n",
       "    </tr>\n",
       "    <tr>\n",
       "      <th>5</th>\n",
       "      <td>6</td>\n",
       "      <td>mackjyers21</td>\n",
       "      <td>72.58841</td>\n",
       "      <td>72.59</td>\n",
       "    </tr>\n",
       "    <tr>\n",
       "      <th>6</th>\n",
       "      <td>7</td>\n",
       "      <td>shakylegs</td>\n",
       "      <td>66.14846</td>\n",
       "      <td>44.07</td>\n",
       "    </tr>\n",
       "    <tr>\n",
       "      <th>7</th>\n",
       "      <td>8</td>\n",
       "      <td>alecwilson</td>\n",
       "      <td>50.39217</td>\n",
       "      <td>15.04</td>\n",
       "    </tr>\n",
       "    <tr>\n",
       "      <th>8</th>\n",
       "      <td>9</td>\n",
       "      <td>black8yellownation</td>\n",
       "      <td>83.36629</td>\n",
       "      <td>26.28</td>\n",
       "    </tr>\n",
       "    <tr>\n",
       "      <th>9</th>\n",
       "      <td>10</td>\n",
       "      <td>empireyikesback</td>\n",
       "      <td>60.23488</td>\n",
       "      <td>2.59</td>\n",
       "    </tr>\n",
       "    <tr>\n",
       "      <th>10</th>\n",
       "      <td>11</td>\n",
       "      <td>pacc</td>\n",
       "      <td>60.34341</td>\n",
       "      <td>1.34</td>\n",
       "    </tr>\n",
       "    <tr>\n",
       "      <th>11</th>\n",
       "      <td>12</td>\n",
       "      <td>tonygordzilla22</td>\n",
       "      <td>100.00000</td>\n",
       "      <td>1.44</td>\n",
       "    </tr>\n",
       "  </tbody>\n",
       "</table>\n",
       "</div>"
      ],
      "text/plain": [
       "   Rank            Username  Chance >=  Playoff\n",
       "0     1       therealfergus   70.51924    99.79\n",
       "1     2          herbietime   81.94173   100.00\n",
       "2     3   thezirconisdragon   38.24194    87.79\n",
       "3     4           namebrant   45.67954    76.36\n",
       "4     5  burgertownthicnred   55.65459    72.71\n",
       "5     6         mackjyers21   72.58841    72.59\n",
       "6     7           shakylegs   66.14846    44.07\n",
       "7     8          alecwilson   50.39217    15.04\n",
       "8     9  black8yellownation   83.36629    26.28\n",
       "9    10     empireyikesback   60.23488     2.59\n",
       "10   11                pacc   60.34341     1.34\n",
       "11   12     tonygordzilla22  100.00000     1.44"
      ]
     },
     "execution_count": 22,
     "metadata": {},
     "output_type": "execute_result"
    }
   ],
   "source": [
    "# The ranking that occured most often, 16515 times\n",
    "idx_most_likely_ranking = 1\n",
    "\n",
    "most_likely_ranking = pd.concat(\n",
    "    [playoffs_df.iloc[idx_most_likely_ranking,:12].rename(\"Username\"),\n",
    "     ge_df_prob.iloc[idx_most_likely_ranking,:12].rename(\"Chance >=\")],\n",
    "     axis=1).reset_index(names=\"Rank\").merge(\n",
    "         season_probs[[\"username\", \"Playoff\"]], \n",
    "         left_on = \"Username\",\n",
    "         right_on = \"username\"\n",
    "     ).drop(columns=\"username\")\n",
    "\n",
    "most_likely_ranking"
   ]
  },
  {
   "cell_type": "code",
   "execution_count": 56,
   "metadata": {},
   "outputs": [
    {
     "data": {
      "text/html": [
       "<div>\n",
       "<style scoped>\n",
       "    .dataframe tbody tr th:only-of-type {\n",
       "        vertical-align: middle;\n",
       "    }\n",
       "\n",
       "    .dataframe tbody tr th {\n",
       "        vertical-align: top;\n",
       "    }\n",
       "\n",
       "    .dataframe thead th {\n",
       "        text-align: right;\n",
       "    }\n",
       "</style>\n",
       "<table border=\"1\" class=\"dataframe\">\n",
       "  <thead>\n",
       "    <tr style=\"text-align: right;\">\n",
       "      <th></th>\n",
       "      <th>Rank</th>\n",
       "      <th>Username</th>\n",
       "      <th>Chance &gt;=</th>\n",
       "      <th>Playoff</th>\n",
       "    </tr>\n",
       "  </thead>\n",
       "  <tbody>\n",
       "    <tr>\n",
       "      <th>0</th>\n",
       "      <td>1</td>\n",
       "      <td>burgertownthicnred</td>\n",
       "      <td>1.32582</td>\n",
       "      <td>72.706</td>\n",
       "    </tr>\n",
       "    <tr>\n",
       "      <th>1</th>\n",
       "      <td>2</td>\n",
       "      <td>shakylegs</td>\n",
       "      <td>1.30530</td>\n",
       "      <td>44.073</td>\n",
       "    </tr>\n",
       "    <tr>\n",
       "      <th>2</th>\n",
       "      <td>3</td>\n",
       "      <td>pacc</td>\n",
       "      <td>0.03931</td>\n",
       "      <td>1.339</td>\n",
       "    </tr>\n",
       "    <tr>\n",
       "      <th>3</th>\n",
       "      <td>4</td>\n",
       "      <td>therealfergus</td>\n",
       "      <td>98.41015</td>\n",
       "      <td>99.792</td>\n",
       "    </tr>\n",
       "    <tr>\n",
       "      <th>4</th>\n",
       "      <td>5</td>\n",
       "      <td>herbietime</td>\n",
       "      <td>99.95596</td>\n",
       "      <td>99.999</td>\n",
       "    </tr>\n",
       "    <tr>\n",
       "      <th>5</th>\n",
       "      <td>6</td>\n",
       "      <td>thezirconisdragon</td>\n",
       "      <td>87.78824</td>\n",
       "      <td>87.788</td>\n",
       "    </tr>\n",
       "    <tr>\n",
       "      <th>6</th>\n",
       "      <td>7</td>\n",
       "      <td>mackjyers21</td>\n",
       "      <td>86.02709</td>\n",
       "      <td>72.588</td>\n",
       "    </tr>\n",
       "    <tr>\n",
       "      <th>7</th>\n",
       "      <td>8</td>\n",
       "      <td>alecwilson</td>\n",
       "      <td>50.39217</td>\n",
       "      <td>15.041</td>\n",
       "    </tr>\n",
       "    <tr>\n",
       "      <th>8</th>\n",
       "      <td>9</td>\n",
       "      <td>black8yellownation</td>\n",
       "      <td>83.36629</td>\n",
       "      <td>26.282</td>\n",
       "    </tr>\n",
       "    <tr>\n",
       "      <th>9</th>\n",
       "      <td>10</td>\n",
       "      <td>namebrant</td>\n",
       "      <td>98.89928</td>\n",
       "      <td>76.359</td>\n",
       "    </tr>\n",
       "    <tr>\n",
       "      <th>10</th>\n",
       "      <td>11</td>\n",
       "      <td>empireyikesback</td>\n",
       "      <td>84.79018</td>\n",
       "      <td>2.594</td>\n",
       "    </tr>\n",
       "    <tr>\n",
       "      <th>11</th>\n",
       "      <td>12</td>\n",
       "      <td>tonygordzilla22</td>\n",
       "      <td>100.00000</td>\n",
       "      <td>1.440</td>\n",
       "    </tr>\n",
       "  </tbody>\n",
       "</table>\n",
       "</div>"
      ],
      "text/plain": [
       "   Rank            Username  Chance >=  Playoff\n",
       "0     1  burgertownthicnred    1.32582   72.706\n",
       "1     2           shakylegs    1.30530   44.073\n",
       "2     3                pacc    0.03931    1.339\n",
       "3     4       therealfergus   98.41015   99.792\n",
       "4     5          herbietime   99.95596   99.999\n",
       "5     6   thezirconisdragon   87.78824   87.788\n",
       "6     7         mackjyers21   86.02709   72.588\n",
       "7     8          alecwilson   50.39217   15.041\n",
       "8     9  black8yellownation   83.36629   26.282\n",
       "9    10           namebrant   98.89928   76.359\n",
       "10   11     empireyikesback   84.79018    2.594\n",
       "11   12     tonygordzilla22  100.00000    1.440"
      ]
     },
     "execution_count": 56,
     "metadata": {},
     "output_type": "execute_result"
    }
   ],
   "source": [
    "# The ranking with the smallest combined chance of greater than or equal to in\n",
    "# the first three rankings\n",
    "idx_unlikely = ge_df_prob.iloc[:,:3].sum(axis = 1).idxmin()\n",
    "unlikely_top_3 = (pd.concat(\n",
    "    [playoffs_df.iloc[idx_unlikely,:12].rename(\"Username\"),\n",
    "     ge_df_prob.iloc[idx_unlikely,:12].rename(\"Chance >=\")],\n",
    "     axis = 1)).reset_index(names=\"Rank\").merge(\n",
    "         season_probs[[\"username\", \"Playoff\"]], \n",
    "         left_on = \"Username\",\n",
    "         right_on = \"username\"\n",
    "     ).drop(columns=\"username\")\n",
    "unlikely_top_3"
   ]
  },
  {
   "cell_type": "code",
   "execution_count": 24,
   "metadata": {},
   "outputs": [
    {
     "name": "stderr",
     "output_type": "stream",
     "text": [
      "100%|██████████| 12/12 [04:35<00:00, 22.92s/it]\n"
     ]
    }
   ],
   "source": [
    "# playoff_df_prob contains the chance of each team making the playoffs\n",
    "playoff_df_prob = pd.DataFrame(playoffs_df)\n",
    "\n",
    "def better_equal(username, rank):\n",
    "    return get_prob(username, rank, type = \"playoff\")\n",
    "\n",
    "for i in tqdm(range(1,13), total = 12):\n",
    "    playoff_df_prob[str(i)] = playoffs_df[str(i)].apply(lambda x: better_equal(x,i))"
   ]
  },
  {
   "cell_type": "code",
   "execution_count": 38,
   "metadata": {},
   "outputs": [
    {
     "data": {
      "text/html": [
       "<div>\n",
       "<style scoped>\n",
       "    .dataframe tbody tr th:only-of-type {\n",
       "        vertical-align: middle;\n",
       "    }\n",
       "\n",
       "    .dataframe tbody tr th {\n",
       "        vertical-align: top;\n",
       "    }\n",
       "\n",
       "    .dataframe thead th {\n",
       "        text-align: right;\n",
       "    }\n",
       "</style>\n",
       "<table border=\"1\" class=\"dataframe\">\n",
       "  <thead>\n",
       "    <tr style=\"text-align: right;\">\n",
       "      <th></th>\n",
       "      <th>Rank</th>\n",
       "      <th>Username</th>\n",
       "      <th>Chance &gt;=</th>\n",
       "      <th>Playoff</th>\n",
       "    </tr>\n",
       "  </thead>\n",
       "  <tbody>\n",
       "    <tr>\n",
       "      <th>0</th>\n",
       "      <td>1</td>\n",
       "      <td>herbietime</td>\n",
       "      <td>23.24007</td>\n",
       "      <td>99.999</td>\n",
       "    </tr>\n",
       "    <tr>\n",
       "      <th>1</th>\n",
       "      <td>2</td>\n",
       "      <td>therealfergus</td>\n",
       "      <td>89.70727</td>\n",
       "      <td>99.792</td>\n",
       "    </tr>\n",
       "    <tr>\n",
       "      <th>2</th>\n",
       "      <td>3</td>\n",
       "      <td>black8yellownation</td>\n",
       "      <td>3.29765</td>\n",
       "      <td>26.282</td>\n",
       "    </tr>\n",
       "    <tr>\n",
       "      <th>3</th>\n",
       "      <td>4</td>\n",
       "      <td>empireyikesback</td>\n",
       "      <td>0.33878</td>\n",
       "      <td>2.594</td>\n",
       "    </tr>\n",
       "    <tr>\n",
       "      <th>4</th>\n",
       "      <td>5</td>\n",
       "      <td>tonygordzilla22</td>\n",
       "      <td>0.65134</td>\n",
       "      <td>1.440</td>\n",
       "    </tr>\n",
       "    <tr>\n",
       "      <th>5</th>\n",
       "      <td>6</td>\n",
       "      <td>pacc</td>\n",
       "      <td>1.33853</td>\n",
       "      <td>1.339</td>\n",
       "    </tr>\n",
       "    <tr>\n",
       "      <th>6</th>\n",
       "      <td>7</td>\n",
       "      <td>namebrant</td>\n",
       "      <td>86.26799</td>\n",
       "      <td>76.359</td>\n",
       "    </tr>\n",
       "    <tr>\n",
       "      <th>7</th>\n",
       "      <td>8</td>\n",
       "      <td>alecwilson</td>\n",
       "      <td>50.39217</td>\n",
       "      <td>15.041</td>\n",
       "    </tr>\n",
       "    <tr>\n",
       "      <th>8</th>\n",
       "      <td>9</td>\n",
       "      <td>thezirconisdragon</td>\n",
       "      <td>99.38385</td>\n",
       "      <td>87.788</td>\n",
       "    </tr>\n",
       "    <tr>\n",
       "      <th>9</th>\n",
       "      <td>10</td>\n",
       "      <td>burgertownthicnred</td>\n",
       "      <td>99.55255</td>\n",
       "      <td>72.706</td>\n",
       "    </tr>\n",
       "    <tr>\n",
       "      <th>10</th>\n",
       "      <td>11</td>\n",
       "      <td>mackjyers21</td>\n",
       "      <td>99.91870</td>\n",
       "      <td>72.588</td>\n",
       "    </tr>\n",
       "    <tr>\n",
       "      <th>11</th>\n",
       "      <td>12</td>\n",
       "      <td>shakylegs</td>\n",
       "      <td>100.00000</td>\n",
       "      <td>44.073</td>\n",
       "    </tr>\n",
       "  </tbody>\n",
       "</table>\n",
       "</div>"
      ],
      "text/plain": [
       "   Rank            Username  Chance >=  Playoff\n",
       "0     1          herbietime   23.24007   99.999\n",
       "1     2       therealfergus   89.70727   99.792\n",
       "2     3  black8yellownation    3.29765   26.282\n",
       "3     4     empireyikesback    0.33878    2.594\n",
       "4     5     tonygordzilla22    0.65134    1.440\n",
       "5     6                pacc    1.33853    1.339\n",
       "6     7           namebrant   86.26799   76.359\n",
       "7     8          alecwilson   50.39217   15.041\n",
       "8     9   thezirconisdragon   99.38385   87.788\n",
       "9    10  burgertownthicnred   99.55255   72.706\n",
       "10   11         mackjyers21   99.91870   72.588\n",
       "11   12           shakylegs  100.00000   44.073"
      ]
     },
     "execution_count": 38,
     "metadata": {},
     "output_type": "execute_result"
    }
   ],
   "source": [
    "# The ranking with the lowest combined playoff percentage\n",
    "idx_unlikely_playoff = playoff_df_prob.iloc[:, :6].product(axis=1).idxmin()\n",
    "unlikely_playoff_seed2 = (pd.concat(\n",
    "    [playoffs_df.iloc[idx_unlikely_playoff,:12].rename(\"Username\"),\n",
    "     ge_df_prob.iloc[idx_unlikely_playoff,:12].rename(\"Chance >=\")],\n",
    "     axis = 1)).reset_index(names=\"Rank\").merge(\n",
    "         season_probs[[\"username\", \"Playoff\"]], \n",
    "         left_on = \"Username\",\n",
    "         right_on = \"username\"\n",
    "     ).drop(columns=\"username\")\n",
    "unlikely_playoff_seed2"
   ]
  },
  {
   "cell_type": "code",
   "execution_count": 26,
   "metadata": {},
   "outputs": [
    {
     "data": {
      "text/plain": [
       "9.978617531734884e+24"
      ]
     },
     "execution_count": 26,
     "metadata": {},
     "output_type": "execute_result"
    }
   ],
   "source": [
    "# This cell estimates the total number possible season schedules.\n",
    "\n",
    "def generate_schedule_nums():\n",
    "    \"\"\"This funciton is a modified verstion of the generate schedule function \n",
    "    used in the multiprocessing function file. It aims to estimate the total \n",
    "    number of possible schedules. \n",
    "    \n",
    "    Generates a 14 week season schedule for an 12 team leage. Each team plays\n",
    "    all other teams once in the first 11 weeks. The first 3 weeks are repeated\n",
    "    for the last 3 weeks.\n",
    "\n",
    "    Returns:\n",
    "        list: A list of the number of schedules to choose from at each week\n",
    "    each week.\n",
    "    \"\"\"\n",
    "    weeks = set(all_weeks)\n",
    "    schedule = []\n",
    "    num_options = []\n",
    "\n",
    "    # Recursively fills the weekly schedule at random\n",
    "    def pick_week(weeks):\n",
    "        if len(schedule) == 11:\n",
    "            return\n",
    "        else:\n",
    "            tuple_weeks = tuple(weeks)\n",
    "            num_options.append(len(tuple_weeks))\n",
    "            choice = random.choice(tuple_weeks)\n",
    "            schedule.append(choice)\n",
    "            weeks -= similar_weeks[choice]\n",
    "            pick_week(weeks)\n",
    "    \n",
    "    # The above method has about a 70% success rate to pick a valid yearly \n",
    "    # schedule. This while loop will continue until a valid schedule is picked.\n",
    "    while len(schedule) != 11:\n",
    "        try:\n",
    "            pick_week(weeks)\n",
    "        except IndexError:\n",
    "            weeks = set(all_weeks)\n",
    "            schedule = []\n",
    "            num_options = []\n",
    "\n",
    "    # Adds the first three weeks of the schedule to the end to finish the 14\n",
    "    # week season\n",
    "    schedule += schedule[:3]\n",
    "\n",
    "    total = 1\n",
    "    for i in num_options:\n",
    "        total *= i\n",
    "\n",
    "    return(total)\n",
    "\n",
    "np.array([generate_schedule_nums() for i in range(1000)]).mean() * .7"
   ]
  },
  {
   "cell_type": "code",
   "execution_count": 57,
   "metadata": {},
   "outputs": [
    {
     "name": "stdout",
     "output_type": "stream",
     "text": [
      "<table border=\"1\" class=\"dataframe\">\n",
      "  <thead>\n",
      "    <tr style=\"text-align: right;\">\n",
      "      <th>Rank</th>\n",
      "      <th>Username</th>\n",
      "      <th>Points For</th>\n",
      "      <th>Points Against</th>\n",
      "      <th>Record</th>\n",
      "    </tr>\n",
      "  </thead>\n",
      "  <tbody>\n",
      "    <tr>\n",
      "      <td>1</td>\n",
      "      <td>burgertownthicnred</td>\n",
      "      <td>1856.59</td>\n",
      "      <td>1599.04</td>\n",
      "      <td>13-1</td>\n",
      "    </tr>\n",
      "    <tr>\n",
      "      <td>2</td>\n",
      "      <td>therealfergus</td>\n",
      "      <td>2176.38</td>\n",
      "      <td>1684.36</td>\n",
      "      <td>10-4</td>\n",
      "    </tr>\n",
      "    <tr>\n",
      "      <td>3</td>\n",
      "      <td>herbietime</td>\n",
      "      <td>2166.89</td>\n",
      "      <td>1878.32</td>\n",
      "      <td>9-5</td>\n",
      "    </tr>\n",
      "    <tr>\n",
      "      <td>4</td>\n",
      "      <td>thezirconisdragon</td>\n",
      "      <td>1925.02</td>\n",
      "      <td>1731.69</td>\n",
      "      <td>8-6</td>\n",
      "    </tr>\n",
      "    <tr>\n",
      "      <td>5</td>\n",
      "      <td>mackjyers21</td>\n",
      "      <td>1838.20</td>\n",
      "      <td>1870.89</td>\n",
      "      <td>8-6</td>\n",
      "    </tr>\n",
      "    <tr>\n",
      "      <td>6</td>\n",
      "      <td>namebrant</td>\n",
      "      <td>1875.33</td>\n",
      "      <td>1852.99</td>\n",
      "      <td>7-7</td>\n",
      "    </tr>\n",
      "    <tr>\n",
      "      <td>7</td>\n",
      "      <td>empireyikesback</td>\n",
      "      <td>1603.80</td>\n",
      "      <td>1675.91</td>\n",
      "      <td>7-7</td>\n",
      "    </tr>\n",
      "    <tr>\n",
      "      <td>8</td>\n",
      "      <td>shakylegs</td>\n",
      "      <td>1820.44</td>\n",
      "      <td>1773.26</td>\n",
      "      <td>6-8</td>\n",
      "    </tr>\n",
      "    <tr>\n",
      "      <td>9</td>\n",
      "      <td>alecwilson</td>\n",
      "      <td>1711.02</td>\n",
      "      <td>1953.16</td>\n",
      "      <td>5-9</td>\n",
      "    </tr>\n",
      "    <tr>\n",
      "      <td>10</td>\n",
      "      <td>black8yellownation</td>\n",
      "      <td>1697.22</td>\n",
      "      <td>1872.82</td>\n",
      "      <td>4-10</td>\n",
      "    </tr>\n",
      "    <tr>\n",
      "      <td>11</td>\n",
      "      <td>tonygordzilla22</td>\n",
      "      <td>1575.23</td>\n",
      "      <td>1865.20</td>\n",
      "      <td>4-10</td>\n",
      "    </tr>\n",
      "    <tr>\n",
      "      <td>12</td>\n",
      "      <td>pacc</td>\n",
      "      <td>1546.14</td>\n",
      "      <td>2034.62</td>\n",
      "      <td>3-11</td>\n",
      "    </tr>\n",
      "  </tbody>\n",
      "</table>\n"
     ]
    }
   ],
   "source": [
    "# Prints the season outcomes in html\n",
    "outcome_2022 = owners_raw[[\"username\",\n",
    "                           \"fpts\",\n",
    "                           \"fpts_decimal\", \n",
    "                           \"fpts_against\", \n",
    "                           \"fpts_against_decimal\", \n",
    "                           \"wins\", \n",
    "                           \"losses\"]]\n",
    "\n",
    "def format_dec(x):\n",
    "    out = str((x/100))[1:]\n",
    "    if len(out) == 2:\n",
    "        out = out + \"0\"\n",
    "    return out\n",
    "\n",
    "outcome_2022 = (\n",
    "    outcome_2022\n",
    "    .assign(points_for = outcome_2022[\"fpts\"].astype(str) \n",
    "            + (outcome_2022[\"fpts_decimal\"].apply(format_dec)))\n",
    "    .assign(points_against = outcome_2022[\"fpts_against\"].astype(str) \n",
    "            + (outcome_2022[\"fpts_against_decimal\"].apply(format_dec)))\n",
    "    .assign(record = outcome_2022[\"wins\"].astype(str) + \"-\" \n",
    "            + outcome_2022[\"losses\"].astype(str))\n",
    "            )\n",
    "outcome_2022 = pd.DataFrame(season_ranks).merge(\n",
    "        outcome_2022,\n",
    "        left_index=True, \n",
    "        right_on='username')\n",
    "\n",
    "\n",
    "outcome_2022 = (outcome_2022\n",
    "                .set_index(\"rank\")\n",
    "                .drop(columns=[\"fpts\", \"fpts_decimal\", \"fpts_against\", \n",
    "                               \"fpts_against_decimal\", \"wins\", \"losses\"])\n",
    "                .reset_index()\n",
    "                .rename(columns={\"rank\":\"Rank\",\n",
    "                                 \"username\": \"Username\",\n",
    "                                 \"points_for\":\"Points For\",\n",
    "                                 \"points_against\":\"Points Against\",\n",
    "                                 \"record\":\"Record\"})\n",
    ")\n",
    "print(outcome_2022.to_html(index=False))"
   ]
  },
  {
   "cell_type": "code",
   "execution_count": 28,
   "metadata": {},
   "outputs": [
    {
     "name": "stdout",
     "output_type": "stream",
     "text": [
      "<table border=\"1\" class=\"dataframe\">\n",
      "  <thead>\n",
      "    <tr style=\"text-align: right;\">\n",
      "      <th></th>\n",
      "      <th>1</th>\n",
      "      <th>2</th>\n",
      "      <th>3</th>\n",
      "      <th>4</th>\n",
      "      <th>5</th>\n",
      "      <th>6</th>\n",
      "      <th>7</th>\n",
      "      <th>8</th>\n",
      "      <th>9</th>\n",
      "      <th>10</th>\n",
      "      <th>11</th>\n",
      "      <th>12</th>\n",
      "    </tr>\n",
      "  </thead>\n",
      "  <tbody>\n",
      "    <tr>\n",
      "      <th>therealfergus</th>\n",
      "      <td>7051924</td>\n",
      "      <td>1918803</td>\n",
      "      <td>626791</td>\n",
      "      <td>243497</td>\n",
      "      <td>98729</td>\n",
      "      <td>39456</td>\n",
      "      <td>14863</td>\n",
      "      <td>4442</td>\n",
      "      <td>1246</td>\n",
      "      <td>217</td>\n",
      "      <td>31</td>\n",
      "      <td>1</td>\n",
      "    </tr>\n",
      "    <tr>\n",
      "      <th>herbietime</th>\n",
      "      <td>2324007</td>\n",
      "      <td>5870166</td>\n",
      "      <td>1466564</td>\n",
      "      <td>291928</td>\n",
      "      <td>42931</td>\n",
      "      <td>4270</td>\n",
      "      <td>134</td>\n",
      "      <td>0</td>\n",
      "      <td>0</td>\n",
      "      <td>0</td>\n",
      "      <td>0</td>\n",
      "      <td>0</td>\n",
      "    </tr>\n",
      "    <tr>\n",
      "      <th>namebrant</th>\n",
      "      <td>182179</td>\n",
      "      <td>549583</td>\n",
      "      <td>1763731</td>\n",
      "      <td>2072461</td>\n",
      "      <td>1714522</td>\n",
      "      <td>1353389</td>\n",
      "      <td>990934</td>\n",
      "      <td>671285</td>\n",
      "      <td>390579</td>\n",
      "      <td>201265</td>\n",
      "      <td>85076</td>\n",
      "      <td>24996</td>\n",
      "    </tr>\n",
      "    <tr>\n",
      "      <th>thezirconisdragon</th>\n",
      "      <td>172367</td>\n",
      "      <td>705490</td>\n",
      "      <td>2946337</td>\n",
      "      <td>2284685</td>\n",
      "      <td>1591888</td>\n",
      "      <td>1078057</td>\n",
      "      <td>650100</td>\n",
      "      <td>362141</td>\n",
      "      <td>147320</td>\n",
      "      <td>49836</td>\n",
      "      <td>10448</td>\n",
      "      <td>1331</td>\n",
      "    </tr>\n",
      "    <tr>\n",
      "      <th>burgertownthicnred</th>\n",
      "      <td>132582</td>\n",
      "      <td>401293</td>\n",
      "      <td>1322104</td>\n",
      "      <td>1796774</td>\n",
      "      <td>1912706</td>\n",
      "      <td>1705152</td>\n",
      "      <td>1277458</td>\n",
      "      <td>830484</td>\n",
      "      <td>419592</td>\n",
      "      <td>157110</td>\n",
      "      <td>39417</td>\n",
      "      <td>5328</td>\n",
      "    </tr>\n",
      "    <tr>\n",
      "      <th>mackjyers21</th>\n",
      "      <td>95071</td>\n",
      "      <td>365016</td>\n",
      "      <td>1130730</td>\n",
      "      <td>1751132</td>\n",
      "      <td>2025363</td>\n",
      "      <td>1891529</td>\n",
      "      <td>1343868</td>\n",
      "      <td>804767</td>\n",
      "      <td>388339</td>\n",
      "      <td>152176</td>\n",
      "      <td>43879</td>\n",
      "      <td>8130</td>\n",
      "    </tr>\n",
      "    <tr>\n",
      "      <th>shakylegs</th>\n",
      "      <td>24313</td>\n",
      "      <td>106217</td>\n",
      "      <td>386736</td>\n",
      "      <td>801559</td>\n",
      "      <td>1289289</td>\n",
      "      <td>1799152</td>\n",
      "      <td>2207580</td>\n",
      "      <td>1670266</td>\n",
      "      <td>983890</td>\n",
      "      <td>479109</td>\n",
      "      <td>195368</td>\n",
      "      <td>56521</td>\n",
      "    </tr>\n",
      "    <tr>\n",
      "      <th>black8yellownation</th>\n",
      "      <td>14324</td>\n",
      "      <td>64955</td>\n",
      "      <td>250486</td>\n",
      "      <td>481362</td>\n",
      "      <td>755281</td>\n",
      "      <td>1061767</td>\n",
      "      <td>1504236</td>\n",
      "      <td>2038612</td>\n",
      "      <td>2165606</td>\n",
      "      <td>1097009</td>\n",
      "      <td>442847</td>\n",
      "      <td>123515</td>\n",
      "    </tr>\n",
      "    <tr>\n",
      "      <th>alecwilson</th>\n",
      "      <td>3060</td>\n",
      "      <td>16875</td>\n",
      "      <td>89890</td>\n",
      "      <td>217731</td>\n",
      "      <td>424854</td>\n",
      "      <td>751722</td>\n",
      "      <td>1320777</td>\n",
      "      <td>2214308</td>\n",
      "      <td>2477538</td>\n",
      "      <td>1489315</td>\n",
      "      <td>729290</td>\n",
      "      <td>264640</td>\n",
      "    </tr>\n",
      "    <tr>\n",
      "      <th>tonygordzilla22</th>\n",
      "      <td>134</td>\n",
      "      <td>891</td>\n",
      "      <td>6361</td>\n",
      "      <td>18135</td>\n",
      "      <td>39613</td>\n",
      "      <td>78827</td>\n",
      "      <td>163152</td>\n",
      "      <td>324104</td>\n",
      "      <td>705850</td>\n",
      "      <td>1572148</td>\n",
      "      <td>3061888</td>\n",
      "      <td>4028897</td>\n",
      "    </tr>\n",
      "    <tr>\n",
      "      <th>pacc</th>\n",
      "      <td>22</td>\n",
      "      <td>283</td>\n",
      "      <td>3626</td>\n",
      "      <td>13947</td>\n",
      "      <td>35539</td>\n",
      "      <td>80436</td>\n",
      "      <td>178717</td>\n",
      "      <td>365826</td>\n",
      "      <td>796348</td>\n",
      "      <td>1623371</td>\n",
      "      <td>2936226</td>\n",
      "      <td>3965659</td>\n",
      "    </tr>\n",
      "    <tr>\n",
      "      <th>empireyikesback</th>\n",
      "      <td>17</td>\n",
      "      <td>428</td>\n",
      "      <td>6644</td>\n",
      "      <td>26789</td>\n",
      "      <td>69285</td>\n",
      "      <td>156243</td>\n",
      "      <td>348181</td>\n",
      "      <td>713765</td>\n",
      "      <td>1523692</td>\n",
      "      <td>3178444</td>\n",
      "      <td>2455530</td>\n",
      "      <td>1520982</td>\n",
      "    </tr>\n",
      "  </tbody>\n",
      "</table>\n"
     ]
    }
   ],
   "source": [
    "# Prints the records count in html\n",
    "records_df_count.index.name=None\n",
    "print(records_df_count.astype(str).to_html())"
   ]
  },
  {
   "cell_type": "code",
   "execution_count": 29,
   "metadata": {},
   "outputs": [
    {
     "name": "stdout",
     "output_type": "stream",
     "text": [
      "<style type=\"text/css\">\n",
      "#T_5993b_row0_col1, #T_5993b_row1_col2, #T_5993b_row2_col5, #T_5993b_row3_col3, #T_5993b_row4_col0, #T_5993b_row5_col4, #T_5993b_row6_col7, #T_5993b_row7_col9, #T_5993b_row8_col8, #T_5993b_row9_col10, #T_5993b_row10_col11, #T_5993b_row11_col6 {\n",
      "  color: red;\n",
      "}\n",
      "</style>\n",
      "<table id=\"T_5993b\">\n",
      "  <thead>\n",
      "    <tr>\n",
      "      <th class=\"blank level0\" >&nbsp;</th>\n",
      "      <th id=\"T_5993b_level0_col0\" class=\"col_heading level0 col0\" >1</th>\n",
      "      <th id=\"T_5993b_level0_col1\" class=\"col_heading level0 col1\" >2</th>\n",
      "      <th id=\"T_5993b_level0_col2\" class=\"col_heading level0 col2\" >3</th>\n",
      "      <th id=\"T_5993b_level0_col3\" class=\"col_heading level0 col3\" >4</th>\n",
      "      <th id=\"T_5993b_level0_col4\" class=\"col_heading level0 col4\" >5</th>\n",
      "      <th id=\"T_5993b_level0_col5\" class=\"col_heading level0 col5\" >6</th>\n",
      "      <th id=\"T_5993b_level0_col6\" class=\"col_heading level0 col6\" >7</th>\n",
      "      <th id=\"T_5993b_level0_col7\" class=\"col_heading level0 col7\" >8</th>\n",
      "      <th id=\"T_5993b_level0_col8\" class=\"col_heading level0 col8\" >9</th>\n",
      "      <th id=\"T_5993b_level0_col9\" class=\"col_heading level0 col9\" >10</th>\n",
      "      <th id=\"T_5993b_level0_col10\" class=\"col_heading level0 col10\" >11</th>\n",
      "      <th id=\"T_5993b_level0_col11\" class=\"col_heading level0 col11\" >12</th>\n",
      "    </tr>\n",
      "  </thead>\n",
      "  <tbody>\n",
      "    <tr>\n",
      "      <th id=\"T_5993b_level0_row0\" class=\"row_heading level0 row0\" >therealfergus</th>\n",
      "      <td id=\"T_5993b_row0_col0\" class=\"data row0 col0\" >70.51924</td>\n",
      "      <td id=\"T_5993b_row0_col1\" class=\"data row0 col1\" >19.18803</td>\n",
      "      <td id=\"T_5993b_row0_col2\" class=\"data row0 col2\" >6.26791</td>\n",
      "      <td id=\"T_5993b_row0_col3\" class=\"data row0 col3\" >2.43497</td>\n",
      "      <td id=\"T_5993b_row0_col4\" class=\"data row0 col4\" >0.98729</td>\n",
      "      <td id=\"T_5993b_row0_col5\" class=\"data row0 col5\" >0.39456</td>\n",
      "      <td id=\"T_5993b_row0_col6\" class=\"data row0 col6\" >0.14863</td>\n",
      "      <td id=\"T_5993b_row0_col7\" class=\"data row0 col7\" >0.04442</td>\n",
      "      <td id=\"T_5993b_row0_col8\" class=\"data row0 col8\" >0.01246</td>\n",
      "      <td id=\"T_5993b_row0_col9\" class=\"data row0 col9\" >0.00217</td>\n",
      "      <td id=\"T_5993b_row0_col10\" class=\"data row0 col10\" >0.00031</td>\n",
      "      <td id=\"T_5993b_row0_col11\" class=\"data row0 col11\" >1e-05</td>\n",
      "    </tr>\n",
      "    <tr>\n",
      "      <th id=\"T_5993b_level0_row1\" class=\"row_heading level0 row1\" >herbietime</th>\n",
      "      <td id=\"T_5993b_row1_col0\" class=\"data row1 col0\" >23.24007</td>\n",
      "      <td id=\"T_5993b_row1_col1\" class=\"data row1 col1\" >58.70166</td>\n",
      "      <td id=\"T_5993b_row1_col2\" class=\"data row1 col2\" >14.66564</td>\n",
      "      <td id=\"T_5993b_row1_col3\" class=\"data row1 col3\" >2.91928</td>\n",
      "      <td id=\"T_5993b_row1_col4\" class=\"data row1 col4\" >0.42931</td>\n",
      "      <td id=\"T_5993b_row1_col5\" class=\"data row1 col5\" >0.0427</td>\n",
      "      <td id=\"T_5993b_row1_col6\" class=\"data row1 col6\" >0.00134</td>\n",
      "      <td id=\"T_5993b_row1_col7\" class=\"data row1 col7\" >0.0</td>\n",
      "      <td id=\"T_5993b_row1_col8\" class=\"data row1 col8\" >0.0</td>\n",
      "      <td id=\"T_5993b_row1_col9\" class=\"data row1 col9\" >0.0</td>\n",
      "      <td id=\"T_5993b_row1_col10\" class=\"data row1 col10\" >0.0</td>\n",
      "      <td id=\"T_5993b_row1_col11\" class=\"data row1 col11\" >0.0</td>\n",
      "    </tr>\n",
      "    <tr>\n",
      "      <th id=\"T_5993b_level0_row2\" class=\"row_heading level0 row2\" >namebrant</th>\n",
      "      <td id=\"T_5993b_row2_col0\" class=\"data row2 col0\" >1.82179</td>\n",
      "      <td id=\"T_5993b_row2_col1\" class=\"data row2 col1\" >5.49583</td>\n",
      "      <td id=\"T_5993b_row2_col2\" class=\"data row2 col2\" >17.63731</td>\n",
      "      <td id=\"T_5993b_row2_col3\" class=\"data row2 col3\" >20.72461</td>\n",
      "      <td id=\"T_5993b_row2_col4\" class=\"data row2 col4\" >17.14522</td>\n",
      "      <td id=\"T_5993b_row2_col5\" class=\"data row2 col5\" >13.53389</td>\n",
      "      <td id=\"T_5993b_row2_col6\" class=\"data row2 col6\" >9.90934</td>\n",
      "      <td id=\"T_5993b_row2_col7\" class=\"data row2 col7\" >6.71285</td>\n",
      "      <td id=\"T_5993b_row2_col8\" class=\"data row2 col8\" >3.90579</td>\n",
      "      <td id=\"T_5993b_row2_col9\" class=\"data row2 col9\" >2.01265</td>\n",
      "      <td id=\"T_5993b_row2_col10\" class=\"data row2 col10\" >0.85076</td>\n",
      "      <td id=\"T_5993b_row2_col11\" class=\"data row2 col11\" >0.24996</td>\n",
      "    </tr>\n",
      "    <tr>\n",
      "      <th id=\"T_5993b_level0_row3\" class=\"row_heading level0 row3\" >thezirconisdragon</th>\n",
      "      <td id=\"T_5993b_row3_col0\" class=\"data row3 col0\" >1.72367</td>\n",
      "      <td id=\"T_5993b_row3_col1\" class=\"data row3 col1\" >7.0549</td>\n",
      "      <td id=\"T_5993b_row3_col2\" class=\"data row3 col2\" >29.46337</td>\n",
      "      <td id=\"T_5993b_row3_col3\" class=\"data row3 col3\" >22.84685</td>\n",
      "      <td id=\"T_5993b_row3_col4\" class=\"data row3 col4\" >15.91888</td>\n",
      "      <td id=\"T_5993b_row3_col5\" class=\"data row3 col5\" >10.78057</td>\n",
      "      <td id=\"T_5993b_row3_col6\" class=\"data row3 col6\" >6.501</td>\n",
      "      <td id=\"T_5993b_row3_col7\" class=\"data row3 col7\" >3.62141</td>\n",
      "      <td id=\"T_5993b_row3_col8\" class=\"data row3 col8\" >1.4732</td>\n",
      "      <td id=\"T_5993b_row3_col9\" class=\"data row3 col9\" >0.49836</td>\n",
      "      <td id=\"T_5993b_row3_col10\" class=\"data row3 col10\" >0.10448</td>\n",
      "      <td id=\"T_5993b_row3_col11\" class=\"data row3 col11\" >0.01331</td>\n",
      "    </tr>\n",
      "    <tr>\n",
      "      <th id=\"T_5993b_level0_row4\" class=\"row_heading level0 row4\" >burgertownthicnred</th>\n",
      "      <td id=\"T_5993b_row4_col0\" class=\"data row4 col0\" >1.32582</td>\n",
      "      <td id=\"T_5993b_row4_col1\" class=\"data row4 col1\" >4.01293</td>\n",
      "      <td id=\"T_5993b_row4_col2\" class=\"data row4 col2\" >13.22104</td>\n",
      "      <td id=\"T_5993b_row4_col3\" class=\"data row4 col3\" >17.96774</td>\n",
      "      <td id=\"T_5993b_row4_col4\" class=\"data row4 col4\" >19.12706</td>\n",
      "      <td id=\"T_5993b_row4_col5\" class=\"data row4 col5\" >17.05152</td>\n",
      "      <td id=\"T_5993b_row4_col6\" class=\"data row4 col6\" >12.77458</td>\n",
      "      <td id=\"T_5993b_row4_col7\" class=\"data row4 col7\" >8.30484</td>\n",
      "      <td id=\"T_5993b_row4_col8\" class=\"data row4 col8\" >4.19592</td>\n",
      "      <td id=\"T_5993b_row4_col9\" class=\"data row4 col9\" >1.5711</td>\n",
      "      <td id=\"T_5993b_row4_col10\" class=\"data row4 col10\" >0.39417</td>\n",
      "      <td id=\"T_5993b_row4_col11\" class=\"data row4 col11\" >0.05328</td>\n",
      "    </tr>\n",
      "    <tr>\n",
      "      <th id=\"T_5993b_level0_row5\" class=\"row_heading level0 row5\" >mackjyers21</th>\n",
      "      <td id=\"T_5993b_row5_col0\" class=\"data row5 col0\" >0.95071</td>\n",
      "      <td id=\"T_5993b_row5_col1\" class=\"data row5 col1\" >3.65016</td>\n",
      "      <td id=\"T_5993b_row5_col2\" class=\"data row5 col2\" >11.3073</td>\n",
      "      <td id=\"T_5993b_row5_col3\" class=\"data row5 col3\" >17.51132</td>\n",
      "      <td id=\"T_5993b_row5_col4\" class=\"data row5 col4\" >20.25363</td>\n",
      "      <td id=\"T_5993b_row5_col5\" class=\"data row5 col5\" >18.91529</td>\n",
      "      <td id=\"T_5993b_row5_col6\" class=\"data row5 col6\" >13.43868</td>\n",
      "      <td id=\"T_5993b_row5_col7\" class=\"data row5 col7\" >8.04767</td>\n",
      "      <td id=\"T_5993b_row5_col8\" class=\"data row5 col8\" >3.88339</td>\n",
      "      <td id=\"T_5993b_row5_col9\" class=\"data row5 col9\" >1.52176</td>\n",
      "      <td id=\"T_5993b_row5_col10\" class=\"data row5 col10\" >0.43879</td>\n",
      "      <td id=\"T_5993b_row5_col11\" class=\"data row5 col11\" >0.0813</td>\n",
      "    </tr>\n",
      "    <tr>\n",
      "      <th id=\"T_5993b_level0_row6\" class=\"row_heading level0 row6\" >shakylegs</th>\n",
      "      <td id=\"T_5993b_row6_col0\" class=\"data row6 col0\" >0.24313</td>\n",
      "      <td id=\"T_5993b_row6_col1\" class=\"data row6 col1\" >1.06217</td>\n",
      "      <td id=\"T_5993b_row6_col2\" class=\"data row6 col2\" >3.86736</td>\n",
      "      <td id=\"T_5993b_row6_col3\" class=\"data row6 col3\" >8.01559</td>\n",
      "      <td id=\"T_5993b_row6_col4\" class=\"data row6 col4\" >12.89289</td>\n",
      "      <td id=\"T_5993b_row6_col5\" class=\"data row6 col5\" >17.99152</td>\n",
      "      <td id=\"T_5993b_row6_col6\" class=\"data row6 col6\" >22.0758</td>\n",
      "      <td id=\"T_5993b_row6_col7\" class=\"data row6 col7\" >16.70266</td>\n",
      "      <td id=\"T_5993b_row6_col8\" class=\"data row6 col8\" >9.8389</td>\n",
      "      <td id=\"T_5993b_row6_col9\" class=\"data row6 col9\" >4.79109</td>\n",
      "      <td id=\"T_5993b_row6_col10\" class=\"data row6 col10\" >1.95368</td>\n",
      "      <td id=\"T_5993b_row6_col11\" class=\"data row6 col11\" >0.56521</td>\n",
      "    </tr>\n",
      "    <tr>\n",
      "      <th id=\"T_5993b_level0_row7\" class=\"row_heading level0 row7\" >black8yellownation</th>\n",
      "      <td id=\"T_5993b_row7_col0\" class=\"data row7 col0\" >0.14324</td>\n",
      "      <td id=\"T_5993b_row7_col1\" class=\"data row7 col1\" >0.64955</td>\n",
      "      <td id=\"T_5993b_row7_col2\" class=\"data row7 col2\" >2.50486</td>\n",
      "      <td id=\"T_5993b_row7_col3\" class=\"data row7 col3\" >4.81362</td>\n",
      "      <td id=\"T_5993b_row7_col4\" class=\"data row7 col4\" >7.55281</td>\n",
      "      <td id=\"T_5993b_row7_col5\" class=\"data row7 col5\" >10.61767</td>\n",
      "      <td id=\"T_5993b_row7_col6\" class=\"data row7 col6\" >15.04236</td>\n",
      "      <td id=\"T_5993b_row7_col7\" class=\"data row7 col7\" >20.38612</td>\n",
      "      <td id=\"T_5993b_row7_col8\" class=\"data row7 col8\" >21.65606</td>\n",
      "      <td id=\"T_5993b_row7_col9\" class=\"data row7 col9\" >10.97009</td>\n",
      "      <td id=\"T_5993b_row7_col10\" class=\"data row7 col10\" >4.42847</td>\n",
      "      <td id=\"T_5993b_row7_col11\" class=\"data row7 col11\" >1.23515</td>\n",
      "    </tr>\n",
      "    <tr>\n",
      "      <th id=\"T_5993b_level0_row8\" class=\"row_heading level0 row8\" >alecwilson</th>\n",
      "      <td id=\"T_5993b_row8_col0\" class=\"data row8 col0\" >0.0306</td>\n",
      "      <td id=\"T_5993b_row8_col1\" class=\"data row8 col1\" >0.16875</td>\n",
      "      <td id=\"T_5993b_row8_col2\" class=\"data row8 col2\" >0.8989</td>\n",
      "      <td id=\"T_5993b_row8_col3\" class=\"data row8 col3\" >2.17731</td>\n",
      "      <td id=\"T_5993b_row8_col4\" class=\"data row8 col4\" >4.24854</td>\n",
      "      <td id=\"T_5993b_row8_col5\" class=\"data row8 col5\" >7.51722</td>\n",
      "      <td id=\"T_5993b_row8_col6\" class=\"data row8 col6\" >13.20777</td>\n",
      "      <td id=\"T_5993b_row8_col7\" class=\"data row8 col7\" >22.14308</td>\n",
      "      <td id=\"T_5993b_row8_col8\" class=\"data row8 col8\" >24.77538</td>\n",
      "      <td id=\"T_5993b_row8_col9\" class=\"data row8 col9\" >14.89315</td>\n",
      "      <td id=\"T_5993b_row8_col10\" class=\"data row8 col10\" >7.2929</td>\n",
      "      <td id=\"T_5993b_row8_col11\" class=\"data row8 col11\" >2.6464</td>\n",
      "    </tr>\n",
      "    <tr>\n",
      "      <th id=\"T_5993b_level0_row9\" class=\"row_heading level0 row9\" >tonygordzilla22</th>\n",
      "      <td id=\"T_5993b_row9_col0\" class=\"data row9 col0\" >0.00134</td>\n",
      "      <td id=\"T_5993b_row9_col1\" class=\"data row9 col1\" >0.00891</td>\n",
      "      <td id=\"T_5993b_row9_col2\" class=\"data row9 col2\" >0.06361</td>\n",
      "      <td id=\"T_5993b_row9_col3\" class=\"data row9 col3\" >0.18135</td>\n",
      "      <td id=\"T_5993b_row9_col4\" class=\"data row9 col4\" >0.39613</td>\n",
      "      <td id=\"T_5993b_row9_col5\" class=\"data row9 col5\" >0.78827</td>\n",
      "      <td id=\"T_5993b_row9_col6\" class=\"data row9 col6\" >1.63152</td>\n",
      "      <td id=\"T_5993b_row9_col7\" class=\"data row9 col7\" >3.24104</td>\n",
      "      <td id=\"T_5993b_row9_col8\" class=\"data row9 col8\" >7.0585</td>\n",
      "      <td id=\"T_5993b_row9_col9\" class=\"data row9 col9\" >15.72148</td>\n",
      "      <td id=\"T_5993b_row9_col10\" class=\"data row9 col10\" >30.61888</td>\n",
      "      <td id=\"T_5993b_row9_col11\" class=\"data row9 col11\" >40.28897</td>\n",
      "    </tr>\n",
      "    <tr>\n",
      "      <th id=\"T_5993b_level0_row10\" class=\"row_heading level0 row10\" >pacc</th>\n",
      "      <td id=\"T_5993b_row10_col0\" class=\"data row10 col0\" >0.00022</td>\n",
      "      <td id=\"T_5993b_row10_col1\" class=\"data row10 col1\" >0.00283</td>\n",
      "      <td id=\"T_5993b_row10_col2\" class=\"data row10 col2\" >0.03626</td>\n",
      "      <td id=\"T_5993b_row10_col3\" class=\"data row10 col3\" >0.13947</td>\n",
      "      <td id=\"T_5993b_row10_col4\" class=\"data row10 col4\" >0.35539</td>\n",
      "      <td id=\"T_5993b_row10_col5\" class=\"data row10 col5\" >0.80436</td>\n",
      "      <td id=\"T_5993b_row10_col6\" class=\"data row10 col6\" >1.78717</td>\n",
      "      <td id=\"T_5993b_row10_col7\" class=\"data row10 col7\" >3.65826</td>\n",
      "      <td id=\"T_5993b_row10_col8\" class=\"data row10 col8\" >7.96348</td>\n",
      "      <td id=\"T_5993b_row10_col9\" class=\"data row10 col9\" >16.23371</td>\n",
      "      <td id=\"T_5993b_row10_col10\" class=\"data row10 col10\" >29.36226</td>\n",
      "      <td id=\"T_5993b_row10_col11\" class=\"data row10 col11\" >39.65659</td>\n",
      "    </tr>\n",
      "    <tr>\n",
      "      <th id=\"T_5993b_level0_row11\" class=\"row_heading level0 row11\" >empireyikesback</th>\n",
      "      <td id=\"T_5993b_row11_col0\" class=\"data row11 col0\" >0.00017</td>\n",
      "      <td id=\"T_5993b_row11_col1\" class=\"data row11 col1\" >0.00428</td>\n",
      "      <td id=\"T_5993b_row11_col2\" class=\"data row11 col2\" >0.06644</td>\n",
      "      <td id=\"T_5993b_row11_col3\" class=\"data row11 col3\" >0.26789</td>\n",
      "      <td id=\"T_5993b_row11_col4\" class=\"data row11 col4\" >0.69285</td>\n",
      "      <td id=\"T_5993b_row11_col5\" class=\"data row11 col5\" >1.56243</td>\n",
      "      <td id=\"T_5993b_row11_col6\" class=\"data row11 col6\" >3.48181</td>\n",
      "      <td id=\"T_5993b_row11_col7\" class=\"data row11 col7\" >7.13765</td>\n",
      "      <td id=\"T_5993b_row11_col8\" class=\"data row11 col8\" >15.23692</td>\n",
      "      <td id=\"T_5993b_row11_col9\" class=\"data row11 col9\" >31.78444</td>\n",
      "      <td id=\"T_5993b_row11_col10\" class=\"data row11 col10\" >24.5553</td>\n",
      "      <td id=\"T_5993b_row11_col11\" class=\"data row11 col11\" >15.20982</td>\n",
      "    </tr>\n",
      "  </tbody>\n",
      "</table>\n",
      "\n"
     ]
    }
   ],
   "source": [
    "# Prints the highlighted percentage in html\n",
    "highlighted_df.index.name=None\n",
    "print(highlighted_df.to_html())"
   ]
  },
  {
   "cell_type": "code",
   "execution_count": 30,
   "metadata": {},
   "outputs": [
    {
     "name": "stdout",
     "output_type": "stream",
     "text": [
      "<table border=\"1\" class=\"dataframe\">\n",
      "  <thead>\n",
      "    <tr style=\"text-align: right;\">\n",
      "      <th>Rank</th>\n",
      "      <th>Username</th>\n",
      "      <th>Better</th>\n",
      "      <th>Equal</th>\n",
      "      <th>Worse</th>\n",
      "      <th>Playoff</th>\n",
      "    </tr>\n",
      "  </thead>\n",
      "  <tbody>\n",
      "    <tr>\n",
      "      <td>1</td>\n",
      "      <td>burgertownthicnred</td>\n",
      "      <td>0.00</td>\n",
      "      <td>1.33</td>\n",
      "      <td>98.67</td>\n",
      "      <td>72.71</td>\n",
      "    </tr>\n",
      "    <tr>\n",
      "      <td>2</td>\n",
      "      <td>therealfergus</td>\n",
      "      <td>70.52</td>\n",
      "      <td>19.19</td>\n",
      "      <td>10.29</td>\n",
      "      <td>99.79</td>\n",
      "    </tr>\n",
      "    <tr>\n",
      "      <td>3</td>\n",
      "      <td>herbietime</td>\n",
      "      <td>81.94</td>\n",
      "      <td>14.67</td>\n",
      "      <td>3.39</td>\n",
      "      <td>100.00</td>\n",
      "    </tr>\n",
      "    <tr>\n",
      "      <td>4</td>\n",
      "      <td>thezirconisdragon</td>\n",
      "      <td>38.24</td>\n",
      "      <td>22.85</td>\n",
      "      <td>38.91</td>\n",
      "      <td>87.79</td>\n",
      "    </tr>\n",
      "    <tr>\n",
      "      <td>5</td>\n",
      "      <td>mackjyers21</td>\n",
      "      <td>33.42</td>\n",
      "      <td>20.25</td>\n",
      "      <td>46.33</td>\n",
      "      <td>72.59</td>\n",
      "    </tr>\n",
      "    <tr>\n",
      "      <td>6</td>\n",
      "      <td>namebrant</td>\n",
      "      <td>62.82</td>\n",
      "      <td>13.53</td>\n",
      "      <td>23.64</td>\n",
      "      <td>76.36</td>\n",
      "    </tr>\n",
      "    <tr>\n",
      "      <td>7</td>\n",
      "      <td>empireyikesback</td>\n",
      "      <td>2.59</td>\n",
      "      <td>3.48</td>\n",
      "      <td>93.92</td>\n",
      "      <td>2.59</td>\n",
      "    </tr>\n",
      "    <tr>\n",
      "      <td>8</td>\n",
      "      <td>shakylegs</td>\n",
      "      <td>66.15</td>\n",
      "      <td>16.70</td>\n",
      "      <td>17.15</td>\n",
      "      <td>44.07</td>\n",
      "    </tr>\n",
      "    <tr>\n",
      "      <td>9</td>\n",
      "      <td>alecwilson</td>\n",
      "      <td>50.39</td>\n",
      "      <td>24.78</td>\n",
      "      <td>24.83</td>\n",
      "      <td>15.04</td>\n",
      "    </tr>\n",
      "    <tr>\n",
      "      <td>10</td>\n",
      "      <td>black8yellownation</td>\n",
      "      <td>83.37</td>\n",
      "      <td>10.97</td>\n",
      "      <td>5.66</td>\n",
      "      <td>26.28</td>\n",
      "    </tr>\n",
      "    <tr>\n",
      "      <td>11</td>\n",
      "      <td>tonygordzilla22</td>\n",
      "      <td>29.09</td>\n",
      "      <td>30.62</td>\n",
      "      <td>40.29</td>\n",
      "      <td>1.44</td>\n",
      "    </tr>\n",
      "    <tr>\n",
      "      <td>12</td>\n",
      "      <td>pacc</td>\n",
      "      <td>60.34</td>\n",
      "      <td>39.66</td>\n",
      "      <td>0.00</td>\n",
      "      <td>1.34</td>\n",
      "    </tr>\n",
      "  </tbody>\n",
      "</table>\n"
     ]
    }
   ],
   "source": [
    "# Prints season_probs in html\n",
    "print(season_probs.reset_index().rename(columns={\"rank\":\"Rank\",\n",
    "                                                 \"username\":\"Username\"})\n",
    "                                                 .to_html(index=False))"
   ]
  },
  {
   "cell_type": "code",
   "execution_count": 31,
   "metadata": {},
   "outputs": [
    {
     "name": "stdout",
     "output_type": "stream",
     "text": [
      "<table border=\"1\" class=\"dataframe\">\n",
      "  <thead>\n",
      "    <tr style=\"text-align: right;\">\n",
      "      <th>Rank</th>\n",
      "      <th>Username</th>\n",
      "      <th>Chance &gt;=</th>\n",
      "      <th>Playoff</th>\n",
      "    </tr>\n",
      "  </thead>\n",
      "  <tbody>\n",
      "    <tr>\n",
      "      <td>1</td>\n",
      "      <td>therealfergus</td>\n",
      "      <td>70.51924</td>\n",
      "      <td>99.79</td>\n",
      "    </tr>\n",
      "    <tr>\n",
      "      <td>2</td>\n",
      "      <td>herbietime</td>\n",
      "      <td>81.94173</td>\n",
      "      <td>100.00</td>\n",
      "    </tr>\n",
      "    <tr>\n",
      "      <td>3</td>\n",
      "      <td>thezirconisdragon</td>\n",
      "      <td>38.24194</td>\n",
      "      <td>87.79</td>\n",
      "    </tr>\n",
      "    <tr>\n",
      "      <td>4</td>\n",
      "      <td>namebrant</td>\n",
      "      <td>45.67954</td>\n",
      "      <td>76.36</td>\n",
      "    </tr>\n",
      "    <tr>\n",
      "      <td>5</td>\n",
      "      <td>burgertownthicnred</td>\n",
      "      <td>55.65459</td>\n",
      "      <td>72.71</td>\n",
      "    </tr>\n",
      "    <tr>\n",
      "      <td>6</td>\n",
      "      <td>mackjyers21</td>\n",
      "      <td>72.58841</td>\n",
      "      <td>72.59</td>\n",
      "    </tr>\n",
      "    <tr>\n",
      "      <td>7</td>\n",
      "      <td>shakylegs</td>\n",
      "      <td>66.14846</td>\n",
      "      <td>44.07</td>\n",
      "    </tr>\n",
      "    <tr>\n",
      "      <td>8</td>\n",
      "      <td>alecwilson</td>\n",
      "      <td>50.39217</td>\n",
      "      <td>15.04</td>\n",
      "    </tr>\n",
      "    <tr>\n",
      "      <td>9</td>\n",
      "      <td>black8yellownation</td>\n",
      "      <td>83.36629</td>\n",
      "      <td>26.28</td>\n",
      "    </tr>\n",
      "    <tr>\n",
      "      <td>10</td>\n",
      "      <td>empireyikesback</td>\n",
      "      <td>60.23488</td>\n",
      "      <td>2.59</td>\n",
      "    </tr>\n",
      "    <tr>\n",
      "      <td>11</td>\n",
      "      <td>pacc</td>\n",
      "      <td>60.34341</td>\n",
      "      <td>1.34</td>\n",
      "    </tr>\n",
      "    <tr>\n",
      "      <td>12</td>\n",
      "      <td>tonygordzilla22</td>\n",
      "      <td>100.00000</td>\n",
      "      <td>1.44</td>\n",
      "    </tr>\n",
      "  </tbody>\n",
      "</table>\n"
     ]
    }
   ],
   "source": [
    "# Prints most_likely_ranking in html\n",
    "print(most_likely_ranking.to_html(index=False))"
   ]
  },
  {
   "cell_type": "code",
   "execution_count": 32,
   "metadata": {},
   "outputs": [
    {
     "name": "stdout",
     "output_type": "stream",
     "text": [
      "<table border=\"1\" class=\"dataframe\">\n",
      "  <thead>\n",
      "    <tr style=\"text-align: right;\">\n",
      "      <th>Rank</th>\n",
      "      <th>Username</th>\n",
      "      <th>Chance &gt;=</th>\n",
      "      <th>Playoff</th>\n",
      "    </tr>\n",
      "  </thead>\n",
      "  <tbody>\n",
      "    <tr>\n",
      "      <td>1</td>\n",
      "      <td>burgertownthicnred</td>\n",
      "      <td>1.32582</td>\n",
      "      <td>72.71</td>\n",
      "    </tr>\n",
      "    <tr>\n",
      "      <td>2</td>\n",
      "      <td>shakylegs</td>\n",
      "      <td>1.30530</td>\n",
      "      <td>44.07</td>\n",
      "    </tr>\n",
      "    <tr>\n",
      "      <td>3</td>\n",
      "      <td>pacc</td>\n",
      "      <td>0.03931</td>\n",
      "      <td>1.34</td>\n",
      "    </tr>\n",
      "    <tr>\n",
      "      <td>4</td>\n",
      "      <td>therealfergus</td>\n",
      "      <td>98.41015</td>\n",
      "      <td>99.79</td>\n",
      "    </tr>\n",
      "    <tr>\n",
      "      <td>5</td>\n",
      "      <td>herbietime</td>\n",
      "      <td>99.95596</td>\n",
      "      <td>100.00</td>\n",
      "    </tr>\n",
      "    <tr>\n",
      "      <td>6</td>\n",
      "      <td>thezirconisdragon</td>\n",
      "      <td>87.78824</td>\n",
      "      <td>87.79</td>\n",
      "    </tr>\n",
      "    <tr>\n",
      "      <td>7</td>\n",
      "      <td>mackjyers21</td>\n",
      "      <td>86.02709</td>\n",
      "      <td>72.59</td>\n",
      "    </tr>\n",
      "    <tr>\n",
      "      <td>8</td>\n",
      "      <td>alecwilson</td>\n",
      "      <td>50.39217</td>\n",
      "      <td>15.04</td>\n",
      "    </tr>\n",
      "    <tr>\n",
      "      <td>9</td>\n",
      "      <td>black8yellownation</td>\n",
      "      <td>83.36629</td>\n",
      "      <td>26.28</td>\n",
      "    </tr>\n",
      "    <tr>\n",
      "      <td>10</td>\n",
      "      <td>namebrant</td>\n",
      "      <td>98.89928</td>\n",
      "      <td>76.36</td>\n",
      "    </tr>\n",
      "    <tr>\n",
      "      <td>11</td>\n",
      "      <td>empireyikesback</td>\n",
      "      <td>84.79018</td>\n",
      "      <td>2.59</td>\n",
      "    </tr>\n",
      "    <tr>\n",
      "      <td>12</td>\n",
      "      <td>tonygordzilla22</td>\n",
      "      <td>100.00000</td>\n",
      "      <td>1.44</td>\n",
      "    </tr>\n",
      "  </tbody>\n",
      "</table>\n"
     ]
    }
   ],
   "source": [
    "# Prints unlikely_top_3 in html\n",
    "print(unlikely_top_3.to_html(index=False))"
   ]
  },
  {
   "cell_type": "code",
   "execution_count": 33,
   "metadata": {},
   "outputs": [
    {
     "name": "stdout",
     "output_type": "stream",
     "text": [
      "<table border=\"1\" class=\"dataframe\">\n",
      "  <thead>\n",
      "    <tr style=\"text-align: right;\">\n",
      "      <th>Rank</th>\n",
      "      <th>Username</th>\n",
      "      <th>Chance &gt;=</th>\n",
      "      <th>Playoff</th>\n",
      "    </tr>\n",
      "  </thead>\n",
      "  <tbody>\n",
      "    <tr>\n",
      "      <td>1</td>\n",
      "      <td>herbietime</td>\n",
      "      <td>23.24007</td>\n",
      "      <td>100.00</td>\n",
      "    </tr>\n",
      "    <tr>\n",
      "      <td>2</td>\n",
      "      <td>therealfergus</td>\n",
      "      <td>89.70727</td>\n",
      "      <td>99.79</td>\n",
      "    </tr>\n",
      "    <tr>\n",
      "      <td>3</td>\n",
      "      <td>black8yellownation</td>\n",
      "      <td>3.29765</td>\n",
      "      <td>26.28</td>\n",
      "    </tr>\n",
      "    <tr>\n",
      "      <td>4</td>\n",
      "      <td>empireyikesback</td>\n",
      "      <td>0.33878</td>\n",
      "      <td>2.59</td>\n",
      "    </tr>\n",
      "    <tr>\n",
      "      <td>5</td>\n",
      "      <td>tonygordzilla22</td>\n",
      "      <td>0.65134</td>\n",
      "      <td>1.44</td>\n",
      "    </tr>\n",
      "    <tr>\n",
      "      <td>6</td>\n",
      "      <td>pacc</td>\n",
      "      <td>1.33853</td>\n",
      "      <td>1.34</td>\n",
      "    </tr>\n",
      "    <tr>\n",
      "      <td>7</td>\n",
      "      <td>namebrant</td>\n",
      "      <td>86.26799</td>\n",
      "      <td>76.36</td>\n",
      "    </tr>\n",
      "    <tr>\n",
      "      <td>8</td>\n",
      "      <td>alecwilson</td>\n",
      "      <td>50.39217</td>\n",
      "      <td>15.04</td>\n",
      "    </tr>\n",
      "    <tr>\n",
      "      <td>9</td>\n",
      "      <td>thezirconisdragon</td>\n",
      "      <td>99.38385</td>\n",
      "      <td>87.79</td>\n",
      "    </tr>\n",
      "    <tr>\n",
      "      <td>10</td>\n",
      "      <td>burgertownthicnred</td>\n",
      "      <td>99.55255</td>\n",
      "      <td>72.71</td>\n",
      "    </tr>\n",
      "    <tr>\n",
      "      <td>11</td>\n",
      "      <td>mackjyers21</td>\n",
      "      <td>99.91870</td>\n",
      "      <td>72.59</td>\n",
      "    </tr>\n",
      "    <tr>\n",
      "      <td>12</td>\n",
      "      <td>shakylegs</td>\n",
      "      <td>100.00000</td>\n",
      "      <td>44.07</td>\n",
      "    </tr>\n",
      "  </tbody>\n",
      "</table>\n"
     ]
    }
   ],
   "source": [
    "# Prints unlikely_playoff_seed2 in html\n",
    "print(unlikely_playoff_seed2.to_html(index=False))"
   ]
  }
 ],
 "metadata": {
  "kernelspec": {
   "display_name": "sleeper",
   "language": "python",
   "name": "python3"
  },
  "language_info": {
   "codemirror_mode": {
    "name": "ipython",
    "version": 3
   },
   "file_extension": ".py",
   "mimetype": "text/x-python",
   "name": "python",
   "nbconvert_exporter": "python",
   "pygments_lexer": "ipython3",
   "version": "3.11.9"
  }
 },
 "nbformat": 4,
 "nbformat_minor": 2
}
